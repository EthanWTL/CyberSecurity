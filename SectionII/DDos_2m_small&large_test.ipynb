{
 "cells": [
  {
   "cell_type": "code",
   "execution_count": 1,
   "id": "8066ecb1",
   "metadata": {
    "id": "8066ecb1"
   },
   "outputs": [],
   "source": [
    "import numpy as np\n",
    "import pandas as pd"
   ]
  },
  {
   "cell_type": "code",
   "execution_count": 2,
   "id": "b209ff8b",
   "metadata": {
    "id": "b209ff8b"
   },
   "outputs": [],
   "source": [
    "ddos = pd.read_csv('DDos_2m.csv')"
   ]
  },
  {
   "cell_type": "code",
   "execution_count": 3,
   "id": "cbf320d2",
   "metadata": {
    "id": "cbf320d2",
    "outputId": "53f56b01-bc8d-49d1-e9d8-032dd517be89"
   },
   "outputs": [
    {
     "data": {
      "text/plain": [
       "Index(['Unnamed: 0', 'FlowDuration', 'TotalFwdPackets', 'TotalBackwardPackets',\n",
       "       'TotalLengthofFwdPackets', 'TotalLengthofBwdPackets',\n",
       "       'FwdPacketLengthMax', 'FwdPacketLengthMin', 'FwdPacketLengthMean',\n",
       "       'FwdPacketLengthStd', 'BwdPacketLengthMax', 'BwdPacketLengthMin',\n",
       "       'BwdPacketLengthMean', 'BwdPacketLengthStd', 'FlowBytes/s',\n",
       "       'FlowPackets/s', 'FlowIATMean', 'FlowIATStd', 'FlowIATMax',\n",
       "       'FlowIATMin', 'FwdIATTotal', 'FwdIATMean', 'FwdIATStd', 'FwdIATMax',\n",
       "       'FwdIATMin', 'BwdIATTotal', 'BwdIATMean', 'BwdIATStd', 'BwdIATMax',\n",
       "       'BwdIATMin', 'FwdPSHFlags', 'BwdPSHFlags', 'FwdURGFlags', 'BwdURGFlags',\n",
       "       'FwdHeaderLength', 'BwdHeaderLength', 'FwdPackets/s', 'BwdPackets/s',\n",
       "       'MinPacketLength', 'MaxPacketLength', 'PacketLengthMean',\n",
       "       'PacketLengthStd', 'PacketLengthVariance', 'FINFlagCount',\n",
       "       'SYNFlagCount', 'RSTFlagCount', 'PSHFlagCount', 'ACKFlagCount',\n",
       "       'URGFlagCount', 'CWEFlagCount', 'ECEFlagCount', 'Down/UpRatio',\n",
       "       'AveragePacketSize', 'AvgFwdSegmentSize', 'AvgBwdSegmentSize',\n",
       "       'FwdHeaderLength.1', 'FwdAvgBytes/Bulk', 'FwdAvgPackets/Bulk',\n",
       "       'FwdAvgBulkRate', 'BwdAvgBytes/Bulk', 'BwdAvgPackets/Bulk',\n",
       "       'BwdAvgBulkRate', 'SubflowFwdPackets', 'SubflowFwdBytes',\n",
       "       'SubflowBwdPackets', 'SubflowBwdBytes', 'Init_Win_bytes_forward',\n",
       "       'Init_Win_bytes_backward', 'act_data_pkt_fwd', 'min_seg_size_forward',\n",
       "       'ActiveMean', 'ActiveStd', 'ActiveMax', 'ActiveMin', 'IdleMean',\n",
       "       'IdleStd', 'IdleMax', 'IdleMin', 'Label'],\n",
       "      dtype='object')"
      ]
     },
     "execution_count": 3,
     "metadata": {},
     "output_type": "execute_result"
    }
   ],
   "source": [
    "ddos.columns"
   ]
  },
  {
   "cell_type": "code",
   "execution_count": 4,
   "id": "8a36dd8c",
   "metadata": {
    "id": "8a36dd8c"
   },
   "outputs": [],
   "source": [
    "ddos = ddos.drop(columns = ['Unnamed: 0'])"
   ]
  },
  {
   "cell_type": "code",
   "execution_count": 5,
   "id": "98e7220f",
   "metadata": {
    "id": "98e7220f",
    "outputId": "c7160965-9fe2-49c5-80a5-17c3909e66f5"
   },
   "outputs": [
    {
     "data": {
      "text/plain": [
       "(2011542, 78)"
      ]
     },
     "execution_count": 5,
     "metadata": {},
     "output_type": "execute_result"
    }
   ],
   "source": [
    "ddos.shape"
   ]
  },
  {
   "cell_type": "code",
   "execution_count": 11,
   "id": "61268638",
   "metadata": {
    "id": "61268638",
    "outputId": "0e1b6abf-1cdf-49a5-80c9-b327540351ea"
   },
   "outputs": [
    {
     "data": {
      "text/plain": [
       "2    578745\n",
       "5    428475\n",
       "6    375468\n",
       "3    365749\n",
       "1    191512\n",
       "0     52897\n",
       "4     18696\n",
       "Name: Label, dtype: int64"
      ]
     },
     "execution_count": 11,
     "metadata": {},
     "output_type": "execute_result"
    }
   ],
   "source": [
    "ddos['Label'].value_counts()"
   ]
  },
  {
   "cell_type": "code",
   "execution_count": 10,
   "id": "4eb955dc",
   "metadata": {
    "id": "4eb955dc",
    "outputId": "5f979796-2c1a-4da9-d8c7-a00235f79ceb"
   },
   "outputs": [
    {
     "data": {
      "text/plain": [
       "Index([], dtype='object')"
      ]
     },
     "execution_count": 10,
     "metadata": {},
     "output_type": "execute_result"
    }
   ],
   "source": [
    "df = ddos.copy()\n",
    "cat_columns = df.select_dtypes(['object']).columns\n",
    "cat_columns"
   ]
  },
  {
   "cell_type": "code",
   "execution_count": 8,
   "id": "86f871ea",
   "metadata": {
    "id": "86f871ea",
    "outputId": "6bbf9b08-da3a-42be-eb40-2906d55a398f"
   },
   "outputs": [
    {
     "data": {
      "text/plain": [
       "FlowDuration               float64\n",
       "TotalFwdPackets            float64\n",
       "TotalBackwardPackets       float64\n",
       "TotalLengthofFwdPackets    float64\n",
       "TotalLengthofBwdPackets    float64\n",
       "                            ...   \n",
       "IdleMean                   float64\n",
       "IdleStd                    float64\n",
       "IdleMax                    float64\n",
       "IdleMin                    float64\n",
       "Label                         int8\n",
       "Length: 78, dtype: object"
      ]
     },
     "execution_count": 8,
     "metadata": {},
     "output_type": "execute_result"
    }
   ],
   "source": [
    "df[cat_columns] = df[cat_columns].astype('category')\n",
    "df[cat_columns] = df[cat_columns].apply(lambda x: x.cat.codes)\n",
    "df\n",
    "ddos = df\n",
    "ddos.dtypes"
   ]
  },
  {
   "cell_type": "code",
   "execution_count": 9,
   "id": "00edf7f4",
   "metadata": {
    "id": "00edf7f4"
   },
   "outputs": [],
   "source": [
    "X = ddos.iloc[:, 0:-1]\n",
    "y = ddos.iloc[:, -1]"
   ]
  },
  {
   "cell_type": "code",
   "execution_count": 10,
   "id": "39e0058b",
   "metadata": {
    "id": "39e0058b"
   },
   "outputs": [],
   "source": [
    "ddos = None; del ddos"
   ]
  },
  {
   "cell_type": "code",
   "execution_count": 12,
   "id": "93fa7421",
   "metadata": {},
   "outputs": [],
   "source": [
    "from sklearn.model_selection import train_test_split\n",
    "X_train, X_test, Y_train, Y_test = train_test_split(X, y, test_size = 0.33, random_state = 42)"
   ]
  },
  {
   "cell_type": "code",
   "execution_count": 12,
   "id": "c1874c53",
   "metadata": {},
   "outputs": [],
   "source": [
    "X_train.to_csv('X_train_2m.csv')"
   ]
  },
  {
   "cell_type": "code",
   "execution_count": 12,
   "id": "49420625",
   "metadata": {},
   "outputs": [
    {
     "name": "stderr",
     "output_type": "stream",
     "text": [
      "C:\\Users\\LabUser\\AppData\\Local\\Temp/ipykernel_10812/3922236013.py:1: SettingWithCopyWarning: \n",
      "A value is trying to be set on a copy of a slice from a DataFrame.\n",
      "Try using .loc[row_indexer,col_indexer] = value instead\n",
      "\n",
      "See the caveats in the documentation: https://pandas.pydata.org/pandas-docs/stable/user_guide/indexing.html#returning-a-view-versus-a-copy\n",
      "  X_test['Label'] = Y_test\n"
     ]
    }
   ],
   "source": [
    "X_test['Label'] = Y_test"
   ]
  },
  {
   "cell_type": "code",
   "execution_count": 21,
   "id": "b9100d80",
   "metadata": {},
   "outputs": [
    {
     "data": {
      "text/plain": [
       "array([ 52897, 190383, 575334, 363594,  18585, 425949, 373255],\n",
       "      dtype=int64)"
      ]
     },
     "execution_count": 21,
     "metadata": {},
     "output_type": "execute_result"
    }
   ],
   "source": [
    "np.bincount(y)"
   ]
  },
  {
   "cell_type": "code",
   "execution_count": 13,
   "id": "ab2e9f9f",
   "metadata": {},
   "outputs": [],
   "source": [
    "part2 = pd.read_csv('DDos_17m.csv')"
   ]
  },
  {
   "cell_type": "code",
   "execution_count": 14,
   "id": "888f1b60",
   "metadata": {},
   "outputs": [],
   "source": [
    "part2 = part2.drop(['Unnamed: 0'],axis = 1)"
   ]
  },
  {
   "cell_type": "code",
   "execution_count": 15,
   "id": "1ac8b584",
   "metadata": {},
   "outputs": [
    {
     "data": {
      "text/plain": [
       "MSSQL      5208708\n",
       "Syn        3856276\n",
       "UDP        3379212\n",
       "NetBIOS    3291748\n",
       "LDAP       1723610\n",
       "Portmap     168264\n",
       "Name: Label, dtype: int64"
      ]
     },
     "execution_count": 15,
     "metadata": {},
     "output_type": "execute_result"
    }
   ],
   "source": [
    "part2['Label'].value_counts()"
   ]
  },
  {
   "cell_type": "code",
   "execution_count": 16,
   "id": "8e3bb3e1",
   "metadata": {},
   "outputs": [],
   "source": [
    "part2['Label'].replace('LDAP',1,inplace = True)\n",
    "part2['Label'].replace('MSSQL',2,inplace = True)\n",
    "part2['Label'].replace('NetBIOS',3,inplace = True)\n",
    "part2['Label'].replace('Portmap',4,inplace = True)\n",
    "part2['Label'].replace('Syn',5,inplace = True)\n",
    "part2['Label'].replace('UDP',6,inplace = True)"
   ]
  },
  {
   "cell_type": "code",
   "execution_count": 17,
   "id": "b621dc58",
   "metadata": {},
   "outputs": [],
   "source": [
    "testing = pd.concat([X_test,part2])"
   ]
  },
  {
   "cell_type": "code",
   "execution_count": 18,
   "id": "bd5788d3",
   "metadata": {},
   "outputs": [],
   "source": [
    "part2 = None; del part2"
   ]
  },
  {
   "cell_type": "code",
   "execution_count": 21,
   "id": "331f8a91",
   "metadata": {},
   "outputs": [
    {
     "data": {
      "text/plain": [
       "2    5398127\n",
       "5    3997030\n",
       "6    3502471\n",
       "3    3411891\n",
       "1    1786437\n",
       "4     174362\n",
       "0      17500\n",
       "Name: Label, dtype: int64"
      ]
     },
     "execution_count": 21,
     "metadata": {},
     "output_type": "execute_result"
    }
   ],
   "source": [
    "testing['Label'].value_counts()"
   ]
  },
  {
   "cell_type": "code",
   "execution_count": 22,
   "id": "58286318",
   "metadata": {},
   "outputs": [],
   "source": [
    "testing['Label'].replace(0,10,inplace = True)\n",
    "testing['Label'].replace(1,11,inplace = True)\n",
    "testing['Label'].replace(2,12,inplace = True)\n",
    "testing['Label'].replace(3,13,inplace = True)\n",
    "testing['Label'].replace(4,14,inplace = True)\n",
    "testing['Label'].replace(5,15,inplace = True)\n",
    "testing['Label'].replace(6,16,inplace = True)"
   ]
  },
  {
   "cell_type": "code",
   "execution_count": 23,
   "id": "f8dd3065",
   "metadata": {},
   "outputs": [
    {
     "data": {
      "text/plain": [
       "12    5398127\n",
       "15    3997030\n",
       "16    3502471\n",
       "13    3411891\n",
       "11    1786437\n",
       "14     174362\n",
       "10      17500\n",
       "Name: Label, dtype: int64"
      ]
     },
     "execution_count": 23,
     "metadata": {},
     "output_type": "execute_result"
    }
   ],
   "source": [
    "testing['Label'].value_counts()"
   ]
  },
  {
   "cell_type": "code",
   "execution_count": 24,
   "id": "aa48df2e",
   "metadata": {},
   "outputs": [],
   "source": [
    "testing['Label'].replace(10,0,inplace = True)\n",
    "testing['Label'].replace(11,1,inplace = True)\n",
    "testing['Label'].replace(12,2,inplace = True)\n",
    "testing['Label'].replace(13,3,inplace = True)\n",
    "testing['Label'].replace(14,4,inplace = True)\n",
    "testing['Label'].replace(15,5,inplace = True)\n",
    "testing['Label'].replace(16,6,inplace = True)"
   ]
  },
  {
   "cell_type": "code",
   "execution_count": 25,
   "id": "8cd202e4",
   "metadata": {},
   "outputs": [],
   "source": [
    "X_test = testing.drop(['Label'],axis= 1)\n",
    "Y_test = testing['Label']"
   ]
  },
  {
   "cell_type": "code",
   "execution_count": 13,
   "id": "2e07a2be",
   "metadata": {},
   "outputs": [
    {
     "data": {
      "text/plain": [
       "(1347733, 77)"
      ]
     },
     "execution_count": 13,
     "metadata": {},
     "output_type": "execute_result"
    }
   ],
   "source": [
    "X_train.shape"
   ]
  },
  {
   "cell_type": "code",
   "execution_count": 14,
   "id": "c0318bc0",
   "metadata": {},
   "outputs": [
    {
     "data": {
      "text/plain": [
       "(1347733,)"
      ]
     },
     "execution_count": 14,
     "metadata": {},
     "output_type": "execute_result"
    }
   ],
   "source": [
    "Y_train.shape"
   ]
  },
  {
   "cell_type": "code",
   "execution_count": 15,
   "id": "c88dcef0",
   "metadata": {},
   "outputs": [
    {
     "data": {
      "text/plain": [
       "(663809, 77)"
      ]
     },
     "execution_count": 15,
     "metadata": {},
     "output_type": "execute_result"
    }
   ],
   "source": [
    "X_test.shape"
   ]
  },
  {
   "cell_type": "code",
   "execution_count": 16,
   "id": "617753c5",
   "metadata": {},
   "outputs": [
    {
     "data": {
      "text/plain": [
       "(663809,)"
      ]
     },
     "execution_count": 16,
     "metadata": {},
     "output_type": "execute_result"
    }
   ],
   "source": [
    "Y_test.shape"
   ]
  },
  {
   "cell_type": "code",
   "execution_count": 30,
   "id": "e0f02c6b",
   "metadata": {},
   "outputs": [],
   "source": [
    "testing = None; del testing"
   ]
  },
  {
   "cell_type": "code",
   "execution_count": null,
   "id": "d7803ec3",
   "metadata": {},
   "outputs": [],
   "source": []
  },
  {
   "cell_type": "code",
   "execution_count": 17,
   "id": "fe5cae37",
   "metadata": {},
   "outputs": [],
   "source": [
    "from sklearn.preprocessing import StandardScaler\n",
    "scaler = StandardScaler().fit(X_train)\n",
    "X_train = scaler.transform(X_train)\n",
    "X_test = scaler.transform(X_test)"
   ]
  },
  {
   "cell_type": "code",
   "execution_count": 18,
   "id": "7bc9385d",
   "metadata": {
    "id": "7bc9385d",
    "outputId": "30fa7824-fc20-4d17-bc40-a02e97a19d8d"
   },
   "outputs": [],
   "source": [
    "from keras.utils import np_utils\n",
    "X_train=np.expand_dims(X_train,axis=2)\n",
    "X_test=np.expand_dims(X_test,axis=2)"
   ]
  },
  {
   "cell_type": "code",
   "execution_count": 19,
   "id": "47a5e796",
   "metadata": {
    "id": "47a5e796"
   },
   "outputs": [],
   "source": [
    "from keras.models import Sequential\n",
    "from keras.layers import Dense\n",
    "from keras.layers import Flatten\n",
    "from keras.layers import Dropout\n",
    "from keras.layers.convolutional import Conv1D\n",
    "from keras.layers.convolutional import MaxPooling1D\n",
    "from keras.layers import LSTM\n",
    "from tensorflow.keras.utils import to_categorical"
   ]
  },
  {
   "cell_type": "code",
   "execution_count": 20,
   "id": "6265a864",
   "metadata": {},
   "outputs": [],
   "source": [
    "from sklearn.metrics import accuracy_score\n",
    "from sklearn.metrics import classification_report\n",
    "from sklearn.metrics import confusion_matrix"
   ]
  },
  {
   "cell_type": "code",
   "execution_count": null,
   "id": "1479a280",
   "metadata": {},
   "outputs": [],
   "source": [
    "model = Sequential()\n",
    "model.add(Conv1D(filters=64, kernel_size=3, activation='relu', input_shape=(77,1)))\n",
    "model.add(Dropout(0.5))\n",
    "model.add(MaxPooling1D(pool_size=2))\n",
    "model.add(Flatten())\n",
    "model.add(Dense(100, activation='relu'))\n",
    "model.add(Dense(7, activation='softmax'))\n",
    "model.compile(loss='sparse_categorical_crossentropy', optimizer='adam', metrics=['accuracy'])"
   ]
  },
  {
   "cell_type": "code",
   "execution_count": 56,
   "id": "7b5dc86e",
   "metadata": {
    "id": "7b5dc86e",
    "scrolled": false
   },
   "outputs": [],
   "source": [
    "model = Sequential()\n",
    "model.add(Conv1D(filters=32, kernel_size=3, activation='relu', input_shape=(77,1)))\n",
    "model.add(Dropout(0.92))\n",
    "model.add(MaxPooling1D(pool_size=2,strides=1, padding='valid'))\n",
    "model.add(Flatten())\n",
    "model.add(Dense(16, activation='relu'))\n",
    "model.add(Dense(8, activation='softmax'))\n",
    "model.compile(loss='sparse_categorical_crossentropy', optimizer='adam', metrics=['accuracy'])"
   ]
  },
  {
   "cell_type": "markdown",
   "id": "fece3326",
   "metadata": {},
   "source": [
    "# 1 epoch"
   ]
  },
  {
   "cell_type": "code",
   "execution_count": 57,
   "id": "90dc0d6b",
   "metadata": {
    "id": "90dc0d6b",
    "outputId": "d16088ec-cbe7-4e10-baa7-fab4eb9d2b67"
   },
   "outputs": [
    {
     "name": "stdout",
     "output_type": "stream",
     "text": [
      "Timer Begin\n",
      "44925/44925 [==============================] - 148s 3ms/step - loss: 0.1827 - accuracy: 0.94350s\n",
      "148.37553691864014\n"
     ]
    }
   ],
   "source": [
    "from keras.callbacks import EarlyStopping\n",
    "import time\n",
    "\n",
    "start = time.time()\n",
    "print(\"Timer Begin\")\n",
    "\n",
    "model.fit(X_train,Y_train,batch_size=30,epochs=1,\n",
    "          validation_split=0, callbacks=[EarlyStopping(monitor='loss',patience=2)])\n",
    "\n",
    "end = time.time()\n",
    "print(end - start)"
   ]
  },
  {
   "cell_type": "markdown",
   "id": "eb01113d",
   "metadata": {},
   "source": [
    "# small test"
   ]
  },
  {
   "cell_type": "code",
   "execution_count": 58,
   "id": "f3518b7e",
   "metadata": {
    "id": "f3518b7e"
   },
   "outputs": [],
   "source": [
    "y_pred = model.predict(X_test)\n",
    "y_pred = y_pred.argmax(axis=1)"
   ]
  },
  {
   "cell_type": "code",
   "execution_count": 59,
   "id": "20c0bd00",
   "metadata": {
    "id": "20c0bd00",
    "outputId": "b01e76fc-2ec1-4627-fa28-dc6ea6c2c10e"
   },
   "outputs": [
    {
     "name": "stdout",
     "output_type": "stream",
     "text": [
      "Transfer learning confusion matrix: \n",
      " [[ 17155      0      0    220      0    125      4]\n",
      " [     1  62555    499      8      0      5      1]\n",
      " [     7   6650 183712     22      2      3   1092]\n",
      " [     0      0     21 120269      0     11     85]\n",
      " [     5      0     25   6108      0     21      5]\n",
      " [   159      0    138      1      0 141057     20]\n",
      " [     0      1  16677    147      0      2 106996]]\n"
     ]
    }
   ],
   "source": [
    "rf_conf_mat = confusion_matrix(Y_test, y_pred)\n",
    "print(\"Transfer learning confusion matrix: \\n\", rf_conf_mat)"
   ]
  },
  {
   "cell_type": "code",
   "execution_count": 60,
   "id": "783088d5",
   "metadata": {
    "id": "783088d5"
   },
   "outputs": [
    {
     "name": "stdout",
     "output_type": "stream",
     "text": [
      "              precision    recall  f1-score   support\n",
      "\n",
      "           0     0.9901    0.9801    0.9850     17504\n",
      "           1     0.9039    0.9919    0.9458     63069\n",
      "           2     0.9137    0.9594    0.9360    191488\n",
      "           3     0.9487    0.9990    0.9732    120386\n",
      "           4     0.0000    0.0000    0.0000      6164\n",
      "           5     0.9988    0.9978    0.9983    141375\n",
      "           6     0.9888    0.8641    0.9223    123823\n",
      "\n",
      "    accuracy                         0.9517    663809\n",
      "   macro avg     0.8206    0.8275    0.8229    663809\n",
      "weighted avg     0.9448    0.9517    0.9470    663809\n",
      "\n"
     ]
    }
   ],
   "source": [
    "CR = classification_report(Y_test,y_pred,digits= 4)\n",
    "print(CR)"
   ]
  },
  {
   "cell_type": "markdown",
   "id": "badb6134",
   "metadata": {},
   "source": [
    "# large test"
   ]
  },
  {
   "cell_type": "code",
   "execution_count": 37,
   "id": "8906a475",
   "metadata": {},
   "outputs": [],
   "source": [
    "y_pred = model.predict(X_test)\n",
    "y_pred = y_pred.argmax(axis=1)"
   ]
  },
  {
   "cell_type": "code",
   "execution_count": 38,
   "id": "cfa89211",
   "metadata": {},
   "outputs": [
    {
     "name": "stdout",
     "output_type": "stream",
     "text": [
      "Transfer learning confusion matrix: \n",
      " [[  17373       0       5      51       0      71       0]\n",
      " [     74 1767224   18727     284       0     122       6]\n",
      " [    332  123828 5156456     277       0     112  117122]\n",
      " [    377       3     763 3405805       0      77    4866]\n",
      " [    343       0     757  172853       0     182     227]\n",
      " [   2468       0    4063    1280       0 3988574     645]\n",
      " [     50       0   73162     328       0      46 3428885]]\n"
     ]
    }
   ],
   "source": [
    "rf_conf_mat = confusion_matrix(Y_test, y_pred)\n",
    "print(\"Transfer learning confusion matrix: \\n\", rf_conf_mat)"
   ]
  },
  {
   "cell_type": "code",
   "execution_count": 39,
   "id": "ad4711a1",
   "metadata": {},
   "outputs": [
    {
     "name": "stderr",
     "output_type": "stream",
     "text": [
      "C:\\Users\\LabUser\\anaconda3\\lib\\site-packages\\sklearn\\metrics\\_classification.py:1248: UndefinedMetricWarning: Precision and F-score are ill-defined and being set to 0.0 in labels with no predicted samples. Use `zero_division` parameter to control this behavior.\n",
      "  _warn_prf(average, modifier, msg_start, len(result))\n",
      "C:\\Users\\LabUser\\anaconda3\\lib\\site-packages\\sklearn\\metrics\\_classification.py:1248: UndefinedMetricWarning: Precision and F-score are ill-defined and being set to 0.0 in labels with no predicted samples. Use `zero_division` parameter to control this behavior.\n",
      "  _warn_prf(average, modifier, msg_start, len(result))\n"
     ]
    },
    {
     "name": "stdout",
     "output_type": "stream",
     "text": [
      "              precision    recall  f1-score   support\n",
      "\n",
      "           0     0.8266    0.9927    0.9021     17500\n",
      "           1     0.9345    0.9892    0.9611   1786437\n",
      "           2     0.9814    0.9552    0.9682   5398127\n",
      "           3     0.9511    0.9982    0.9741   3411891\n",
      "           4     0.0000    0.0000    0.0000    174362\n",
      "           5     0.9998    0.9979    0.9989   3997030\n",
      "           6     0.9654    0.9790    0.9722   3502471\n",
      "\n",
      "    accuracy                         0.9714  18287818\n",
      "   macro avg     0.8084    0.8446    0.8252  18287818\n",
      "weighted avg     0.9626    0.9714    0.9668  18287818\n",
      "\n"
     ]
    },
    {
     "name": "stderr",
     "output_type": "stream",
     "text": [
      "C:\\Users\\LabUser\\anaconda3\\lib\\site-packages\\sklearn\\metrics\\_classification.py:1248: UndefinedMetricWarning: Precision and F-score are ill-defined and being set to 0.0 in labels with no predicted samples. Use `zero_division` parameter to control this behavior.\n",
      "  _warn_prf(average, modifier, msg_start, len(result))\n"
     ]
    }
   ],
   "source": [
    "CR = classification_report(Y_test,y_pred,digits= 4)\n",
    "print(CR)"
   ]
  },
  {
   "cell_type": "markdown",
   "id": "0125f81c",
   "metadata": {},
   "source": [
    "# epoch 2"
   ]
  },
  {
   "cell_type": "code",
   "execution_count": 40,
   "id": "d8b3843a",
   "metadata": {
    "id": "90dc0d6b",
    "outputId": "d16088ec-cbe7-4e10-baa7-fab4eb9d2b67"
   },
   "outputs": [
    {
     "name": "stdout",
     "output_type": "stream",
     "text": [
      "Timer Begin\n",
      "44667/44667 [==============================] - 387s 9ms/step - loss: 0.1106 - accuracy: 0.9704\n",
      "389.8259468078613\n"
     ]
    }
   ],
   "source": [
    "from keras.callbacks import EarlyStopping\n",
    "import time\n",
    "\n",
    "start = time.time()\n",
    "print(\"Timer Begin\")\n",
    "\n",
    "model.fit(X_train,Y_train,batch_size=30,epochs=1,\n",
    "          validation_split=0, callbacks=[EarlyStopping(monitor='loss',patience=2)])\n",
    "\n",
    "end = time.time()\n",
    "print(end - start)"
   ]
  },
  {
   "cell_type": "markdown",
   "id": "c7627159",
   "metadata": {},
   "source": [
    "# small test"
   ]
  },
  {
   "cell_type": "code",
   "execution_count": 22,
   "id": "6cd37e3e",
   "metadata": {
    "id": "f3518b7e"
   },
   "outputs": [],
   "source": [
    "y_pred = model.predict(X_test)\n",
    "y_pred = y_pred.argmax(axis=1)"
   ]
  },
  {
   "cell_type": "code",
   "execution_count": 23,
   "id": "2a9e04c7",
   "metadata": {
    "id": "20c0bd00",
    "outputId": "b01e76fc-2ec1-4627-fa28-dc6ea6c2c10e"
   },
   "outputs": [
    {
     "name": "stdout",
     "output_type": "stream",
     "text": [
      "Transfer learning confusion matrix: \n",
      " [[ 17373      0      5     34      1     76     15]\n",
      " [     1  61970   1084      8      0      5      1]\n",
      " [     9   4196 184342     18      0      5   2918]\n",
      " [    15      0     21 120174      0      2    174]\n",
      " [    14      0     25   6098      4     13     10]\n",
      " [    79      0    135      1      0 141137     23]\n",
      " [     1      0   2656     10      0      1 121155]]\n"
     ]
    }
   ],
   "source": [
    "rf_conf_mat = confusion_matrix(Y_test, y_pred)\n",
    "print(\"Transfer learning confusion matrix: \\n\", rf_conf_mat)"
   ]
  },
  {
   "cell_type": "code",
   "execution_count": 24,
   "id": "8ac8424b",
   "metadata": {
    "id": "783088d5"
   },
   "outputs": [
    {
     "name": "stdout",
     "output_type": "stream",
     "text": [
      "              precision    recall  f1-score   support\n",
      "\n",
      "           0     0.9932    0.9925    0.9929     17504\n",
      "           1     0.9366    0.9826    0.9590     63069\n",
      "           2     0.9791    0.9627    0.9708    191488\n",
      "           3     0.9512    0.9982    0.9741    120386\n",
      "           4     0.8000    0.0006    0.0013      6164\n",
      "           5     0.9993    0.9983    0.9988    141375\n",
      "           6     0.9747    0.9785    0.9766    123823\n",
      "\n",
      "    accuracy                         0.9734    663809\n",
      "   macro avg     0.9477    0.8448    0.8391    663809\n",
      "weighted avg     0.9722    0.9734    0.9689    663809\n",
      "\n"
     ]
    }
   ],
   "source": [
    "CR = classification_report(Y_test,y_pred, digits= 4)\n",
    "print(CR)"
   ]
  },
  {
   "cell_type": "markdown",
   "id": "e1211587",
   "metadata": {},
   "source": [
    "# large test"
   ]
  },
  {
   "cell_type": "code",
   "execution_count": 41,
   "id": "aa49dd47",
   "metadata": {
    "id": "f3518b7e"
   },
   "outputs": [],
   "source": [
    "y_pred = model.predict(X_test)\n",
    "y_pred = y_pred.argmax(axis=1)"
   ]
  },
  {
   "cell_type": "code",
   "execution_count": 42,
   "id": "e0052d54",
   "metadata": {
    "id": "20c0bd00",
    "outputId": "b01e76fc-2ec1-4627-fa28-dc6ea6c2c10e"
   },
   "outputs": [
    {
     "name": "stdout",
     "output_type": "stream",
     "text": [
      "Transfer learning confusion matrix: \n",
      " [[  17448       0       0      25       0      27       0]\n",
      " [    109 1768144   17803     284       0      95       2]\n",
      " [    397  164288 5032455     222       0     102  200663]\n",
      " [    374       3     780 3403470       0      79    7185]\n",
      " [    337       0     750  172705       0     194     376]\n",
      " [   2784       0    4054      28       0 3989519     645]\n",
      " [     46       3   67578     226       0      42 3434576]]\n"
     ]
    }
   ],
   "source": [
    "rf_conf_mat = confusion_matrix(Y_test, y_pred)\n",
    "print(\"Transfer learning confusion matrix: \\n\", rf_conf_mat)"
   ]
  },
  {
   "cell_type": "code",
   "execution_count": 43,
   "id": "682b0791",
   "metadata": {
    "id": "783088d5"
   },
   "outputs": [
    {
     "name": "stderr",
     "output_type": "stream",
     "text": [
      "C:\\Users\\LabUser\\anaconda3\\lib\\site-packages\\sklearn\\metrics\\_classification.py:1248: UndefinedMetricWarning: Precision and F-score are ill-defined and being set to 0.0 in labels with no predicted samples. Use `zero_division` parameter to control this behavior.\n",
      "  _warn_prf(average, modifier, msg_start, len(result))\n",
      "C:\\Users\\LabUser\\anaconda3\\lib\\site-packages\\sklearn\\metrics\\_classification.py:1248: UndefinedMetricWarning: Precision and F-score are ill-defined and being set to 0.0 in labels with no predicted samples. Use `zero_division` parameter to control this behavior.\n",
      "  _warn_prf(average, modifier, msg_start, len(result))\n"
     ]
    },
    {
     "name": "stdout",
     "output_type": "stream",
     "text": [
      "              precision    recall  f1-score   support\n",
      "\n",
      "           0     0.8117    0.9970    0.8949     17500\n",
      "           1     0.9150    0.9898    0.9509   1786437\n",
      "           2     0.9822    0.9323    0.9566   5398127\n",
      "           3     0.9515    0.9975    0.9740   3411891\n",
      "           4     0.0000    0.0000    0.0000    174362\n",
      "           5     0.9999    0.9981    0.9990   3997030\n",
      "           6     0.9427    0.9806    0.9613   3502471\n",
      "\n",
      "    accuracy                         0.9649  18287818\n",
      "   macro avg     0.8004    0.8422    0.8195  18287818\n",
      "weighted avg     0.9567    0.9649    0.9603  18287818\n",
      "\n"
     ]
    },
    {
     "name": "stderr",
     "output_type": "stream",
     "text": [
      "C:\\Users\\LabUser\\anaconda3\\lib\\site-packages\\sklearn\\metrics\\_classification.py:1248: UndefinedMetricWarning: Precision and F-score are ill-defined and being set to 0.0 in labels with no predicted samples. Use `zero_division` parameter to control this behavior.\n",
      "  _warn_prf(average, modifier, msg_start, len(result))\n"
     ]
    }
   ],
   "source": [
    "CR = classification_report(Y_test,y_pred, digits= 4)\n",
    "print(CR)"
   ]
  },
  {
   "cell_type": "code",
   "execution_count": null,
   "id": "76e019cd",
   "metadata": {},
   "outputs": [],
   "source": []
  },
  {
   "cell_type": "markdown",
   "id": "fdd069b7",
   "metadata": {},
   "source": [
    "# 3 epoch"
   ]
  },
  {
   "cell_type": "code",
   "execution_count": 44,
   "id": "f8dd3588",
   "metadata": {
    "id": "90dc0d6b",
    "outputId": "d16088ec-cbe7-4e10-baa7-fab4eb9d2b67"
   },
   "outputs": [
    {
     "name": "stdout",
     "output_type": "stream",
     "text": [
      "Timer Begin\n",
      "44667/44667 [==============================] - 506s 11ms/step - loss: 0.1102 - accuracy: 0.9711\n",
      "509.62669920921326\n"
     ]
    }
   ],
   "source": [
    "from keras.callbacks import EarlyStopping\n",
    "import time\n",
    "\n",
    "start = time.time()\n",
    "print(\"Timer Begin\")\n",
    "\n",
    "model.fit(X_train,Y_train,batch_size=30,epochs=1,\n",
    "          validation_split=0, callbacks=[EarlyStopping(monitor='loss',patience=2)])\n",
    "\n",
    "end = time.time()\n",
    "print(end - start)"
   ]
  },
  {
   "cell_type": "markdown",
   "id": "6fea1c71",
   "metadata": {},
   "source": [
    "# small test"
   ]
  },
  {
   "cell_type": "code",
   "execution_count": 26,
   "id": "c955e1d1",
   "metadata": {
    "id": "f3518b7e"
   },
   "outputs": [],
   "source": [
    "y_pred = model.predict(X_test)\n",
    "y_pred = y_pred.argmax(axis=1)"
   ]
  },
  {
   "cell_type": "code",
   "execution_count": 27,
   "id": "c44a95bd",
   "metadata": {
    "id": "20c0bd00",
    "outputId": "b01e76fc-2ec1-4627-fa28-dc6ea6c2c10e"
   },
   "outputs": [
    {
     "name": "stdout",
     "output_type": "stream",
     "text": [
      "Transfer learning confusion matrix: \n",
      " [[ 17421      0      0     69      3     10      1]\n",
      " [     0  62313    743      8      2      3      0]\n",
      " [     9   4306 180142     21      1      3   7006]\n",
      " [    12      0     21 120116      0      2    235]\n",
      " [    14      0     25   5782    328      3     12]\n",
      " [   139      0    135      1     40 141037     23]\n",
      " [     1      0   2630      9      1      0 121182]]\n"
     ]
    }
   ],
   "source": [
    "rf_conf_mat = confusion_matrix(Y_test, y_pred)\n",
    "print(\"Transfer learning confusion matrix: \\n\", rf_conf_mat)"
   ]
  },
  {
   "cell_type": "code",
   "execution_count": 28,
   "id": "ba144beb",
   "metadata": {
    "id": "783088d5"
   },
   "outputs": [
    {
     "name": "stdout",
     "output_type": "stream",
     "text": [
      "              precision    recall  f1-score   support\n",
      "\n",
      "           0     0.9901    0.9953    0.9926     17504\n",
      "           1     0.9354    0.9880    0.9610     63069\n",
      "           2     0.9807    0.9407    0.9603    191488\n",
      "           3     0.9533    0.9978    0.9750    120386\n",
      "           4     0.8747    0.0532    0.1003      6164\n",
      "           5     0.9999    0.9976    0.9987    141375\n",
      "           6     0.9434    0.9787    0.9607    123823\n",
      "\n",
      "    accuracy                         0.9680    663809\n",
      "   macro avg     0.9539    0.8502    0.8498    663809\n",
      "weighted avg     0.9678    0.9680    0.9641    663809\n",
      "\n"
     ]
    }
   ],
   "source": [
    "CR = classification_report(Y_test,y_pred, digits= 4)\n",
    "print(CR)"
   ]
  },
  {
   "cell_type": "markdown",
   "id": "33cc610f",
   "metadata": {},
   "source": [
    "# large test"
   ]
  },
  {
   "cell_type": "code",
   "execution_count": 45,
   "id": "914a0abf",
   "metadata": {
    "id": "f3518b7e"
   },
   "outputs": [],
   "source": [
    "y_pred = model.predict(X_test)\n",
    "y_pred = y_pred.argmax(axis=1)"
   ]
  },
  {
   "cell_type": "code",
   "execution_count": 46,
   "id": "606c5abe",
   "metadata": {
    "id": "20c0bd00",
    "outputId": "b01e76fc-2ec1-4627-fa28-dc6ea6c2c10e"
   },
   "outputs": [
    {
     "name": "stdout",
     "output_type": "stream",
     "text": [
      "Transfer learning confusion matrix: \n",
      " [[  17359       1       0      70       3      60       7]\n",
      " [     50 1766327   19615     330       0     104      11]\n",
      " [    290  119735 5194422     353       0      40   83287]\n",
      " [    136       3     755 3403781       0      30    7186]\n",
      " [    123       0     750  173055       0      63     371]\n",
      " [   2526       0    4055    1169       0 3988635     645]\n",
      " [     54       1   73177     260       0       8 3428971]]\n"
     ]
    }
   ],
   "source": [
    "rf_conf_mat = confusion_matrix(Y_test, y_pred)\n",
    "print(\"Transfer learning confusion matrix: \\n\", rf_conf_mat)"
   ]
  },
  {
   "cell_type": "code",
   "execution_count": 47,
   "id": "f645976b",
   "metadata": {
    "id": "783088d5"
   },
   "outputs": [
    {
     "name": "stdout",
     "output_type": "stream",
     "text": [
      "              precision    recall  f1-score   support\n",
      "\n",
      "           0     0.8452    0.9919    0.9127     17500\n",
      "           1     0.9365    0.9887    0.9619   1786437\n",
      "           2     0.9814    0.9623    0.9717   5398127\n",
      "           3     0.9510    0.9976    0.9738   3411891\n",
      "           4     0.0000    0.0000    0.0000    174362\n",
      "           5     0.9999    0.9979    0.9989   3997030\n",
      "           6     0.9740    0.9790    0.9765   3502471\n",
      "\n",
      "    accuracy                         0.9733  18287818\n",
      "   macro avg     0.8126    0.8454    0.8279  18287818\n",
      "weighted avg     0.9645    0.9733    0.9687  18287818\n",
      "\n"
     ]
    }
   ],
   "source": [
    "CR = classification_report(Y_test,y_pred, digits= 4)\n",
    "print(CR)"
   ]
  },
  {
   "cell_type": "code",
   "execution_count": null,
   "id": "7f35e4d0",
   "metadata": {},
   "outputs": [],
   "source": []
  }
 ],
 "metadata": {
  "colab": {
   "name": "DDos.ipynb",
   "provenance": []
  },
  "kernelspec": {
   "display_name": "Python 3 (ipykernel)",
   "language": "python",
   "name": "python3"
  },
  "language_info": {
   "codemirror_mode": {
    "name": "ipython",
    "version": 3
   },
   "file_extension": ".py",
   "mimetype": "text/x-python",
   "name": "python",
   "nbconvert_exporter": "python",
   "pygments_lexer": "ipython3",
   "version": "3.9.7"
  }
 },
 "nbformat": 4,
 "nbformat_minor": 5
}

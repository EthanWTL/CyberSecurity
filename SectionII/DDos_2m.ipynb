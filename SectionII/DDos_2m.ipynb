{
 "cells": [
  {
   "cell_type": "code",
   "execution_count": 1,
   "id": "8066ecb1",
   "metadata": {
    "id": "8066ecb1"
   },
   "outputs": [],
   "source": [
    "import numpy as np\n",
    "import pandas as pd"
   ]
  },
  {
   "cell_type": "code",
   "execution_count": 2,
   "id": "b209ff8b",
   "metadata": {
    "id": "b209ff8b"
   },
   "outputs": [],
   "source": [
    "ddos = pd.read_csv('DDos_2m.csv')"
   ]
  },
  {
   "cell_type": "code",
   "execution_count": 3,
   "id": "cbf320d2",
   "metadata": {
    "id": "cbf320d2",
    "outputId": "53f56b01-bc8d-49d1-e9d8-032dd517be89"
   },
   "outputs": [
    {
     "data": {
      "text/plain": [
       "Index(['Unnamed: 0', 'FlowDuration', 'TotalFwdPackets', 'TotalBackwardPackets',\n",
       "       'TotalLengthofFwdPackets', 'TotalLengthofBwdPackets',\n",
       "       'FwdPacketLengthMax', 'FwdPacketLengthMin', 'FwdPacketLengthMean',\n",
       "       'FwdPacketLengthStd', 'BwdPacketLengthMax', 'BwdPacketLengthMin',\n",
       "       'BwdPacketLengthMean', 'BwdPacketLengthStd', 'FlowBytes/s',\n",
       "       'FlowPackets/s', 'FlowIATMean', 'FlowIATStd', 'FlowIATMax',\n",
       "       'FlowIATMin', 'FwdIATTotal', 'FwdIATMean', 'FwdIATStd', 'FwdIATMax',\n",
       "       'FwdIATMin', 'BwdIATTotal', 'BwdIATMean', 'BwdIATStd', 'BwdIATMax',\n",
       "       'BwdIATMin', 'FwdPSHFlags', 'BwdPSHFlags', 'FwdURGFlags', 'BwdURGFlags',\n",
       "       'FwdHeaderLength', 'BwdHeaderLength', 'FwdPackets/s', 'BwdPackets/s',\n",
       "       'MinPacketLength', 'MaxPacketLength', 'PacketLengthMean',\n",
       "       'PacketLengthStd', 'PacketLengthVariance', 'FINFlagCount',\n",
       "       'SYNFlagCount', 'RSTFlagCount', 'PSHFlagCount', 'ACKFlagCount',\n",
       "       'URGFlagCount', 'CWEFlagCount', 'ECEFlagCount', 'Down/UpRatio',\n",
       "       'AveragePacketSize', 'AvgFwdSegmentSize', 'AvgBwdSegmentSize',\n",
       "       'FwdHeaderLength.1', 'FwdAvgBytes/Bulk', 'FwdAvgPackets/Bulk',\n",
       "       'FwdAvgBulkRate', 'BwdAvgBytes/Bulk', 'BwdAvgPackets/Bulk',\n",
       "       'BwdAvgBulkRate', 'SubflowFwdPackets', 'SubflowFwdBytes',\n",
       "       'SubflowBwdPackets', 'SubflowBwdBytes', 'Init_Win_bytes_forward',\n",
       "       'Init_Win_bytes_backward', 'act_data_pkt_fwd', 'min_seg_size_forward',\n",
       "       'ActiveMean', 'ActiveStd', 'ActiveMax', 'ActiveMin', 'IdleMean',\n",
       "       'IdleStd', 'IdleMax', 'IdleMin', 'Label'],\n",
       "      dtype='object')"
      ]
     },
     "execution_count": 3,
     "metadata": {},
     "output_type": "execute_result"
    }
   ],
   "source": [
    "ddos.columns"
   ]
  },
  {
   "cell_type": "code",
   "execution_count": 4,
   "id": "8a36dd8c",
   "metadata": {
    "id": "8a36dd8c"
   },
   "outputs": [],
   "source": [
    "ddos = ddos.drop(columns = ['Unnamed: 0'])"
   ]
  },
  {
   "cell_type": "code",
   "execution_count": 5,
   "id": "98e7220f",
   "metadata": {
    "id": "98e7220f",
    "outputId": "c7160965-9fe2-49c5-80a5-17c3909e66f5"
   },
   "outputs": [
    {
     "data": {
      "text/plain": [
       "(2011542, 78)"
      ]
     },
     "execution_count": 5,
     "metadata": {},
     "output_type": "execute_result"
    }
   ],
   "source": [
    "ddos.shape"
   ]
  },
  {
   "cell_type": "code",
   "execution_count": 6,
   "id": "61268638",
   "metadata": {
    "id": "61268638",
    "outputId": "0e1b6abf-1cdf-49a5-80c9-b327540351ea"
   },
   "outputs": [
    {
     "data": {
      "text/plain": [
       "MSSQL      578745\n",
       "Syn        428475\n",
       "UDP        375468\n",
       "NetBIOS    365749\n",
       "LDAP       191512\n",
       "BENIGN      52897\n",
       "Portmap     18696\n",
       "Name: Label, dtype: int64"
      ]
     },
     "execution_count": 6,
     "metadata": {},
     "output_type": "execute_result"
    }
   ],
   "source": [
    "ddos['Label'].value_counts()"
   ]
  },
  {
   "cell_type": "code",
   "execution_count": 7,
   "id": "4eb955dc",
   "metadata": {
    "id": "4eb955dc",
    "outputId": "5f979796-2c1a-4da9-d8c7-a00235f79ceb"
   },
   "outputs": [
    {
     "data": {
      "text/plain": [
       "Index(['Label'], dtype='object')"
      ]
     },
     "execution_count": 7,
     "metadata": {},
     "output_type": "execute_result"
    }
   ],
   "source": [
    "df = ddos.copy()\n",
    "cat_columns = df.select_dtypes(['object']).columns\n",
    "cat_columns"
   ]
  },
  {
   "cell_type": "code",
   "execution_count": 8,
   "id": "86f871ea",
   "metadata": {
    "id": "86f871ea",
    "outputId": "6bbf9b08-da3a-42be-eb40-2906d55a398f"
   },
   "outputs": [
    {
     "data": {
      "text/plain": [
       "FlowDuration               float64\n",
       "TotalFwdPackets            float64\n",
       "TotalBackwardPackets       float64\n",
       "TotalLengthofFwdPackets    float64\n",
       "TotalLengthofBwdPackets    float64\n",
       "                            ...   \n",
       "IdleMean                   float64\n",
       "IdleStd                    float64\n",
       "IdleMax                    float64\n",
       "IdleMin                    float64\n",
       "Label                         int8\n",
       "Length: 78, dtype: object"
      ]
     },
     "execution_count": 8,
     "metadata": {},
     "output_type": "execute_result"
    }
   ],
   "source": [
    "df[cat_columns] = df[cat_columns].astype('category')\n",
    "df[cat_columns] = df[cat_columns].apply(lambda x: x.cat.codes)\n",
    "df\n",
    "ddos = df\n",
    "ddos.dtypes"
   ]
  },
  {
   "cell_type": "code",
   "execution_count": 9,
   "id": "00edf7f4",
   "metadata": {
    "id": "00edf7f4"
   },
   "outputs": [],
   "source": [
    "X = ddos.iloc[:, 0:-1]\n",
    "y = ddos.iloc[:, -1]"
   ]
  },
  {
   "cell_type": "code",
   "execution_count": 10,
   "id": "39e0058b",
   "metadata": {
    "id": "39e0058b"
   },
   "outputs": [],
   "source": [
    "ddos = None; del ddos"
   ]
  },
  {
   "cell_type": "code",
   "execution_count": 11,
   "id": "93fa7421",
   "metadata": {},
   "outputs": [],
   "source": [
    "from sklearn.model_selection import train_test_split\n",
    "X_train, X_test, Y_train, Y_test = train_test_split(X, y, test_size = 0.33, random_state = 42)"
   ]
  },
  {
   "cell_type": "code",
   "execution_count": 12,
   "id": "c1874c53",
   "metadata": {},
   "outputs": [],
   "source": [
    "X_train.to_csv('X_train_2m.csv')"
   ]
  },
  {
   "cell_type": "code",
   "execution_count": 12,
   "id": "fe5cae37",
   "metadata": {},
   "outputs": [],
   "source": [
    "from sklearn.preprocessing import StandardScaler\n",
    "scaler = StandardScaler().fit(X_train)\n",
    "X_train = scaler.transform(X_train)\n",
    "X_test = scaler.transform(X_test)"
   ]
  },
  {
   "cell_type": "code",
   "execution_count": 13,
   "id": "7bc9385d",
   "metadata": {
    "id": "7bc9385d",
    "outputId": "30fa7824-fc20-4d17-bc40-a02e97a19d8d"
   },
   "outputs": [
    {
     "data": {
      "text/plain": [
       "(2011542, 77)"
      ]
     },
     "execution_count": 13,
     "metadata": {},
     "output_type": "execute_result"
    }
   ],
   "source": [
    "from keras.utils import np_utils\n",
    "X_train=np.expand_dims(X_train,axis=2)\n",
    "X_test=np.expand_dims(X_test,axis=2)\n",
    "X.shape"
   ]
  },
  {
   "cell_type": "code",
   "execution_count": 14,
   "id": "47a5e796",
   "metadata": {
    "id": "47a5e796"
   },
   "outputs": [],
   "source": [
    "from keras.models import Sequential\n",
    "from keras.layers import Dense\n",
    "from keras.layers import Flatten\n",
    "from keras.layers import Dropout\n",
    "from keras.layers.convolutional import Conv1D\n",
    "from keras.layers.convolutional import MaxPooling1D\n",
    "from keras.layers import LSTM\n",
    "from tensorflow.keras.utils import to_categorical"
   ]
  },
  {
   "cell_type": "code",
   "execution_count": 15,
   "id": "6265a864",
   "metadata": {},
   "outputs": [],
   "source": [
    "from sklearn.metrics import accuracy_score\n",
    "from sklearn.metrics import classification_report\n",
    "from sklearn.metrics import confusion_matrix"
   ]
  },
  {
   "cell_type": "code",
   "execution_count": 16,
   "id": "7b5dc86e",
   "metadata": {
    "id": "7b5dc86e",
    "scrolled": false
   },
   "outputs": [],
   "source": [
    "model = Sequential()\n",
    "model.add(Conv1D(filters=64, kernel_size=3, activation='relu', input_shape=(77,1)))\n",
    "model.add(Dropout(0.5))\n",
    "model.add(MaxPooling1D(pool_size=2))\n",
    "model.add(Flatten())\n",
    "model.add(Dense(100, activation='relu'))\n",
    "model.add(Dense(7, activation='softmax'))\n",
    "model.compile(loss='sparse_categorical_crossentropy', optimizer='adam', metrics=['accuracy'])"
   ]
  },
  {
   "cell_type": "code",
   "execution_count": 17,
   "id": "90dc0d6b",
   "metadata": {
    "id": "90dc0d6b",
    "outputId": "d16088ec-cbe7-4e10-baa7-fab4eb9d2b67"
   },
   "outputs": [
    {
     "name": "stdout",
     "output_type": "stream",
     "text": [
      "Timer Begin\n",
      "44925/44925 [==============================] - 141s 3ms/step - loss: 0.1233 - accuracy: 0.9653\n",
      "141.61586594581604\n"
     ]
    }
   ],
   "source": [
    "from keras.callbacks import EarlyStopping\n",
    "import time\n",
    "\n",
    "start = time.time()\n",
    "print(\"Timer Begin\")\n",
    "\n",
    "model.fit(X_train,Y_train,batch_size=30,epochs=1,\n",
    "          validation_split=0, callbacks=[EarlyStopping(monitor='loss',patience=2)])\n",
    "\n",
    "end = time.time()\n",
    "print(end - start)"
   ]
  },
  {
   "cell_type": "code",
   "execution_count": 18,
   "id": "f3518b7e",
   "metadata": {
    "id": "f3518b7e"
   },
   "outputs": [],
   "source": [
    "y_pred = model.predict(X_test)\n",
    "y_pred = y_pred.argmax(axis=1)"
   ]
  },
  {
   "cell_type": "code",
   "execution_count": 19,
   "id": "20c0bd00",
   "metadata": {
    "id": "20c0bd00",
    "outputId": "b01e76fc-2ec1-4627-fa28-dc6ea6c2c10e"
   },
   "outputs": [
    {
     "name": "stdout",
     "output_type": "stream",
     "text": [
      "Transfer learning confusion matrix: \n",
      " [[ 17427      0      0     39      0     38      0]\n",
      " [     1  62360    693      8      0      6      1]\n",
      " [    11   4449 180003     17      0      6   7002]\n",
      " [    14      0     21 120094      0      2    255]\n",
      " [    13      0     25   6099      0     14     13]\n",
      " [   111      0    135      1      0 141105     23]\n",
      " [     1      0   2646      9      0      1 121166]]\n"
     ]
    }
   ],
   "source": [
    "rf_conf_mat = confusion_matrix(Y_test, y_pred)\n",
    "print(\"Transfer learning confusion matrix: \\n\", rf_conf_mat)"
   ]
  },
  {
   "cell_type": "code",
   "execution_count": 20,
   "id": "783088d5",
   "metadata": {
    "id": "783088d5"
   },
   "outputs": [
    {
     "name": "stderr",
     "output_type": "stream",
     "text": [
      "D:\\Anaconda\\lib\\site-packages\\sklearn\\metrics\\_classification.py:1248: UndefinedMetricWarning: Precision and F-score are ill-defined and being set to 0.0 in labels with no predicted samples. Use `zero_division` parameter to control this behavior.\n",
      "  _warn_prf(average, modifier, msg_start, len(result))\n"
     ]
    },
    {
     "name": "stdout",
     "output_type": "stream",
     "text": [
      "              precision    recall  f1-score   support\n",
      "\n",
      "           0     0.9914    0.9956    0.9935     17504\n",
      "           1     0.9334    0.9888    0.9603     63069\n",
      "           2     0.9808    0.9400    0.9600    191488\n",
      "           3     0.9511    0.9976    0.9738    120386\n",
      "           4     0.0000    0.0000    0.0000      6164\n",
      "           5     0.9995    0.9981    0.9988    141375\n",
      "           6     0.9432    0.9785    0.9606    123823\n",
      "\n",
      "    accuracy                         0.9674    663809\n",
      "   macro avg     0.8285    0.8427    0.8353    663809\n",
      "weighted avg     0.9591    0.9674    0.9629    663809\n",
      "\n"
     ]
    },
    {
     "name": "stderr",
     "output_type": "stream",
     "text": [
      "D:\\Anaconda\\lib\\site-packages\\sklearn\\metrics\\_classification.py:1248: UndefinedMetricWarning: Precision and F-score are ill-defined and being set to 0.0 in labels with no predicted samples. Use `zero_division` parameter to control this behavior.\n",
      "  _warn_prf(average, modifier, msg_start, len(result))\n",
      "D:\\Anaconda\\lib\\site-packages\\sklearn\\metrics\\_classification.py:1248: UndefinedMetricWarning: Precision and F-score are ill-defined and being set to 0.0 in labels with no predicted samples. Use `zero_division` parameter to control this behavior.\n",
      "  _warn_prf(average, modifier, msg_start, len(result))\n"
     ]
    }
   ],
   "source": [
    "CR = classification_report(Y_test,y_pred,digits= 4)\n",
    "print(CR)"
   ]
  },
  {
   "cell_type": "code",
   "execution_count": null,
   "id": "cfa89211",
   "metadata": {},
   "outputs": [],
   "source": []
  },
  {
   "cell_type": "code",
   "execution_count": 21,
   "id": "d8b3843a",
   "metadata": {
    "id": "90dc0d6b",
    "outputId": "d16088ec-cbe7-4e10-baa7-fab4eb9d2b67"
   },
   "outputs": [
    {
     "name": "stdout",
     "output_type": "stream",
     "text": [
      "Timer Begin\n",
      "44925/44925 [==============================] - 143s 3ms/step - loss: 0.1121 - accuracy: 0.9701\n",
      "143.75908946990967\n"
     ]
    }
   ],
   "source": [
    "from keras.callbacks import EarlyStopping\n",
    "import time\n",
    "\n",
    "start = time.time()\n",
    "print(\"Timer Begin\")\n",
    "\n",
    "model.fit(X_train,Y_train,batch_size=30,epochs=1,\n",
    "          validation_split=0, callbacks=[EarlyStopping(monitor='loss',patience=2)])\n",
    "\n",
    "end = time.time()\n",
    "print(end - start)"
   ]
  },
  {
   "cell_type": "code",
   "execution_count": 22,
   "id": "6cd37e3e",
   "metadata": {
    "id": "f3518b7e"
   },
   "outputs": [],
   "source": [
    "y_pred = model.predict(X_test)\n",
    "y_pred = y_pred.argmax(axis=1)"
   ]
  },
  {
   "cell_type": "code",
   "execution_count": 23,
   "id": "2a9e04c7",
   "metadata": {
    "id": "20c0bd00",
    "outputId": "b01e76fc-2ec1-4627-fa28-dc6ea6c2c10e"
   },
   "outputs": [
    {
     "name": "stdout",
     "output_type": "stream",
     "text": [
      "Transfer learning confusion matrix: \n",
      " [[ 17373      0      5     34      1     76     15]\n",
      " [     1  61970   1084      8      0      5      1]\n",
      " [     9   4196 184342     18      0      5   2918]\n",
      " [    15      0     21 120174      0      2    174]\n",
      " [    14      0     25   6098      4     13     10]\n",
      " [    79      0    135      1      0 141137     23]\n",
      " [     1      0   2656     10      0      1 121155]]\n"
     ]
    }
   ],
   "source": [
    "rf_conf_mat = confusion_matrix(Y_test, y_pred)\n",
    "print(\"Transfer learning confusion matrix: \\n\", rf_conf_mat)"
   ]
  },
  {
   "cell_type": "code",
   "execution_count": 24,
   "id": "8ac8424b",
   "metadata": {
    "id": "783088d5"
   },
   "outputs": [
    {
     "name": "stdout",
     "output_type": "stream",
     "text": [
      "              precision    recall  f1-score   support\n",
      "\n",
      "           0     0.9932    0.9925    0.9929     17504\n",
      "           1     0.9366    0.9826    0.9590     63069\n",
      "           2     0.9791    0.9627    0.9708    191488\n",
      "           3     0.9512    0.9982    0.9741    120386\n",
      "           4     0.8000    0.0006    0.0013      6164\n",
      "           5     0.9993    0.9983    0.9988    141375\n",
      "           6     0.9747    0.9785    0.9766    123823\n",
      "\n",
      "    accuracy                         0.9734    663809\n",
      "   macro avg     0.9477    0.8448    0.8391    663809\n",
      "weighted avg     0.9722    0.9734    0.9689    663809\n",
      "\n"
     ]
    }
   ],
   "source": [
    "CR = classification_report(Y_test,y_pred, digits= 4)\n",
    "print(CR)"
   ]
  },
  {
   "cell_type": "code",
   "execution_count": null,
   "id": "c1d2c507",
   "metadata": {},
   "outputs": [],
   "source": []
  },
  {
   "cell_type": "code",
   "execution_count": 25,
   "id": "f8dd3588",
   "metadata": {
    "id": "90dc0d6b",
    "outputId": "d16088ec-cbe7-4e10-baa7-fab4eb9d2b67"
   },
   "outputs": [
    {
     "name": "stdout",
     "output_type": "stream",
     "text": [
      "Timer Begin\n",
      "44925/44925 [==============================] - 143s 3ms/step - loss: 0.1110 - accuracy: 0.9711\n",
      "142.91303062438965\n"
     ]
    }
   ],
   "source": [
    "from keras.callbacks import EarlyStopping\n",
    "import time\n",
    "\n",
    "start = time.time()\n",
    "print(\"Timer Begin\")\n",
    "\n",
    "model.fit(X_train,Y_train,batch_size=30,epochs=1,\n",
    "          validation_split=0, callbacks=[EarlyStopping(monitor='loss',patience=2)])\n",
    "\n",
    "end = time.time()\n",
    "print(end - start)"
   ]
  },
  {
   "cell_type": "code",
   "execution_count": 26,
   "id": "c955e1d1",
   "metadata": {
    "id": "f3518b7e"
   },
   "outputs": [],
   "source": [
    "y_pred = model.predict(X_test)\n",
    "y_pred = y_pred.argmax(axis=1)"
   ]
  },
  {
   "cell_type": "code",
   "execution_count": 27,
   "id": "c44a95bd",
   "metadata": {
    "id": "20c0bd00",
    "outputId": "b01e76fc-2ec1-4627-fa28-dc6ea6c2c10e"
   },
   "outputs": [
    {
     "name": "stdout",
     "output_type": "stream",
     "text": [
      "Transfer learning confusion matrix: \n",
      " [[ 17421      0      0     69      3     10      1]\n",
      " [     0  62313    743      8      2      3      0]\n",
      " [     9   4306 180142     21      1      3   7006]\n",
      " [    12      0     21 120116      0      2    235]\n",
      " [    14      0     25   5782    328      3     12]\n",
      " [   139      0    135      1     40 141037     23]\n",
      " [     1      0   2630      9      1      0 121182]]\n"
     ]
    }
   ],
   "source": [
    "rf_conf_mat = confusion_matrix(Y_test, y_pred)\n",
    "print(\"Transfer learning confusion matrix: \\n\", rf_conf_mat)"
   ]
  },
  {
   "cell_type": "code",
   "execution_count": 28,
   "id": "ba144beb",
   "metadata": {
    "id": "783088d5"
   },
   "outputs": [
    {
     "name": "stdout",
     "output_type": "stream",
     "text": [
      "              precision    recall  f1-score   support\n",
      "\n",
      "           0     0.9901    0.9953    0.9926     17504\n",
      "           1     0.9354    0.9880    0.9610     63069\n",
      "           2     0.9807    0.9407    0.9603    191488\n",
      "           3     0.9533    0.9978    0.9750    120386\n",
      "           4     0.8747    0.0532    0.1003      6164\n",
      "           5     0.9999    0.9976    0.9987    141375\n",
      "           6     0.9434    0.9787    0.9607    123823\n",
      "\n",
      "    accuracy                         0.9680    663809\n",
      "   macro avg     0.9539    0.8502    0.8498    663809\n",
      "weighted avg     0.9678    0.9680    0.9641    663809\n",
      "\n"
     ]
    }
   ],
   "source": [
    "CR = classification_report(Y_test,y_pred, digits= 4)\n",
    "print(CR)"
   ]
  },
  {
   "cell_type": "code",
   "execution_count": null,
   "id": "c9fade1c",
   "metadata": {},
   "outputs": [],
   "source": []
  }
 ],
 "metadata": {
  "colab": {
   "name": "DDos.ipynb",
   "provenance": []
  },
  "kernelspec": {
   "display_name": "Python 3 (ipykernel)",
   "language": "python",
   "name": "python3"
  },
  "language_info": {
   "codemirror_mode": {
    "name": "ipython",
    "version": 3
   },
   "file_extension": ".py",
   "mimetype": "text/x-python",
   "name": "python",
   "nbconvert_exporter": "python",
   "pygments_lexer": "ipython3",
   "version": "3.9.7"
  }
 },
 "nbformat": 4,
 "nbformat_minor": 5
}

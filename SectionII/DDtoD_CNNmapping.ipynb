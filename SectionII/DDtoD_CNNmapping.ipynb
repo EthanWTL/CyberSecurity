{
 "cells": [
  {
   "cell_type": "code",
   "execution_count": 1,
   "id": "a8167611",
   "metadata": {},
   "outputs": [],
   "source": [
    "import numpy as np\n",
    "import pandas as pd"
   ]
  },
  {
   "cell_type": "code",
   "execution_count": 2,
   "id": "5300b648",
   "metadata": {},
   "outputs": [],
   "source": [
    "ddos = pd.read_csv('DDos_all.csv')"
   ]
  },
  {
   "cell_type": "code",
   "execution_count": 3,
   "id": "b7f388b0",
   "metadata": {},
   "outputs": [
    {
     "data": {
      "text/plain": [
       "Index(['Unnamed: 0', 'Unnamed: 0.1', 'Unnamed: 0.1.1', 'FlowDuration',\n",
       "       'TotalFwdPackets', 'TotalBackwardPackets', 'TotalLengthofFwdPackets',\n",
       "       'TotalLengthofBwdPackets', 'FwdPacketLengthMax', 'FwdPacketLengthMin',\n",
       "       'FwdPacketLengthMean', 'FwdPacketLengthStd', 'BwdPacketLengthMax',\n",
       "       'BwdPacketLengthMin', 'BwdPacketLengthMean', 'BwdPacketLengthStd',\n",
       "       'FlowBytes/s', 'FlowPackets/s', 'FlowIATMean', 'FlowIATStd',\n",
       "       'FlowIATMax', 'FlowIATMin', 'FwdIATTotal', 'FwdIATMean', 'FwdIATStd',\n",
       "       'FwdIATMax', 'FwdIATMin', 'BwdIATTotal', 'BwdIATMean', 'BwdIATStd',\n",
       "       'BwdIATMax', 'BwdIATMin', 'FwdPSHFlags', 'BwdPSHFlags', 'FwdURGFlags',\n",
       "       'BwdURGFlags', 'FwdHeaderLength', 'BwdHeaderLength', 'FwdPackets/s',\n",
       "       'BwdPackets/s', 'MinPacketLength', 'MaxPacketLength',\n",
       "       'PacketLengthMean', 'PacketLengthStd', 'PacketLengthVariance',\n",
       "       'FINFlagCount', 'SYNFlagCount', 'RSTFlagCount', 'PSHFlagCount',\n",
       "       'ACKFlagCount', 'URGFlagCount', 'CWEFlagCount', 'ECEFlagCount',\n",
       "       'Down/UpRatio', 'AveragePacketSize', 'AvgFwdSegmentSize',\n",
       "       'AvgBwdSegmentSize', 'FwdHeaderLength.1', 'FwdAvgBytes/Bulk',\n",
       "       'FwdAvgPackets/Bulk', 'FwdAvgBulkRate', 'BwdAvgBytes/Bulk',\n",
       "       'BwdAvgPackets/Bulk', 'BwdAvgBulkRate', 'SubflowFwdPackets',\n",
       "       'SubflowFwdBytes', 'SubflowBwdPackets', 'SubflowBwdBytes',\n",
       "       'Init_Win_bytes_forward', 'Init_Win_bytes_backward', 'act_data_pkt_fwd',\n",
       "       'min_seg_size_forward', 'ActiveMean', 'ActiveStd', 'ActiveMax',\n",
       "       'ActiveMin', 'IdleMean', 'IdleStd', 'IdleMax', 'IdleMin', 'Label'],\n",
       "      dtype='object')"
      ]
     },
     "execution_count": 3,
     "metadata": {},
     "output_type": "execute_result"
    }
   ],
   "source": [
    "ddos.columns"
   ]
  },
  {
   "cell_type": "code",
   "execution_count": 4,
   "id": "1fcc6364",
   "metadata": {},
   "outputs": [],
   "source": [
    "ddos = ddos.drop(columns = ['Unnamed: 0', 'Unnamed: 0.1', 'Unnamed: 0.1.1'])"
   ]
  },
  {
   "cell_type": "code",
   "execution_count": 6,
   "id": "c749ba39",
   "metadata": {},
   "outputs": [
    {
     "data": {
      "text/plain": [
       "MSSQL      5787453\n",
       "Syn        4284751\n",
       "UDP        3754680\n",
       "NetBIOS    3657497\n",
       "LDAP       1915122\n",
       "Portmap     186960\n",
       "BENIGN       52897\n",
       "Name: Label, dtype: int64"
      ]
     },
     "execution_count": 6,
     "metadata": {},
     "output_type": "execute_result"
    }
   ],
   "source": [
    "ddos['Label'].value_counts()"
   ]
  },
  {
   "cell_type": "code",
   "execution_count": 9,
   "id": "638ee75f",
   "metadata": {},
   "outputs": [],
   "source": [
    "ddos['Label'].replace('BENIGN',0,inplace = True)\n",
    "ddos['Label'].replace('UDP',4,inplace = True)\n",
    "ddos['Label'].replace('LDAP',5,inplace = True)\n",
    "ddos['Label'].replace('Syn',3,inplace = True)\n",
    "ddos['Label'].replace('MSSQL',2,inplace = True)\n",
    "ddos['Label'].replace('Portmap',6,inplace = True)\n",
    "ddos['Label'].replace('NetBIOS',1,inplace = True)"
   ]
  },
  {
   "cell_type": "code",
   "execution_count": 11,
   "id": "8eb8ca68",
   "metadata": {},
   "outputs": [
    {
     "data": {
      "text/plain": [
       "2    5787453\n",
       "3    4284751\n",
       "4    3754680\n",
       "1    3657497\n",
       "5    1915122\n",
       "6     186960\n",
       "0      52897\n",
       "Name: Label, dtype: int64"
      ]
     },
     "execution_count": 11,
     "metadata": {},
     "output_type": "execute_result"
    }
   ],
   "source": [
    "ddos['Label'].value_counts()"
   ]
  },
  {
   "cell_type": "code",
   "execution_count": 12,
   "id": "d143378c",
   "metadata": {},
   "outputs": [
    {
     "data": {
      "text/plain": [
       "FlowDuration               float64\n",
       "TotalFwdPackets            float64\n",
       "TotalBackwardPackets       float64\n",
       "TotalLengthofFwdPackets    float64\n",
       "TotalLengthofBwdPackets    float64\n",
       "                            ...   \n",
       "IdleMean                   float64\n",
       "IdleStd                    float64\n",
       "IdleMax                    float64\n",
       "IdleMin                    float64\n",
       "Label                        int64\n",
       "Length: 78, dtype: object"
      ]
     },
     "execution_count": 12,
     "metadata": {},
     "output_type": "execute_result"
    }
   ],
   "source": [
    "cat_columns = ddos.select_dtypes(['object']).columns\n",
    "ddos[cat_columns] = ddos[cat_columns].astype('category')\n",
    "ddos[cat_columns] = ddos[cat_columns].apply(lambda x: x.cat.codes)\n",
    "ddos.dtypes"
   ]
  },
  {
   "cell_type": "code",
   "execution_count": 13,
   "id": "8daf6ba2",
   "metadata": {},
   "outputs": [],
   "source": [
    "X = ddos.iloc[:, 0:-1].values\n",
    "y = ddos.iloc[:, -1].values"
   ]
  },
  {
   "cell_type": "code",
   "execution_count": 14,
   "id": "96d4f555",
   "metadata": {},
   "outputs": [],
   "source": [
    "ddos = None; del ddos"
   ]
  },
  {
   "cell_type": "code",
   "execution_count": 15,
   "id": "a7ee9561",
   "metadata": {},
   "outputs": [
    {
     "data": {
      "text/plain": [
       "array([[-0.12880758,  0.00808122,  0.21245269, ..., -0.12429176,\n",
       "        -0.14826039, -0.13491141],\n",
       "       [-0.15248456, -0.00550824,  0.21245269, ..., -0.12429176,\n",
       "        -0.14826039, -0.13491141],\n",
       "       [-0.13130602,  0.00808122,  0.21245269, ..., -0.12429176,\n",
       "        -0.14826039, -0.13491141],\n",
       "       ...,\n",
       "       [-0.1524877 , -0.01230297,  0.21245269, ..., -0.12429176,\n",
       "        -0.14826039, -0.13491141],\n",
       "       [-0.1524872 , -0.01230297,  0.21245269, ..., -0.12429176,\n",
       "        -0.14826039, -0.13491141],\n",
       "       [-0.14469833,  0.00808122,  0.21245269, ..., -0.12429176,\n",
       "        -0.14826039, -0.13491141]])"
      ]
     },
     "execution_count": 15,
     "metadata": {},
     "output_type": "execute_result"
    }
   ],
   "source": [
    "from sklearn.preprocessing import StandardScaler\n",
    "standardScaler = StandardScaler()\n",
    "X= standardScaler.fit_transform(X)\n",
    "X"
   ]
  },
  {
   "cell_type": "code",
   "execution_count": 16,
   "id": "d8411c4b",
   "metadata": {},
   "outputs": [
    {
     "data": {
      "text/plain": [
       "(19639360, 77, 1)"
      ]
     },
     "execution_count": 16,
     "metadata": {},
     "output_type": "execute_result"
    }
   ],
   "source": [
    "from keras.utils import np_utils\n",
    "X=np.expand_dims(X,axis=2)\n",
    "X.shape"
   ]
  },
  {
   "cell_type": "code",
   "execution_count": 17,
   "id": "76b4b1de",
   "metadata": {},
   "outputs": [],
   "source": [
    "from sklearn.model_selection import train_test_split\n",
    "X_train, X_test, Y_train, Y_test = train_test_split(X, y, test_size = 0.33, random_state = 42)"
   ]
  },
  {
   "cell_type": "markdown",
   "id": "3101de1f",
   "metadata": {},
   "source": [
    "# No Freeze"
   ]
  },
  {
   "cell_type": "code",
   "execution_count": 18,
   "id": "f752b912",
   "metadata": {},
   "outputs": [],
   "source": [
    "from tensorflow import keras\n",
    "model = keras.models.load_model('Dos_8output.h5')"
   ]
  },
  {
   "cell_type": "code",
   "execution_count": 19,
   "id": "20206184",
   "metadata": {},
   "outputs": [
    {
     "name": "stdout",
     "output_type": "stream",
     "text": [
      "Timer Begin\n",
      "Epoch 1/5\n",
      "438613/438613 [==============================] - 2875s 7ms/step - loss: 0.1181 - accuracy: 0.9712\n",
      "Epoch 2/5\n",
      "438613/438613 [==============================] - 3348s 8ms/step - loss: 0.1142 - accuracy: 0.9730\n",
      "Epoch 3/5\n",
      "438613/438613 [==============================] - 3852s 9ms/step - loss: 0.1225 - accuracy: 0.9727\n",
      "Epoch 4/5\n",
      "438613/438613 [==============================] - 4164s 9ms/step - loss: 0.1292 - accuracy: 0.9730\n",
      "14284.227603435516\n"
     ]
    }
   ],
   "source": [
    "from keras.callbacks import EarlyStopping\n",
    "import time\n",
    "\n",
    "start = time.time()\n",
    "print(\"Timer Begin\")\n",
    "\n",
    "model.fit(X_train,Y_train,batch_size=30,epochs=5,\n",
    "          validation_split=0, callbacks=[EarlyStopping(monitor='loss',patience=2)])\n",
    "\n",
    "end = time.time()\n",
    "print(end - start)"
   ]
  },
  {
   "cell_type": "code",
   "execution_count": 20,
   "id": "7d1c2a31",
   "metadata": {},
   "outputs": [],
   "source": [
    "y_pred = model.predict(X_test)\n",
    "y_pred = y_pred.argmax(axis = 1)"
   ]
  },
  {
   "cell_type": "code",
   "execution_count": 21,
   "id": "fec59c6a",
   "metadata": {},
   "outputs": [],
   "source": [
    "from sklearn.metrics import accuracy_score\n",
    "from sklearn.metrics import classification_report\n",
    "from sklearn.metrics import confusion_matrix"
   ]
  },
  {
   "cell_type": "code",
   "execution_count": 22,
   "id": "9f94f848",
   "metadata": {},
   "outputs": [
    {
     "name": "stdout",
     "output_type": "stream",
     "text": [
      "[[  17210      20       0      87       0       3       0       0]\n",
      " [    148 1204178     271      20    2792       4       0       0]\n",
      " [    152      23 1837540      37   29373   42269       0       0]\n",
      " [    870      13    1464 1411145     235       7       0       3]\n",
      " [     17     105   24883       8 1213729      73       0       0]\n",
      " [    105      23    7177      42       0  625442       0       0]\n",
      " [    118   60921     259      63     157       2       0       1]\n",
      " [      0       0       0       0       0       0       0       0]]\n"
     ]
    }
   ],
   "source": [
    "rf_conf_mat = confusion_matrix(Y_test, y_pred)\n",
    "print(rf_conf_mat)"
   ]
  },
  {
   "cell_type": "code",
   "execution_count": 23,
   "id": "0a44d7eb",
   "metadata": {},
   "outputs": [
    {
     "name": "stderr",
     "output_type": "stream",
     "text": [
      "C:\\Users\\LabUser\\anaconda3\\lib\\site-packages\\sklearn\\metrics\\_classification.py:1248: UndefinedMetricWarning: Precision and F-score are ill-defined and being set to 0.0 in labels with no predicted samples. Use `zero_division` parameter to control this behavior.\n",
      "  _warn_prf(average, modifier, msg_start, len(result))\n",
      "C:\\Users\\LabUser\\anaconda3\\lib\\site-packages\\sklearn\\metrics\\_classification.py:1248: UndefinedMetricWarning: Recall and F-score are ill-defined and being set to 0.0 in labels with no true samples. Use `zero_division` parameter to control this behavior.\n",
      "  _warn_prf(average, modifier, msg_start, len(result))\n",
      "C:\\Users\\LabUser\\anaconda3\\lib\\site-packages\\sklearn\\metrics\\_classification.py:1248: UndefinedMetricWarning: Precision and F-score are ill-defined and being set to 0.0 in labels with no predicted samples. Use `zero_division` parameter to control this behavior.\n",
      "  _warn_prf(average, modifier, msg_start, len(result))\n",
      "C:\\Users\\LabUser\\anaconda3\\lib\\site-packages\\sklearn\\metrics\\_classification.py:1248: UndefinedMetricWarning: Recall and F-score are ill-defined and being set to 0.0 in labels with no true samples. Use `zero_division` parameter to control this behavior.\n",
      "  _warn_prf(average, modifier, msg_start, len(result))\n"
     ]
    },
    {
     "name": "stdout",
     "output_type": "stream",
     "text": [
      "              precision    recall  f1-score   support\n",
      "\n",
      "           0       0.92      0.99      0.96     17320\n",
      "           1       0.95      1.00      0.97   1207413\n",
      "           2       0.98      0.96      0.97   1909394\n",
      "           3       1.00      1.00      1.00   1413737\n",
      "           4       0.97      0.98      0.98   1238815\n",
      "           5       0.94      0.99      0.96    632789\n",
      "           6       0.00      0.00      0.00     61521\n",
      "           7       0.00      0.00      0.00         0\n",
      "\n",
      "    accuracy                           0.97   6480989\n",
      "   macro avg       0.72      0.74      0.73   6480989\n",
      "weighted avg       0.96      0.97      0.97   6480989\n",
      "\n"
     ]
    },
    {
     "name": "stderr",
     "output_type": "stream",
     "text": [
      "C:\\Users\\LabUser\\anaconda3\\lib\\site-packages\\sklearn\\metrics\\_classification.py:1248: UndefinedMetricWarning: Precision and F-score are ill-defined and being set to 0.0 in labels with no predicted samples. Use `zero_division` parameter to control this behavior.\n",
      "  _warn_prf(average, modifier, msg_start, len(result))\n",
      "C:\\Users\\LabUser\\anaconda3\\lib\\site-packages\\sklearn\\metrics\\_classification.py:1248: UndefinedMetricWarning: Recall and F-score are ill-defined and being set to 0.0 in labels with no true samples. Use `zero_division` parameter to control this behavior.\n",
      "  _warn_prf(average, modifier, msg_start, len(result))\n"
     ]
    }
   ],
   "source": [
    "CR = classification_report(Y_test,y_pred)\n",
    "print(CR)"
   ]
  },
  {
   "cell_type": "code",
   "execution_count": null,
   "id": "9831e59d",
   "metadata": {},
   "outputs": [],
   "source": []
  },
  {
   "cell_type": "markdown",
   "id": "e58f6add",
   "metadata": {},
   "source": [
    "# Freeze the first layer"
   ]
  },
  {
   "cell_type": "code",
   "execution_count": 24,
   "id": "2748fa0f",
   "metadata": {},
   "outputs": [],
   "source": [
    "model = keras.models.load_model('Dos_8output.h5')"
   ]
  },
  {
   "cell_type": "code",
   "execution_count": 25,
   "id": "abd4e9dc",
   "metadata": {},
   "outputs": [],
   "source": [
    "model.layers[0].trainable = False"
   ]
  },
  {
   "cell_type": "code",
   "execution_count": 26,
   "id": "0e9255c0",
   "metadata": {},
   "outputs": [
    {
     "name": "stdout",
     "output_type": "stream",
     "text": [
      "Timer Begin\n",
      "Epoch 1/5\n",
      "438613/438613 [==============================] - 4820s 11ms/step - loss: 0.1172 - accuracy: 0.9713\n",
      "Epoch 2/5\n",
      "438613/438613 [==============================] - 5338s 12ms/step - loss: 0.1160 - accuracy: 0.9731\n",
      "Epoch 3/5\n",
      "438613/438613 [==============================] - 6480s 15ms/step - loss: 0.1166 - accuracy: 0.9729\n",
      "Epoch 4/5\n",
      "438613/438613 [==============================] - 6498s 15ms/step - loss: 0.1168 - accuracy: 0.9730\n",
      "23175.89872288704\n"
     ]
    }
   ],
   "source": [
    "from keras.callbacks import EarlyStopping\n",
    "import time\n",
    "\n",
    "start = time.time()\n",
    "print(\"Timer Begin\")\n",
    "\n",
    "model.fit(X_train,Y_train,batch_size=30,epochs=5,\n",
    "          validation_split=0, callbacks=[EarlyStopping(monitor='loss',patience=2)])\n",
    "\n",
    "end = time.time()\n",
    "print(end - start)"
   ]
  },
  {
   "cell_type": "code",
   "execution_count": 27,
   "id": "7ef15ec9",
   "metadata": {},
   "outputs": [],
   "source": [
    "y_pred = model.predict(X_test)\n",
    "y_pred = y_pred.argmax(axis = 1)"
   ]
  },
  {
   "cell_type": "code",
   "execution_count": 28,
   "id": "a58e1c97",
   "metadata": {},
   "outputs": [
    {
     "name": "stdout",
     "output_type": "stream",
     "text": [
      "[[  17202      23       0      95       0       0       0]\n",
      " [    557 1203803     270      22    2761       0       0]\n",
      " [    162      21 1836463      40   31282   41426       0]\n",
      " [    817      13    1464 1411208     235       0       0]\n",
      " [     17     109   24232       8 1214449       0       0]\n",
      " [    126       1   10449      43       4  622166       0]\n",
      " [    150   60892     259      63     157       0       0]]\n"
     ]
    }
   ],
   "source": [
    "rf_conf_mat = confusion_matrix(Y_test, y_pred)\n",
    "print(rf_conf_mat)"
   ]
  },
  {
   "cell_type": "code",
   "execution_count": 29,
   "id": "d2ac3b28",
   "metadata": {},
   "outputs": [
    {
     "name": "stderr",
     "output_type": "stream",
     "text": [
      "C:\\Users\\LabUser\\anaconda3\\lib\\site-packages\\sklearn\\metrics\\_classification.py:1248: UndefinedMetricWarning: Precision and F-score are ill-defined and being set to 0.0 in labels with no predicted samples. Use `zero_division` parameter to control this behavior.\n",
      "  _warn_prf(average, modifier, msg_start, len(result))\n",
      "C:\\Users\\LabUser\\anaconda3\\lib\\site-packages\\sklearn\\metrics\\_classification.py:1248: UndefinedMetricWarning: Precision and F-score are ill-defined and being set to 0.0 in labels with no predicted samples. Use `zero_division` parameter to control this behavior.\n",
      "  _warn_prf(average, modifier, msg_start, len(result))\n"
     ]
    },
    {
     "name": "stdout",
     "output_type": "stream",
     "text": [
      "              precision    recall  f1-score   support\n",
      "\n",
      "           0       0.90      0.99      0.95     17320\n",
      "           1       0.95      1.00      0.97   1207413\n",
      "           2       0.98      0.96      0.97   1909394\n",
      "           3       1.00      1.00      1.00   1413737\n",
      "           4       0.97      0.98      0.98   1238815\n",
      "           5       0.94      0.98      0.96    632789\n",
      "           6       0.00      0.00      0.00     61521\n",
      "\n",
      "    accuracy                           0.97   6480989\n",
      "   macro avg       0.82      0.84      0.83   6480989\n",
      "weighted avg       0.96      0.97      0.97   6480989\n",
      "\n"
     ]
    },
    {
     "name": "stderr",
     "output_type": "stream",
     "text": [
      "C:\\Users\\LabUser\\anaconda3\\lib\\site-packages\\sklearn\\metrics\\_classification.py:1248: UndefinedMetricWarning: Precision and F-score are ill-defined and being set to 0.0 in labels with no predicted samples. Use `zero_division` parameter to control this behavior.\n",
      "  _warn_prf(average, modifier, msg_start, len(result))\n"
     ]
    }
   ],
   "source": [
    "CR = classification_report(Y_test,y_pred)\n",
    "print(CR)"
   ]
  },
  {
   "cell_type": "markdown",
   "id": "55f4f7dd",
   "metadata": {},
   "source": [
    "# Freeze first two layers"
   ]
  },
  {
   "cell_type": "code",
   "execution_count": 30,
   "id": "33220151",
   "metadata": {},
   "outputs": [],
   "source": [
    "model = keras.models.load_model('Dos_8output.h5')"
   ]
  },
  {
   "cell_type": "code",
   "execution_count": 31,
   "id": "469b71e7",
   "metadata": {},
   "outputs": [],
   "source": [
    "model.layers[0].trainable = False\n",
    "model.layers[1].trainable = False"
   ]
  },
  {
   "cell_type": "code",
   "execution_count": 32,
   "id": "83106bb1",
   "metadata": {},
   "outputs": [
    {
     "name": "stdout",
     "output_type": "stream",
     "text": [
      "Timer Begin\n",
      "Epoch 1/5\n",
      "438613/438613 [==============================] - 5989s 14ms/step - loss: 0.1188 - accuracy: 0.9713\n",
      "Epoch 2/5\n",
      "438613/438613 [==============================] - 6395s 15ms/step - loss: 0.1171 - accuracy: 0.9731\n",
      "Epoch 3/5\n",
      "438613/438613 [==============================] - 6623s 15ms/step - loss: 0.1198 - accuracy: 0.9731\n",
      "Epoch 4/5\n",
      "438613/438613 [==============================] - 6628s 15ms/step - loss: 0.1244 - accuracy: 0.9729\n",
      "25678.278839111328\n"
     ]
    }
   ],
   "source": [
    "from keras.callbacks import EarlyStopping\n",
    "import time\n",
    "\n",
    "start = time.time()\n",
    "print(\"Timer Begin\")\n",
    "\n",
    "model.fit(X_train,Y_train,batch_size=30,epochs=5,\n",
    "          validation_split=0, callbacks=[EarlyStopping(monitor='loss',patience=2)])\n",
    "\n",
    "end = time.time()\n",
    "print(end - start)"
   ]
  },
  {
   "cell_type": "code",
   "execution_count": 33,
   "id": "2b4d987d",
   "metadata": {},
   "outputs": [],
   "source": [
    "model.save('trans_DDtoD_2.h5')"
   ]
  },
  {
   "cell_type": "code",
   "execution_count": 34,
   "id": "4e35ea3b",
   "metadata": {},
   "outputs": [],
   "source": [
    "y_pred = model.predict(X_test)\n",
    "y_pred = y_pred.argmax(axis=1)"
   ]
  },
  {
   "cell_type": "code",
   "execution_count": 35,
   "id": "310cf1ab",
   "metadata": {},
   "outputs": [
    {
     "name": "stdout",
     "output_type": "stream",
     "text": [
      "Transfer learning confusion matrix: \n",
      " [[  16772     314       9     224       0       1       0]\n",
      " [     30 1205082     270      21    2010       0       0]\n",
      " [     86      96 1834402      39   31140   43631       0]\n",
      " [    729      97    1465 1411211     235       0       0]\n",
      " [      7     128   24196       8 1214476       0       0]\n",
      " [     23     105    6761      42       4  625854       0]\n",
      " [     39   61053     259      68     102       0       0]]\n"
     ]
    }
   ],
   "source": [
    "rf_conf_mat = confusion_matrix(Y_test, y_pred)\n",
    "print(\"Transfer learning confusion matrix: \\n\", rf_conf_mat)"
   ]
  },
  {
   "cell_type": "code",
   "execution_count": 36,
   "id": "91843585",
   "metadata": {},
   "outputs": [
    {
     "name": "stderr",
     "output_type": "stream",
     "text": [
      "C:\\Users\\LabUser\\anaconda3\\lib\\site-packages\\sklearn\\metrics\\_classification.py:1248: UndefinedMetricWarning: Precision and F-score are ill-defined and being set to 0.0 in labels with no predicted samples. Use `zero_division` parameter to control this behavior.\n",
      "  _warn_prf(average, modifier, msg_start, len(result))\n",
      "C:\\Users\\LabUser\\anaconda3\\lib\\site-packages\\sklearn\\metrics\\_classification.py:1248: UndefinedMetricWarning: Precision and F-score are ill-defined and being set to 0.0 in labels with no predicted samples. Use `zero_division` parameter to control this behavior.\n",
      "  _warn_prf(average, modifier, msg_start, len(result))\n"
     ]
    },
    {
     "name": "stdout",
     "output_type": "stream",
     "text": [
      "              precision    recall  f1-score   support\n",
      "\n",
      "           0       0.95      0.97      0.96     17320\n",
      "           1       0.95      1.00      0.97   1207413\n",
      "           2       0.98      0.96      0.97   1909394\n",
      "           3       1.00      1.00      1.00   1413737\n",
      "           4       0.97      0.98      0.98   1238815\n",
      "           5       0.93      0.99      0.96    632789\n",
      "           6       0.00      0.00      0.00     61521\n",
      "\n",
      "    accuracy                           0.97   6480989\n",
      "   macro avg       0.83      0.84      0.83   6480989\n",
      "weighted avg       0.96      0.97      0.97   6480989\n",
      "\n"
     ]
    },
    {
     "name": "stderr",
     "output_type": "stream",
     "text": [
      "C:\\Users\\LabUser\\anaconda3\\lib\\site-packages\\sklearn\\metrics\\_classification.py:1248: UndefinedMetricWarning: Precision and F-score are ill-defined and being set to 0.0 in labels with no predicted samples. Use `zero_division` parameter to control this behavior.\n",
      "  _warn_prf(average, modifier, msg_start, len(result))\n"
     ]
    }
   ],
   "source": [
    "CR = classification_report(Y_test,y_pred)\n",
    "print(CR)"
   ]
  },
  {
   "cell_type": "markdown",
   "id": "52ccbec0",
   "metadata": {},
   "source": [
    "# Freeze first three Layers"
   ]
  },
  {
   "cell_type": "code",
   "execution_count": 37,
   "id": "0f7daf65",
   "metadata": {},
   "outputs": [],
   "source": [
    "model = keras.models.load_model('Dos_8output.h5')"
   ]
  },
  {
   "cell_type": "code",
   "execution_count": 38,
   "id": "76b2e80e",
   "metadata": {},
   "outputs": [],
   "source": [
    "model.layers[0].trainable = False\n",
    "model.layers[1].trainable = False\n",
    "model.layers[2].trainable = False"
   ]
  },
  {
   "cell_type": "code",
   "execution_count": 39,
   "id": "a90469dc",
   "metadata": {},
   "outputs": [
    {
     "name": "stdout",
     "output_type": "stream",
     "text": [
      "Timer Begin\n",
      "Epoch 1/5\n",
      "438613/438613 [==============================] - 6142s 14ms/step - loss: 0.1183 - accuracy: 0.9712\n",
      "Epoch 2/5\n",
      "438613/438613 [==============================] - 6503s 15ms/step - loss: 0.1147 - accuracy: 0.9728\n",
      "Epoch 3/5\n",
      "438613/438613 [==============================] - 6613s 15ms/step - loss: 0.1398 - accuracy: 0.9727\n",
      "Epoch 4/5\n",
      "438613/438613 [==============================] - 6570s 15ms/step - loss: 0.1378 - accuracy: 0.9728\n",
      "25872.663601398468\n"
     ]
    }
   ],
   "source": [
    "from keras.callbacks import EarlyStopping\n",
    "import time\n",
    "\n",
    "start = time.time()\n",
    "print(\"Timer Begin\")\n",
    "\n",
    "model.fit(X_train,Y_train,batch_size=30,epochs=5,\n",
    "          validation_split=0, callbacks=[EarlyStopping(monitor='loss',patience=2)])\n",
    "\n",
    "end = time.time()\n",
    "print(end - start)"
   ]
  },
  {
   "cell_type": "code",
   "execution_count": 40,
   "id": "d163b69a",
   "metadata": {},
   "outputs": [],
   "source": [
    "model.save('trans_DDtoD_3.h5')"
   ]
  },
  {
   "cell_type": "code",
   "execution_count": 41,
   "id": "9220b17f",
   "metadata": {},
   "outputs": [],
   "source": [
    "y_pred = model.predict(X_test)\n",
    "y_pred = y_pred.argmax(axis=1)"
   ]
  },
  {
   "cell_type": "code",
   "execution_count": 42,
   "id": "c03e22e0",
   "metadata": {},
   "outputs": [
    {
     "name": "stdout",
     "output_type": "stream",
     "text": [
      "Transfer learning confusion matrix: \n",
      " [[  16970     115       0     235       0       0       0]\n",
      " [     56 1205352     270      22    1713       0       0]\n",
      " [    107      74 1851079      42   16759   41333       0]\n",
      " [    652     136    1485 1411250     214       0       0]\n",
      " [      9     132   25079       8 1213587       0       0]\n",
      " [     19     101    7635      50       1  624983       0]\n",
      " [     47   61062     259      66      87       0       0]]\n"
     ]
    }
   ],
   "source": [
    "rf_conf_mat = confusion_matrix(Y_test, y_pred)\n",
    "print(\"Transfer learning confusion matrix: \\n\", rf_conf_mat)"
   ]
  },
  {
   "cell_type": "code",
   "execution_count": 43,
   "id": "b7c93704",
   "metadata": {},
   "outputs": [
    {
     "name": "stderr",
     "output_type": "stream",
     "text": [
      "C:\\Users\\LabUser\\anaconda3\\lib\\site-packages\\sklearn\\metrics\\_classification.py:1248: UndefinedMetricWarning: Precision and F-score are ill-defined and being set to 0.0 in labels with no predicted samples. Use `zero_division` parameter to control this behavior.\n",
      "  _warn_prf(average, modifier, msg_start, len(result))\n",
      "C:\\Users\\LabUser\\anaconda3\\lib\\site-packages\\sklearn\\metrics\\_classification.py:1248: UndefinedMetricWarning: Precision and F-score are ill-defined and being set to 0.0 in labels with no predicted samples. Use `zero_division` parameter to control this behavior.\n",
      "  _warn_prf(average, modifier, msg_start, len(result))\n"
     ]
    },
    {
     "name": "stdout",
     "output_type": "stream",
     "text": [
      "              precision    recall  f1-score   support\n",
      "\n",
      "           0       0.95      0.98      0.96     17320\n",
      "           1       0.95      1.00      0.97   1207413\n",
      "           2       0.98      0.97      0.98   1909394\n",
      "           3       1.00      1.00      1.00   1413737\n",
      "           4       0.98      0.98      0.98   1238815\n",
      "           5       0.94      0.99      0.96    632789\n",
      "           6       0.00      0.00      0.00     61521\n",
      "\n",
      "    accuracy                           0.98   6480989\n",
      "   macro avg       0.83      0.84      0.84   6480989\n",
      "weighted avg       0.97      0.98      0.97   6480989\n",
      "\n"
     ]
    },
    {
     "name": "stderr",
     "output_type": "stream",
     "text": [
      "C:\\Users\\LabUser\\anaconda3\\lib\\site-packages\\sklearn\\metrics\\_classification.py:1248: UndefinedMetricWarning: Precision and F-score are ill-defined and being set to 0.0 in labels with no predicted samples. Use `zero_division` parameter to control this behavior.\n",
      "  _warn_prf(average, modifier, msg_start, len(result))\n"
     ]
    }
   ],
   "source": [
    "CR = classification_report(Y_test,y_pred)\n",
    "print(CR)"
   ]
  },
  {
   "cell_type": "markdown",
   "id": "15ca7f45",
   "metadata": {},
   "source": [
    "# Freeze the first four Layers"
   ]
  },
  {
   "cell_type": "code",
   "execution_count": 44,
   "id": "c9e8f4d7",
   "metadata": {},
   "outputs": [],
   "source": [
    "model = keras.models.load_model('Dos_8output.h5')"
   ]
  },
  {
   "cell_type": "code",
   "execution_count": 45,
   "id": "8f8a5287",
   "metadata": {},
   "outputs": [],
   "source": [
    "model.layers[0].trainable = False\n",
    "model.layers[1].trainable = False\n",
    "model.layers[2].trainable = False\n",
    "model.layers[3].trainable = False"
   ]
  },
  {
   "cell_type": "code",
   "execution_count": 46,
   "id": "474c9479",
   "metadata": {},
   "outputs": [
    {
     "name": "stdout",
     "output_type": "stream",
     "text": [
      "Timer Begin\n",
      "Epoch 1/5\n",
      "438613/438613 [==============================] - 6069s 14ms/step - loss: 0.1170 - accuracy: 0.9713\n",
      "Epoch 2/5\n",
      "438613/438613 [==============================] - 6434s 15ms/step - loss: 0.1152 - accuracy: 0.9729\n",
      "Epoch 3/5\n",
      "438613/438613 [==============================] - 6591s 15ms/step - loss: 0.1166 - accuracy: 0.9728\n",
      "Epoch 4/5\n",
      "438613/438613 [==============================] - 6660s 15ms/step - loss: 0.1280 - accuracy: 0.9727\n",
      "25796.754292964935\n"
     ]
    }
   ],
   "source": [
    "from keras.callbacks import EarlyStopping\n",
    "import time\n",
    "\n",
    "start = time.time()\n",
    "print(\"Timer Begin\")\n",
    "\n",
    "model.fit(X_train,Y_train,batch_size=30,epochs=5,\n",
    "          validation_split=0, callbacks=[EarlyStopping(monitor='loss',patience=2)])\n",
    "\n",
    "end = time.time()\n",
    "print(end - start)"
   ]
  },
  {
   "cell_type": "code",
   "execution_count": 47,
   "id": "38ef22be",
   "metadata": {},
   "outputs": [],
   "source": [
    "model.save('trans_DDtoD_4.h5')"
   ]
  },
  {
   "cell_type": "code",
   "execution_count": 48,
   "id": "f4a65e01",
   "metadata": {},
   "outputs": [],
   "source": [
    "y_pred = model.predict(X_test)\n",
    "y_pred = y_pred.argmax(axis=1)"
   ]
  },
  {
   "cell_type": "code",
   "execution_count": 49,
   "id": "c7f17e62",
   "metadata": {},
   "outputs": [
    {
     "name": "stdout",
     "output_type": "stream",
     "text": [
      "Transfer learning confusion matrix: \n",
      " [[  17274      24       0      17       1       4       0]\n",
      " [    333 1204964     270      95    1751       0       0]\n",
      " [    149      24 1853585      38   14754   40844       0]\n",
      " [   1105      13    1485 1410920     214       0       0]\n",
      " [     15     164   27708      10 1210917       1       0]\n",
      " [    135       1   15802      34       3  616814       0]\n",
      " [     84   60963     260     125      89       0       0]]\n"
     ]
    }
   ],
   "source": [
    "rf_conf_mat = confusion_matrix(Y_test, y_pred)\n",
    "print(\"Transfer learning confusion matrix: \\n\", rf_conf_mat)"
   ]
  },
  {
   "cell_type": "code",
   "execution_count": 50,
   "id": "9382807b",
   "metadata": {},
   "outputs": [
    {
     "name": "stderr",
     "output_type": "stream",
     "text": [
      "C:\\Users\\LabUser\\anaconda3\\lib\\site-packages\\sklearn\\metrics\\_classification.py:1248: UndefinedMetricWarning: Precision and F-score are ill-defined and being set to 0.0 in labels with no predicted samples. Use `zero_division` parameter to control this behavior.\n",
      "  _warn_prf(average, modifier, msg_start, len(result))\n",
      "C:\\Users\\LabUser\\anaconda3\\lib\\site-packages\\sklearn\\metrics\\_classification.py:1248: UndefinedMetricWarning: Precision and F-score are ill-defined and being set to 0.0 in labels with no predicted samples. Use `zero_division` parameter to control this behavior.\n",
      "  _warn_prf(average, modifier, msg_start, len(result))\n"
     ]
    },
    {
     "name": "stdout",
     "output_type": "stream",
     "text": [
      "              precision    recall  f1-score   support\n",
      "\n",
      "           0       0.90      1.00      0.95     17320\n",
      "           1       0.95      1.00      0.97   1207413\n",
      "           2       0.98      0.97      0.97   1909394\n",
      "           3       1.00      1.00      1.00   1413737\n",
      "           4       0.99      0.98      0.98   1238815\n",
      "           5       0.94      0.97      0.96    632789\n",
      "           6       0.00      0.00      0.00     61521\n",
      "\n",
      "    accuracy                           0.97   6480989\n",
      "   macro avg       0.82      0.85      0.83   6480989\n",
      "weighted avg       0.97      0.97      0.97   6480989\n",
      "\n"
     ]
    },
    {
     "name": "stderr",
     "output_type": "stream",
     "text": [
      "C:\\Users\\LabUser\\anaconda3\\lib\\site-packages\\sklearn\\metrics\\_classification.py:1248: UndefinedMetricWarning: Precision and F-score are ill-defined and being set to 0.0 in labels with no predicted samples. Use `zero_division` parameter to control this behavior.\n",
      "  _warn_prf(average, modifier, msg_start, len(result))\n"
     ]
    }
   ],
   "source": [
    "CR = classification_report(Y_test,y_pred)\n",
    "print(CR)"
   ]
  },
  {
   "cell_type": "markdown",
   "id": "3229fe3e",
   "metadata": {},
   "source": [
    "# Freeze the first five layers"
   ]
  },
  {
   "cell_type": "code",
   "execution_count": 51,
   "id": "0b06e8e6",
   "metadata": {},
   "outputs": [],
   "source": [
    "model = keras.models.load_model('Dos_8output.h5')"
   ]
  },
  {
   "cell_type": "code",
   "execution_count": 52,
   "id": "2a366ba8",
   "metadata": {},
   "outputs": [],
   "source": [
    "model.layers[0].trainable = False\n",
    "model.layers[1].trainable = False\n",
    "model.layers[2].trainable = False\n",
    "model.layers[3].trainable = False\n",
    "model.layers[4].trainable = False"
   ]
  },
  {
   "cell_type": "code",
   "execution_count": 53,
   "id": "bcb50c86",
   "metadata": {},
   "outputs": [
    {
     "name": "stdout",
     "output_type": "stream",
     "text": [
      "Timer Begin\n",
      "Epoch 1/5\n",
      "438613/438613 [==============================] - 6426s 15ms/step - loss: 0.1192 - accuracy: 0.9714\n",
      "Epoch 2/5\n",
      "438613/438613 [==============================] - 6756s 15ms/step - loss: 0.1175 - accuracy: 0.9730\n",
      "Epoch 3/5\n",
      "438613/438613 [==============================] - 6945s 16ms/step - loss: 0.1167 - accuracy: 0.9729\n",
      "Epoch 4/5\n",
      "438613/438613 [==============================] - 6959s 16ms/step - loss: 0.1205 - accuracy: 0.9725\n",
      "Epoch 5/5\n",
      "438613/438613 [==============================] - 6980s 16ms/step - loss: 0.1352 - accuracy: 0.9725\n",
      "34114.13438081741\n"
     ]
    }
   ],
   "source": [
    "from keras.callbacks import EarlyStopping\n",
    "import time\n",
    "\n",
    "start = time.time()\n",
    "print(\"Timer Begin\")\n",
    "\n",
    "model.fit(X_train,Y_train,batch_size=30,epochs=5,\n",
    "          validation_split=0, callbacks=[EarlyStopping(monitor='loss',patience=2)])\n",
    "\n",
    "end = time.time()\n",
    "print(end - start)"
   ]
  },
  {
   "cell_type": "code",
   "execution_count": 54,
   "id": "8459b129",
   "metadata": {},
   "outputs": [],
   "source": [
    "model.save('trans_DDtoD_5.h5')"
   ]
  },
  {
   "cell_type": "code",
   "execution_count": 55,
   "id": "8db5a726",
   "metadata": {},
   "outputs": [],
   "source": [
    "y_pred = model.predict(X_test)\n",
    "y_pred = y_pred.argmax(axis=1)"
   ]
  },
  {
   "cell_type": "code",
   "execution_count": 56,
   "id": "f928e84a",
   "metadata": {},
   "outputs": [
    {
     "name": "stdout",
     "output_type": "stream",
     "text": [
      "Transfer learning confusion matrix: \n",
      " [[  17049      18       0     251       2       0       0]\n",
      " [    610 1204577     270      17    1939       0       0]\n",
      " [    187       8 1846166      28   20599   42406       0]\n",
      " [    980      13    1471 1411042     231       0       0]\n",
      " [     18      97   24920       7 1213773       0       0]\n",
      " [    130       0    6859      40       3  625757       0]\n",
      " [    157   60945     261      60      98       0       0]]\n"
     ]
    }
   ],
   "source": [
    "rf_conf_mat = confusion_matrix(Y_test, y_pred)\n",
    "print(\"Transfer learning confusion matrix: \\n\", rf_conf_mat)"
   ]
  },
  {
   "cell_type": "code",
   "execution_count": 57,
   "id": "2acefb87",
   "metadata": {},
   "outputs": [
    {
     "name": "stderr",
     "output_type": "stream",
     "text": [
      "C:\\Users\\LabUser\\anaconda3\\lib\\site-packages\\sklearn\\metrics\\_classification.py:1248: UndefinedMetricWarning: Precision and F-score are ill-defined and being set to 0.0 in labels with no predicted samples. Use `zero_division` parameter to control this behavior.\n",
      "  _warn_prf(average, modifier, msg_start, len(result))\n",
      "C:\\Users\\LabUser\\anaconda3\\lib\\site-packages\\sklearn\\metrics\\_classification.py:1248: UndefinedMetricWarning: Precision and F-score are ill-defined and being set to 0.0 in labels with no predicted samples. Use `zero_division` parameter to control this behavior.\n",
      "  _warn_prf(average, modifier, msg_start, len(result))\n"
     ]
    },
    {
     "name": "stdout",
     "output_type": "stream",
     "text": [
      "              precision    recall  f1-score   support\n",
      "\n",
      "           0       0.89      0.98      0.94     17320\n",
      "           1       0.95      1.00      0.97   1207413\n",
      "           2       0.98      0.97      0.97   1909394\n",
      "           3       1.00      1.00      1.00   1413737\n",
      "           4       0.98      0.98      0.98   1238815\n",
      "           5       0.94      0.99      0.96    632789\n",
      "           6       0.00      0.00      0.00     61521\n",
      "\n",
      "    accuracy                           0.97   6480989\n",
      "   macro avg       0.82      0.85      0.83   6480989\n",
      "weighted avg       0.97      0.97      0.97   6480989\n",
      "\n"
     ]
    },
    {
     "name": "stderr",
     "output_type": "stream",
     "text": [
      "C:\\Users\\LabUser\\anaconda3\\lib\\site-packages\\sklearn\\metrics\\_classification.py:1248: UndefinedMetricWarning: Precision and F-score are ill-defined and being set to 0.0 in labels with no predicted samples. Use `zero_division` parameter to control this behavior.\n",
      "  _warn_prf(average, modifier, msg_start, len(result))\n"
     ]
    }
   ],
   "source": [
    "CR = classification_report(Y_test,y_pred)\n",
    "print(CR)"
   ]
  },
  {
   "cell_type": "code",
   "execution_count": null,
   "id": "5e817a08",
   "metadata": {},
   "outputs": [],
   "source": []
  },
  {
   "cell_type": "code",
   "execution_count": null,
   "id": "8a7ae10a",
   "metadata": {},
   "outputs": [],
   "source": []
  },
  {
   "cell_type": "code",
   "execution_count": null,
   "id": "fe7cee0a",
   "metadata": {},
   "outputs": [],
   "source": []
  },
  {
   "cell_type": "code",
   "execution_count": null,
   "id": "614a4086",
   "metadata": {},
   "outputs": [],
   "source": []
  }
 ],
 "metadata": {
  "kernelspec": {
   "display_name": "Python 3 (ipykernel)",
   "language": "python",
   "name": "python3"
  },
  "language_info": {
   "codemirror_mode": {
    "name": "ipython",
    "version": 3
   },
   "file_extension": ".py",
   "mimetype": "text/x-python",
   "name": "python",
   "nbconvert_exporter": "python",
   "pygments_lexer": "ipython3",
   "version": "3.9.7"
  }
 },
 "nbformat": 4,
 "nbformat_minor": 5
}

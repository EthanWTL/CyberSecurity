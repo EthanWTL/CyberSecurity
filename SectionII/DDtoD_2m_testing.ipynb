{
 "cells": [
  {
   "cell_type": "code",
   "execution_count": 1,
   "id": "751ed058",
   "metadata": {},
   "outputs": [],
   "source": [
    "import numpy as np\n",
    "import pandas as pd"
   ]
  },
  {
   "cell_type": "code",
   "execution_count": null,
   "id": "89752e00",
   "metadata": {},
   "outputs": [],
   "source": [
    "part1 = pd.read_csv('X_test_2m.csv')\n",
    "part2 = pd.read_csv('DDos_17m.csv')"
   ]
  },
  {
   "cell_type": "code",
   "execution_count": null,
   "id": "3e8a7aa1",
   "metadata": {},
   "outputs": [],
   "source": [
    "data = pd.concat([part1,part2], ignore_index = True)"
   ]
  },
  {
   "cell_type": "code",
   "execution_count": null,
   "id": "5034aa19",
   "metadata": {},
   "outputs": [],
   "source": [
    "data.columns"
   ]
  },
  {
   "cell_type": "code",
   "execution_count": null,
   "id": "e2e83420",
   "metadata": {},
   "outputs": [],
   "source": [
    "data = data.drop(columns = [''])"
   ]
  },
  {
   "cell_type": "code",
   "execution_count": null,
   "id": "584fc22c",
   "metadata": {},
   "outputs": [],
   "source": [
    "X_train = pd.read_csv('X_train.csv')"
   ]
  },
  {
   "cell_type": "code",
   "execution_count": null,
   "id": "a02dd245",
   "metadata": {},
   "outputs": [],
   "source": [
    "X_train.columns"
   ]
  },
  {
   "cell_type": "code",
   "execution_count": null,
   "id": "07fc0733",
   "metadata": {},
   "outputs": [],
   "source": [
    "X_train = X_train.drop([''],axis = 1)"
   ]
  },
  {
   "cell_type": "code",
   "execution_count": null,
   "id": "c59cc109",
   "metadata": {},
   "outputs": [],
   "source": [
    "data[data['Label'] == 'BENIGN'] = 0\n",
    "data[data['Label'] == 'UDP'] = 3\n",
    "data[data['Label'] == 'LDAP'] = 1\n",
    "data[data['Label'] == 'Syn'] = 2\n",
    "data[data['Label'] == 'MSSQL'] = 4\n",
    "data[data['Label'] == 'Portmap'] = 5\n",
    "data[data['Label'] == 'NetBIOS'] = 6"
   ]
  },
  {
   "cell_type": "code",
   "execution_count": null,
   "id": "d06977b5",
   "metadata": {},
   "outputs": [],
   "source": [
    "cat_columns = data.select_dtypes(['object']).columns\n",
    "data[cat_columns] = data[cat_columns].astype('category')\n",
    "data[cat_columns] = data[cat_columns].apply(lambda x: x.cat.codes)"
   ]
  },
  {
   "cell_type": "code",
   "execution_count": null,
   "id": "17bc87e1",
   "metadata": {},
   "outputs": [],
   "source": [
    "X_test = data.drop(['Label'],axis = 1)\n",
    "Y_test = data['Label']"
   ]
  },
  {
   "cell_type": "code",
   "execution_count": null,
   "id": "7f3bd4af",
   "metadata": {},
   "outputs": [],
   "source": [
    "from sklearn.preprocessing import StandardScaler\n",
    "scaler = StandardScaler().fit(X_train)\n",
    "X_train = scaler.transform(X_train)\n",
    "X_test = scaler.transform(X_test)"
   ]
  },
  {
   "cell_type": "code",
   "execution_count": null,
   "id": "c8c954a4",
   "metadata": {},
   "outputs": [],
   "source": [
    "from keras.utils import np_utils\n",
    "X_train=np.expand_dims(X_train,axis=2)\n",
    "X_test=np.expand_dims(X_test,axis=2)\n",
    "X.shape"
   ]
  },
  {
   "cell_type": "markdown",
   "id": "8fdcd3ea",
   "metadata": {},
   "source": [
    "# no freeze"
   ]
  },
  {
   "cell_type": "code",
   "execution_count": null,
   "id": "8ad6f964",
   "metadata": {},
   "outputs": [],
   "source": [
    "from tensorflow import keras\n",
    "model = keras.models.load_model('TL_DDtoD_2m_0F_1e.h5')"
   ]
  },
  {
   "cell_type": "code",
   "execution_count": null,
   "id": "b805079c",
   "metadata": {},
   "outputs": [],
   "source": [
    "y_pred = model.predict(X_test)\n",
    "y_pred = y_pred.argmax(axis=1)"
   ]
  },
  {
   "cell_type": "code",
   "execution_count": null,
   "id": "13dad6d0",
   "metadata": {},
   "outputs": [],
   "source": [
    "rf_conf_mat = confusion_matrix(Y_test, y_pred)\n",
    "print(\"Transfer learning confusion matrix: \\n\", rf_conf_mat)"
   ]
  },
  {
   "cell_type": "code",
   "execution_count": null,
   "id": "acb6b595",
   "metadata": {},
   "outputs": [],
   "source": [
    "CR = classification_report(Y_test,y_pred, digits= 4)\n",
    "print(CR)"
   ]
  },
  {
   "cell_type": "code",
   "execution_count": null,
   "id": "b07c0e65",
   "metadata": {},
   "outputs": [],
   "source": []
  },
  {
   "cell_type": "code",
   "execution_count": null,
   "id": "9485d58e",
   "metadata": {},
   "outputs": [],
   "source": [
    "model = keras.models.load_model('TL_DDtoD_2m_0F_2e.h5')"
   ]
  },
  {
   "cell_type": "code",
   "execution_count": null,
   "id": "858b5f53",
   "metadata": {},
   "outputs": [],
   "source": [
    "y_pred = model.predict(X_test)\n",
    "y_pred = y_pred.argmax(axis=1)"
   ]
  },
  {
   "cell_type": "code",
   "execution_count": null,
   "id": "86c0e4db",
   "metadata": {},
   "outputs": [],
   "source": [
    "rf_conf_mat = confusion_matrix(Y_test, y_pred)\n",
    "print(\"Transfer learning confusion matrix: \\n\", rf_conf_mat)"
   ]
  },
  {
   "cell_type": "code",
   "execution_count": null,
   "id": "beeebde4",
   "metadata": {},
   "outputs": [],
   "source": [
    "CR = classification_report(Y_test,y_pred, digits= 4)\n",
    "print(CR)"
   ]
  },
  {
   "cell_type": "code",
   "execution_count": null,
   "id": "bc43c2fe",
   "metadata": {},
   "outputs": [],
   "source": []
  },
  {
   "cell_type": "code",
   "execution_count": null,
   "id": "65232786",
   "metadata": {},
   "outputs": [],
   "source": [
    "model = keras.models.load_model('TL_DDtoD_2m_0F_3e.h5')"
   ]
  },
  {
   "cell_type": "code",
   "execution_count": null,
   "id": "647889f1",
   "metadata": {},
   "outputs": [],
   "source": [
    "y_pred = model.predict(X_test)\n",
    "y_pred = y_pred.argmax(axis=1)"
   ]
  },
  {
   "cell_type": "code",
   "execution_count": null,
   "id": "ac642ea5",
   "metadata": {},
   "outputs": [],
   "source": [
    "rf_conf_mat = confusion_matrix(Y_test, y_pred)\n",
    "print(\"Transfer learning confusion matrix: \\n\", rf_conf_mat)"
   ]
  },
  {
   "cell_type": "code",
   "execution_count": null,
   "id": "ddd82248",
   "metadata": {},
   "outputs": [],
   "source": [
    "CR = classification_report(Y_test,y_pred, digits= 4)\n",
    "print(CR)"
   ]
  },
  {
   "cell_type": "code",
   "execution_count": null,
   "id": "79a0dac2",
   "metadata": {},
   "outputs": [],
   "source": []
  },
  {
   "cell_type": "markdown",
   "id": "819db798",
   "metadata": {},
   "source": [
    "# 1 layer freezed"
   ]
  },
  {
   "cell_type": "code",
   "execution_count": null,
   "id": "5b397ff1",
   "metadata": {},
   "outputs": [],
   "source": []
  },
  {
   "cell_type": "code",
   "execution_count": null,
   "id": "9c48039c",
   "metadata": {},
   "outputs": [],
   "source": [
    "from tensorflow import keras\n",
    "model = keras.models.load_model('TL_DDtoD_2m_1F_1e.h5')"
   ]
  },
  {
   "cell_type": "code",
   "execution_count": null,
   "id": "815ff84e",
   "metadata": {},
   "outputs": [],
   "source": [
    "y_pred = model.predict(X_test)\n",
    "y_pred = y_pred.argmax(axis=1)"
   ]
  },
  {
   "cell_type": "code",
   "execution_count": null,
   "id": "9dd35fea",
   "metadata": {},
   "outputs": [],
   "source": [
    "rf_conf_mat = confusion_matrix(Y_test, y_pred)\n",
    "print(\"Transfer learning confusion matrix: \\n\", rf_conf_mat)"
   ]
  },
  {
   "cell_type": "code",
   "execution_count": null,
   "id": "e8f0ff3e",
   "metadata": {},
   "outputs": [],
   "source": [
    "CR = classification_report(Y_test,y_pred, digits= 4)\n",
    "print(CR)"
   ]
  },
  {
   "cell_type": "code",
   "execution_count": null,
   "id": "06bad982",
   "metadata": {},
   "outputs": [],
   "source": []
  },
  {
   "cell_type": "code",
   "execution_count": null,
   "id": "bf7f7a9c",
   "metadata": {},
   "outputs": [],
   "source": [
    "model = keras.models.load_model('TL_DDtoD_2m_1F_2e.h5')"
   ]
  },
  {
   "cell_type": "code",
   "execution_count": null,
   "id": "dce37844",
   "metadata": {},
   "outputs": [],
   "source": [
    "y_pred = model.predict(X_test)\n",
    "y_pred = y_pred.argmax(axis=1)"
   ]
  },
  {
   "cell_type": "code",
   "execution_count": null,
   "id": "16aa48c9",
   "metadata": {},
   "outputs": [],
   "source": [
    "rf_conf_mat = confusion_matrix(Y_test, y_pred)\n",
    "print(\"Transfer learning confusion matrix: \\n\", rf_conf_mat)"
   ]
  },
  {
   "cell_type": "code",
   "execution_count": null,
   "id": "09e753d6",
   "metadata": {},
   "outputs": [],
   "source": [
    "CR = classification_report(Y_test,y_pred, digits= 4)\n",
    "print(CR)"
   ]
  },
  {
   "cell_type": "code",
   "execution_count": null,
   "id": "7e0195a4",
   "metadata": {},
   "outputs": [],
   "source": []
  },
  {
   "cell_type": "code",
   "execution_count": null,
   "id": "a67647f0",
   "metadata": {},
   "outputs": [],
   "source": [
    "model = keras.models.load_model('TL_DDtoD_2m_1F_3e.h5')"
   ]
  },
  {
   "cell_type": "code",
   "execution_count": null,
   "id": "9fbb3b18",
   "metadata": {},
   "outputs": [],
   "source": [
    "y_pred = model.predict(X_test)\n",
    "y_pred = y_pred.argmax(axis=1)"
   ]
  },
  {
   "cell_type": "code",
   "execution_count": null,
   "id": "e3a24168",
   "metadata": {},
   "outputs": [],
   "source": [
    "rf_conf_mat = confusion_matrix(Y_test, y_pred)\n",
    "print(\"Transfer learning confusion matrix: \\n\", rf_conf_mat)"
   ]
  },
  {
   "cell_type": "code",
   "execution_count": null,
   "id": "471b1a0b",
   "metadata": {},
   "outputs": [],
   "source": [
    "CR = classification_report(Y_test,y_pred, digits= 4)\n",
    "print(CR)"
   ]
  },
  {
   "cell_type": "code",
   "execution_count": null,
   "id": "52f3a1b9",
   "metadata": {},
   "outputs": [],
   "source": []
  },
  {
   "cell_type": "markdown",
   "id": "75dede6b",
   "metadata": {},
   "source": [
    "# 2 layer freezed"
   ]
  },
  {
   "cell_type": "code",
   "execution_count": null,
   "id": "7ce8ee6b",
   "metadata": {},
   "outputs": [],
   "source": []
  },
  {
   "cell_type": "code",
   "execution_count": null,
   "id": "80e881a9",
   "metadata": {},
   "outputs": [],
   "source": [
    "from tensorflow import keras\n",
    "model = keras.models.load_model('TL_DDtoD_2m_2F_1e.h5')"
   ]
  },
  {
   "cell_type": "code",
   "execution_count": null,
   "id": "282248bf",
   "metadata": {},
   "outputs": [],
   "source": [
    "y_pred = model.predict(X_test)\n",
    "y_pred = y_pred.argmax(axis=1)"
   ]
  },
  {
   "cell_type": "code",
   "execution_count": null,
   "id": "1f5963cc",
   "metadata": {},
   "outputs": [],
   "source": [
    "rf_conf_mat = confusion_matrix(Y_test, y_pred)\n",
    "print(\"Transfer learning confusion matrix: \\n\", rf_conf_mat)"
   ]
  },
  {
   "cell_type": "code",
   "execution_count": null,
   "id": "9d83f52e",
   "metadata": {},
   "outputs": [],
   "source": [
    "CR = classification_report(Y_test,y_pred, digits= 4)\n",
    "print(CR)"
   ]
  },
  {
   "cell_type": "code",
   "execution_count": null,
   "id": "1625c820",
   "metadata": {},
   "outputs": [],
   "source": []
  },
  {
   "cell_type": "code",
   "execution_count": null,
   "id": "c9e69a08",
   "metadata": {},
   "outputs": [],
   "source": [
    "model = keras.models.load_model('TL_DDtoD_2m_2F_2e.h5')"
   ]
  },
  {
   "cell_type": "code",
   "execution_count": null,
   "id": "c706324a",
   "metadata": {},
   "outputs": [],
   "source": [
    "y_pred = model.predict(X_test)\n",
    "y_pred = y_pred.argmax(axis=1)"
   ]
  },
  {
   "cell_type": "code",
   "execution_count": null,
   "id": "1655c67c",
   "metadata": {},
   "outputs": [],
   "source": [
    "rf_conf_mat = confusion_matrix(Y_test, y_pred)\n",
    "print(\"Transfer learning confusion matrix: \\n\", rf_conf_mat)"
   ]
  },
  {
   "cell_type": "code",
   "execution_count": null,
   "id": "5fad9374",
   "metadata": {},
   "outputs": [],
   "source": [
    "CR = classification_report(Y_test,y_pred, digits= 4)\n",
    "print(CR)"
   ]
  },
  {
   "cell_type": "code",
   "execution_count": null,
   "id": "62cd6679",
   "metadata": {},
   "outputs": [],
   "source": []
  },
  {
   "cell_type": "code",
   "execution_count": null,
   "id": "b4ecf91a",
   "metadata": {},
   "outputs": [],
   "source": [
    "model = keras.models.load_model('TL_DDtoD_2m_2F_3e.h5')"
   ]
  },
  {
   "cell_type": "code",
   "execution_count": null,
   "id": "64e75c53",
   "metadata": {},
   "outputs": [],
   "source": [
    "y_pred = model.predict(X_test)\n",
    "y_pred = y_pred.argmax(axis=1)"
   ]
  },
  {
   "cell_type": "code",
   "execution_count": null,
   "id": "aad610fc",
   "metadata": {},
   "outputs": [],
   "source": [
    "rf_conf_mat = confusion_matrix(Y_test, y_pred)\n",
    "print(\"Transfer learning confusion matrix: \\n\", rf_conf_mat)"
   ]
  },
  {
   "cell_type": "code",
   "execution_count": null,
   "id": "e373514d",
   "metadata": {},
   "outputs": [],
   "source": [
    "CR = classification_report(Y_test,y_pred, digits= 4)\n",
    "print(CR)"
   ]
  },
  {
   "cell_type": "code",
   "execution_count": null,
   "id": "1daa8812",
   "metadata": {},
   "outputs": [],
   "source": []
  },
  {
   "cell_type": "code",
   "execution_count": null,
   "id": "6de50e92",
   "metadata": {},
   "outputs": [],
   "source": []
  },
  {
   "cell_type": "markdown",
   "id": "333f5227",
   "metadata": {},
   "source": [
    "# 3 layer freezed"
   ]
  },
  {
   "cell_type": "code",
   "execution_count": null,
   "id": "be78d80f",
   "metadata": {},
   "outputs": [],
   "source": []
  },
  {
   "cell_type": "code",
   "execution_count": null,
   "id": "e2dc27e5",
   "metadata": {},
   "outputs": [],
   "source": [
    "from tensorflow import keras\n",
    "model = keras.models.load_model('TL_DDtoD_2m_3F_1e.h5')"
   ]
  },
  {
   "cell_type": "code",
   "execution_count": null,
   "id": "e15a897e",
   "metadata": {},
   "outputs": [],
   "source": [
    "y_pred = model.predict(X_test)\n",
    "y_pred = y_pred.argmax(axis=1)"
   ]
  },
  {
   "cell_type": "code",
   "execution_count": null,
   "id": "d9a69378",
   "metadata": {},
   "outputs": [],
   "source": [
    "rf_conf_mat = confusion_matrix(Y_test, y_pred)\n",
    "print(\"Transfer learning confusion matrix: \\n\", rf_conf_mat)"
   ]
  },
  {
   "cell_type": "code",
   "execution_count": null,
   "id": "c814e051",
   "metadata": {},
   "outputs": [],
   "source": [
    "CR = classification_report(Y_test,y_pred, digits= 4)\n",
    "print(CR)"
   ]
  },
  {
   "cell_type": "code",
   "execution_count": null,
   "id": "f1062a91",
   "metadata": {},
   "outputs": [],
   "source": []
  },
  {
   "cell_type": "code",
   "execution_count": null,
   "id": "bb8245de",
   "metadata": {},
   "outputs": [],
   "source": [
    "model = keras.models.load_model('TL_DDtoD_2m_3F_2e.h5')"
   ]
  },
  {
   "cell_type": "code",
   "execution_count": null,
   "id": "f73d0a68",
   "metadata": {},
   "outputs": [],
   "source": [
    "y_pred = model.predict(X_test)\n",
    "y_pred = y_pred.argmax(axis=1)"
   ]
  },
  {
   "cell_type": "code",
   "execution_count": null,
   "id": "0161428b",
   "metadata": {},
   "outputs": [],
   "source": [
    "rf_conf_mat = confusion_matrix(Y_test, y_pred)\n",
    "print(\"Transfer learning confusion matrix: \\n\", rf_conf_mat)"
   ]
  },
  {
   "cell_type": "code",
   "execution_count": null,
   "id": "6cf48584",
   "metadata": {},
   "outputs": [],
   "source": [
    "CR = classification_report(Y_test,y_pred, digits= 4)\n",
    "print(CR)"
   ]
  },
  {
   "cell_type": "code",
   "execution_count": null,
   "id": "c67cdf17",
   "metadata": {},
   "outputs": [],
   "source": []
  },
  {
   "cell_type": "code",
   "execution_count": null,
   "id": "c5580881",
   "metadata": {},
   "outputs": [],
   "source": [
    "model = keras.models.load_model('TL_DDtoD_2m_3F_3e.h5')"
   ]
  },
  {
   "cell_type": "code",
   "execution_count": null,
   "id": "2e6bab8e",
   "metadata": {},
   "outputs": [],
   "source": [
    "y_pred = model.predict(X_test)\n",
    "y_pred = y_pred.argmax(axis=1)"
   ]
  },
  {
   "cell_type": "code",
   "execution_count": null,
   "id": "c6e28560",
   "metadata": {},
   "outputs": [],
   "source": [
    "rf_conf_mat = confusion_matrix(Y_test, y_pred)\n",
    "print(\"Transfer learning confusion matrix: \\n\", rf_conf_mat)"
   ]
  },
  {
   "cell_type": "code",
   "execution_count": null,
   "id": "80641efd",
   "metadata": {},
   "outputs": [],
   "source": [
    "CR = classification_report(Y_test,y_pred, digits= 4)\n",
    "print(CR)"
   ]
  },
  {
   "cell_type": "code",
   "execution_count": null,
   "id": "44e421f6",
   "metadata": {},
   "outputs": [],
   "source": []
  },
  {
   "cell_type": "code",
   "execution_count": null,
   "id": "05a80460",
   "metadata": {},
   "outputs": [],
   "source": []
  },
  {
   "cell_type": "markdown",
   "id": "f92d1b1d",
   "metadata": {},
   "source": [
    "# 4 layer freezed"
   ]
  },
  {
   "cell_type": "code",
   "execution_count": null,
   "id": "bb05f00d",
   "metadata": {},
   "outputs": [],
   "source": []
  },
  {
   "cell_type": "code",
   "execution_count": null,
   "id": "6093f2ef",
   "metadata": {},
   "outputs": [],
   "source": [
    "from tensorflow import keras\n",
    "model = keras.models.load_model('TL_DDtoD_2m_4F_1e.h5')"
   ]
  },
  {
   "cell_type": "code",
   "execution_count": null,
   "id": "418aa444",
   "metadata": {},
   "outputs": [],
   "source": [
    "y_pred = model.predict(X_test)\n",
    "y_pred = y_pred.argmax(axis=1)"
   ]
  },
  {
   "cell_type": "code",
   "execution_count": null,
   "id": "41893a0a",
   "metadata": {},
   "outputs": [],
   "source": [
    "rf_conf_mat = confusion_matrix(Y_test, y_pred)\n",
    "print(\"Transfer learning confusion matrix: \\n\", rf_conf_mat)"
   ]
  },
  {
   "cell_type": "code",
   "execution_count": null,
   "id": "d60094e7",
   "metadata": {},
   "outputs": [],
   "source": [
    "CR = classification_report(Y_test,y_pred, digits= 4)\n",
    "print(CR)"
   ]
  },
  {
   "cell_type": "code",
   "execution_count": null,
   "id": "19f2899c",
   "metadata": {},
   "outputs": [],
   "source": []
  },
  {
   "cell_type": "code",
   "execution_count": null,
   "id": "42712271",
   "metadata": {},
   "outputs": [],
   "source": [
    "model = keras.models.load_model('TL_DDtoD_2m_4F_2e.h5')"
   ]
  },
  {
   "cell_type": "code",
   "execution_count": null,
   "id": "944425d9",
   "metadata": {},
   "outputs": [],
   "source": [
    "y_pred = model.predict(X_test)\n",
    "y_pred = y_pred.argmax(axis=1)"
   ]
  },
  {
   "cell_type": "code",
   "execution_count": null,
   "id": "1dd0ba77",
   "metadata": {},
   "outputs": [],
   "source": [
    "rf_conf_mat = confusion_matrix(Y_test, y_pred)\n",
    "print(\"Transfer learning confusion matrix: \\n\", rf_conf_mat)"
   ]
  },
  {
   "cell_type": "code",
   "execution_count": null,
   "id": "ae46169e",
   "metadata": {},
   "outputs": [],
   "source": [
    "CR = classification_report(Y_test,y_pred, digits= 4)\n",
    "print(CR)"
   ]
  },
  {
   "cell_type": "code",
   "execution_count": null,
   "id": "80522591",
   "metadata": {},
   "outputs": [],
   "source": []
  },
  {
   "cell_type": "code",
   "execution_count": null,
   "id": "e3aea9c6",
   "metadata": {},
   "outputs": [],
   "source": [
    "model = keras.models.load_model('TL_DDtoD_2m_4F_3e.h5')"
   ]
  },
  {
   "cell_type": "code",
   "execution_count": null,
   "id": "468ed0b1",
   "metadata": {},
   "outputs": [],
   "source": [
    "y_pred = model.predict(X_test)\n",
    "y_pred = y_pred.argmax(axis=1)"
   ]
  },
  {
   "cell_type": "code",
   "execution_count": null,
   "id": "7e44916f",
   "metadata": {},
   "outputs": [],
   "source": [
    "rf_conf_mat = confusion_matrix(Y_test, y_pred)\n",
    "print(\"Transfer learning confusion matrix: \\n\", rf_conf_mat)"
   ]
  },
  {
   "cell_type": "code",
   "execution_count": null,
   "id": "99e1524b",
   "metadata": {},
   "outputs": [],
   "source": [
    "CR = classification_report(Y_test,y_pred, digits= 4)\n",
    "print(CR)"
   ]
  },
  {
   "cell_type": "code",
   "execution_count": null,
   "id": "f506f5e3",
   "metadata": {},
   "outputs": [],
   "source": []
  },
  {
   "cell_type": "code",
   "execution_count": null,
   "id": "acdb91fa",
   "metadata": {},
   "outputs": [],
   "source": []
  },
  {
   "cell_type": "markdown",
   "id": "2e054823",
   "metadata": {},
   "source": [
    "# 5 layer freezed"
   ]
  },
  {
   "cell_type": "code",
   "execution_count": null,
   "id": "6f9c1a39",
   "metadata": {},
   "outputs": [],
   "source": []
  },
  {
   "cell_type": "code",
   "execution_count": null,
   "id": "b294a46a",
   "metadata": {},
   "outputs": [],
   "source": [
    "from tensorflow import keras\n",
    "model = keras.models.load_model('TL_DDtoD_2m_5F_1e.h5')"
   ]
  },
  {
   "cell_type": "code",
   "execution_count": null,
   "id": "614a8042",
   "metadata": {},
   "outputs": [],
   "source": [
    "y_pred = model.predict(X_test)\n",
    "y_pred = y_pred.argmax(axis=1)"
   ]
  },
  {
   "cell_type": "code",
   "execution_count": null,
   "id": "b122f1c1",
   "metadata": {},
   "outputs": [],
   "source": [
    "rf_conf_mat = confusion_matrix(Y_test, y_pred)\n",
    "print(\"Transfer learning confusion matrix: \\n\", rf_conf_mat)"
   ]
  },
  {
   "cell_type": "code",
   "execution_count": null,
   "id": "9bf50dca",
   "metadata": {},
   "outputs": [],
   "source": [
    "CR = classification_report(Y_test,y_pred, digits= 4)\n",
    "print(CR)"
   ]
  },
  {
   "cell_type": "code",
   "execution_count": null,
   "id": "b860afec",
   "metadata": {},
   "outputs": [],
   "source": []
  },
  {
   "cell_type": "code",
   "execution_count": null,
   "id": "f9c51c6c",
   "metadata": {},
   "outputs": [],
   "source": [
    "model = keras.models.load_model('TL_DDtoD_2m_5F_2e.h5')"
   ]
  },
  {
   "cell_type": "code",
   "execution_count": null,
   "id": "cc81b467",
   "metadata": {},
   "outputs": [],
   "source": [
    "y_pred = model.predict(X_test)\n",
    "y_pred = y_pred.argmax(axis=1)"
   ]
  },
  {
   "cell_type": "code",
   "execution_count": null,
   "id": "bd51be71",
   "metadata": {},
   "outputs": [],
   "source": [
    "rf_conf_mat = confusion_matrix(Y_test, y_pred)\n",
    "print(\"Transfer learning confusion matrix: \\n\", rf_conf_mat)"
   ]
  },
  {
   "cell_type": "code",
   "execution_count": null,
   "id": "f2dd7b1e",
   "metadata": {},
   "outputs": [],
   "source": [
    "CR = classification_report(Y_test,y_pred, digits= 4)\n",
    "print(CR)"
   ]
  },
  {
   "cell_type": "code",
   "execution_count": null,
   "id": "b9083a2c",
   "metadata": {},
   "outputs": [],
   "source": []
  },
  {
   "cell_type": "code",
   "execution_count": null,
   "id": "f7a503b5",
   "metadata": {},
   "outputs": [],
   "source": [
    "model = keras.models.load_model('TL_DDtoD_2m_5F_3e.h5')"
   ]
  },
  {
   "cell_type": "code",
   "execution_count": null,
   "id": "d9acbf3e",
   "metadata": {},
   "outputs": [],
   "source": [
    "y_pred = model.predict(X_test)\n",
    "y_pred = y_pred.argmax(axis=1)"
   ]
  },
  {
   "cell_type": "code",
   "execution_count": null,
   "id": "ba17785a",
   "metadata": {},
   "outputs": [],
   "source": [
    "rf_conf_mat = confusion_matrix(Y_test, y_pred)\n",
    "print(\"Transfer learning confusion matrix: \\n\", rf_conf_mat)"
   ]
  },
  {
   "cell_type": "code",
   "execution_count": null,
   "id": "ca5ef093",
   "metadata": {},
   "outputs": [],
   "source": [
    "CR = classification_report(Y_test,y_pred, digits= 4)\n",
    "print(CR)"
   ]
  },
  {
   "cell_type": "code",
   "execution_count": null,
   "id": "0bb417cb",
   "metadata": {},
   "outputs": [],
   "source": []
  },
  {
   "cell_type": "code",
   "execution_count": null,
   "id": "3b9d9308",
   "metadata": {},
   "outputs": [],
   "source": []
  },
  {
   "cell_type": "markdown",
   "id": "14919c4b",
   "metadata": {},
   "source": [
    "# middle layers freezed"
   ]
  },
  {
   "cell_type": "code",
   "execution_count": null,
   "id": "c1b8ed9a",
   "metadata": {},
   "outputs": [],
   "source": []
  },
  {
   "cell_type": "code",
   "execution_count": null,
   "id": "527e2cf5",
   "metadata": {},
   "outputs": [],
   "source": [
    "from tensorflow import keras\n",
    "model = keras.models.load_model('TL_DDtoD_2m_midF_1e.h5')"
   ]
  },
  {
   "cell_type": "code",
   "execution_count": null,
   "id": "caab60c3",
   "metadata": {},
   "outputs": [],
   "source": [
    "y_pred = model.predict(X_test)\n",
    "y_pred = y_pred.argmax(axis=1)"
   ]
  },
  {
   "cell_type": "code",
   "execution_count": null,
   "id": "73f7abc2",
   "metadata": {},
   "outputs": [],
   "source": [
    "rf_conf_mat = confusion_matrix(Y_test, y_pred)\n",
    "print(\"Transfer learning confusion matrix: \\n\", rf_conf_mat)"
   ]
  },
  {
   "cell_type": "code",
   "execution_count": null,
   "id": "a4c480bd",
   "metadata": {},
   "outputs": [],
   "source": [
    "CR = classification_report(Y_test,y_pred, digits= 4)\n",
    "print(CR)"
   ]
  },
  {
   "cell_type": "code",
   "execution_count": null,
   "id": "05c65ca6",
   "metadata": {},
   "outputs": [],
   "source": []
  },
  {
   "cell_type": "code",
   "execution_count": null,
   "id": "8b7efe28",
   "metadata": {},
   "outputs": [],
   "source": [
    "model = keras.models.load_model('TL_DDtoD_2m_midF_2e.h5')"
   ]
  },
  {
   "cell_type": "code",
   "execution_count": null,
   "id": "6a968dc7",
   "metadata": {},
   "outputs": [],
   "source": [
    "y_pred = model.predict(X_test)\n",
    "y_pred = y_pred.argmax(axis=1)"
   ]
  },
  {
   "cell_type": "code",
   "execution_count": null,
   "id": "372514f9",
   "metadata": {},
   "outputs": [],
   "source": [
    "rf_conf_mat = confusion_matrix(Y_test, y_pred)\n",
    "print(\"Transfer learning confusion matrix: \\n\", rf_conf_mat)"
   ]
  },
  {
   "cell_type": "code",
   "execution_count": null,
   "id": "f0f7d33f",
   "metadata": {},
   "outputs": [],
   "source": [
    "CR = classification_report(Y_test,y_pred, digits= 4)\n",
    "print(CR)"
   ]
  },
  {
   "cell_type": "code",
   "execution_count": null,
   "id": "b97de780",
   "metadata": {},
   "outputs": [],
   "source": []
  },
  {
   "cell_type": "code",
   "execution_count": null,
   "id": "707b7d3e",
   "metadata": {},
   "outputs": [],
   "source": [
    "model = keras.models.load_model('TL_DDtoD_2m_midF_3e.h5')"
   ]
  },
  {
   "cell_type": "code",
   "execution_count": null,
   "id": "45162974",
   "metadata": {},
   "outputs": [],
   "source": [
    "y_pred = model.predict(X_test)\n",
    "y_pred = y_pred.argmax(axis=1)"
   ]
  },
  {
   "cell_type": "code",
   "execution_count": null,
   "id": "bcccf441",
   "metadata": {},
   "outputs": [],
   "source": [
    "rf_conf_mat = confusion_matrix(Y_test, y_pred)\n",
    "print(\"Transfer learning confusion matrix: \\n\", rf_conf_mat)"
   ]
  },
  {
   "cell_type": "code",
   "execution_count": null,
   "id": "c81bec8b",
   "metadata": {},
   "outputs": [],
   "source": [
    "CR = classification_report(Y_test,y_pred, digits= 4)\n",
    "print(CR)"
   ]
  },
  {
   "cell_type": "code",
   "execution_count": null,
   "id": "fc7a2c4e",
   "metadata": {},
   "outputs": [],
   "source": []
  },
  {
   "cell_type": "code",
   "execution_count": null,
   "id": "ff62006d",
   "metadata": {},
   "outputs": [],
   "source": []
  },
  {
   "cell_type": "markdown",
   "id": "33d22b11",
   "metadata": {},
   "source": [
    "# end layers freezed"
   ]
  },
  {
   "cell_type": "code",
   "execution_count": null,
   "id": "ab019e00",
   "metadata": {},
   "outputs": [],
   "source": []
  },
  {
   "cell_type": "code",
   "execution_count": null,
   "id": "92f53898",
   "metadata": {},
   "outputs": [],
   "source": [
    "from tensorflow import keras\n",
    "model = keras.models.load_model('TL_DDtoD_2m_endF_1e.h5')"
   ]
  },
  {
   "cell_type": "code",
   "execution_count": null,
   "id": "95d2ebdf",
   "metadata": {},
   "outputs": [],
   "source": [
    "y_pred = model.predict(X_test)\n",
    "y_pred = y_pred.argmax(axis=1)"
   ]
  },
  {
   "cell_type": "code",
   "execution_count": null,
   "id": "6ab0758a",
   "metadata": {},
   "outputs": [],
   "source": [
    "rf_conf_mat = confusion_matrix(Y_test, y_pred)\n",
    "print(\"Transfer learning confusion matrix: \\n\", rf_conf_mat)"
   ]
  },
  {
   "cell_type": "code",
   "execution_count": null,
   "id": "a3a25fc7",
   "metadata": {},
   "outputs": [],
   "source": [
    "CR = classification_report(Y_test,y_pred, digits= 4)\n",
    "print(CR)"
   ]
  },
  {
   "cell_type": "code",
   "execution_count": null,
   "id": "35e6b28a",
   "metadata": {},
   "outputs": [],
   "source": []
  },
  {
   "cell_type": "code",
   "execution_count": null,
   "id": "5296184f",
   "metadata": {},
   "outputs": [],
   "source": [
    "model = keras.models.load_model('TL_DDtoD_2m_endF_2e.h5')"
   ]
  },
  {
   "cell_type": "code",
   "execution_count": null,
   "id": "7ec203a1",
   "metadata": {},
   "outputs": [],
   "source": [
    "y_pred = model.predict(X_test)\n",
    "y_pred = y_pred.argmax(axis=1)"
   ]
  },
  {
   "cell_type": "code",
   "execution_count": null,
   "id": "6971d275",
   "metadata": {},
   "outputs": [],
   "source": [
    "rf_conf_mat = confusion_matrix(Y_test, y_pred)\n",
    "print(\"Transfer learning confusion matrix: \\n\", rf_conf_mat)"
   ]
  },
  {
   "cell_type": "code",
   "execution_count": null,
   "id": "a8a0dbd5",
   "metadata": {},
   "outputs": [],
   "source": [
    "CR = classification_report(Y_test,y_pred, digits= 4)\n",
    "print(CR)"
   ]
  },
  {
   "cell_type": "code",
   "execution_count": null,
   "id": "e3fd4cd6",
   "metadata": {},
   "outputs": [],
   "source": []
  },
  {
   "cell_type": "code",
   "execution_count": null,
   "id": "4a996f66",
   "metadata": {},
   "outputs": [],
   "source": [
    "model = keras.models.load_model('TL_DDtoD_2m_endF_3e.h5')"
   ]
  },
  {
   "cell_type": "code",
   "execution_count": null,
   "id": "ff9e0058",
   "metadata": {},
   "outputs": [],
   "source": [
    "y_pred = model.predict(X_test)\n",
    "y_pred = y_pred.argmax(axis=1)"
   ]
  },
  {
   "cell_type": "code",
   "execution_count": null,
   "id": "2bdf878b",
   "metadata": {},
   "outputs": [],
   "source": [
    "rf_conf_mat = confusion_matrix(Y_test, y_pred)\n",
    "print(\"Transfer learning confusion matrix: \\n\", rf_conf_mat)"
   ]
  },
  {
   "cell_type": "code",
   "execution_count": null,
   "id": "ed6c5413",
   "metadata": {},
   "outputs": [],
   "source": [
    "CR = classification_report(Y_test,y_pred, digits= 4)\n",
    "print(CR)"
   ]
  }
 ],
 "metadata": {
  "kernelspec": {
   "display_name": "Python 3 (ipykernel)",
   "language": "python",
   "name": "python3"
  },
  "language_info": {
   "codemirror_mode": {
    "name": "ipython",
    "version": 3
   },
   "file_extension": ".py",
   "mimetype": "text/x-python",
   "name": "python",
   "nbconvert_exporter": "python",
   "pygments_lexer": "ipython3",
   "version": "3.9.7"
  }
 },
 "nbformat": 4,
 "nbformat_minor": 5
}

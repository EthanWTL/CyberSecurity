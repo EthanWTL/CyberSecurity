{
 "cells": [
  {
   "cell_type": "code",
   "execution_count": 1,
   "id": "e5509538",
   "metadata": {},
   "outputs": [],
   "source": [
    "import numpy as np\n",
    "import pandas as pd"
   ]
  },
  {
   "cell_type": "code",
   "execution_count": 4,
   "id": "c8888b33",
   "metadata": {},
   "outputs": [],
   "source": [
    "ddos = pd.read_csv('Data/ddos_org1.csv')"
   ]
  },
  {
   "cell_type": "code",
   "execution_count": 5,
   "id": "2c635f02",
   "metadata": {},
   "outputs": [
    {
     "data": {
      "text/plain": [
       "Index(['Unnamed: 0', 'FlowDuration', 'TotalFwdPackets', 'TotalBackwardPackets',\n",
       "       'TotalLengthofFwdPackets', 'TotalLengthofBwdPackets',\n",
       "       'FwdPacketLengthMax', 'FwdPacketLengthMin', 'FwdPacketLengthMean',\n",
       "       'FwdPacketLengthStd', 'BwdPacketLengthMax', 'BwdPacketLengthMin',\n",
       "       'BwdPacketLengthMean', 'BwdPacketLengthStd', 'FlowBytes/s',\n",
       "       'FlowPackets/s', 'FlowIATMean', 'FlowIATStd', 'FlowIATMax',\n",
       "       'FlowIATMin', 'FwdIATTotal', 'FwdIATMean', 'FwdIATStd', 'FwdIATMax',\n",
       "       'FwdIATMin', 'BwdIATTotal', 'BwdIATMean', 'BwdIATStd', 'BwdIATMax',\n",
       "       'BwdIATMin', 'FwdPSHFlags', 'BwdPSHFlags', 'FwdURGFlags', 'BwdURGFlags',\n",
       "       'FwdHeaderLength', 'BwdHeaderLength', 'FwdPackets/s', 'BwdPackets/s',\n",
       "       'MinPacketLength', 'MaxPacketLength', 'PacketLengthMean',\n",
       "       'PacketLengthStd', 'PacketLengthVariance', 'FINFlagCount',\n",
       "       'SYNFlagCount', 'RSTFlagCount', 'PSHFlagCount', 'ACKFlagCount',\n",
       "       'URGFlagCount', 'CWEFlagCount', 'ECEFlagCount', 'Down/UpRatio',\n",
       "       'AveragePacketSize', 'AvgFwdSegmentSize', 'AvgBwdSegmentSize',\n",
       "       'FwdHeaderLength.1', 'FwdAvgBytes/Bulk', 'FwdAvgPackets/Bulk',\n",
       "       'FwdAvgBulkRate', 'BwdAvgBytes/Bulk', 'BwdAvgPackets/Bulk',\n",
       "       'BwdAvgBulkRate', 'SubflowFwdPackets', 'SubflowFwdBytes',\n",
       "       'SubflowBwdPackets', 'SubflowBwdBytes', 'Init_Win_bytes_forward',\n",
       "       'Init_Win_bytes_backward', 'act_data_pkt_fwd', 'min_seg_size_forward',\n",
       "       'ActiveMean', 'ActiveStd', 'ActiveMax', 'ActiveMin', 'IdleMean',\n",
       "       'IdleStd', 'IdleMax', 'IdleMin', 'Label'],\n",
       "      dtype='object')"
      ]
     },
     "execution_count": 5,
     "metadata": {},
     "output_type": "execute_result"
    }
   ],
   "source": [
    "ddos.columns"
   ]
  },
  {
   "cell_type": "code",
   "execution_count": 6,
   "id": "c07c70f6",
   "metadata": {},
   "outputs": [],
   "source": [
    "ddos = ddos.drop(columns = ['Unnamed: 0'])"
   ]
  },
  {
   "cell_type": "code",
   "execution_count": 7,
   "id": "4fba5f00",
   "metadata": {},
   "outputs": [
    {
     "data": {
      "text/plain": [
       "MSSQL      1768980\n",
       "Syn        1307687\n",
       "UDP        1147820\n",
       "NetBIOS    1116993\n",
       "LDAP        584620\n",
       "Portmap      57496\n",
       "BENIGN       16404\n",
       "Name: Label, dtype: int64"
      ]
     },
     "execution_count": 7,
     "metadata": {},
     "output_type": "execute_result"
    }
   ],
   "source": [
    "ddos['Label'].value_counts()"
   ]
  },
  {
   "cell_type": "code",
   "execution_count": 8,
   "id": "99acc39b",
   "metadata": {},
   "outputs": [],
   "source": [
    "cat_columns = ddos.select_dtypes(['object']).columns\n",
    "ddos[cat_columns] = ddos[cat_columns].astype('category')\n",
    "ddos[cat_columns] = ddos[cat_columns].apply(lambda x: x.cat.codes)"
   ]
  },
  {
   "cell_type": "code",
   "execution_count": 10,
   "id": "e85d31d1",
   "metadata": {},
   "outputs": [],
   "source": [
    "X = ddos.iloc[:, 0:-1]\n",
    "y = ddos.iloc[:, -1]"
   ]
  },
  {
   "cell_type": "code",
   "execution_count": 13,
   "id": "99cc6ad6",
   "metadata": {},
   "outputs": [],
   "source": [
    "from sklearn.model_selection import train_test_split\n",
    "X_train, X_test, Y_train, Y_test = train_test_split(X, y, test_size = 0.33, random_state = 42)"
   ]
  },
  {
   "cell_type": "code",
   "execution_count": 18,
   "id": "c5a9447e",
   "metadata": {},
   "outputs": [
    {
     "ename": "ValueError",
     "evalue": "Found array with dim 3. StandardScaler expected <= 2.",
     "output_type": "error",
     "traceback": [
      "\u001b[1;31m---------------------------------------------------------------------------\u001b[0m",
      "\u001b[1;31mValueError\u001b[0m                                Traceback (most recent call last)",
      "\u001b[1;32m~\\AppData\\Local\\Temp/ipykernel_1676/3808689280.py\u001b[0m in \u001b[0;36m<module>\u001b[1;34m\u001b[0m\n\u001b[0;32m      1\u001b[0m \u001b[1;32mfrom\u001b[0m \u001b[0msklearn\u001b[0m\u001b[1;33m.\u001b[0m\u001b[0mpreprocessing\u001b[0m \u001b[1;32mimport\u001b[0m \u001b[0mStandardScaler\u001b[0m\u001b[1;33m\u001b[0m\u001b[1;33m\u001b[0m\u001b[0m\n\u001b[1;32m----> 2\u001b[1;33m \u001b[0mscaler\u001b[0m \u001b[1;33m=\u001b[0m \u001b[0mStandardScaler\u001b[0m\u001b[1;33m(\u001b[0m\u001b[1;33m)\u001b[0m\u001b[1;33m.\u001b[0m\u001b[0mfit\u001b[0m\u001b[1;33m(\u001b[0m\u001b[0mX_train\u001b[0m\u001b[1;33m)\u001b[0m\u001b[1;33m\u001b[0m\u001b[1;33m\u001b[0m\u001b[0m\n\u001b[0m\u001b[0;32m      3\u001b[0m \u001b[0mX_train\u001b[0m \u001b[1;33m=\u001b[0m \u001b[0mscaler\u001b[0m\u001b[1;33m.\u001b[0m\u001b[0mtransform\u001b[0m\u001b[1;33m(\u001b[0m\u001b[0mX_train\u001b[0m\u001b[1;33m)\u001b[0m\u001b[1;33m\u001b[0m\u001b[1;33m\u001b[0m\u001b[0m\n\u001b[0;32m      4\u001b[0m \u001b[0mX_test\u001b[0m \u001b[1;33m=\u001b[0m \u001b[0mscaler\u001b[0m\u001b[1;33m.\u001b[0m\u001b[0mtransform\u001b[0m\u001b[1;33m(\u001b[0m\u001b[0mX_test\u001b[0m\u001b[1;33m)\u001b[0m\u001b[1;33m\u001b[0m\u001b[1;33m\u001b[0m\u001b[0m\n",
      "\u001b[1;32m~\\Anaconda3\\lib\\site-packages\\sklearn\\preprocessing\\_data.py\u001b[0m in \u001b[0;36mfit\u001b[1;34m(self, X, y, sample_weight)\u001b[0m\n\u001b[0;32m    728\u001b[0m         \u001b[1;31m# Reset internal state before fitting\u001b[0m\u001b[1;33m\u001b[0m\u001b[1;33m\u001b[0m\u001b[0m\n\u001b[0;32m    729\u001b[0m         \u001b[0mself\u001b[0m\u001b[1;33m.\u001b[0m\u001b[0m_reset\u001b[0m\u001b[1;33m(\u001b[0m\u001b[1;33m)\u001b[0m\u001b[1;33m\u001b[0m\u001b[1;33m\u001b[0m\u001b[0m\n\u001b[1;32m--> 730\u001b[1;33m         \u001b[1;32mreturn\u001b[0m \u001b[0mself\u001b[0m\u001b[1;33m.\u001b[0m\u001b[0mpartial_fit\u001b[0m\u001b[1;33m(\u001b[0m\u001b[0mX\u001b[0m\u001b[1;33m,\u001b[0m \u001b[0my\u001b[0m\u001b[1;33m,\u001b[0m \u001b[0msample_weight\u001b[0m\u001b[1;33m)\u001b[0m\u001b[1;33m\u001b[0m\u001b[1;33m\u001b[0m\u001b[0m\n\u001b[0m\u001b[0;32m    731\u001b[0m \u001b[1;33m\u001b[0m\u001b[0m\n\u001b[0;32m    732\u001b[0m     \u001b[1;32mdef\u001b[0m \u001b[0mpartial_fit\u001b[0m\u001b[1;33m(\u001b[0m\u001b[0mself\u001b[0m\u001b[1;33m,\u001b[0m \u001b[0mX\u001b[0m\u001b[1;33m,\u001b[0m \u001b[0my\u001b[0m\u001b[1;33m=\u001b[0m\u001b[1;32mNone\u001b[0m\u001b[1;33m,\u001b[0m \u001b[0msample_weight\u001b[0m\u001b[1;33m=\u001b[0m\u001b[1;32mNone\u001b[0m\u001b[1;33m)\u001b[0m\u001b[1;33m:\u001b[0m\u001b[1;33m\u001b[0m\u001b[1;33m\u001b[0m\u001b[0m\n",
      "\u001b[1;32m~\\Anaconda3\\lib\\site-packages\\sklearn\\preprocessing\\_data.py\u001b[0m in \u001b[0;36mpartial_fit\u001b[1;34m(self, X, y, sample_weight)\u001b[0m\n\u001b[0;32m    764\u001b[0m         \"\"\"\n\u001b[0;32m    765\u001b[0m         \u001b[0mfirst_call\u001b[0m \u001b[1;33m=\u001b[0m \u001b[1;32mnot\u001b[0m \u001b[0mhasattr\u001b[0m\u001b[1;33m(\u001b[0m\u001b[0mself\u001b[0m\u001b[1;33m,\u001b[0m \u001b[1;34m\"n_samples_seen_\"\u001b[0m\u001b[1;33m)\u001b[0m\u001b[1;33m\u001b[0m\u001b[1;33m\u001b[0m\u001b[0m\n\u001b[1;32m--> 766\u001b[1;33m         X = self._validate_data(X, accept_sparse=('csr', 'csc'),\n\u001b[0m\u001b[0;32m    767\u001b[0m                                 \u001b[0mestimator\u001b[0m\u001b[1;33m=\u001b[0m\u001b[0mself\u001b[0m\u001b[1;33m,\u001b[0m \u001b[0mdtype\u001b[0m\u001b[1;33m=\u001b[0m\u001b[0mFLOAT_DTYPES\u001b[0m\u001b[1;33m,\u001b[0m\u001b[1;33m\u001b[0m\u001b[1;33m\u001b[0m\u001b[0m\n\u001b[0;32m    768\u001b[0m                                 force_all_finite='allow-nan', reset=first_call)\n",
      "\u001b[1;32m~\\Anaconda3\\lib\\site-packages\\sklearn\\base.py\u001b[0m in \u001b[0;36m_validate_data\u001b[1;34m(self, X, y, reset, validate_separately, **check_params)\u001b[0m\n\u001b[0;32m    419\u001b[0m             \u001b[0mout\u001b[0m \u001b[1;33m=\u001b[0m \u001b[0mX\u001b[0m\u001b[1;33m\u001b[0m\u001b[1;33m\u001b[0m\u001b[0m\n\u001b[0;32m    420\u001b[0m         \u001b[1;32melif\u001b[0m \u001b[0misinstance\u001b[0m\u001b[1;33m(\u001b[0m\u001b[0my\u001b[0m\u001b[1;33m,\u001b[0m \u001b[0mstr\u001b[0m\u001b[1;33m)\u001b[0m \u001b[1;32mand\u001b[0m \u001b[0my\u001b[0m \u001b[1;33m==\u001b[0m \u001b[1;34m'no_validation'\u001b[0m\u001b[1;33m:\u001b[0m\u001b[1;33m\u001b[0m\u001b[1;33m\u001b[0m\u001b[0m\n\u001b[1;32m--> 421\u001b[1;33m             \u001b[0mX\u001b[0m \u001b[1;33m=\u001b[0m \u001b[0mcheck_array\u001b[0m\u001b[1;33m(\u001b[0m\u001b[0mX\u001b[0m\u001b[1;33m,\u001b[0m \u001b[1;33m**\u001b[0m\u001b[0mcheck_params\u001b[0m\u001b[1;33m)\u001b[0m\u001b[1;33m\u001b[0m\u001b[1;33m\u001b[0m\u001b[0m\n\u001b[0m\u001b[0;32m    422\u001b[0m             \u001b[0mout\u001b[0m \u001b[1;33m=\u001b[0m \u001b[0mX\u001b[0m\u001b[1;33m\u001b[0m\u001b[1;33m\u001b[0m\u001b[0m\n\u001b[0;32m    423\u001b[0m         \u001b[1;32melse\u001b[0m\u001b[1;33m:\u001b[0m\u001b[1;33m\u001b[0m\u001b[1;33m\u001b[0m\u001b[0m\n",
      "\u001b[1;32m~\\Anaconda3\\lib\\site-packages\\sklearn\\utils\\validation.py\u001b[0m in \u001b[0;36minner_f\u001b[1;34m(*args, **kwargs)\u001b[0m\n\u001b[0;32m     61\u001b[0m             \u001b[0mextra_args\u001b[0m \u001b[1;33m=\u001b[0m \u001b[0mlen\u001b[0m\u001b[1;33m(\u001b[0m\u001b[0margs\u001b[0m\u001b[1;33m)\u001b[0m \u001b[1;33m-\u001b[0m \u001b[0mlen\u001b[0m\u001b[1;33m(\u001b[0m\u001b[0mall_args\u001b[0m\u001b[1;33m)\u001b[0m\u001b[1;33m\u001b[0m\u001b[1;33m\u001b[0m\u001b[0m\n\u001b[0;32m     62\u001b[0m             \u001b[1;32mif\u001b[0m \u001b[0mextra_args\u001b[0m \u001b[1;33m<=\u001b[0m \u001b[1;36m0\u001b[0m\u001b[1;33m:\u001b[0m\u001b[1;33m\u001b[0m\u001b[1;33m\u001b[0m\u001b[0m\n\u001b[1;32m---> 63\u001b[1;33m                 \u001b[1;32mreturn\u001b[0m \u001b[0mf\u001b[0m\u001b[1;33m(\u001b[0m\u001b[1;33m*\u001b[0m\u001b[0margs\u001b[0m\u001b[1;33m,\u001b[0m \u001b[1;33m**\u001b[0m\u001b[0mkwargs\u001b[0m\u001b[1;33m)\u001b[0m\u001b[1;33m\u001b[0m\u001b[1;33m\u001b[0m\u001b[0m\n\u001b[0m\u001b[0;32m     64\u001b[0m \u001b[1;33m\u001b[0m\u001b[0m\n\u001b[0;32m     65\u001b[0m             \u001b[1;31m# extra_args > 0\u001b[0m\u001b[1;33m\u001b[0m\u001b[1;33m\u001b[0m\u001b[0m\n",
      "\u001b[1;32m~\\Anaconda3\\lib\\site-packages\\sklearn\\utils\\validation.py\u001b[0m in \u001b[0;36mcheck_array\u001b[1;34m(array, accept_sparse, accept_large_sparse, dtype, order, copy, force_all_finite, ensure_2d, allow_nd, ensure_min_samples, ensure_min_features, estimator)\u001b[0m\n\u001b[0;32m    714\u001b[0m                     \"into decimal numbers with dtype='numeric'\") from e\n\u001b[0;32m    715\u001b[0m         \u001b[1;32mif\u001b[0m \u001b[1;32mnot\u001b[0m \u001b[0mallow_nd\u001b[0m \u001b[1;32mand\u001b[0m \u001b[0marray\u001b[0m\u001b[1;33m.\u001b[0m\u001b[0mndim\u001b[0m \u001b[1;33m>=\u001b[0m \u001b[1;36m3\u001b[0m\u001b[1;33m:\u001b[0m\u001b[1;33m\u001b[0m\u001b[1;33m\u001b[0m\u001b[0m\n\u001b[1;32m--> 716\u001b[1;33m             raise ValueError(\"Found array with dim %d. %s expected <= 2.\"\n\u001b[0m\u001b[0;32m    717\u001b[0m                              % (array.ndim, estimator_name))\n\u001b[0;32m    718\u001b[0m \u001b[1;33m\u001b[0m\u001b[0m\n",
      "\u001b[1;31mValueError\u001b[0m: Found array with dim 3. StandardScaler expected <= 2."
     ]
    }
   ],
   "source": [
    "from sklearn.preprocessing import StandardScaler\n",
    "scaler = StandardScaler().fit(X_train)\n",
    "X_train = scaler.transform(X_train)\n",
    "X_test = scaler.transform(X_test)"
   ]
  },
  {
   "cell_type": "code",
   "execution_count": null,
   "id": "3d8a9e47",
   "metadata": {},
   "outputs": [],
   "source": [
    "from sklearn.preprocessing import StandardScaler\n",
    "scaler = StandardScaler().fit(X_train)\n",
    "X_train = scaler.transform(X_train)\n",
    "X_test = scaler.transform(X_test)"
   ]
  },
  {
   "cell_type": "code",
   "execution_count": 15,
   "id": "a00c6e63",
   "metadata": {},
   "outputs": [],
   "source": [
    "from keras.models import Sequential\n",
    "from keras.layers import Dense\n",
    "from keras.layers import Flatten\n",
    "from keras.layers import Dropout\n",
    "from keras.layers.convolutional import Conv1D\n",
    "from keras.layers.convolutional import MaxPooling1D\n",
    "from tensorflow.keras.utils import to_categorical"
   ]
  },
  {
   "cell_type": "code",
   "execution_count": 16,
   "id": "6ef06709",
   "metadata": {},
   "outputs": [],
   "source": [
    "model = Sequential()\n",
    "model.add(Conv1D(filters=64, kernel_size=3, activation='relu', input_shape=(77,1)))\n",
    "model.add(Dropout(0.5))\n",
    "model.add(MaxPooling1D(pool_size=2))\n",
    "model.add(Flatten())\n",
    "model.add(Dense(100, activation='relu'))\n",
    "model.add(Dense(8, activation='softmax'))\n",
    "model.compile(loss='sparse_categorical_crossentropy', optimizer='adam', metrics=['accuracy'])"
   ]
  },
  {
   "cell_type": "code",
   "execution_count": null,
   "id": "621758a8",
   "metadata": {},
   "outputs": [],
   "source": [
    "from keras.callbacks import EarlyStopping\n",
    "import time\n",
    "\n",
    "start = time.time()\n",
    "print(\"Timer Begin\")\n",
    "\n",
    "model.fit(X_train,Y_train,batch_size=30,epochs=1,\n",
    "          validation_split=0.1, callbacks=[EarlyStopping(monitor='loss',patience=2)])\n",
    "\n",
    "end = time.time()\n",
    "print(end - start)"
   ]
  },
  {
   "cell_type": "code",
   "execution_count": null,
   "id": "3d558f17",
   "metadata": {},
   "outputs": [],
   "source": [
    "model.save('org1_1e.h5')"
   ]
  },
  {
   "cell_type": "code",
   "execution_count": null,
   "id": "dfc5987d",
   "metadata": {},
   "outputs": [],
   "source": [
    "y_pred = model.predict(X_test)\n",
    "y_pred = y_pred.argmax(axis=1)"
   ]
  },
  {
   "cell_type": "code",
   "execution_count": null,
   "id": "02654d03",
   "metadata": {},
   "outputs": [],
   "source": [
    "rf_conf_mat = confusion_matrix(Y_test, y_pred)\n",
    "print(\"Transfer learning confusion matrix: \\n\", rf_conf_mat)"
   ]
  },
  {
   "cell_type": "code",
   "execution_count": null,
   "id": "22187709",
   "metadata": {},
   "outputs": [],
   "source": [
    "CR = classification_report(Y_test,y_pred, digits= 4)\n",
    "print(CR)"
   ]
  },
  {
   "cell_type": "code",
   "execution_count": null,
   "id": "c2d1f296",
   "metadata": {},
   "outputs": [],
   "source": []
  },
  {
   "cell_type": "code",
   "execution_count": null,
   "id": "b11c0c96",
   "metadata": {},
   "outputs": [
    {
     "name": "stdout",
     "output_type": "stream",
     "text": [
      "Timer Begin\n",
      "  4844/120600 [>.............................] - ETA: 8:12 - loss: 0.1573 - accuracy: 0.9537"
     ]
    }
   ],
   "source": [
    "from keras.callbacks import EarlyStopping\n",
    "import time\n",
    "\n",
    "start = time.time()\n",
    "print(\"Timer Begin\")\n",
    "\n",
    "model.fit(X_train,Y_train,batch_size=30,epochs=1,\n",
    "          validation_split=0.1, callbacks=[EarlyStopping(monitor='loss',patience=2)])\n",
    "\n",
    "end = time.time()\n",
    "print(end - start)"
   ]
  },
  {
   "cell_type": "code",
   "execution_count": null,
   "id": "ba6e0019",
   "metadata": {},
   "outputs": [],
   "source": [
    "model.save('org1_2e.h5')"
   ]
  },
  {
   "cell_type": "code",
   "execution_count": null,
   "id": "8814823d",
   "metadata": {},
   "outputs": [],
   "source": [
    "y_pred = model.predict(X_test)\n",
    "y_pred = y_pred.argmax(axis=1)"
   ]
  },
  {
   "cell_type": "code",
   "execution_count": null,
   "id": "2af3803d",
   "metadata": {},
   "outputs": [],
   "source": [
    "rf_conf_mat = confusion_matrix(Y_test, y_pred)\n",
    "print(\"Transfer learning confusion matrix: \\n\", rf_conf_mat)"
   ]
  },
  {
   "cell_type": "code",
   "execution_count": null,
   "id": "1c5196e4",
   "metadata": {},
   "outputs": [],
   "source": [
    "CR = classification_report(Y_test,y_pred, digits= 4)\n",
    "print(CR)"
   ]
  },
  {
   "cell_type": "code",
   "execution_count": null,
   "id": "bda9ea3c",
   "metadata": {},
   "outputs": [],
   "source": []
  },
  {
   "cell_type": "code",
   "execution_count": null,
   "id": "f940287f",
   "metadata": {},
   "outputs": [
    {
     "name": "stdout",
     "output_type": "stream",
     "text": [
      "Timer Begin\n",
      "  4844/120600 [>.............................] - ETA: 8:12 - loss: 0.1573 - accuracy: 0.9537"
     ]
    }
   ],
   "source": [
    "from keras.callbacks import EarlyStopping\n",
    "import time\n",
    "\n",
    "start = time.time()\n",
    "print(\"Timer Begin\")\n",
    "\n",
    "model.fit(X_train,Y_train,batch_size=30,epochs=1,\n",
    "          validation_split=0.1, callbacks=[EarlyStopping(monitor='loss',patience=2)])\n",
    "\n",
    "end = time.time()\n",
    "print(end - start)"
   ]
  },
  {
   "cell_type": "code",
   "execution_count": null,
   "id": "d1b45ebd",
   "metadata": {},
   "outputs": [],
   "source": [
    "model.save('org1_3e.h5')"
   ]
  },
  {
   "cell_type": "code",
   "execution_count": null,
   "id": "df27d7db",
   "metadata": {},
   "outputs": [],
   "source": [
    "y_pred = model.predict(X_test)\n",
    "y_pred = y_pred.argmax(axis=1)"
   ]
  },
  {
   "cell_type": "code",
   "execution_count": null,
   "id": "f51caa7a",
   "metadata": {},
   "outputs": [],
   "source": [
    "rf_conf_mat = confusion_matrix(Y_test, y_pred)\n",
    "print(\"Transfer learning confusion matrix: \\n\", rf_conf_mat)"
   ]
  },
  {
   "cell_type": "code",
   "execution_count": null,
   "id": "d2ad82cc",
   "metadata": {},
   "outputs": [],
   "source": [
    "CR = classification_report(Y_test,y_pred, digits= 4)\n",
    "print(CR)"
   ]
  },
  {
   "cell_type": "code",
   "execution_count": null,
   "id": "05c7711b",
   "metadata": {},
   "outputs": [],
   "source": []
  },
  {
   "cell_type": "code",
   "execution_count": null,
   "id": "cfc8b08e",
   "metadata": {},
   "outputs": [
    {
     "name": "stdout",
     "output_type": "stream",
     "text": [
      "Timer Begin\n",
      "  4844/120600 [>.............................] - ETA: 8:12 - loss: 0.1573 - accuracy: 0.9537"
     ]
    }
   ],
   "source": [
    "from keras.callbacks import EarlyStopping\n",
    "import time\n",
    "\n",
    "start = time.time()\n",
    "print(\"Timer Begin\")\n",
    "\n",
    "model.fit(X_train,Y_train,batch_size=30,epochs=1,\n",
    "          validation_split=0.1, callbacks=[EarlyStopping(monitor='loss',patience=2)])\n",
    "\n",
    "end = time.time()\n",
    "print(end - start)"
   ]
  },
  {
   "cell_type": "code",
   "execution_count": null,
   "id": "c3768271",
   "metadata": {},
   "outputs": [],
   "source": [
    "model.save('org1_4e.h5')"
   ]
  },
  {
   "cell_type": "code",
   "execution_count": null,
   "id": "4049d20b",
   "metadata": {},
   "outputs": [],
   "source": [
    "y_pred = model.predict(X_test)\n",
    "y_pred = y_pred.argmax(axis=1)"
   ]
  },
  {
   "cell_type": "code",
   "execution_count": null,
   "id": "5c92a655",
   "metadata": {},
   "outputs": [],
   "source": [
    "rf_conf_mat = confusion_matrix(Y_test, y_pred)\n",
    "print(\"Transfer learning confusion matrix: \\n\", rf_conf_mat)"
   ]
  },
  {
   "cell_type": "code",
   "execution_count": null,
   "id": "e8aee519",
   "metadata": {},
   "outputs": [],
   "source": [
    "CR = classification_report(Y_test,y_pred, digits= 4)\n",
    "print(CR)"
   ]
  },
  {
   "cell_type": "code",
   "execution_count": null,
   "id": "8193d00a",
   "metadata": {},
   "outputs": [],
   "source": []
  },
  {
   "cell_type": "code",
   "execution_count": null,
   "id": "df014ac2",
   "metadata": {},
   "outputs": [
    {
     "name": "stdout",
     "output_type": "stream",
     "text": [
      "Timer Begin\n",
      "  4844/120600 [>.............................] - ETA: 8:12 - loss: 0.1573 - accuracy: 0.9537"
     ]
    }
   ],
   "source": [
    "from keras.callbacks import EarlyStopping\n",
    "import time\n",
    "\n",
    "start = time.time()\n",
    "print(\"Timer Begin\")\n",
    "\n",
    "model.fit(X_train,Y_train,batch_size=30,epochs=1,\n",
    "          validation_split=0.1, callbacks=[EarlyStopping(monitor='loss',patience=2)])\n",
    "\n",
    "end = time.time()\n",
    "print(end - start)"
   ]
  },
  {
   "cell_type": "code",
   "execution_count": null,
   "id": "e82d5cdb",
   "metadata": {},
   "outputs": [],
   "source": [
    "model.save('org1_5e.h5')"
   ]
  },
  {
   "cell_type": "code",
   "execution_count": null,
   "id": "493f7ea0",
   "metadata": {},
   "outputs": [],
   "source": [
    "y_pred = model.predict(X_test)\n",
    "y_pred = y_pred.argmax(axis=1)"
   ]
  },
  {
   "cell_type": "code",
   "execution_count": null,
   "id": "ad2ee65b",
   "metadata": {},
   "outputs": [],
   "source": [
    "rf_conf_mat = confusion_matrix(Y_test, y_pred)\n",
    "print(\"Transfer learning confusion matrix: \\n\", rf_conf_mat)"
   ]
  },
  {
   "cell_type": "code",
   "execution_count": null,
   "id": "5a9ac85c",
   "metadata": {},
   "outputs": [],
   "source": [
    "CR = classification_report(Y_test,y_pred, digits= 4)\n",
    "print(CR)"
   ]
  },
  {
   "cell_type": "code",
   "execution_count": null,
   "id": "346e0582",
   "metadata": {},
   "outputs": [],
   "source": []
  },
  {
   "cell_type": "code",
   "execution_count": null,
   "id": "0524f43e",
   "metadata": {},
   "outputs": [
    {
     "name": "stdout",
     "output_type": "stream",
     "text": [
      "Timer Begin\n",
      "  4844/120600 [>.............................] - ETA: 8:12 - loss: 0.1573 - accuracy: 0.9537"
     ]
    }
   ],
   "source": [
    "from keras.callbacks import EarlyStopping\n",
    "import time\n",
    "\n",
    "start = time.time()\n",
    "print(\"Timer Begin\")\n",
    "\n",
    "model.fit(X_train,Y_train,batch_size=30,epochs=1,\n",
    "          validation_split=0.1, callbacks=[EarlyStopping(monitor='loss',patience=2)])\n",
    "\n",
    "end = time.time()\n",
    "print(end - start)"
   ]
  },
  {
   "cell_type": "code",
   "execution_count": null,
   "id": "c4fb8869",
   "metadata": {},
   "outputs": [],
   "source": [
    "model.save('org1_6e.h5')"
   ]
  },
  {
   "cell_type": "code",
   "execution_count": null,
   "id": "2c028371",
   "metadata": {},
   "outputs": [],
   "source": [
    "y_pred = model.predict(X_test)\n",
    "y_pred = y_pred.argmax(axis=1)"
   ]
  },
  {
   "cell_type": "code",
   "execution_count": null,
   "id": "e60a0e2d",
   "metadata": {},
   "outputs": [],
   "source": [
    "rf_conf_mat = confusion_matrix(Y_test, y_pred)\n",
    "print(\"Transfer learning confusion matrix: \\n\", rf_conf_mat)"
   ]
  },
  {
   "cell_type": "code",
   "execution_count": null,
   "id": "5f901df8",
   "metadata": {},
   "outputs": [],
   "source": [
    "CR = classification_report(Y_test,y_pred, digits= 4)\n",
    "print(CR)"
   ]
  },
  {
   "cell_type": "code",
   "execution_count": null,
   "id": "2cbe0d9c",
   "metadata": {},
   "outputs": [],
   "source": []
  },
  {
   "cell_type": "code",
   "execution_count": null,
   "id": "377cf062",
   "metadata": {},
   "outputs": [
    {
     "name": "stdout",
     "output_type": "stream",
     "text": [
      "Timer Begin\n",
      "  4844/120600 [>.............................] - ETA: 8:12 - loss: 0.1573 - accuracy: 0.9537"
     ]
    }
   ],
   "source": [
    "from keras.callbacks import EarlyStopping\n",
    "import time\n",
    "\n",
    "start = time.time()\n",
    "print(\"Timer Begin\")\n",
    "\n",
    "model.fit(X_train,Y_train,batch_size=30,epochs=1,\n",
    "          validation_split=0.1, callbacks=[EarlyStopping(monitor='loss',patience=2)])\n",
    "\n",
    "end = time.time()\n",
    "print(end - start)"
   ]
  },
  {
   "cell_type": "code",
   "execution_count": null,
   "id": "98db71ed",
   "metadata": {},
   "outputs": [],
   "source": [
    "model.save('org1_7e.h5')"
   ]
  },
  {
   "cell_type": "code",
   "execution_count": null,
   "id": "dc215f16",
   "metadata": {},
   "outputs": [],
   "source": [
    "y_pred = model.predict(X_test)\n",
    "y_pred = y_pred.argmax(axis=1)"
   ]
  },
  {
   "cell_type": "code",
   "execution_count": null,
   "id": "2c4f8626",
   "metadata": {},
   "outputs": [],
   "source": [
    "rf_conf_mat = confusion_matrix(Y_test, y_pred)\n",
    "print(\"Transfer learning confusion matrix: \\n\", rf_conf_mat)"
   ]
  },
  {
   "cell_type": "code",
   "execution_count": null,
   "id": "3f390905",
   "metadata": {},
   "outputs": [],
   "source": [
    "CR = classification_report(Y_test,y_pred, digits= 4)\n",
    "print(CR)"
   ]
  },
  {
   "cell_type": "code",
   "execution_count": null,
   "id": "e3ecf6f2",
   "metadata": {},
   "outputs": [],
   "source": []
  },
  {
   "cell_type": "code",
   "execution_count": null,
   "id": "074e5291",
   "metadata": {},
   "outputs": [
    {
     "name": "stdout",
     "output_type": "stream",
     "text": [
      "Timer Begin\n",
      "  4844/120600 [>.............................] - ETA: 8:12 - loss: 0.1573 - accuracy: 0.9537"
     ]
    }
   ],
   "source": [
    "from keras.callbacks import EarlyStopping\n",
    "import time\n",
    "\n",
    "start = time.time()\n",
    "print(\"Timer Begin\")\n",
    "\n",
    "model.fit(X_train,Y_train,batch_size=30,epochs=1,\n",
    "          validation_split=0.1, callbacks=[EarlyStopping(monitor='loss',patience=2)])\n",
    "\n",
    "end = time.time()\n",
    "print(end - start)"
   ]
  },
  {
   "cell_type": "code",
   "execution_count": null,
   "id": "a46c7cf1",
   "metadata": {},
   "outputs": [],
   "source": [
    "model.save('org1_8e.h5')"
   ]
  },
  {
   "cell_type": "code",
   "execution_count": null,
   "id": "df213109",
   "metadata": {},
   "outputs": [],
   "source": [
    "y_pred = model.predict(X_test)\n",
    "y_pred = y_pred.argmax(axis=1)"
   ]
  },
  {
   "cell_type": "code",
   "execution_count": null,
   "id": "262834e4",
   "metadata": {},
   "outputs": [],
   "source": [
    "rf_conf_mat = confusion_matrix(Y_test, y_pred)\n",
    "print(\"Transfer learning confusion matrix: \\n\", rf_conf_mat)"
   ]
  },
  {
   "cell_type": "code",
   "execution_count": null,
   "id": "f8363fcc",
   "metadata": {},
   "outputs": [],
   "source": [
    "CR = classification_report(Y_test,y_pred, digits= 4)\n",
    "print(CR)"
   ]
  },
  {
   "cell_type": "code",
   "execution_count": null,
   "id": "8f615519",
   "metadata": {},
   "outputs": [],
   "source": []
  }
 ],
 "metadata": {
  "kernelspec": {
   "display_name": "Python 3 (ipykernel)",
   "language": "python",
   "name": "python3"
  },
  "language_info": {
   "codemirror_mode": {
    "name": "ipython",
    "version": 3
   },
   "file_extension": ".py",
   "mimetype": "text/x-python",
   "name": "python",
   "nbconvert_exporter": "python",
   "pygments_lexer": "ipython3",
   "version": "3.9.12"
  }
 },
 "nbformat": 4,
 "nbformat_minor": 5
}

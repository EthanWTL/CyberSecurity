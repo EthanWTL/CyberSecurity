{
 "cells": [
  {
   "cell_type": "code",
   "execution_count": 1,
   "id": "6fc3cb8f",
   "metadata": {},
   "outputs": [],
   "source": [
    "import numpy as np\n",
    "import pandas as pd"
   ]
  },
  {
   "cell_type": "code",
   "execution_count": 2,
   "id": "681ac80b",
   "metadata": {},
   "outputs": [],
   "source": [
    "ddos = pd.read_csv('Data/ddos_org1.csv')"
   ]
  },
  {
   "cell_type": "code",
   "execution_count": 3,
   "id": "f9c83326",
   "metadata": {},
   "outputs": [
    {
     "data": {
      "text/plain": [
       "Index(['Unnamed: 0', 'FlowDuration', 'TotalFwdPackets', 'TotalBackwardPackets',\n",
       "       'TotalLengthofFwdPackets', 'TotalLengthofBwdPackets',\n",
       "       'FwdPacketLengthMax', 'FwdPacketLengthMin', 'FwdPacketLengthMean',\n",
       "       'FwdPacketLengthStd', 'BwdPacketLengthMax', 'BwdPacketLengthMin',\n",
       "       'BwdPacketLengthMean', 'BwdPacketLengthStd', 'FlowBytes/s',\n",
       "       'FlowPackets/s', 'FlowIATMean', 'FlowIATStd', 'FlowIATMax',\n",
       "       'FlowIATMin', 'FwdIATTotal', 'FwdIATMean', 'FwdIATStd', 'FwdIATMax',\n",
       "       'FwdIATMin', 'BwdIATTotal', 'BwdIATMean', 'BwdIATStd', 'BwdIATMax',\n",
       "       'BwdIATMin', 'FwdPSHFlags', 'BwdPSHFlags', 'FwdURGFlags', 'BwdURGFlags',\n",
       "       'FwdHeaderLength', 'BwdHeaderLength', 'FwdPackets/s', 'BwdPackets/s',\n",
       "       'MinPacketLength', 'MaxPacketLength', 'PacketLengthMean',\n",
       "       'PacketLengthStd', 'PacketLengthVariance', 'FINFlagCount',\n",
       "       'SYNFlagCount', 'RSTFlagCount', 'PSHFlagCount', 'ACKFlagCount',\n",
       "       'URGFlagCount', 'CWEFlagCount', 'ECEFlagCount', 'Down/UpRatio',\n",
       "       'AveragePacketSize', 'AvgFwdSegmentSize', 'AvgBwdSegmentSize',\n",
       "       'FwdHeaderLength.1', 'FwdAvgBytes/Bulk', 'FwdAvgPackets/Bulk',\n",
       "       'FwdAvgBulkRate', 'BwdAvgBytes/Bulk', 'BwdAvgPackets/Bulk',\n",
       "       'BwdAvgBulkRate', 'SubflowFwdPackets', 'SubflowFwdBytes',\n",
       "       'SubflowBwdPackets', 'SubflowBwdBytes', 'Init_Win_bytes_forward',\n",
       "       'Init_Win_bytes_backward', 'act_data_pkt_fwd', 'min_seg_size_forward',\n",
       "       'ActiveMean', 'ActiveStd', 'ActiveMax', 'ActiveMin', 'IdleMean',\n",
       "       'IdleStd', 'IdleMax', 'IdleMin', 'Label'],\n",
       "      dtype='object')"
      ]
     },
     "execution_count": 3,
     "metadata": {},
     "output_type": "execute_result"
    }
   ],
   "source": [
    "ddos.columns"
   ]
  },
  {
   "cell_type": "code",
   "execution_count": 4,
   "id": "7e2e4263",
   "metadata": {},
   "outputs": [],
   "source": [
    "ddos = ddos.drop(columns = ['Unnamed: 0'])"
   ]
  },
  {
   "cell_type": "code",
   "execution_count": 6,
   "id": "7bff45fb",
   "metadata": {},
   "outputs": [],
   "source": [
    "X = ddos.iloc[:, 0:-1]\n",
    "y = ddos.iloc[:, -1]"
   ]
  },
  {
   "cell_type": "code",
   "execution_count": 7,
   "id": "4fe24e78",
   "metadata": {},
   "outputs": [],
   "source": [
    "from sklearn.model_selection import train_test_split\n",
    "X_train, X_test, Y_train, Y_test = train_test_split(X, y, test_size = 0.33, random_state = 42)"
   ]
  },
  {
   "cell_type": "code",
   "execution_count": 8,
   "id": "e43d28b1",
   "metadata": {},
   "outputs": [],
   "source": [
    "from sklearn.preprocessing import StandardScaler\n",
    "scaler = StandardScaler().fit(X_train)\n",
    "X_train = scaler.transform(X_train)\n",
    "X_test = scaler.transform(X_test)"
   ]
  },
  {
   "cell_type": "code",
   "execution_count": 9,
   "id": "22c2e5ac",
   "metadata": {},
   "outputs": [],
   "source": [
    "from keras.utils import np_utils\n",
    "X_train=np.expand_dims(X_train,axis=2)\n",
    "X_test = np.expand_dims(X_test, axis = 2)"
   ]
  },
  {
   "cell_type": "code",
   "execution_count": 10,
   "id": "74d204f5",
   "metadata": {},
   "outputs": [],
   "source": [
    "from tensorflow import keras"
   ]
  },
  {
   "cell_type": "markdown",
   "id": "77e0ab0d",
   "metadata": {},
   "source": [
    "# 0 freeze"
   ]
  },
  {
   "cell_type": "code",
   "execution_count": null,
   "id": "0fc21e12",
   "metadata": {},
   "outputs": [],
   "source": [
    "model = keras.models.load_model('models/TL_org1_0f_1e.h5')"
   ]
  },
  {
   "cell_type": "code",
   "execution_count": null,
   "id": "9686ce39",
   "metadata": {},
   "outputs": [],
   "source": [
    "y_pred = model.predict(X_test)\n",
    "y_pred = y_pred.argmax(axis=1)"
   ]
  },
  {
   "cell_type": "code",
   "execution_count": null,
   "id": "889a39b9",
   "metadata": {},
   "outputs": [],
   "source": [
    "rf_conf_mat = confusion_matrix(Y_test, y_pred)\n",
    "print(\"Transfer learning confusion matrix: \\n\", rf_conf_mat)"
   ]
  },
  {
   "cell_type": "code",
   "execution_count": null,
   "id": "f08314ae",
   "metadata": {},
   "outputs": [],
   "source": [
    "CR = classification_report(Y_test,y_pred,digits= 4)\n",
    "print(CR)"
   ]
  },
  {
   "cell_type": "code",
   "execution_count": null,
   "id": "f1d1cfba",
   "metadata": {},
   "outputs": [],
   "source": []
  },
  {
   "cell_type": "code",
   "execution_count": null,
   "id": "0fca0c99",
   "metadata": {},
   "outputs": [],
   "source": [
    "model = keras.models.load_model('models/TL_org1_0f_2e.h5')"
   ]
  },
  {
   "cell_type": "code",
   "execution_count": null,
   "id": "1ec79707",
   "metadata": {},
   "outputs": [],
   "source": [
    "y_pred = model.predict(X_test)\n",
    "y_pred = y_pred.argmax(axis=1)"
   ]
  },
  {
   "cell_type": "code",
   "execution_count": null,
   "id": "66b826b3",
   "metadata": {},
   "outputs": [],
   "source": [
    "rf_conf_mat = confusion_matrix(Y_test, y_pred)\n",
    "print(\"Transfer learning confusion matrix: \\n\", rf_conf_mat)"
   ]
  },
  {
   "cell_type": "code",
   "execution_count": null,
   "id": "9882610f",
   "metadata": {},
   "outputs": [],
   "source": [
    "CR = classification_report(Y_test,y_pred,digits= 4)\n",
    "print(CR)"
   ]
  },
  {
   "cell_type": "code",
   "execution_count": null,
   "id": "7d083ed0",
   "metadata": {},
   "outputs": [],
   "source": []
  },
  {
   "cell_type": "code",
   "execution_count": null,
   "id": "4aa75894",
   "metadata": {},
   "outputs": [],
   "source": [
    "model = keras.models.load_model('models/TL_org1_0f_3e.h5')"
   ]
  },
  {
   "cell_type": "code",
   "execution_count": null,
   "id": "616cf2a5",
   "metadata": {},
   "outputs": [],
   "source": [
    "y_pred = model.predict(X_test)\n",
    "y_pred = y_pred.argmax(axis=1)"
   ]
  },
  {
   "cell_type": "code",
   "execution_count": null,
   "id": "31b37ac4",
   "metadata": {},
   "outputs": [],
   "source": [
    "rf_conf_mat = confusion_matrix(Y_test, y_pred)\n",
    "print(\"Transfer learning confusion matrix: \\n\", rf_conf_mat)"
   ]
  },
  {
   "cell_type": "code",
   "execution_count": null,
   "id": "b265c2dc",
   "metadata": {},
   "outputs": [],
   "source": [
    "CR = classification_report(Y_test,y_pred,digits= 4)\n",
    "print(CR)"
   ]
  },
  {
   "cell_type": "code",
   "execution_count": null,
   "id": "50ceb810",
   "metadata": {},
   "outputs": [],
   "source": []
  },
  {
   "cell_type": "code",
   "execution_count": null,
   "id": "36e2ecd9",
   "metadata": {},
   "outputs": [],
   "source": [
    "model = keras.models.load_model('models/TL_org1_0f_4e.h5')"
   ]
  },
  {
   "cell_type": "code",
   "execution_count": null,
   "id": "beaecf1a",
   "metadata": {},
   "outputs": [],
   "source": [
    "y_pred = model.predict(X_test)\n",
    "y_pred = y_pred.argmax(axis=1)"
   ]
  },
  {
   "cell_type": "code",
   "execution_count": null,
   "id": "4dc164d7",
   "metadata": {},
   "outputs": [],
   "source": [
    "rf_conf_mat = confusion_matrix(Y_test, y_pred)\n",
    "print(\"Transfer learning confusion matrix: \\n\", rf_conf_mat)"
   ]
  },
  {
   "cell_type": "code",
   "execution_count": null,
   "id": "d4c5c3f5",
   "metadata": {},
   "outputs": [],
   "source": [
    "CR = classification_report(Y_test,y_pred,digits= 4)\n",
    "print(CR)"
   ]
  },
  {
   "cell_type": "code",
   "execution_count": null,
   "id": "1f276aea",
   "metadata": {},
   "outputs": [],
   "source": []
  },
  {
   "cell_type": "code",
   "execution_count": null,
   "id": "35475905",
   "metadata": {},
   "outputs": [],
   "source": [
    "model = keras.models.load_model('models/TL_org1_0f_5e.h5')"
   ]
  },
  {
   "cell_type": "code",
   "execution_count": null,
   "id": "418f0ed1",
   "metadata": {},
   "outputs": [],
   "source": [
    "y_pred = model.predict(X_test)\n",
    "y_pred = y_pred.argmax(axis=1)"
   ]
  },
  {
   "cell_type": "code",
   "execution_count": null,
   "id": "ee5ace88",
   "metadata": {},
   "outputs": [],
   "source": [
    "rf_conf_mat = confusion_matrix(Y_test, y_pred)\n",
    "print(\"Transfer learning confusion matrix: \\n\", rf_conf_mat)"
   ]
  },
  {
   "cell_type": "code",
   "execution_count": null,
   "id": "73cf6178",
   "metadata": {},
   "outputs": [],
   "source": [
    "CR = classification_report(Y_test,y_pred,digits= 4)\n",
    "print(CR)"
   ]
  },
  {
   "cell_type": "code",
   "execution_count": null,
   "id": "2fa0cc32",
   "metadata": {},
   "outputs": [],
   "source": []
  },
  {
   "cell_type": "code",
   "execution_count": null,
   "id": "62b6bca5",
   "metadata": {},
   "outputs": [],
   "source": [
    "model = keras.models.load_model('models/TL_org1_0f_6e.h5')"
   ]
  },
  {
   "cell_type": "code",
   "execution_count": null,
   "id": "24c1c087",
   "metadata": {},
   "outputs": [],
   "source": [
    "y_pred = model.predict(X_test)\n",
    "y_pred = y_pred.argmax(axis=1)"
   ]
  },
  {
   "cell_type": "code",
   "execution_count": null,
   "id": "c1c512a2",
   "metadata": {},
   "outputs": [],
   "source": [
    "rf_conf_mat = confusion_matrix(Y_test, y_pred)\n",
    "print(\"Transfer learning confusion matrix: \\n\", rf_conf_mat)"
   ]
  },
  {
   "cell_type": "code",
   "execution_count": null,
   "id": "37095a16",
   "metadata": {},
   "outputs": [],
   "source": [
    "CR = classification_report(Y_test,y_pred,digits= 4)\n",
    "print(CR)"
   ]
  },
  {
   "cell_type": "code",
   "execution_count": null,
   "id": "c72a415d",
   "metadata": {},
   "outputs": [],
   "source": []
  },
  {
   "cell_type": "code",
   "execution_count": null,
   "id": "ff1ba364",
   "metadata": {},
   "outputs": [],
   "source": [
    "model = keras.models.load_model('models/TL_org1_0f_7e.h5')"
   ]
  },
  {
   "cell_type": "code",
   "execution_count": null,
   "id": "5e3c4a40",
   "metadata": {},
   "outputs": [],
   "source": [
    "y_pred = model.predict(X_test)\n",
    "y_pred = y_pred.argmax(axis=1)"
   ]
  },
  {
   "cell_type": "code",
   "execution_count": null,
   "id": "1e031feb",
   "metadata": {},
   "outputs": [],
   "source": [
    "rf_conf_mat = confusion_matrix(Y_test, y_pred)\n",
    "print(\"Transfer learning confusion matrix: \\n\", rf_conf_mat)"
   ]
  },
  {
   "cell_type": "code",
   "execution_count": null,
   "id": "cd1047f3",
   "metadata": {},
   "outputs": [],
   "source": [
    "CR = classification_report(Y_test,y_pred,digits= 4)\n",
    "print(CR)"
   ]
  },
  {
   "cell_type": "code",
   "execution_count": null,
   "id": "86a797a2",
   "metadata": {},
   "outputs": [],
   "source": []
  },
  {
   "cell_type": "code",
   "execution_count": null,
   "id": "4729df48",
   "metadata": {},
   "outputs": [],
   "source": [
    "model = keras.models.load_model('models/TL_org1_0f_8e.h5')"
   ]
  },
  {
   "cell_type": "code",
   "execution_count": null,
   "id": "22844d3e",
   "metadata": {},
   "outputs": [],
   "source": [
    "y_pred = model.predict(X_test)\n",
    "y_pred = y_pred.argmax(axis=1)"
   ]
  },
  {
   "cell_type": "code",
   "execution_count": null,
   "id": "b02854b9",
   "metadata": {},
   "outputs": [],
   "source": [
    "rf_conf_mat = confusion_matrix(Y_test, y_pred)\n",
    "print(\"Transfer learning confusion matrix: \\n\", rf_conf_mat)"
   ]
  },
  {
   "cell_type": "code",
   "execution_count": null,
   "id": "1f457498",
   "metadata": {},
   "outputs": [],
   "source": [
    "CR = classification_report(Y_test,y_pred,digits= 4)\n",
    "print(CR)"
   ]
  },
  {
   "cell_type": "code",
   "execution_count": null,
   "id": "6f802a17",
   "metadata": {},
   "outputs": [],
   "source": []
  },
  {
   "cell_type": "markdown",
   "id": "d5fa08ef",
   "metadata": {},
   "source": [
    "# 1 freeze"
   ]
  },
  {
   "cell_type": "code",
   "execution_count": null,
   "id": "be3b74d9",
   "metadata": {},
   "outputs": [],
   "source": [
    "model = keras.models.load_model('models/TL_org1_1f_1e.h5')"
   ]
  },
  {
   "cell_type": "code",
   "execution_count": null,
   "id": "a343ec8d",
   "metadata": {},
   "outputs": [],
   "source": [
    "y_pred = model.predict(X_test)\n",
    "y_pred = y_pred.argmax(axis=1)"
   ]
  },
  {
   "cell_type": "code",
   "execution_count": null,
   "id": "fd9e3dff",
   "metadata": {},
   "outputs": [],
   "source": [
    "rf_conf_mat = confusion_matrix(Y_test, y_pred)\n",
    "print(\"Transfer learning confusion matrix: \\n\", rf_conf_mat)"
   ]
  },
  {
   "cell_type": "code",
   "execution_count": null,
   "id": "c0e4fb66",
   "metadata": {},
   "outputs": [],
   "source": [
    "CR = classification_report(Y_test,y_pred,digits= 4)\n",
    "print(CR)"
   ]
  },
  {
   "cell_type": "code",
   "execution_count": null,
   "id": "d5654a5f",
   "metadata": {},
   "outputs": [],
   "source": []
  },
  {
   "cell_type": "code",
   "execution_count": null,
   "id": "36220b51",
   "metadata": {},
   "outputs": [],
   "source": [
    "model = keras.models.load_model('models/TL_org1_1f_2e.h5')"
   ]
  },
  {
   "cell_type": "code",
   "execution_count": null,
   "id": "5023e69c",
   "metadata": {},
   "outputs": [],
   "source": [
    "y_pred = model.predict(X_test)\n",
    "y_pred = y_pred.argmax(axis=1)"
   ]
  },
  {
   "cell_type": "code",
   "execution_count": null,
   "id": "c7aec1ec",
   "metadata": {},
   "outputs": [],
   "source": [
    "rf_conf_mat = confusion_matrix(Y_test, y_pred)\n",
    "print(\"Transfer learning confusion matrix: \\n\", rf_conf_mat)"
   ]
  },
  {
   "cell_type": "code",
   "execution_count": null,
   "id": "3dc5fe19",
   "metadata": {},
   "outputs": [],
   "source": [
    "CR = classification_report(Y_test,y_pred,digits= 4)\n",
    "print(CR)"
   ]
  },
  {
   "cell_type": "code",
   "execution_count": null,
   "id": "5548b618",
   "metadata": {},
   "outputs": [],
   "source": []
  },
  {
   "cell_type": "code",
   "execution_count": null,
   "id": "8e9ef38f",
   "metadata": {},
   "outputs": [],
   "source": [
    "model = keras.models.load_model('models/TL_org1_1f_3e.h5')"
   ]
  },
  {
   "cell_type": "code",
   "execution_count": null,
   "id": "635810cc",
   "metadata": {},
   "outputs": [],
   "source": [
    "y_pred = model.predict(X_test)\n",
    "y_pred = y_pred.argmax(axis=1)"
   ]
  },
  {
   "cell_type": "code",
   "execution_count": null,
   "id": "52360fe6",
   "metadata": {},
   "outputs": [],
   "source": [
    "rf_conf_mat = confusion_matrix(Y_test, y_pred)\n",
    "print(\"Transfer learning confusion matrix: \\n\", rf_conf_mat)"
   ]
  },
  {
   "cell_type": "code",
   "execution_count": null,
   "id": "cfde7fc4",
   "metadata": {},
   "outputs": [],
   "source": [
    "CR = classification_report(Y_test,y_pred,digits= 4)\n",
    "print(CR)"
   ]
  },
  {
   "cell_type": "code",
   "execution_count": null,
   "id": "9563c5c0",
   "metadata": {},
   "outputs": [],
   "source": []
  },
  {
   "cell_type": "code",
   "execution_count": null,
   "id": "131d407d",
   "metadata": {},
   "outputs": [],
   "source": [
    "model = keras.models.load_model('models/TL_org1_1f_4e.h5')"
   ]
  },
  {
   "cell_type": "code",
   "execution_count": null,
   "id": "dea334ab",
   "metadata": {},
   "outputs": [],
   "source": [
    "y_pred = model.predict(X_test)\n",
    "y_pred = y_pred.argmax(axis=1)"
   ]
  },
  {
   "cell_type": "code",
   "execution_count": null,
   "id": "857cb90a",
   "metadata": {},
   "outputs": [],
   "source": [
    "rf_conf_mat = confusion_matrix(Y_test, y_pred)\n",
    "print(\"Transfer learning confusion matrix: \\n\", rf_conf_mat)"
   ]
  },
  {
   "cell_type": "code",
   "execution_count": null,
   "id": "a73944e7",
   "metadata": {},
   "outputs": [],
   "source": [
    "CR = classification_report(Y_test,y_pred,digits= 4)\n",
    "print(CR)"
   ]
  },
  {
   "cell_type": "code",
   "execution_count": null,
   "id": "b5bacaf8",
   "metadata": {},
   "outputs": [],
   "source": []
  },
  {
   "cell_type": "code",
   "execution_count": null,
   "id": "2e05182d",
   "metadata": {},
   "outputs": [],
   "source": [
    "model = keras.models.load_model('models/TL_org1_1f_5e.h5')"
   ]
  },
  {
   "cell_type": "code",
   "execution_count": null,
   "id": "cc91043d",
   "metadata": {},
   "outputs": [],
   "source": [
    "y_pred = model.predict(X_test)\n",
    "y_pred = y_pred.argmax(axis=1)"
   ]
  },
  {
   "cell_type": "code",
   "execution_count": null,
   "id": "138d7a0b",
   "metadata": {},
   "outputs": [],
   "source": [
    "rf_conf_mat = confusion_matrix(Y_test, y_pred)\n",
    "print(\"Transfer learning confusion matrix: \\n\", rf_conf_mat)"
   ]
  },
  {
   "cell_type": "code",
   "execution_count": null,
   "id": "89930bf3",
   "metadata": {},
   "outputs": [],
   "source": [
    "CR = classification_report(Y_test,y_pred,digits= 4)\n",
    "print(CR)"
   ]
  },
  {
   "cell_type": "code",
   "execution_count": null,
   "id": "2d8531e9",
   "metadata": {},
   "outputs": [],
   "source": []
  },
  {
   "cell_type": "code",
   "execution_count": null,
   "id": "7e9eda8a",
   "metadata": {},
   "outputs": [],
   "source": [
    "model = keras.models.load_model('models/TL_org1_1f_6e.h5')"
   ]
  },
  {
   "cell_type": "code",
   "execution_count": null,
   "id": "0b0fec1e",
   "metadata": {},
   "outputs": [],
   "source": [
    "y_pred = model.predict(X_test)\n",
    "y_pred = y_pred.argmax(axis=1)"
   ]
  },
  {
   "cell_type": "code",
   "execution_count": null,
   "id": "383ce1e4",
   "metadata": {},
   "outputs": [],
   "source": [
    "rf_conf_mat = confusion_matrix(Y_test, y_pred)\n",
    "print(\"Transfer learning confusion matrix: \\n\", rf_conf_mat)"
   ]
  },
  {
   "cell_type": "code",
   "execution_count": null,
   "id": "5cccb41e",
   "metadata": {},
   "outputs": [],
   "source": [
    "CR = classification_report(Y_test,y_pred,digits= 4)\n",
    "print(CR)"
   ]
  },
  {
   "cell_type": "code",
   "execution_count": null,
   "id": "2fe84e91",
   "metadata": {},
   "outputs": [],
   "source": []
  },
  {
   "cell_type": "code",
   "execution_count": null,
   "id": "6c52f08b",
   "metadata": {},
   "outputs": [],
   "source": [
    "model = keras.models.load_model('models/TL_org1_1f_7e.h5')"
   ]
  },
  {
   "cell_type": "code",
   "execution_count": null,
   "id": "a5e2c29d",
   "metadata": {},
   "outputs": [],
   "source": [
    "y_pred = model.predict(X_test)\n",
    "y_pred = y_pred.argmax(axis=1)"
   ]
  },
  {
   "cell_type": "code",
   "execution_count": null,
   "id": "98ef522e",
   "metadata": {},
   "outputs": [],
   "source": [
    "rf_conf_mat = confusion_matrix(Y_test, y_pred)\n",
    "print(\"Transfer learning confusion matrix: \\n\", rf_conf_mat)"
   ]
  },
  {
   "cell_type": "code",
   "execution_count": null,
   "id": "f16d9e4c",
   "metadata": {},
   "outputs": [],
   "source": [
    "CR = classification_report(Y_test,y_pred,digits= 4)\n",
    "print(CR)"
   ]
  },
  {
   "cell_type": "code",
   "execution_count": null,
   "id": "3623eab4",
   "metadata": {},
   "outputs": [],
   "source": []
  },
  {
   "cell_type": "code",
   "execution_count": null,
   "id": "bfd57045",
   "metadata": {},
   "outputs": [],
   "source": [
    "model = keras.models.load_model('models/TL_org1_1f_8e.h5')"
   ]
  },
  {
   "cell_type": "code",
   "execution_count": null,
   "id": "aaf1cdb8",
   "metadata": {},
   "outputs": [],
   "source": [
    "y_pred = model.predict(X_test)\n",
    "y_pred = y_pred.argmax(axis=1)"
   ]
  },
  {
   "cell_type": "code",
   "execution_count": null,
   "id": "57a3bf53",
   "metadata": {},
   "outputs": [],
   "source": [
    "rf_conf_mat = confusion_matrix(Y_test, y_pred)\n",
    "print(\"Transfer learning confusion matrix: \\n\", rf_conf_mat)"
   ]
  },
  {
   "cell_type": "code",
   "execution_count": null,
   "id": "b76a3c1c",
   "metadata": {},
   "outputs": [],
   "source": [
    "CR = classification_report(Y_test,y_pred,digits= 4)\n",
    "print(CR)"
   ]
  },
  {
   "cell_type": "code",
   "execution_count": null,
   "id": "b682dfb9",
   "metadata": {},
   "outputs": [],
   "source": []
  },
  {
   "cell_type": "code",
   "execution_count": null,
   "id": "54ef0034",
   "metadata": {},
   "outputs": [],
   "source": []
  },
  {
   "cell_type": "markdown",
   "id": "23ea0a6b",
   "metadata": {},
   "source": [
    "# 2 freeze"
   ]
  },
  {
   "cell_type": "code",
   "execution_count": null,
   "id": "fdbcbdf5",
   "metadata": {},
   "outputs": [],
   "source": [
    "model = keras.models.load_model('models/TL_org1_2f_1e.h5')"
   ]
  },
  {
   "cell_type": "code",
   "execution_count": null,
   "id": "3f4826f3",
   "metadata": {},
   "outputs": [],
   "source": [
    "y_pred = model.predict(X_test)\n",
    "y_pred = y_pred.argmax(axis=1)"
   ]
  },
  {
   "cell_type": "code",
   "execution_count": null,
   "id": "d5857b1a",
   "metadata": {},
   "outputs": [],
   "source": [
    "rf_conf_mat = confusion_matrix(Y_test, y_pred)\n",
    "print(\"Transfer learning confusion matrix: \\n\", rf_conf_mat)"
   ]
  },
  {
   "cell_type": "code",
   "execution_count": null,
   "id": "b4231e19",
   "metadata": {},
   "outputs": [],
   "source": [
    "CR = classification_report(Y_test,y_pred,digits= 4)\n",
    "print(CR)"
   ]
  },
  {
   "cell_type": "code",
   "execution_count": null,
   "id": "57cadfc7",
   "metadata": {},
   "outputs": [],
   "source": []
  },
  {
   "cell_type": "code",
   "execution_count": null,
   "id": "5ee343f6",
   "metadata": {},
   "outputs": [],
   "source": [
    "model = keras.models.load_model('models/TL_org1_2f_2e.h5')"
   ]
  },
  {
   "cell_type": "code",
   "execution_count": null,
   "id": "244d1b70",
   "metadata": {},
   "outputs": [],
   "source": [
    "y_pred = model.predict(X_test)\n",
    "y_pred = y_pred.argmax(axis=1)"
   ]
  },
  {
   "cell_type": "code",
   "execution_count": null,
   "id": "2cfd2c6c",
   "metadata": {},
   "outputs": [],
   "source": [
    "rf_conf_mat = confusion_matrix(Y_test, y_pred)\n",
    "print(\"Transfer learning confusion matrix: \\n\", rf_conf_mat)"
   ]
  },
  {
   "cell_type": "code",
   "execution_count": null,
   "id": "5af1c16e",
   "metadata": {},
   "outputs": [],
   "source": [
    "CR = classification_report(Y_test,y_pred,digits= 4)\n",
    "print(CR)"
   ]
  },
  {
   "cell_type": "code",
   "execution_count": null,
   "id": "4f8baea3",
   "metadata": {},
   "outputs": [],
   "source": []
  },
  {
   "cell_type": "code",
   "execution_count": null,
   "id": "95642dad",
   "metadata": {},
   "outputs": [],
   "source": [
    "model = keras.models.load_model('models/TL_org1_2f_3e.h5')"
   ]
  },
  {
   "cell_type": "code",
   "execution_count": null,
   "id": "1becc155",
   "metadata": {},
   "outputs": [],
   "source": [
    "y_pred = model.predict(X_test)\n",
    "y_pred = y_pred.argmax(axis=1)"
   ]
  },
  {
   "cell_type": "code",
   "execution_count": null,
   "id": "0fe6e9bf",
   "metadata": {},
   "outputs": [],
   "source": [
    "rf_conf_mat = confusion_matrix(Y_test, y_pred)\n",
    "print(\"Transfer learning confusion matrix: \\n\", rf_conf_mat)"
   ]
  },
  {
   "cell_type": "code",
   "execution_count": null,
   "id": "816e3ed2",
   "metadata": {},
   "outputs": [],
   "source": [
    "CR = classification_report(Y_test,y_pred,digits= 4)\n",
    "print(CR)"
   ]
  },
  {
   "cell_type": "code",
   "execution_count": null,
   "id": "6cacb379",
   "metadata": {},
   "outputs": [],
   "source": []
  },
  {
   "cell_type": "code",
   "execution_count": null,
   "id": "93eeb2dd",
   "metadata": {},
   "outputs": [],
   "source": [
    "model = keras.models.load_model('models/TL_org1_2f_4e.h5')"
   ]
  },
  {
   "cell_type": "code",
   "execution_count": null,
   "id": "d3aaab8e",
   "metadata": {},
   "outputs": [],
   "source": [
    "y_pred = model.predict(X_test)\n",
    "y_pred = y_pred.argmax(axis=1)"
   ]
  },
  {
   "cell_type": "code",
   "execution_count": null,
   "id": "b2de873a",
   "metadata": {},
   "outputs": [],
   "source": [
    "rf_conf_mat = confusion_matrix(Y_test, y_pred)\n",
    "print(\"Transfer learning confusion matrix: \\n\", rf_conf_mat)"
   ]
  },
  {
   "cell_type": "code",
   "execution_count": null,
   "id": "40a6021b",
   "metadata": {},
   "outputs": [],
   "source": [
    "CR = classification_report(Y_test,y_pred,digits= 4)\n",
    "print(CR)"
   ]
  },
  {
   "cell_type": "code",
   "execution_count": null,
   "id": "a0cdd065",
   "metadata": {},
   "outputs": [],
   "source": []
  },
  {
   "cell_type": "code",
   "execution_count": null,
   "id": "fa55d98e",
   "metadata": {},
   "outputs": [],
   "source": [
    "model = keras.models.load_model('models/TL_org1_2f_5e.h5')"
   ]
  },
  {
   "cell_type": "code",
   "execution_count": null,
   "id": "a39fec2d",
   "metadata": {},
   "outputs": [],
   "source": [
    "y_pred = model.predict(X_test)\n",
    "y_pred = y_pred.argmax(axis=1)"
   ]
  },
  {
   "cell_type": "code",
   "execution_count": null,
   "id": "9f24afe6",
   "metadata": {},
   "outputs": [],
   "source": [
    "rf_conf_mat = confusion_matrix(Y_test, y_pred)\n",
    "print(\"Transfer learning confusion matrix: \\n\", rf_conf_mat)"
   ]
  },
  {
   "cell_type": "code",
   "execution_count": null,
   "id": "81c474d0",
   "metadata": {},
   "outputs": [],
   "source": [
    "CR = classification_report(Y_test,y_pred,digits= 4)\n",
    "print(CR)"
   ]
  },
  {
   "cell_type": "code",
   "execution_count": null,
   "id": "e55ec396",
   "metadata": {},
   "outputs": [],
   "source": []
  },
  {
   "cell_type": "code",
   "execution_count": null,
   "id": "7d235262",
   "metadata": {},
   "outputs": [],
   "source": [
    "model = keras.models.load_model('models/TL_org1_2f_6e.h5')"
   ]
  },
  {
   "cell_type": "code",
   "execution_count": null,
   "id": "6075dd65",
   "metadata": {},
   "outputs": [],
   "source": [
    "y_pred = model.predict(X_test)\n",
    "y_pred = y_pred.argmax(axis=1)"
   ]
  },
  {
   "cell_type": "code",
   "execution_count": null,
   "id": "36af6b03",
   "metadata": {},
   "outputs": [],
   "source": [
    "rf_conf_mat = confusion_matrix(Y_test, y_pred)\n",
    "print(\"Transfer learning confusion matrix: \\n\", rf_conf_mat)"
   ]
  },
  {
   "cell_type": "code",
   "execution_count": null,
   "id": "1fe2aa1d",
   "metadata": {},
   "outputs": [],
   "source": [
    "CR = classification_report(Y_test,y_pred,digits= 4)\n",
    "print(CR)"
   ]
  },
  {
   "cell_type": "code",
   "execution_count": null,
   "id": "81c26d40",
   "metadata": {},
   "outputs": [],
   "source": []
  },
  {
   "cell_type": "code",
   "execution_count": null,
   "id": "7b7406ba",
   "metadata": {},
   "outputs": [],
   "source": [
    "model = keras.models.load_model('models/TL_org1_2f_7e.h5')"
   ]
  },
  {
   "cell_type": "code",
   "execution_count": null,
   "id": "d8c53b09",
   "metadata": {},
   "outputs": [],
   "source": [
    "y_pred = model.predict(X_test)\n",
    "y_pred = y_pred.argmax(axis=1)"
   ]
  },
  {
   "cell_type": "code",
   "execution_count": null,
   "id": "6ee05735",
   "metadata": {},
   "outputs": [],
   "source": [
    "rf_conf_mat = confusion_matrix(Y_test, y_pred)\n",
    "print(\"Transfer learning confusion matrix: \\n\", rf_conf_mat)"
   ]
  },
  {
   "cell_type": "code",
   "execution_count": null,
   "id": "fd88b94f",
   "metadata": {},
   "outputs": [],
   "source": [
    "CR = classification_report(Y_test,y_pred,digits= 4)\n",
    "print(CR)"
   ]
  },
  {
   "cell_type": "code",
   "execution_count": null,
   "id": "40199b25",
   "metadata": {},
   "outputs": [],
   "source": []
  },
  {
   "cell_type": "code",
   "execution_count": null,
   "id": "ee87642e",
   "metadata": {},
   "outputs": [],
   "source": [
    "model = keras.models.load_model('models/TL_org1_2f_8e.h5')"
   ]
  },
  {
   "cell_type": "code",
   "execution_count": null,
   "id": "4d8cb451",
   "metadata": {},
   "outputs": [],
   "source": [
    "y_pred = model.predict(X_test)\n",
    "y_pred = y_pred.argmax(axis=1)"
   ]
  },
  {
   "cell_type": "code",
   "execution_count": null,
   "id": "aa684bfc",
   "metadata": {},
   "outputs": [],
   "source": [
    "rf_conf_mat = confusion_matrix(Y_test, y_pred)\n",
    "print(\"Transfer learning confusion matrix: \\n\", rf_conf_mat)"
   ]
  },
  {
   "cell_type": "code",
   "execution_count": null,
   "id": "f3a3797f",
   "metadata": {},
   "outputs": [],
   "source": [
    "CR = classification_report(Y_test,y_pred,digits= 4)\n",
    "print(CR)"
   ]
  },
  {
   "cell_type": "code",
   "execution_count": null,
   "id": "ea8af3a1",
   "metadata": {},
   "outputs": [],
   "source": []
  },
  {
   "cell_type": "code",
   "execution_count": null,
   "id": "25db7d12",
   "metadata": {},
   "outputs": [],
   "source": []
  },
  {
   "cell_type": "markdown",
   "id": "86b7f4c4",
   "metadata": {},
   "source": [
    "# 3 freeze"
   ]
  },
  {
   "cell_type": "code",
   "execution_count": null,
   "id": "8bc46acf",
   "metadata": {},
   "outputs": [],
   "source": [
    "model = keras.models.load_model('models/TL_org1_3f_1e.h5')"
   ]
  },
  {
   "cell_type": "code",
   "execution_count": null,
   "id": "31872af4",
   "metadata": {},
   "outputs": [],
   "source": [
    "y_pred = model.predict(X_test)\n",
    "y_pred = y_pred.argmax(axis=1)"
   ]
  },
  {
   "cell_type": "code",
   "execution_count": null,
   "id": "fc99a2e6",
   "metadata": {},
   "outputs": [],
   "source": [
    "rf_conf_mat = confusion_matrix(Y_test, y_pred)\n",
    "print(\"Transfer learning confusion matrix: \\n\", rf_conf_mat)"
   ]
  },
  {
   "cell_type": "code",
   "execution_count": null,
   "id": "527f56a7",
   "metadata": {},
   "outputs": [],
   "source": [
    "CR = classification_report(Y_test,y_pred,digits= 4)\n",
    "print(CR)"
   ]
  },
  {
   "cell_type": "code",
   "execution_count": null,
   "id": "088df8ff",
   "metadata": {},
   "outputs": [],
   "source": []
  },
  {
   "cell_type": "code",
   "execution_count": null,
   "id": "941321f0",
   "metadata": {},
   "outputs": [],
   "source": [
    "model = keras.models.load_model('models/TL_org1_3f_2e.h5')"
   ]
  },
  {
   "cell_type": "code",
   "execution_count": null,
   "id": "f4012f63",
   "metadata": {},
   "outputs": [],
   "source": [
    "y_pred = model.predict(X_test)\n",
    "y_pred = y_pred.argmax(axis=1)"
   ]
  },
  {
   "cell_type": "code",
   "execution_count": null,
   "id": "9cdad6f2",
   "metadata": {},
   "outputs": [],
   "source": [
    "rf_conf_mat = confusion_matrix(Y_test, y_pred)\n",
    "print(\"Transfer learning confusion matrix: \\n\", rf_conf_mat)"
   ]
  },
  {
   "cell_type": "code",
   "execution_count": null,
   "id": "d1fd256f",
   "metadata": {},
   "outputs": [],
   "source": [
    "CR = classification_report(Y_test,y_pred,digits= 4)\n",
    "print(CR)"
   ]
  },
  {
   "cell_type": "code",
   "execution_count": null,
   "id": "0847d1a3",
   "metadata": {},
   "outputs": [],
   "source": []
  },
  {
   "cell_type": "code",
   "execution_count": null,
   "id": "8e008f86",
   "metadata": {},
   "outputs": [],
   "source": [
    "model = keras.models.load_model('models/TL_org1_3f_3e.h5')"
   ]
  },
  {
   "cell_type": "code",
   "execution_count": null,
   "id": "0f4140a3",
   "metadata": {},
   "outputs": [],
   "source": [
    "y_pred = model.predict(X_test)\n",
    "y_pred = y_pred.argmax(axis=1)"
   ]
  },
  {
   "cell_type": "code",
   "execution_count": null,
   "id": "d5b61f44",
   "metadata": {},
   "outputs": [],
   "source": [
    "rf_conf_mat = confusion_matrix(Y_test, y_pred)\n",
    "print(\"Transfer learning confusion matrix: \\n\", rf_conf_mat)"
   ]
  },
  {
   "cell_type": "code",
   "execution_count": null,
   "id": "dde30286",
   "metadata": {},
   "outputs": [],
   "source": [
    "CR = classification_report(Y_test,y_pred,digits= 4)\n",
    "print(CR)"
   ]
  },
  {
   "cell_type": "code",
   "execution_count": null,
   "id": "4a85d7d9",
   "metadata": {},
   "outputs": [],
   "source": []
  },
  {
   "cell_type": "code",
   "execution_count": null,
   "id": "2cf29ac9",
   "metadata": {},
   "outputs": [],
   "source": [
    "model = keras.models.load_model('models/TL_org1_3f_4e.h5')"
   ]
  },
  {
   "cell_type": "code",
   "execution_count": null,
   "id": "84061745",
   "metadata": {},
   "outputs": [],
   "source": [
    "y_pred = model.predict(X_test)\n",
    "y_pred = y_pred.argmax(axis=1)"
   ]
  },
  {
   "cell_type": "code",
   "execution_count": null,
   "id": "09ed3869",
   "metadata": {},
   "outputs": [],
   "source": [
    "rf_conf_mat = confusion_matrix(Y_test, y_pred)\n",
    "print(\"Transfer learning confusion matrix: \\n\", rf_conf_mat)"
   ]
  },
  {
   "cell_type": "code",
   "execution_count": null,
   "id": "e4a5d90d",
   "metadata": {},
   "outputs": [],
   "source": [
    "CR = classification_report(Y_test,y_pred,digits= 4)\n",
    "print(CR)"
   ]
  },
  {
   "cell_type": "code",
   "execution_count": null,
   "id": "d1af1900",
   "metadata": {},
   "outputs": [],
   "source": []
  },
  {
   "cell_type": "code",
   "execution_count": null,
   "id": "477a4816",
   "metadata": {},
   "outputs": [],
   "source": [
    "model = keras.models.load_model('models/TL_org1_3f_5e.h5')"
   ]
  },
  {
   "cell_type": "code",
   "execution_count": null,
   "id": "36ec5f62",
   "metadata": {},
   "outputs": [],
   "source": [
    "y_pred = model.predict(X_test)\n",
    "y_pred = y_pred.argmax(axis=1)"
   ]
  },
  {
   "cell_type": "code",
   "execution_count": null,
   "id": "1201af88",
   "metadata": {},
   "outputs": [],
   "source": [
    "rf_conf_mat = confusion_matrix(Y_test, y_pred)\n",
    "print(\"Transfer learning confusion matrix: \\n\", rf_conf_mat)"
   ]
  },
  {
   "cell_type": "code",
   "execution_count": null,
   "id": "2da9fc25",
   "metadata": {},
   "outputs": [],
   "source": [
    "CR = classification_report(Y_test,y_pred,digits= 4)\n",
    "print(CR)"
   ]
  },
  {
   "cell_type": "code",
   "execution_count": null,
   "id": "22851eb6",
   "metadata": {},
   "outputs": [],
   "source": []
  },
  {
   "cell_type": "code",
   "execution_count": null,
   "id": "85664d9b",
   "metadata": {},
   "outputs": [],
   "source": [
    "model = keras.models.load_model('models/TL_org1_3f_6e.h5')"
   ]
  },
  {
   "cell_type": "code",
   "execution_count": null,
   "id": "021869dc",
   "metadata": {},
   "outputs": [],
   "source": [
    "y_pred = model.predict(X_test)\n",
    "y_pred = y_pred.argmax(axis=1)"
   ]
  },
  {
   "cell_type": "code",
   "execution_count": null,
   "id": "5599bda8",
   "metadata": {},
   "outputs": [],
   "source": [
    "rf_conf_mat = confusion_matrix(Y_test, y_pred)\n",
    "print(\"Transfer learning confusion matrix: \\n\", rf_conf_mat)"
   ]
  },
  {
   "cell_type": "code",
   "execution_count": null,
   "id": "c6538187",
   "metadata": {},
   "outputs": [],
   "source": [
    "CR = classification_report(Y_test,y_pred,digits= 4)\n",
    "print(CR)"
   ]
  },
  {
   "cell_type": "code",
   "execution_count": null,
   "id": "8b78ca72",
   "metadata": {},
   "outputs": [],
   "source": []
  },
  {
   "cell_type": "code",
   "execution_count": null,
   "id": "49b0f20d",
   "metadata": {},
   "outputs": [],
   "source": [
    "model = keras.models.load_model('models/TL_org1_3f_7e.h5')"
   ]
  },
  {
   "cell_type": "code",
   "execution_count": null,
   "id": "6af5b306",
   "metadata": {},
   "outputs": [],
   "source": [
    "y_pred = model.predict(X_test)\n",
    "y_pred = y_pred.argmax(axis=1)"
   ]
  },
  {
   "cell_type": "code",
   "execution_count": null,
   "id": "7adadd6d",
   "metadata": {},
   "outputs": [],
   "source": [
    "rf_conf_mat = confusion_matrix(Y_test, y_pred)\n",
    "print(\"Transfer learning confusion matrix: \\n\", rf_conf_mat)"
   ]
  },
  {
   "cell_type": "code",
   "execution_count": null,
   "id": "d4a01603",
   "metadata": {},
   "outputs": [],
   "source": [
    "CR = classification_report(Y_test,y_pred,digits= 4)\n",
    "print(CR)"
   ]
  },
  {
   "cell_type": "code",
   "execution_count": null,
   "id": "96806be3",
   "metadata": {},
   "outputs": [],
   "source": []
  },
  {
   "cell_type": "code",
   "execution_count": null,
   "id": "2c924b76",
   "metadata": {},
   "outputs": [],
   "source": [
    "model = keras.models.load_model('models/TL_org1_3f_8e.h5')"
   ]
  },
  {
   "cell_type": "code",
   "execution_count": null,
   "id": "9f7d928d",
   "metadata": {},
   "outputs": [],
   "source": [
    "y_pred = model.predict(X_test)\n",
    "y_pred = y_pred.argmax(axis=1)"
   ]
  },
  {
   "cell_type": "code",
   "execution_count": null,
   "id": "e0bc0b12",
   "metadata": {},
   "outputs": [],
   "source": [
    "rf_conf_mat = confusion_matrix(Y_test, y_pred)\n",
    "print(\"Transfer learning confusion matrix: \\n\", rf_conf_mat)"
   ]
  },
  {
   "cell_type": "code",
   "execution_count": null,
   "id": "da9172fd",
   "metadata": {},
   "outputs": [],
   "source": [
    "CR = classification_report(Y_test,y_pred,digits= 4)\n",
    "print(CR)"
   ]
  },
  {
   "cell_type": "code",
   "execution_count": null,
   "id": "e030ad29",
   "metadata": {},
   "outputs": [],
   "source": []
  },
  {
   "cell_type": "code",
   "execution_count": null,
   "id": "79ae85cb",
   "metadata": {},
   "outputs": [],
   "source": []
  },
  {
   "cell_type": "markdown",
   "id": "019df0b8",
   "metadata": {},
   "source": [
    "# 4 freeze"
   ]
  },
  {
   "cell_type": "code",
   "execution_count": null,
   "id": "adafe135",
   "metadata": {},
   "outputs": [],
   "source": [
    "model = keras.models.load_model('models/TL_org1_4f_1e.h5')"
   ]
  },
  {
   "cell_type": "code",
   "execution_count": null,
   "id": "a1c0d65d",
   "metadata": {},
   "outputs": [],
   "source": [
    "y_pred = model.predict(X_test)\n",
    "y_pred = y_pred.argmax(axis=1)"
   ]
  },
  {
   "cell_type": "code",
   "execution_count": null,
   "id": "69ada4c9",
   "metadata": {},
   "outputs": [],
   "source": [
    "rf_conf_mat = confusion_matrix(Y_test, y_pred)\n",
    "print(\"Transfer learning confusion matrix: \\n\", rf_conf_mat)"
   ]
  },
  {
   "cell_type": "code",
   "execution_count": null,
   "id": "af8568fa",
   "metadata": {},
   "outputs": [],
   "source": [
    "CR = classification_report(Y_test,y_pred,digits= 4)\n",
    "print(CR)"
   ]
  },
  {
   "cell_type": "code",
   "execution_count": null,
   "id": "02931124",
   "metadata": {},
   "outputs": [],
   "source": []
  },
  {
   "cell_type": "code",
   "execution_count": null,
   "id": "7e76d586",
   "metadata": {},
   "outputs": [],
   "source": [
    "model = keras.models.load_model('models/TL_org1_4f_2e.h5')"
   ]
  },
  {
   "cell_type": "code",
   "execution_count": null,
   "id": "5f033641",
   "metadata": {},
   "outputs": [],
   "source": [
    "y_pred = model.predict(X_test)\n",
    "y_pred = y_pred.argmax(axis=1)"
   ]
  },
  {
   "cell_type": "code",
   "execution_count": null,
   "id": "a737503f",
   "metadata": {},
   "outputs": [],
   "source": [
    "rf_conf_mat = confusion_matrix(Y_test, y_pred)\n",
    "print(\"Transfer learning confusion matrix: \\n\", rf_conf_mat)"
   ]
  },
  {
   "cell_type": "code",
   "execution_count": null,
   "id": "20abe402",
   "metadata": {},
   "outputs": [],
   "source": [
    "CR = classification_report(Y_test,y_pred,digits= 4)\n",
    "print(CR)"
   ]
  },
  {
   "cell_type": "code",
   "execution_count": null,
   "id": "b80328b2",
   "metadata": {},
   "outputs": [],
   "source": []
  },
  {
   "cell_type": "code",
   "execution_count": null,
   "id": "0c10508a",
   "metadata": {},
   "outputs": [],
   "source": [
    "model = keras.models.load_model('models/TL_org1_4f_3e.h5')"
   ]
  },
  {
   "cell_type": "code",
   "execution_count": null,
   "id": "40557580",
   "metadata": {},
   "outputs": [],
   "source": [
    "y_pred = model.predict(X_test)\n",
    "y_pred = y_pred.argmax(axis=1)"
   ]
  },
  {
   "cell_type": "code",
   "execution_count": null,
   "id": "9484941f",
   "metadata": {},
   "outputs": [],
   "source": [
    "rf_conf_mat = confusion_matrix(Y_test, y_pred)\n",
    "print(\"Transfer learning confusion matrix: \\n\", rf_conf_mat)"
   ]
  },
  {
   "cell_type": "code",
   "execution_count": null,
   "id": "13986d37",
   "metadata": {},
   "outputs": [],
   "source": [
    "CR = classification_report(Y_test,y_pred,digits= 4)\n",
    "print(CR)"
   ]
  },
  {
   "cell_type": "code",
   "execution_count": null,
   "id": "6a85f97c",
   "metadata": {},
   "outputs": [],
   "source": []
  },
  {
   "cell_type": "code",
   "execution_count": null,
   "id": "7960aec9",
   "metadata": {},
   "outputs": [],
   "source": [
    "model = keras.models.load_model('models/TL_org1_4f_4e.h5')"
   ]
  },
  {
   "cell_type": "code",
   "execution_count": null,
   "id": "a3d639ad",
   "metadata": {},
   "outputs": [],
   "source": [
    "y_pred = model.predict(X_test)\n",
    "y_pred = y_pred.argmax(axis=1)"
   ]
  },
  {
   "cell_type": "code",
   "execution_count": null,
   "id": "4f0eb692",
   "metadata": {},
   "outputs": [],
   "source": [
    "rf_conf_mat = confusion_matrix(Y_test, y_pred)\n",
    "print(\"Transfer learning confusion matrix: \\n\", rf_conf_mat)"
   ]
  },
  {
   "cell_type": "code",
   "execution_count": null,
   "id": "0fc19f97",
   "metadata": {},
   "outputs": [],
   "source": [
    "CR = classification_report(Y_test,y_pred,digits= 4)\n",
    "print(CR)"
   ]
  },
  {
   "cell_type": "code",
   "execution_count": null,
   "id": "d238cfc5",
   "metadata": {},
   "outputs": [],
   "source": []
  },
  {
   "cell_type": "code",
   "execution_count": null,
   "id": "7d27a077",
   "metadata": {},
   "outputs": [],
   "source": [
    "model = keras.models.load_model('models/TL_org1_4f_5e.h5')"
   ]
  },
  {
   "cell_type": "code",
   "execution_count": null,
   "id": "a927038a",
   "metadata": {},
   "outputs": [],
   "source": [
    "y_pred = model.predict(X_test)\n",
    "y_pred = y_pred.argmax(axis=1)"
   ]
  },
  {
   "cell_type": "code",
   "execution_count": null,
   "id": "bdcbfe29",
   "metadata": {},
   "outputs": [],
   "source": [
    "rf_conf_mat = confusion_matrix(Y_test, y_pred)\n",
    "print(\"Transfer learning confusion matrix: \\n\", rf_conf_mat)"
   ]
  },
  {
   "cell_type": "code",
   "execution_count": null,
   "id": "d555d19c",
   "metadata": {},
   "outputs": [],
   "source": [
    "CR = classification_report(Y_test,y_pred,digits= 4)\n",
    "print(CR)"
   ]
  },
  {
   "cell_type": "code",
   "execution_count": null,
   "id": "35fb6431",
   "metadata": {},
   "outputs": [],
   "source": []
  },
  {
   "cell_type": "code",
   "execution_count": null,
   "id": "f478df15",
   "metadata": {},
   "outputs": [],
   "source": [
    "model = keras.models.load_model('models/TL_org1_4f_6e.h5')"
   ]
  },
  {
   "cell_type": "code",
   "execution_count": null,
   "id": "37848c33",
   "metadata": {},
   "outputs": [],
   "source": [
    "y_pred = model.predict(X_test)\n",
    "y_pred = y_pred.argmax(axis=1)"
   ]
  },
  {
   "cell_type": "code",
   "execution_count": null,
   "id": "ea50d268",
   "metadata": {},
   "outputs": [],
   "source": [
    "rf_conf_mat = confusion_matrix(Y_test, y_pred)\n",
    "print(\"Transfer learning confusion matrix: \\n\", rf_conf_mat)"
   ]
  },
  {
   "cell_type": "code",
   "execution_count": null,
   "id": "3ba8fbd0",
   "metadata": {},
   "outputs": [],
   "source": [
    "CR = classification_report(Y_test,y_pred,digits= 4)\n",
    "print(CR)"
   ]
  },
  {
   "cell_type": "code",
   "execution_count": null,
   "id": "318bdb18",
   "metadata": {},
   "outputs": [],
   "source": []
  },
  {
   "cell_type": "code",
   "execution_count": null,
   "id": "f2ea3e97",
   "metadata": {},
   "outputs": [],
   "source": [
    "model = keras.models.load_model('models/TL_org1_4f_7e.h5')"
   ]
  },
  {
   "cell_type": "code",
   "execution_count": null,
   "id": "02c3a804",
   "metadata": {},
   "outputs": [],
   "source": [
    "y_pred = model.predict(X_test)\n",
    "y_pred = y_pred.argmax(axis=1)"
   ]
  },
  {
   "cell_type": "code",
   "execution_count": null,
   "id": "c284a6cb",
   "metadata": {},
   "outputs": [],
   "source": [
    "rf_conf_mat = confusion_matrix(Y_test, y_pred)\n",
    "print(\"Transfer learning confusion matrix: \\n\", rf_conf_mat)"
   ]
  },
  {
   "cell_type": "code",
   "execution_count": null,
   "id": "b971166c",
   "metadata": {},
   "outputs": [],
   "source": [
    "CR = classification_report(Y_test,y_pred,digits= 4)\n",
    "print(CR)"
   ]
  },
  {
   "cell_type": "code",
   "execution_count": null,
   "id": "51813019",
   "metadata": {},
   "outputs": [],
   "source": []
  },
  {
   "cell_type": "code",
   "execution_count": null,
   "id": "7c882af9",
   "metadata": {},
   "outputs": [],
   "source": [
    "model = keras.models.load_model('models/TL_org1_4f_8e.h5')"
   ]
  },
  {
   "cell_type": "code",
   "execution_count": null,
   "id": "5bc98520",
   "metadata": {},
   "outputs": [],
   "source": [
    "y_pred = model.predict(X_test)\n",
    "y_pred = y_pred.argmax(axis=1)"
   ]
  },
  {
   "cell_type": "code",
   "execution_count": null,
   "id": "ef070a70",
   "metadata": {},
   "outputs": [],
   "source": [
    "rf_conf_mat = confusion_matrix(Y_test, y_pred)\n",
    "print(\"Transfer learning confusion matrix: \\n\", rf_conf_mat)"
   ]
  },
  {
   "cell_type": "code",
   "execution_count": null,
   "id": "f05807ef",
   "metadata": {},
   "outputs": [],
   "source": [
    "CR = classification_report(Y_test,y_pred,digits= 4)\n",
    "print(CR)"
   ]
  },
  {
   "cell_type": "code",
   "execution_count": null,
   "id": "d4cbd237",
   "metadata": {},
   "outputs": [],
   "source": []
  },
  {
   "cell_type": "code",
   "execution_count": null,
   "id": "4400f467",
   "metadata": {},
   "outputs": [],
   "source": []
  },
  {
   "cell_type": "markdown",
   "id": "f74c33b6",
   "metadata": {},
   "source": [
    "# 5 freeze"
   ]
  },
  {
   "cell_type": "code",
   "execution_count": null,
   "id": "2732d235",
   "metadata": {},
   "outputs": [],
   "source": [
    "model = keras.models.load_model('models/TL_org1_5f_1e.h5')"
   ]
  },
  {
   "cell_type": "code",
   "execution_count": null,
   "id": "408f5501",
   "metadata": {},
   "outputs": [],
   "source": [
    "y_pred = model.predict(X_test)\n",
    "y_pred = y_pred.argmax(axis=1)"
   ]
  },
  {
   "cell_type": "code",
   "execution_count": null,
   "id": "2b25cab4",
   "metadata": {},
   "outputs": [],
   "source": [
    "rf_conf_mat = confusion_matrix(Y_test, y_pred)\n",
    "print(\"Transfer learning confusion matrix: \\n\", rf_conf_mat)"
   ]
  },
  {
   "cell_type": "code",
   "execution_count": null,
   "id": "cdacd75b",
   "metadata": {},
   "outputs": [],
   "source": [
    "CR = classification_report(Y_test,y_pred,digits= 4)\n",
    "print(CR)"
   ]
  },
  {
   "cell_type": "code",
   "execution_count": null,
   "id": "ad578313",
   "metadata": {},
   "outputs": [],
   "source": []
  },
  {
   "cell_type": "code",
   "execution_count": null,
   "id": "7e6094ff",
   "metadata": {},
   "outputs": [],
   "source": [
    "model = keras.models.load_model('models/TL_org1_5f_2e.h5')"
   ]
  },
  {
   "cell_type": "code",
   "execution_count": null,
   "id": "8039d6bb",
   "metadata": {},
   "outputs": [],
   "source": [
    "y_pred = model.predict(X_test)\n",
    "y_pred = y_pred.argmax(axis=1)"
   ]
  },
  {
   "cell_type": "code",
   "execution_count": null,
   "id": "e3a7c0b2",
   "metadata": {},
   "outputs": [],
   "source": [
    "rf_conf_mat = confusion_matrix(Y_test, y_pred)\n",
    "print(\"Transfer learning confusion matrix: \\n\", rf_conf_mat)"
   ]
  },
  {
   "cell_type": "code",
   "execution_count": null,
   "id": "8b242301",
   "metadata": {},
   "outputs": [],
   "source": [
    "CR = classification_report(Y_test,y_pred,digits= 4)\n",
    "print(CR)"
   ]
  },
  {
   "cell_type": "code",
   "execution_count": null,
   "id": "a4936d18",
   "metadata": {},
   "outputs": [],
   "source": []
  },
  {
   "cell_type": "code",
   "execution_count": null,
   "id": "1f454621",
   "metadata": {},
   "outputs": [],
   "source": [
    "model = keras.models.load_model('models/TL_org1_5f_3e.h5')"
   ]
  },
  {
   "cell_type": "code",
   "execution_count": null,
   "id": "ef16490f",
   "metadata": {},
   "outputs": [],
   "source": [
    "y_pred = model.predict(X_test)\n",
    "y_pred = y_pred.argmax(axis=1)"
   ]
  },
  {
   "cell_type": "code",
   "execution_count": null,
   "id": "48eb4fe4",
   "metadata": {},
   "outputs": [],
   "source": [
    "rf_conf_mat = confusion_matrix(Y_test, y_pred)\n",
    "print(\"Transfer learning confusion matrix: \\n\", rf_conf_mat)"
   ]
  },
  {
   "cell_type": "code",
   "execution_count": null,
   "id": "35858001",
   "metadata": {},
   "outputs": [],
   "source": [
    "CR = classification_report(Y_test,y_pred,digits= 4)\n",
    "print(CR)"
   ]
  },
  {
   "cell_type": "code",
   "execution_count": null,
   "id": "53ef9893",
   "metadata": {},
   "outputs": [],
   "source": []
  },
  {
   "cell_type": "code",
   "execution_count": null,
   "id": "f67b522a",
   "metadata": {},
   "outputs": [],
   "source": [
    "model = keras.models.load_model('models/TL_org1_5f_4e.h5')"
   ]
  },
  {
   "cell_type": "code",
   "execution_count": null,
   "id": "ca7b413e",
   "metadata": {},
   "outputs": [],
   "source": [
    "y_pred = model.predict(X_test)\n",
    "y_pred = y_pred.argmax(axis=1)"
   ]
  },
  {
   "cell_type": "code",
   "execution_count": null,
   "id": "5765316e",
   "metadata": {},
   "outputs": [],
   "source": [
    "rf_conf_mat = confusion_matrix(Y_test, y_pred)\n",
    "print(\"Transfer learning confusion matrix: \\n\", rf_conf_mat)"
   ]
  },
  {
   "cell_type": "code",
   "execution_count": null,
   "id": "e63bb815",
   "metadata": {},
   "outputs": [],
   "source": [
    "CR = classification_report(Y_test,y_pred,digits= 4)\n",
    "print(CR)"
   ]
  },
  {
   "cell_type": "code",
   "execution_count": null,
   "id": "1f432956",
   "metadata": {},
   "outputs": [],
   "source": []
  },
  {
   "cell_type": "code",
   "execution_count": null,
   "id": "0caf2ccb",
   "metadata": {},
   "outputs": [],
   "source": [
    "model = keras.models.load_model('models/TL_org1_5f_5e.h5')"
   ]
  },
  {
   "cell_type": "code",
   "execution_count": null,
   "id": "485776dd",
   "metadata": {},
   "outputs": [],
   "source": [
    "y_pred = model.predict(X_test)\n",
    "y_pred = y_pred.argmax(axis=1)"
   ]
  },
  {
   "cell_type": "code",
   "execution_count": null,
   "id": "46285689",
   "metadata": {},
   "outputs": [],
   "source": [
    "rf_conf_mat = confusion_matrix(Y_test, y_pred)\n",
    "print(\"Transfer learning confusion matrix: \\n\", rf_conf_mat)"
   ]
  },
  {
   "cell_type": "code",
   "execution_count": null,
   "id": "10d6053e",
   "metadata": {},
   "outputs": [],
   "source": [
    "CR = classification_report(Y_test,y_pred,digits= 4)\n",
    "print(CR)"
   ]
  },
  {
   "cell_type": "code",
   "execution_count": null,
   "id": "c203725b",
   "metadata": {},
   "outputs": [],
   "source": []
  },
  {
   "cell_type": "code",
   "execution_count": null,
   "id": "54f4f258",
   "metadata": {},
   "outputs": [],
   "source": [
    "model = keras.models.load_model('models/TL_org1_5f_6e.h5')"
   ]
  },
  {
   "cell_type": "code",
   "execution_count": null,
   "id": "71a02fe4",
   "metadata": {},
   "outputs": [],
   "source": [
    "y_pred = model.predict(X_test)\n",
    "y_pred = y_pred.argmax(axis=1)"
   ]
  },
  {
   "cell_type": "code",
   "execution_count": null,
   "id": "5131da52",
   "metadata": {},
   "outputs": [],
   "source": [
    "rf_conf_mat = confusion_matrix(Y_test, y_pred)\n",
    "print(\"Transfer learning confusion matrix: \\n\", rf_conf_mat)"
   ]
  },
  {
   "cell_type": "code",
   "execution_count": null,
   "id": "d68e3424",
   "metadata": {},
   "outputs": [],
   "source": [
    "CR = classification_report(Y_test,y_pred,digits= 4)\n",
    "print(CR)"
   ]
  },
  {
   "cell_type": "code",
   "execution_count": null,
   "id": "7145d28f",
   "metadata": {},
   "outputs": [],
   "source": []
  },
  {
   "cell_type": "code",
   "execution_count": null,
   "id": "4d727416",
   "metadata": {},
   "outputs": [],
   "source": [
    "model = keras.models.load_model('models/TL_org1_5f_7e.h5')"
   ]
  },
  {
   "cell_type": "code",
   "execution_count": null,
   "id": "2b612387",
   "metadata": {},
   "outputs": [],
   "source": [
    "y_pred = model.predict(X_test)\n",
    "y_pred = y_pred.argmax(axis=1)"
   ]
  },
  {
   "cell_type": "code",
   "execution_count": null,
   "id": "7895f4c5",
   "metadata": {},
   "outputs": [],
   "source": [
    "rf_conf_mat = confusion_matrix(Y_test, y_pred)\n",
    "print(\"Transfer learning confusion matrix: \\n\", rf_conf_mat)"
   ]
  },
  {
   "cell_type": "code",
   "execution_count": null,
   "id": "9b5c8782",
   "metadata": {},
   "outputs": [],
   "source": [
    "CR = classification_report(Y_test,y_pred,digits= 4)\n",
    "print(CR)"
   ]
  },
  {
   "cell_type": "code",
   "execution_count": null,
   "id": "969f223d",
   "metadata": {},
   "outputs": [],
   "source": []
  },
  {
   "cell_type": "code",
   "execution_count": null,
   "id": "04e9e934",
   "metadata": {},
   "outputs": [],
   "source": [
    "model = keras.models.load_model('models/TL_org1_5f_8e.h5')"
   ]
  },
  {
   "cell_type": "code",
   "execution_count": null,
   "id": "57934a74",
   "metadata": {},
   "outputs": [],
   "source": [
    "y_pred = model.predict(X_test)\n",
    "y_pred = y_pred.argmax(axis=1)"
   ]
  },
  {
   "cell_type": "code",
   "execution_count": null,
   "id": "084d3a65",
   "metadata": {},
   "outputs": [],
   "source": [
    "rf_conf_mat = confusion_matrix(Y_test, y_pred)\n",
    "print(\"Transfer learning confusion matrix: \\n\", rf_conf_mat)"
   ]
  },
  {
   "cell_type": "code",
   "execution_count": null,
   "id": "d05d5d16",
   "metadata": {},
   "outputs": [],
   "source": [
    "CR = classification_report(Y_test,y_pred,digits= 4)\n",
    "print(CR)"
   ]
  },
  {
   "cell_type": "code",
   "execution_count": null,
   "id": "5437b12c",
   "metadata": {},
   "outputs": [],
   "source": []
  },
  {
   "cell_type": "code",
   "execution_count": null,
   "id": "83324f7b",
   "metadata": {},
   "outputs": [],
   "source": []
  },
  {
   "cell_type": "markdown",
   "id": "b6a29bc8",
   "metadata": {},
   "source": [
    "# mid freeze"
   ]
  },
  {
   "cell_type": "code",
   "execution_count": null,
   "id": "871f2bab",
   "metadata": {},
   "outputs": [],
   "source": [
    "model = keras.models.load_model('models/TL_org1_midf_1e.h5')"
   ]
  },
  {
   "cell_type": "code",
   "execution_count": null,
   "id": "c024e48b",
   "metadata": {},
   "outputs": [],
   "source": [
    "y_pred = model.predict(X_test)\n",
    "y_pred = y_pred.argmax(axis=1)"
   ]
  },
  {
   "cell_type": "code",
   "execution_count": null,
   "id": "c430c278",
   "metadata": {},
   "outputs": [],
   "source": [
    "rf_conf_mat = confusion_matrix(Y_test, y_pred)\n",
    "print(\"Transfer learning confusion matrix: \\n\", rf_conf_mat)"
   ]
  },
  {
   "cell_type": "code",
   "execution_count": null,
   "id": "c199452f",
   "metadata": {},
   "outputs": [],
   "source": [
    "CR = classification_report(Y_test,y_pred,digits= 4)\n",
    "print(CR)"
   ]
  },
  {
   "cell_type": "code",
   "execution_count": null,
   "id": "7d1cbc57",
   "metadata": {},
   "outputs": [],
   "source": []
  },
  {
   "cell_type": "code",
   "execution_count": null,
   "id": "d32ddd9d",
   "metadata": {},
   "outputs": [],
   "source": [
    "model = keras.models.load_model('models/TL_org1_midf_2e.h5')"
   ]
  },
  {
   "cell_type": "code",
   "execution_count": null,
   "id": "a329489c",
   "metadata": {},
   "outputs": [],
   "source": [
    "y_pred = model.predict(X_test)\n",
    "y_pred = y_pred.argmax(axis=1)"
   ]
  },
  {
   "cell_type": "code",
   "execution_count": null,
   "id": "fa188774",
   "metadata": {},
   "outputs": [],
   "source": [
    "rf_conf_mat = confusion_matrix(Y_test, y_pred)\n",
    "print(\"Transfer learning confusion matrix: \\n\", rf_conf_mat)"
   ]
  },
  {
   "cell_type": "code",
   "execution_count": null,
   "id": "fb43264c",
   "metadata": {},
   "outputs": [],
   "source": [
    "CR = classification_report(Y_test,y_pred,digits= 4)\n",
    "print(CR)"
   ]
  },
  {
   "cell_type": "code",
   "execution_count": null,
   "id": "07811876",
   "metadata": {},
   "outputs": [],
   "source": []
  },
  {
   "cell_type": "code",
   "execution_count": null,
   "id": "1422d065",
   "metadata": {},
   "outputs": [],
   "source": [
    "model = keras.models.load_model('models/TL_org1_midf_3e.h5')"
   ]
  },
  {
   "cell_type": "code",
   "execution_count": null,
   "id": "c731b482",
   "metadata": {},
   "outputs": [],
   "source": [
    "y_pred = model.predict(X_test)\n",
    "y_pred = y_pred.argmax(axis=1)"
   ]
  },
  {
   "cell_type": "code",
   "execution_count": null,
   "id": "29847160",
   "metadata": {},
   "outputs": [],
   "source": [
    "rf_conf_mat = confusion_matrix(Y_test, y_pred)\n",
    "print(\"Transfer learning confusion matrix: \\n\", rf_conf_mat)"
   ]
  },
  {
   "cell_type": "code",
   "execution_count": null,
   "id": "2800b585",
   "metadata": {},
   "outputs": [],
   "source": [
    "CR = classification_report(Y_test,y_pred,digits= 4)\n",
    "print(CR)"
   ]
  },
  {
   "cell_type": "code",
   "execution_count": null,
   "id": "dd86b144",
   "metadata": {},
   "outputs": [],
   "source": []
  },
  {
   "cell_type": "code",
   "execution_count": null,
   "id": "5d961e94",
   "metadata": {},
   "outputs": [],
   "source": [
    "model = keras.models.load_model('models/TL_org1_midf_4e.h5')"
   ]
  },
  {
   "cell_type": "code",
   "execution_count": null,
   "id": "970780dc",
   "metadata": {},
   "outputs": [],
   "source": [
    "y_pred = model.predict(X_test)\n",
    "y_pred = y_pred.argmax(axis=1)"
   ]
  },
  {
   "cell_type": "code",
   "execution_count": null,
   "id": "ecddddc9",
   "metadata": {},
   "outputs": [],
   "source": [
    "rf_conf_mat = confusion_matrix(Y_test, y_pred)\n",
    "print(\"Transfer learning confusion matrix: \\n\", rf_conf_mat)"
   ]
  },
  {
   "cell_type": "code",
   "execution_count": null,
   "id": "692769dc",
   "metadata": {},
   "outputs": [],
   "source": [
    "CR = classification_report(Y_test,y_pred,digits= 4)\n",
    "print(CR)"
   ]
  },
  {
   "cell_type": "code",
   "execution_count": null,
   "id": "05f9d4fc",
   "metadata": {},
   "outputs": [],
   "source": []
  },
  {
   "cell_type": "code",
   "execution_count": null,
   "id": "20846b4e",
   "metadata": {},
   "outputs": [],
   "source": [
    "model = keras.models.load_model('models/TL_org1_midf_5e.h5')"
   ]
  },
  {
   "cell_type": "code",
   "execution_count": null,
   "id": "96911800",
   "metadata": {},
   "outputs": [],
   "source": [
    "y_pred = model.predict(X_test)\n",
    "y_pred = y_pred.argmax(axis=1)"
   ]
  },
  {
   "cell_type": "code",
   "execution_count": null,
   "id": "2042eba5",
   "metadata": {},
   "outputs": [],
   "source": [
    "rf_conf_mat = confusion_matrix(Y_test, y_pred)\n",
    "print(\"Transfer learning confusion matrix: \\n\", rf_conf_mat)"
   ]
  },
  {
   "cell_type": "code",
   "execution_count": null,
   "id": "52ee7d31",
   "metadata": {},
   "outputs": [],
   "source": [
    "CR = classification_report(Y_test,y_pred,digits= 4)\n",
    "print(CR)"
   ]
  },
  {
   "cell_type": "code",
   "execution_count": null,
   "id": "d46edd36",
   "metadata": {},
   "outputs": [],
   "source": []
  },
  {
   "cell_type": "code",
   "execution_count": null,
   "id": "bc9bbba3",
   "metadata": {},
   "outputs": [],
   "source": [
    "model = keras.models.load_model('models/TL_org1_midf_6e.h5')"
   ]
  },
  {
   "cell_type": "code",
   "execution_count": null,
   "id": "46c9027b",
   "metadata": {},
   "outputs": [],
   "source": [
    "y_pred = model.predict(X_test)\n",
    "y_pred = y_pred.argmax(axis=1)"
   ]
  },
  {
   "cell_type": "code",
   "execution_count": null,
   "id": "aebede6a",
   "metadata": {},
   "outputs": [],
   "source": [
    "rf_conf_mat = confusion_matrix(Y_test, y_pred)\n",
    "print(\"Transfer learning confusion matrix: \\n\", rf_conf_mat)"
   ]
  },
  {
   "cell_type": "code",
   "execution_count": null,
   "id": "141fc108",
   "metadata": {},
   "outputs": [],
   "source": [
    "CR = classification_report(Y_test,y_pred,digits= 4)\n",
    "print(CR)"
   ]
  },
  {
   "cell_type": "code",
   "execution_count": null,
   "id": "37071ab9",
   "metadata": {},
   "outputs": [],
   "source": []
  },
  {
   "cell_type": "code",
   "execution_count": null,
   "id": "54c777b2",
   "metadata": {},
   "outputs": [],
   "source": [
    "model = keras.models.load_model('models/TL_org1_midf_7e.h5')"
   ]
  },
  {
   "cell_type": "code",
   "execution_count": null,
   "id": "56b5932d",
   "metadata": {},
   "outputs": [],
   "source": [
    "y_pred = model.predict(X_test)\n",
    "y_pred = y_pred.argmax(axis=1)"
   ]
  },
  {
   "cell_type": "code",
   "execution_count": null,
   "id": "3e006a2f",
   "metadata": {},
   "outputs": [],
   "source": [
    "rf_conf_mat = confusion_matrix(Y_test, y_pred)\n",
    "print(\"Transfer learning confusion matrix: \\n\", rf_conf_mat)"
   ]
  },
  {
   "cell_type": "code",
   "execution_count": null,
   "id": "ff9903dc",
   "metadata": {},
   "outputs": [],
   "source": [
    "CR = classification_report(Y_test,y_pred,digits= 4)\n",
    "print(CR)"
   ]
  },
  {
   "cell_type": "code",
   "execution_count": null,
   "id": "bdfa35a5",
   "metadata": {},
   "outputs": [],
   "source": []
  },
  {
   "cell_type": "code",
   "execution_count": null,
   "id": "f6181e85",
   "metadata": {},
   "outputs": [],
   "source": [
    "model = keras.models.load_model('models/TL_org1_midf_8e.h5')"
   ]
  },
  {
   "cell_type": "code",
   "execution_count": null,
   "id": "492aeebe",
   "metadata": {},
   "outputs": [],
   "source": [
    "y_pred = model.predict(X_test)\n",
    "y_pred = y_pred.argmax(axis=1)"
   ]
  },
  {
   "cell_type": "code",
   "execution_count": null,
   "id": "bed43ad2",
   "metadata": {},
   "outputs": [],
   "source": [
    "rf_conf_mat = confusion_matrix(Y_test, y_pred)\n",
    "print(\"Transfer learning confusion matrix: \\n\", rf_conf_mat)"
   ]
  },
  {
   "cell_type": "code",
   "execution_count": null,
   "id": "67b3141b",
   "metadata": {},
   "outputs": [],
   "source": [
    "CR = classification_report(Y_test,y_pred,digits= 4)\n",
    "print(CR)"
   ]
  },
  {
   "cell_type": "code",
   "execution_count": null,
   "id": "5a3c15dd",
   "metadata": {},
   "outputs": [],
   "source": []
  },
  {
   "cell_type": "code",
   "execution_count": null,
   "id": "21223b96",
   "metadata": {},
   "outputs": [],
   "source": []
  },
  {
   "cell_type": "markdown",
   "id": "6edba431",
   "metadata": {},
   "source": [
    "# end freeze"
   ]
  },
  {
   "cell_type": "code",
   "execution_count": null,
   "id": "b9b66b6b",
   "metadata": {},
   "outputs": [],
   "source": [
    "model = keras.models.load_model('models/TL_org1_endf_1e.h5')"
   ]
  },
  {
   "cell_type": "code",
   "execution_count": null,
   "id": "84a15e6c",
   "metadata": {},
   "outputs": [],
   "source": [
    "y_pred = model.predict(X_test)\n",
    "y_pred = y_pred.argmax(axis=1)"
   ]
  },
  {
   "cell_type": "code",
   "execution_count": null,
   "id": "7d2f85e7",
   "metadata": {},
   "outputs": [],
   "source": [
    "rf_conf_mat = confusion_matrix(Y_test, y_pred)\n",
    "print(\"Transfer learning confusion matrix: \\n\", rf_conf_mat)"
   ]
  },
  {
   "cell_type": "code",
   "execution_count": null,
   "id": "c81a2d17",
   "metadata": {},
   "outputs": [],
   "source": [
    "CR = classification_report(Y_test,y_pred,digits= 4)\n",
    "print(CR)"
   ]
  },
  {
   "cell_type": "code",
   "execution_count": null,
   "id": "a3b8c5c6",
   "metadata": {},
   "outputs": [],
   "source": []
  },
  {
   "cell_type": "code",
   "execution_count": null,
   "id": "9680ff78",
   "metadata": {},
   "outputs": [],
   "source": [
    "model = keras.models.load_model('models/TL_org1_endf_2e.h5')"
   ]
  },
  {
   "cell_type": "code",
   "execution_count": null,
   "id": "0d4309dd",
   "metadata": {},
   "outputs": [],
   "source": [
    "y_pred = model.predict(X_test)\n",
    "y_pred = y_pred.argmax(axis=1)"
   ]
  },
  {
   "cell_type": "code",
   "execution_count": null,
   "id": "d94b9c9a",
   "metadata": {},
   "outputs": [],
   "source": [
    "rf_conf_mat = confusion_matrix(Y_test, y_pred)\n",
    "print(\"Transfer learning confusion matrix: \\n\", rf_conf_mat)"
   ]
  },
  {
   "cell_type": "code",
   "execution_count": null,
   "id": "3716d51c",
   "metadata": {},
   "outputs": [],
   "source": [
    "CR = classification_report(Y_test,y_pred,digits= 4)\n",
    "print(CR)"
   ]
  },
  {
   "cell_type": "code",
   "execution_count": null,
   "id": "ece9283f",
   "metadata": {},
   "outputs": [],
   "source": []
  },
  {
   "cell_type": "code",
   "execution_count": null,
   "id": "340c1924",
   "metadata": {},
   "outputs": [],
   "source": [
    "model = keras.models.load_model('models/TL_org1_endf_3e.h5')"
   ]
  },
  {
   "cell_type": "code",
   "execution_count": null,
   "id": "54304a34",
   "metadata": {},
   "outputs": [],
   "source": [
    "y_pred = model.predict(X_test)\n",
    "y_pred = y_pred.argmax(axis=1)"
   ]
  },
  {
   "cell_type": "code",
   "execution_count": null,
   "id": "c75a487f",
   "metadata": {},
   "outputs": [],
   "source": [
    "rf_conf_mat = confusion_matrix(Y_test, y_pred)\n",
    "print(\"Transfer learning confusion matrix: \\n\", rf_conf_mat)"
   ]
  },
  {
   "cell_type": "code",
   "execution_count": null,
   "id": "827ce1af",
   "metadata": {},
   "outputs": [],
   "source": [
    "CR = classification_report(Y_test,y_pred,digits= 4)\n",
    "print(CR)"
   ]
  },
  {
   "cell_type": "code",
   "execution_count": null,
   "id": "13922b50",
   "metadata": {},
   "outputs": [],
   "source": []
  },
  {
   "cell_type": "code",
   "execution_count": null,
   "id": "64a01724",
   "metadata": {},
   "outputs": [],
   "source": [
    "model = keras.models.load_model('models/TL_org1_endf_4e.h5')"
   ]
  },
  {
   "cell_type": "code",
   "execution_count": null,
   "id": "a2940ce8",
   "metadata": {},
   "outputs": [],
   "source": [
    "y_pred = model.predict(X_test)\n",
    "y_pred = y_pred.argmax(axis=1)"
   ]
  },
  {
   "cell_type": "code",
   "execution_count": null,
   "id": "64f0011b",
   "metadata": {},
   "outputs": [],
   "source": [
    "rf_conf_mat = confusion_matrix(Y_test, y_pred)\n",
    "print(\"Transfer learning confusion matrix: \\n\", rf_conf_mat)"
   ]
  },
  {
   "cell_type": "code",
   "execution_count": null,
   "id": "e075be8c",
   "metadata": {},
   "outputs": [],
   "source": [
    "CR = classification_report(Y_test,y_pred,digits= 4)\n",
    "print(CR)"
   ]
  },
  {
   "cell_type": "code",
   "execution_count": null,
   "id": "cfa751f2",
   "metadata": {},
   "outputs": [],
   "source": []
  },
  {
   "cell_type": "code",
   "execution_count": null,
   "id": "a6405978",
   "metadata": {},
   "outputs": [],
   "source": [
    "model = keras.models.load_model('models/TL_org1_endf_5e.h5')"
   ]
  },
  {
   "cell_type": "code",
   "execution_count": null,
   "id": "5f789bb1",
   "metadata": {},
   "outputs": [],
   "source": [
    "y_pred = model.predict(X_test)\n",
    "y_pred = y_pred.argmax(axis=1)"
   ]
  },
  {
   "cell_type": "code",
   "execution_count": null,
   "id": "8d36d812",
   "metadata": {},
   "outputs": [],
   "source": [
    "rf_conf_mat = confusion_matrix(Y_test, y_pred)\n",
    "print(\"Transfer learning confusion matrix: \\n\", rf_conf_mat)"
   ]
  },
  {
   "cell_type": "code",
   "execution_count": null,
   "id": "4044af4d",
   "metadata": {},
   "outputs": [],
   "source": [
    "CR = classification_report(Y_test,y_pred,digits= 4)\n",
    "print(CR)"
   ]
  },
  {
   "cell_type": "code",
   "execution_count": null,
   "id": "089301ed",
   "metadata": {},
   "outputs": [],
   "source": []
  },
  {
   "cell_type": "code",
   "execution_count": null,
   "id": "24b0ffa7",
   "metadata": {},
   "outputs": [],
   "source": [
    "model = keras.models.load_model('models/TL_org1_endf_6e.h5')"
   ]
  },
  {
   "cell_type": "code",
   "execution_count": null,
   "id": "ec4852d7",
   "metadata": {},
   "outputs": [],
   "source": [
    "y_pred = model.predict(X_test)\n",
    "y_pred = y_pred.argmax(axis=1)"
   ]
  },
  {
   "cell_type": "code",
   "execution_count": null,
   "id": "5b86b5d5",
   "metadata": {},
   "outputs": [],
   "source": [
    "rf_conf_mat = confusion_matrix(Y_test, y_pred)\n",
    "print(\"Transfer learning confusion matrix: \\n\", rf_conf_mat)"
   ]
  },
  {
   "cell_type": "code",
   "execution_count": null,
   "id": "d9e9a596",
   "metadata": {},
   "outputs": [],
   "source": [
    "CR = classification_report(Y_test,y_pred,digits= 4)\n",
    "print(CR)"
   ]
  },
  {
   "cell_type": "code",
   "execution_count": null,
   "id": "50658229",
   "metadata": {},
   "outputs": [],
   "source": []
  },
  {
   "cell_type": "code",
   "execution_count": null,
   "id": "1ceb545c",
   "metadata": {},
   "outputs": [],
   "source": [
    "model = keras.models.load_model('models/TL_org1_endf_7e.h5')"
   ]
  },
  {
   "cell_type": "code",
   "execution_count": null,
   "id": "4f42629c",
   "metadata": {},
   "outputs": [],
   "source": [
    "y_pred = model.predict(X_test)\n",
    "y_pred = y_pred.argmax(axis=1)"
   ]
  },
  {
   "cell_type": "code",
   "execution_count": null,
   "id": "bfd8ab1d",
   "metadata": {},
   "outputs": [],
   "source": [
    "rf_conf_mat = confusion_matrix(Y_test, y_pred)\n",
    "print(\"Transfer learning confusion matrix: \\n\", rf_conf_mat)"
   ]
  },
  {
   "cell_type": "code",
   "execution_count": null,
   "id": "f13c5c18",
   "metadata": {},
   "outputs": [],
   "source": [
    "CR = classification_report(Y_test,y_pred,digits= 4)\n",
    "print(CR)"
   ]
  },
  {
   "cell_type": "code",
   "execution_count": null,
   "id": "506b2642",
   "metadata": {},
   "outputs": [],
   "source": []
  },
  {
   "cell_type": "code",
   "execution_count": null,
   "id": "46db97bc",
   "metadata": {},
   "outputs": [],
   "source": [
    "model = keras.models.load_model('models/TL_org1_endf_8e.h5')"
   ]
  },
  {
   "cell_type": "code",
   "execution_count": null,
   "id": "7f5c5bf8",
   "metadata": {},
   "outputs": [],
   "source": [
    "y_pred = model.predict(X_test)\n",
    "y_pred = y_pred.argmax(axis=1)"
   ]
  },
  {
   "cell_type": "code",
   "execution_count": null,
   "id": "4b016b7e",
   "metadata": {},
   "outputs": [],
   "source": [
    "rf_conf_mat = confusion_matrix(Y_test, y_pred)\n",
    "print(\"Transfer learning confusion matrix: \\n\", rf_conf_mat)"
   ]
  },
  {
   "cell_type": "code",
   "execution_count": null,
   "id": "78786ae2",
   "metadata": {},
   "outputs": [],
   "source": [
    "CR = classification_report(Y_test,y_pred,digits= 4)\n",
    "print(CR)"
   ]
  },
  {
   "cell_type": "code",
   "execution_count": null,
   "id": "3cec0659",
   "metadata": {},
   "outputs": [],
   "source": []
  },
  {
   "cell_type": "code",
   "execution_count": null,
   "id": "42e5cb03",
   "metadata": {},
   "outputs": [],
   "source": []
  },
  {
   "cell_type": "code",
   "execution_count": null,
   "id": "41973b09",
   "metadata": {},
   "outputs": [],
   "source": []
  }
 ],
 "metadata": {
  "kernelspec": {
   "display_name": "Python 3 (ipykernel)",
   "language": "python",
   "name": "python3"
  },
  "language_info": {
   "codemirror_mode": {
    "name": "ipython",
    "version": 3
   },
   "file_extension": ".py",
   "mimetype": "text/x-python",
   "name": "python",
   "nbconvert_exporter": "python",
   "pygments_lexer": "ipython3",
   "version": "3.9.12"
  }
 },
 "nbformat": 4,
 "nbformat_minor": 5
}

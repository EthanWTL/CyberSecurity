{
 "cells": [
  {
   "cell_type": "code",
   "execution_count": 1,
   "id": "e0ebbadd",
   "metadata": {},
   "outputs": [],
   "source": [
    "import numpy as np\n",
    "import pandas as pd"
   ]
  },
  {
   "cell_type": "code",
   "execution_count": 2,
   "id": "e9b8525c",
   "metadata": {},
   "outputs": [],
   "source": [
    "ddos = pd.read_csv('Data/ddos_org1.csv')"
   ]
  },
  {
   "cell_type": "code",
   "execution_count": 3,
   "id": "28a617c7",
   "metadata": {},
   "outputs": [
    {
     "data": {
      "text/plain": [
       "Index(['Unnamed: 0', 'FlowDuration', 'TotalFwdPackets', 'TotalBackwardPackets',\n",
       "       'TotalLengthofFwdPackets', 'TotalLengthofBwdPackets',\n",
       "       'FwdPacketLengthMax', 'FwdPacketLengthMin', 'FwdPacketLengthMean',\n",
       "       'FwdPacketLengthStd', 'BwdPacketLengthMax', 'BwdPacketLengthMin',\n",
       "       'BwdPacketLengthMean', 'BwdPacketLengthStd', 'FlowBytes/s',\n",
       "       'FlowPackets/s', 'FlowIATMean', 'FlowIATStd', 'FlowIATMax',\n",
       "       'FlowIATMin', 'FwdIATTotal', 'FwdIATMean', 'FwdIATStd', 'FwdIATMax',\n",
       "       'FwdIATMin', 'BwdIATTotal', 'BwdIATMean', 'BwdIATStd', 'BwdIATMax',\n",
       "       'BwdIATMin', 'FwdPSHFlags', 'BwdPSHFlags', 'FwdURGFlags', 'BwdURGFlags',\n",
       "       'FwdHeaderLength', 'BwdHeaderLength', 'FwdPackets/s', 'BwdPackets/s',\n",
       "       'MinPacketLength', 'MaxPacketLength', 'PacketLengthMean',\n",
       "       'PacketLengthStd', 'PacketLengthVariance', 'FINFlagCount',\n",
       "       'SYNFlagCount', 'RSTFlagCount', 'PSHFlagCount', 'ACKFlagCount',\n",
       "       'URGFlagCount', 'CWEFlagCount', 'ECEFlagCount', 'Down/UpRatio',\n",
       "       'AveragePacketSize', 'AvgFwdSegmentSize', 'AvgBwdSegmentSize',\n",
       "       'FwdHeaderLength.1', 'FwdAvgBytes/Bulk', 'FwdAvgPackets/Bulk',\n",
       "       'FwdAvgBulkRate', 'BwdAvgBytes/Bulk', 'BwdAvgPackets/Bulk',\n",
       "       'BwdAvgBulkRate', 'SubflowFwdPackets', 'SubflowFwdBytes',\n",
       "       'SubflowBwdPackets', 'SubflowBwdBytes', 'Init_Win_bytes_forward',\n",
       "       'Init_Win_bytes_backward', 'act_data_pkt_fwd', 'min_seg_size_forward',\n",
       "       'ActiveMean', 'ActiveStd', 'ActiveMax', 'ActiveMin', 'IdleMean',\n",
       "       'IdleStd', 'IdleMax', 'IdleMin', 'Label'],\n",
       "      dtype='object')"
      ]
     },
     "execution_count": 3,
     "metadata": {},
     "output_type": "execute_result"
    }
   ],
   "source": [
    "ddos.columns"
   ]
  },
  {
   "cell_type": "code",
   "execution_count": 5,
   "id": "f6bb1f25",
   "metadata": {},
   "outputs": [],
   "source": [
    "ddos = ddos.drop(columns = ['Unnamed: 0'])"
   ]
  },
  {
   "cell_type": "code",
   "execution_count": 6,
   "id": "9e54de88",
   "metadata": {},
   "outputs": [],
   "source": [
    "ddos['Label'].replace('BENIGN',0,inplace = True)\n",
    "ddos['Label'].replace('UDP',4,inplace = True)\n",
    "ddos['Label'].replace('LDAP',5,inplace = True)\n",
    "ddos['Label'].replace('Syn',3,inplace = True)\n",
    "ddos['Label'].replace('MSSQL',2,inplace = True)\n",
    "ddos['Label'].replace('Portmap',6,inplace = True)\n",
    "ddos['Label'].replace('NetBIOS',1,inplace = True)"
   ]
  },
  {
   "cell_type": "code",
   "execution_count": 7,
   "id": "33b9217f",
   "metadata": {},
   "outputs": [],
   "source": [
    "X = ddos.iloc[:, 0:-1]\n",
    "y = ddos.iloc[:, -1]"
   ]
  },
  {
   "cell_type": "code",
   "execution_count": 10,
   "id": "3c443832",
   "metadata": {},
   "outputs": [],
   "source": [
    "from sklearn.model_selection import train_test_split\n",
    "X_train, X_test, Y_train, Y_test = train_test_split(X, y, test_size = 0.33, random_state = 42)"
   ]
  },
  {
   "cell_type": "code",
   "execution_count": 11,
   "id": "acbd0fec",
   "metadata": {},
   "outputs": [],
   "source": [
    "from sklearn.preprocessing import StandardScaler\n",
    "scaler = StandardScaler().fit(X_train)\n",
    "X_train = scaler.transform(X_train)\n",
    "X_test = scaler.transform(X_test)"
   ]
  },
  {
   "cell_type": "code",
   "execution_count": 12,
   "id": "8695ab91",
   "metadata": {},
   "outputs": [],
   "source": [
    "from keras.utils import np_utils\n",
    "X_train=np.expand_dims(X_train,axis=2)\n",
    "X_test = np.expand_dims(X_test, axis = 2)"
   ]
  },
  {
   "cell_type": "code",
   "execution_count": 13,
   "id": "981c8ebf",
   "metadata": {},
   "outputs": [],
   "source": [
    "from tensorflow import keras"
   ]
  },
  {
   "cell_type": "code",
   "execution_count": 15,
   "id": "569656b3",
   "metadata": {},
   "outputs": [],
   "source": [
    "model = keras.models.load_model('Dos_8output.h5')"
   ]
  },
  {
   "cell_type": "markdown",
   "id": "25b9ed30",
   "metadata": {},
   "source": [
    "# 3 freeze"
   ]
  },
  {
   "cell_type": "code",
   "execution_count": null,
   "id": "7fd9aac6",
   "metadata": {},
   "outputs": [],
   "source": [
    "model.layers[0].trainable = False\n",
    "model.layers[1].trainable = False\n",
    "model.layers[2].trainable = False"
   ]
  },
  {
   "cell_type": "code",
   "execution_count": null,
   "id": "ac465abb",
   "metadata": {},
   "outputs": [],
   "source": [
    "from keras.callbacks import EarlyStopping\n",
    "import time\n",
    "\n",
    "start = time.time()\n",
    "print(\"Timer Begin\")\n",
    "\n",
    "model.fit(X_train,Y_train,batch_size=30,epochs=1,\n",
    "          validation_split=0, callbacks=[EarlyStopping(monitor='loss',patience=2)])\n",
    "\n",
    "end = time.time()\n",
    "print(end - start)"
   ]
  },
  {
   "cell_type": "code",
   "execution_count": null,
   "id": "6019e420",
   "metadata": {},
   "outputs": [],
   "source": [
    "model.save('TL_org1_3f_1e.h5')"
   ]
  },
  {
   "cell_type": "code",
   "execution_count": null,
   "id": "8f8ea7d6",
   "metadata": {},
   "outputs": [],
   "source": []
  },
  {
   "cell_type": "code",
   "execution_count": null,
   "id": "eec0372f",
   "metadata": {},
   "outputs": [],
   "source": [
    "from keras.callbacks import EarlyStopping\n",
    "import time\n",
    "\n",
    "start = time.time()\n",
    "print(\"Timer Begin\")\n",
    "\n",
    "model.fit(X_train,Y_train,batch_size=30,epochs=1,\n",
    "          validation_split=0, callbacks=[EarlyStopping(monitor='loss',patience=2)])\n",
    "\n",
    "end = time.time()\n",
    "print(end - start)"
   ]
  },
  {
   "cell_type": "code",
   "execution_count": null,
   "id": "6fd0e01c",
   "metadata": {},
   "outputs": [],
   "source": [
    "model.save('TL_org1_3f_2e.h5')"
   ]
  },
  {
   "cell_type": "code",
   "execution_count": null,
   "id": "01ffe354",
   "metadata": {},
   "outputs": [],
   "source": []
  },
  {
   "cell_type": "code",
   "execution_count": null,
   "id": "767e5e63",
   "metadata": {},
   "outputs": [],
   "source": [
    "from keras.callbacks import EarlyStopping\n",
    "import time\n",
    "\n",
    "start = time.time()\n",
    "print(\"Timer Begin\")\n",
    "\n",
    "model.fit(X_train,Y_train,batch_size=30,epochs=1,\n",
    "          validation_split=0, callbacks=[EarlyStopping(monitor='loss',patience=2)])\n",
    "\n",
    "end = time.time()\n",
    "print(end - start)"
   ]
  },
  {
   "cell_type": "code",
   "execution_count": null,
   "id": "e6c36b8d",
   "metadata": {},
   "outputs": [],
   "source": [
    "model.save('TL_org1_3f_3e.h5')"
   ]
  },
  {
   "cell_type": "code",
   "execution_count": null,
   "id": "f4015177",
   "metadata": {},
   "outputs": [],
   "source": []
  },
  {
   "cell_type": "code",
   "execution_count": null,
   "id": "5992e1da",
   "metadata": {},
   "outputs": [],
   "source": [
    "from keras.callbacks import EarlyStopping\n",
    "import time\n",
    "\n",
    "start = time.time()\n",
    "print(\"Timer Begin\")\n",
    "\n",
    "model.fit(X_train,Y_train,batch_size=30,epochs=1,\n",
    "          validation_split=0, callbacks=[EarlyStopping(monitor='loss',patience=2)])\n",
    "\n",
    "end = time.time()\n",
    "print(end - start)"
   ]
  },
  {
   "cell_type": "code",
   "execution_count": null,
   "id": "9e2dedb9",
   "metadata": {},
   "outputs": [],
   "source": [
    "model.save('TL_org1_3f_4e.h5')"
   ]
  },
  {
   "cell_type": "code",
   "execution_count": null,
   "id": "ae34e5d3",
   "metadata": {},
   "outputs": [],
   "source": []
  },
  {
   "cell_type": "code",
   "execution_count": null,
   "id": "80f2c692",
   "metadata": {},
   "outputs": [],
   "source": [
    "from keras.callbacks import EarlyStopping\n",
    "import time\n",
    "\n",
    "start = time.time()\n",
    "print(\"Timer Begin\")\n",
    "\n",
    "model.fit(X_train,Y_train,batch_size=30,epochs=1,\n",
    "          validation_split=0, callbacks=[EarlyStopping(monitor='loss',patience=2)])\n",
    "\n",
    "end = time.time()\n",
    "print(end - start)"
   ]
  },
  {
   "cell_type": "code",
   "execution_count": null,
   "id": "699e11eb",
   "metadata": {},
   "outputs": [],
   "source": [
    "model.save('TL_org1_3f_5e.h5')"
   ]
  },
  {
   "cell_type": "code",
   "execution_count": null,
   "id": "97cbbe81",
   "metadata": {},
   "outputs": [],
   "source": []
  },
  {
   "cell_type": "code",
   "execution_count": null,
   "id": "7b0f11d2",
   "metadata": {},
   "outputs": [],
   "source": [
    "from keras.callbacks import EarlyStopping\n",
    "import time\n",
    "\n",
    "start = time.time()\n",
    "print(\"Timer Begin\")\n",
    "\n",
    "model.fit(X_train,Y_train,batch_size=30,epochs=1,\n",
    "          validation_split=0, callbacks=[EarlyStopping(monitor='loss',patience=2)])\n",
    "\n",
    "end = time.time()\n",
    "print(end - start)"
   ]
  },
  {
   "cell_type": "code",
   "execution_count": null,
   "id": "77d6a747",
   "metadata": {},
   "outputs": [],
   "source": [
    "model.save('TL_org1_3f_6e.h5')"
   ]
  },
  {
   "cell_type": "code",
   "execution_count": null,
   "id": "a908461a",
   "metadata": {},
   "outputs": [],
   "source": []
  },
  {
   "cell_type": "code",
   "execution_count": null,
   "id": "07a48248",
   "metadata": {},
   "outputs": [],
   "source": [
    "from keras.callbacks import EarlyStopping\n",
    "import time\n",
    "\n",
    "start = time.time()\n",
    "print(\"Timer Begin\")\n",
    "\n",
    "model.fit(X_train,Y_train,batch_size=30,epochs=1,\n",
    "          validation_split=0, callbacks=[EarlyStopping(monitor='loss',patience=2)])\n",
    "\n",
    "end = time.time()\n",
    "print(end - start)"
   ]
  },
  {
   "cell_type": "code",
   "execution_count": null,
   "id": "b73dc12f",
   "metadata": {},
   "outputs": [],
   "source": [
    "model.save('TL_org1_3f_7e.h5')"
   ]
  },
  {
   "cell_type": "code",
   "execution_count": null,
   "id": "e469e9c2",
   "metadata": {},
   "outputs": [],
   "source": []
  },
  {
   "cell_type": "code",
   "execution_count": null,
   "id": "c07d76e9",
   "metadata": {},
   "outputs": [],
   "source": [
    "from keras.callbacks import EarlyStopping\n",
    "import time\n",
    "\n",
    "start = time.time()\n",
    "print(\"Timer Begin\")\n",
    "\n",
    "model.fit(X_train,Y_train,batch_size=30,epochs=1,\n",
    "          validation_split=0, callbacks=[EarlyStopping(monitor='loss',patience=2)])\n",
    "\n",
    "end = time.time()\n",
    "print(end - start)"
   ]
  },
  {
   "cell_type": "code",
   "execution_count": null,
   "id": "0515d284",
   "metadata": {},
   "outputs": [],
   "source": [
    "model.save('TL_org1_3f_8e.h5')"
   ]
  },
  {
   "cell_type": "code",
   "execution_count": null,
   "id": "fa55074b",
   "metadata": {},
   "outputs": [],
   "source": []
  }
 ],
 "metadata": {
  "kernelspec": {
   "display_name": "Python 3 (ipykernel)",
   "language": "python",
   "name": "python3"
  },
  "language_info": {
   "codemirror_mode": {
    "name": "ipython",
    "version": 3
   },
   "file_extension": ".py",
   "mimetype": "text/x-python",
   "name": "python",
   "nbconvert_exporter": "python",
   "pygments_lexer": "ipython3",
   "version": "3.9.12"
  }
 },
 "nbformat": 4,
 "nbformat_minor": 5
}

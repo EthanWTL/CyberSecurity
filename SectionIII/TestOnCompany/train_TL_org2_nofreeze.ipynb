{
 "cells": [
  {
   "cell_type": "code",
   "execution_count": 1,
   "id": "ed1d86fc",
   "metadata": {},
   "outputs": [],
   "source": [
    "import numpy as np\n",
    "import pandas as pd"
   ]
  },
  {
   "cell_type": "code",
   "execution_count": 2,
   "id": "7a950e6c",
   "metadata": {},
   "outputs": [],
   "source": [
    "ddos = pd.read_csv('Data/ddos_org2.csv')"
   ]
  },
  {
   "cell_type": "code",
   "execution_count": 3,
   "id": "32af6e19",
   "metadata": {},
   "outputs": [
    {
     "data": {
      "text/plain": [
       "Index(['Unnamed: 0', 'FlowDuration', 'TotalFwdPackets', 'TotalBackwardPackets',\n",
       "       'TotalLengthofFwdPackets', 'TotalLengthofBwdPackets',\n",
       "       'FwdPacketLengthMax', 'FwdPacketLengthMin', 'FwdPacketLengthMean',\n",
       "       'FwdPacketLengthStd', 'BwdPacketLengthMax', 'BwdPacketLengthMin',\n",
       "       'BwdPacketLengthMean', 'BwdPacketLengthStd', 'FlowBytes/s',\n",
       "       'FlowPackets/s', 'FlowIATMean', 'FlowIATStd', 'FlowIATMax',\n",
       "       'FlowIATMin', 'FwdIATTotal', 'FwdIATMean', 'FwdIATStd', 'FwdIATMax',\n",
       "       'FwdIATMin', 'BwdIATTotal', 'BwdIATMean', 'BwdIATStd', 'BwdIATMax',\n",
       "       'BwdIATMin', 'FwdPSHFlags', 'BwdPSHFlags', 'FwdURGFlags', 'BwdURGFlags',\n",
       "       'FwdHeaderLength', 'BwdHeaderLength', 'FwdPackets/s', 'BwdPackets/s',\n",
       "       'MinPacketLength', 'MaxPacketLength', 'PacketLengthMean',\n",
       "       'PacketLengthStd', 'PacketLengthVariance', 'FINFlagCount',\n",
       "       'SYNFlagCount', 'RSTFlagCount', 'PSHFlagCount', 'ACKFlagCount',\n",
       "       'URGFlagCount', 'CWEFlagCount', 'ECEFlagCount', 'Down/UpRatio',\n",
       "       'AveragePacketSize', 'AvgFwdSegmentSize', 'AvgBwdSegmentSize',\n",
       "       'FwdHeaderLength.1', 'FwdAvgBytes/Bulk', 'FwdAvgPackets/Bulk',\n",
       "       'FwdAvgBulkRate', 'BwdAvgBytes/Bulk', 'BwdAvgPackets/Bulk',\n",
       "       'BwdAvgBulkRate', 'SubflowFwdPackets', 'SubflowFwdBytes',\n",
       "       'SubflowBwdPackets', 'SubflowBwdBytes', 'Init_Win_bytes_forward',\n",
       "       'Init_Win_bytes_backward', 'act_data_pkt_fwd', 'min_seg_size_forward',\n",
       "       'ActiveMean', 'ActiveStd', 'ActiveMax', 'ActiveMin', 'IdleMean',\n",
       "       'IdleStd', 'IdleMax', 'IdleMin', 'Label'],\n",
       "      dtype='object')"
      ]
     },
     "execution_count": 3,
     "metadata": {},
     "output_type": "execute_result"
    }
   ],
   "source": [
    "ddos.columns"
   ]
  },
  {
   "cell_type": "code",
   "execution_count": 5,
   "id": "c5804aa5",
   "metadata": {},
   "outputs": [],
   "source": [
    "ddos = ddos.drop(columns = ['Unnamed: 0'])"
   ]
  },
  {
   "cell_type": "code",
   "execution_count": 6,
   "id": "ded9fa95",
   "metadata": {},
   "outputs": [],
   "source": [
    "ddos['Label'].replace('BENIGN',0,inplace = True)\n",
    "ddos['Label'].replace('UDP',4,inplace = True)\n",
    "ddos['Label'].replace('LDAP',5,inplace = True)\n",
    "ddos['Label'].replace('Syn',3,inplace = True)\n",
    "ddos['Label'].replace('MSSQL',2,inplace = True)\n",
    "ddos['Label'].replace('Portmap',6,inplace = True)\n",
    "ddos['Label'].replace('NetBIOS',1,inplace = True)"
   ]
  },
  {
   "cell_type": "code",
   "execution_count": 7,
   "id": "f49f0b64",
   "metadata": {},
   "outputs": [],
   "source": [
    "X = ddos.iloc[:, 0:-1]\n",
    "y = ddos.iloc[:, -1]"
   ]
  },
  {
   "cell_type": "code",
   "execution_count": 10,
   "id": "b108c801",
   "metadata": {},
   "outputs": [],
   "source": [
    "from sklearn.model_selection import train_test_split\n",
    "X_train, X_test, Y_train, Y_test = train_test_split(X, y, test_size = 0.33, random_state = 42)"
   ]
  },
  {
   "cell_type": "code",
   "execution_count": 11,
   "id": "7b7cfef6",
   "metadata": {},
   "outputs": [],
   "source": [
    "from sklearn.preprocessing import StandardScaler\n",
    "scaler = StandardScaler().fit(X_train)\n",
    "X_train = scaler.transform(X_train)\n",
    "X_test = scaler.transform(X_test)"
   ]
  },
  {
   "cell_type": "code",
   "execution_count": 12,
   "id": "6440c302",
   "metadata": {},
   "outputs": [],
   "source": [
    "from keras.utils import np_utils\n",
    "X_train=np.expand_dims(X_train,axis=2)\n",
    "X_test = np.expand_dims(X_test, axis = 2)"
   ]
  },
  {
   "cell_type": "code",
   "execution_count": 13,
   "id": "0e286f09",
   "metadata": {},
   "outputs": [],
   "source": [
    "from tensorflow import keras"
   ]
  },
  {
   "cell_type": "code",
   "execution_count": 15,
   "id": "e275c1c3",
   "metadata": {},
   "outputs": [],
   "source": [
    "model = keras.models.load_model('Dos_8output.h5')"
   ]
  },
  {
   "cell_type": "markdown",
   "id": "41b2a9e4",
   "metadata": {},
   "source": [
    "# 0 freeze"
   ]
  },
  {
   "cell_type": "code",
   "execution_count": null,
   "id": "5f21f14e",
   "metadata": {},
   "outputs": [],
   "source": [
    "#model.layers[0].trainable = False"
   ]
  },
  {
   "cell_type": "code",
   "execution_count": null,
   "id": "b2547c00",
   "metadata": {},
   "outputs": [],
   "source": [
    "from keras.callbacks import EarlyStopping\n",
    "import time\n",
    "\n",
    "start = time.time()\n",
    "print(\"Timer Begin\")\n",
    "\n",
    "model.fit(X_train,Y_train,batch_size=30,epochs=1,\n",
    "          validation_split=0, callbacks=[EarlyStopping(monitor='loss',patience=2)])\n",
    "\n",
    "end = time.time()\n",
    "print(end - start)"
   ]
  },
  {
   "cell_type": "code",
   "execution_count": null,
   "id": "25a40666",
   "metadata": {},
   "outputs": [],
   "source": [
    "model.save('TL_org2_0f_1e.h5')"
   ]
  },
  {
   "cell_type": "code",
   "execution_count": null,
   "id": "5ee1da08",
   "metadata": {},
   "outputs": [],
   "source": []
  },
  {
   "cell_type": "code",
   "execution_count": null,
   "id": "b9575bdc",
   "metadata": {},
   "outputs": [],
   "source": [
    "from keras.callbacks import EarlyStopping\n",
    "import time\n",
    "\n",
    "start = time.time()\n",
    "print(\"Timer Begin\")\n",
    "\n",
    "model.fit(X_train,Y_train,batch_size=30,epochs=1,\n",
    "          validation_split=0, callbacks=[EarlyStopping(monitor='loss',patience=2)])\n",
    "\n",
    "end = time.time()\n",
    "print(end - start)"
   ]
  },
  {
   "cell_type": "code",
   "execution_count": null,
   "id": "84fdc840",
   "metadata": {},
   "outputs": [],
   "source": [
    "model.save('TL_org2_0f_2e.h5')"
   ]
  },
  {
   "cell_type": "code",
   "execution_count": null,
   "id": "ab835f84",
   "metadata": {},
   "outputs": [],
   "source": []
  },
  {
   "cell_type": "code",
   "execution_count": null,
   "id": "c6966fc4",
   "metadata": {},
   "outputs": [],
   "source": [
    "from keras.callbacks import EarlyStopping\n",
    "import time\n",
    "\n",
    "start = time.time()\n",
    "print(\"Timer Begin\")\n",
    "\n",
    "model.fit(X_train,Y_train,batch_size=30,epochs=1,\n",
    "          validation_split=0, callbacks=[EarlyStopping(monitor='loss',patience=2)])\n",
    "\n",
    "end = time.time()\n",
    "print(end - start)"
   ]
  },
  {
   "cell_type": "code",
   "execution_count": null,
   "id": "f29ddf3d",
   "metadata": {},
   "outputs": [],
   "source": [
    "model.save('TL_org2_0f_3e.h5')"
   ]
  },
  {
   "cell_type": "code",
   "execution_count": null,
   "id": "f882a66f",
   "metadata": {},
   "outputs": [],
   "source": []
  },
  {
   "cell_type": "code",
   "execution_count": null,
   "id": "b7eb6c00",
   "metadata": {},
   "outputs": [],
   "source": [
    "from keras.callbacks import EarlyStopping\n",
    "import time\n",
    "\n",
    "start = time.time()\n",
    "print(\"Timer Begin\")\n",
    "\n",
    "model.fit(X_train,Y_train,batch_size=30,epochs=1,\n",
    "          validation_split=0, callbacks=[EarlyStopping(monitor='loss',patience=2)])\n",
    "\n",
    "end = time.time()\n",
    "print(end - start)"
   ]
  },
  {
   "cell_type": "code",
   "execution_count": null,
   "id": "91f8be43",
   "metadata": {},
   "outputs": [],
   "source": [
    "model.save('TL_org2_0f_4e.h5')"
   ]
  },
  {
   "cell_type": "code",
   "execution_count": null,
   "id": "bd45839c",
   "metadata": {},
   "outputs": [],
   "source": []
  },
  {
   "cell_type": "code",
   "execution_count": null,
   "id": "8aa499f7",
   "metadata": {},
   "outputs": [],
   "source": [
    "from keras.callbacks import EarlyStopping\n",
    "import time\n",
    "\n",
    "start = time.time()\n",
    "print(\"Timer Begin\")\n",
    "\n",
    "model.fit(X_train,Y_train,batch_size=30,epochs=1,\n",
    "          validation_split=0, callbacks=[EarlyStopping(monitor='loss',patience=2)])\n",
    "\n",
    "end = time.time()\n",
    "print(end - start)"
   ]
  },
  {
   "cell_type": "code",
   "execution_count": null,
   "id": "ad5b4eab",
   "metadata": {},
   "outputs": [],
   "source": [
    "model.save('TL_org2_0f_5e.h5')"
   ]
  },
  {
   "cell_type": "code",
   "execution_count": null,
   "id": "a17b4ab3",
   "metadata": {},
   "outputs": [],
   "source": []
  },
  {
   "cell_type": "code",
   "execution_count": null,
   "id": "3c764721",
   "metadata": {},
   "outputs": [],
   "source": [
    "from keras.callbacks import EarlyStopping\n",
    "import time\n",
    "\n",
    "start = time.time()\n",
    "print(\"Timer Begin\")\n",
    "\n",
    "model.fit(X_train,Y_train,batch_size=30,epochs=1,\n",
    "          validation_split=0, callbacks=[EarlyStopping(monitor='loss',patience=2)])\n",
    "\n",
    "end = time.time()\n",
    "print(end - start)"
   ]
  },
  {
   "cell_type": "code",
   "execution_count": null,
   "id": "84e7ecad",
   "metadata": {},
   "outputs": [],
   "source": [
    "model.save('TL_org2_0f_6e.h5')"
   ]
  },
  {
   "cell_type": "code",
   "execution_count": null,
   "id": "efa60ef0",
   "metadata": {},
   "outputs": [],
   "source": []
  },
  {
   "cell_type": "code",
   "execution_count": null,
   "id": "5020e526",
   "metadata": {},
   "outputs": [],
   "source": [
    "from keras.callbacks import EarlyStopping\n",
    "import time\n",
    "\n",
    "start = time.time()\n",
    "print(\"Timer Begin\")\n",
    "\n",
    "model.fit(X_train,Y_train,batch_size=30,epochs=1,\n",
    "          validation_split=0, callbacks=[EarlyStopping(monitor='loss',patience=2)])\n",
    "\n",
    "end = time.time()\n",
    "print(end - start)"
   ]
  },
  {
   "cell_type": "code",
   "execution_count": null,
   "id": "74096803",
   "metadata": {},
   "outputs": [],
   "source": [
    "model.save('TL_org2_0f_7e.h5')"
   ]
  },
  {
   "cell_type": "code",
   "execution_count": null,
   "id": "ba9217d0",
   "metadata": {},
   "outputs": [],
   "source": []
  },
  {
   "cell_type": "code",
   "execution_count": null,
   "id": "6df0c9c4",
   "metadata": {},
   "outputs": [],
   "source": [
    "from keras.callbacks import EarlyStopping\n",
    "import time\n",
    "\n",
    "start = time.time()\n",
    "print(\"Timer Begin\")\n",
    "\n",
    "model.fit(X_train,Y_train,batch_size=30,epochs=1,\n",
    "          validation_split=0, callbacks=[EarlyStopping(monitor='loss',patience=2)])\n",
    "\n",
    "end = time.time()\n",
    "print(end - start)"
   ]
  },
  {
   "cell_type": "code",
   "execution_count": null,
   "id": "912adba0",
   "metadata": {},
   "outputs": [],
   "source": [
    "model.save('TL_org2_0f_8e.h5')"
   ]
  },
  {
   "cell_type": "code",
   "execution_count": null,
   "id": "902ef890",
   "metadata": {},
   "outputs": [],
   "source": []
  }
 ],
 "metadata": {
  "kernelspec": {
   "display_name": "Python 3 (ipykernel)",
   "language": "python",
   "name": "python3"
  },
  "language_info": {
   "codemirror_mode": {
    "name": "ipython",
    "version": 3
   },
   "file_extension": ".py",
   "mimetype": "text/x-python",
   "name": "python",
   "nbconvert_exporter": "python",
   "pygments_lexer": "ipython3",
   "version": "3.9.12"
  }
 },
 "nbformat": 4,
 "nbformat_minor": 5
}

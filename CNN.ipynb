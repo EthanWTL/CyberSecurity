{
 "cells": [
  {
   "cell_type": "code",
   "execution_count": 1,
   "id": "414712e1",
   "metadata": {},
   "outputs": [],
   "source": [
    "import numpy as np\n",
    "import pandas as pd"
   ]
  },
  {
   "cell_type": "code",
   "execution_count": 2,
   "id": "71f8ccf4",
   "metadata": {},
   "outputs": [
    {
     "name": "stderr",
     "output_type": "stream",
     "text": [
      "D:\\Anaconda\\lib\\site-packages\\IPython\\core\\interactiveshell.py:3444: DtypeWarning: Columns (85) have mixed types.Specify dtype option on import or set low_memory=False.\n",
      "  exec(code_obj, self.user_global_ns, self.user_ns)\n"
     ]
    }
   ],
   "source": [
    "data1 = pd.read_csv('LDAP.csv')"
   ]
  },
  {
   "cell_type": "code",
   "execution_count": 3,
   "id": "b8a2de6f",
   "metadata": {},
   "outputs": [
    {
     "data": {
      "text/plain": [
       "(2113234, 88)"
      ]
     },
     "execution_count": 3,
     "metadata": {},
     "output_type": "execute_result"
    }
   ],
   "source": [
    "data1.shape"
   ]
  },
  {
   "cell_type": "code",
   "execution_count": 4,
   "id": "c2804253",
   "metadata": {},
   "outputs": [],
   "source": [
    "data1 = data1.sample(8000)"
   ]
  },
  {
   "cell_type": "code",
   "execution_count": 5,
   "id": "1145c341",
   "metadata": {},
   "outputs": [
    {
     "data": {
      "text/plain": [
       "(8000, 88)"
      ]
     },
     "execution_count": 5,
     "metadata": {},
     "output_type": "execute_result"
    }
   ],
   "source": [
    "data1.shape"
   ]
  },
  {
   "cell_type": "code",
   "execution_count": 9,
   "id": "021ecf67",
   "metadata": {},
   "outputs": [
    {
     "name": "stderr",
     "output_type": "stream",
     "text": [
      "C:\\Users\\labuser.ITS\\Anaconda3\\lib\\site-packages\\IPython\\core\\interactiveshell.py:3444: DtypeWarning: Columns (85) have mixed types.Specify dtype option on import or set low_memory=False.\n",
      "  exec(code_obj, self.user_global_ns, self.user_ns)\n"
     ]
    }
   ],
   "source": [
    "data2 = pd.read_csv('MSSQL.csv')"
   ]
  },
  {
   "cell_type": "code",
   "execution_count": 10,
   "id": "a2fa2c16",
   "metadata": {},
   "outputs": [],
   "source": [
    "data2 = data2.sample(8000)"
   ]
  },
  {
   "cell_type": "code",
   "execution_count": 13,
   "id": "4e600a9a",
   "metadata": {},
   "outputs": [],
   "source": [
    "data3 = pd.read_csv('NetBIOS.csv')"
   ]
  },
  {
   "cell_type": "code",
   "execution_count": 14,
   "id": "bca2a62c",
   "metadata": {},
   "outputs": [],
   "source": [
    "data3 = data3.sample(8000)"
   ]
  },
  {
   "cell_type": "code",
   "execution_count": 16,
   "id": "7687daae",
   "metadata": {},
   "outputs": [],
   "source": [
    "data4 = pd.read_csv('Portmap.csv')"
   ]
  },
  {
   "cell_type": "code",
   "execution_count": 18,
   "id": "67e7cf82",
   "metadata": {},
   "outputs": [],
   "source": [
    "data4 = data4.sample(8000)"
   ]
  },
  {
   "cell_type": "code",
   "execution_count": 19,
   "id": "4df7ec1f",
   "metadata": {},
   "outputs": [],
   "source": [
    "data5 = pd.read_csv('Syn.csv')"
   ]
  },
  {
   "cell_type": "code",
   "execution_count": 20,
   "id": "87e85690",
   "metadata": {},
   "outputs": [],
   "source": [
    "data5 = data5.sample(8000)"
   ]
  },
  {
   "cell_type": "code",
   "execution_count": 21,
   "id": "9ea151d9",
   "metadata": {},
   "outputs": [],
   "source": [
    "data6 = pd.read_csv('UDP.csv')"
   ]
  },
  {
   "cell_type": "code",
   "execution_count": 22,
   "id": "7184b8b0",
   "metadata": {},
   "outputs": [],
   "source": [
    "data6 = data6.sample(8000)"
   ]
  },
  {
   "cell_type": "code",
   "execution_count": 23,
   "id": "638883d1",
   "metadata": {},
   "outputs": [],
   "source": [
    "data7 = pd.read_csv('UDPLag.csv')"
   ]
  },
  {
   "cell_type": "code",
   "execution_count": 24,
   "id": "c47e81ab",
   "metadata": {},
   "outputs": [],
   "source": [
    "data7 = data7.sample(8000)"
   ]
  },
  {
   "cell_type": "code",
   "execution_count": 25,
   "id": "3ff5a588",
   "metadata": {},
   "outputs": [],
   "source": [
    "data = pd.concat([data1,data2,data3,data4,data5,data6,data7], ignore_index = True)"
   ]
  },
  {
   "cell_type": "code",
   "execution_count": 26,
   "id": "7c5c9f77",
   "metadata": {},
   "outputs": [
    {
     "data": {
      "text/plain": [
       "(56000, 88)"
      ]
     },
     "execution_count": 26,
     "metadata": {},
     "output_type": "execute_result"
    }
   ],
   "source": [
    "data.shape"
   ]
  },
  {
   "cell_type": "code",
   "execution_count": 27,
   "id": "39651d94",
   "metadata": {},
   "outputs": [
    {
     "data": {
      "text/plain": [
       "Index(['Unnamed: 0', 'Flow ID', ' Source IP', ' Source Port',\n",
       "       ' Destination IP', ' Destination Port', ' Protocol', ' Timestamp',\n",
       "       ' Flow Duration', ' Total Fwd Packets', ' Total Backward Packets',\n",
       "       'Total Length of Fwd Packets', ' Total Length of Bwd Packets',\n",
       "       ' Fwd Packet Length Max', ' Fwd Packet Length Min',\n",
       "       ' Fwd Packet Length Mean', ' Fwd Packet Length Std',\n",
       "       'Bwd Packet Length Max', ' Bwd Packet Length Min',\n",
       "       ' Bwd Packet Length Mean', ' Bwd Packet Length Std', 'Flow Bytes/s',\n",
       "       ' Flow Packets/s', ' Flow IAT Mean', ' Flow IAT Std', ' Flow IAT Max',\n",
       "       ' Flow IAT Min', 'Fwd IAT Total', ' Fwd IAT Mean', ' Fwd IAT Std',\n",
       "       ' Fwd IAT Max', ' Fwd IAT Min', 'Bwd IAT Total', ' Bwd IAT Mean',\n",
       "       ' Bwd IAT Std', ' Bwd IAT Max', ' Bwd IAT Min', 'Fwd PSH Flags',\n",
       "       ' Bwd PSH Flags', ' Fwd URG Flags', ' Bwd URG Flags',\n",
       "       ' Fwd Header Length', ' Bwd Header Length', 'Fwd Packets/s',\n",
       "       ' Bwd Packets/s', ' Min Packet Length', ' Max Packet Length',\n",
       "       ' Packet Length Mean', ' Packet Length Std', ' Packet Length Variance',\n",
       "       'FIN Flag Count', ' SYN Flag Count', ' RST Flag Count',\n",
       "       ' PSH Flag Count', ' ACK Flag Count', ' URG Flag Count',\n",
       "       ' CWE Flag Count', ' ECE Flag Count', ' Down/Up Ratio',\n",
       "       ' Average Packet Size', ' Avg Fwd Segment Size',\n",
       "       ' Avg Bwd Segment Size', ' Fwd Header Length.1', 'Fwd Avg Bytes/Bulk',\n",
       "       ' Fwd Avg Packets/Bulk', ' Fwd Avg Bulk Rate', ' Bwd Avg Bytes/Bulk',\n",
       "       ' Bwd Avg Packets/Bulk', 'Bwd Avg Bulk Rate', 'Subflow Fwd Packets',\n",
       "       ' Subflow Fwd Bytes', ' Subflow Bwd Packets', ' Subflow Bwd Bytes',\n",
       "       'Init_Win_bytes_forward', ' Init_Win_bytes_backward',\n",
       "       ' act_data_pkt_fwd', ' min_seg_size_forward', 'Active Mean',\n",
       "       ' Active Std', ' Active Max', ' Active Min', 'Idle Mean', ' Idle Std',\n",
       "       ' Idle Max', ' Idle Min', 'SimillarHTTP', ' Inbound', ' Label'],\n",
       "      dtype='object')"
      ]
     },
     "execution_count": 27,
     "metadata": {},
     "output_type": "execute_result"
    }
   ],
   "source": [
    "data.columns"
   ]
  },
  {
   "cell_type": "code",
   "execution_count": 28,
   "id": "54e273e9",
   "metadata": {},
   "outputs": [
    {
     "data": {
      "text/plain": [
       "Syn        14623\n",
       "UDP         9214\n",
       "NetBIOS     8754\n",
       "MSSQL       8018\n",
       "Portmap     7831\n",
       "LDAP        7236\n",
       "BENIGN       302\n",
       "UDPLag        22\n",
       "Name:  Label, dtype: int64"
      ]
     },
     "execution_count": 28,
     "metadata": {},
     "output_type": "execute_result"
    }
   ],
   "source": [
    "data[' Label'].value_counts()"
   ]
  },
  {
   "cell_type": "code",
   "execution_count": 29,
   "id": "440c00d0",
   "metadata": {},
   "outputs": [],
   "source": [
    "data = data.drop(['Unnamed: 0'],axis = 1)"
   ]
  },
  {
   "cell_type": "code",
   "execution_count": 67,
   "id": "d56a8780",
   "metadata": {},
   "outputs": [],
   "source": [
    "data = data.drop(['SimillarHTTP'],axis = 1)"
   ]
  },
  {
   "cell_type": "code",
   "execution_count": 68,
   "id": "ad3df039",
   "metadata": {},
   "outputs": [
    {
     "data": {
      "text/plain": [
       "Index(['Flow ID', ' Source IP', ' Source Port', ' Destination IP',\n",
       "       ' Destination Port', ' Protocol', ' Timestamp', ' Flow Duration',\n",
       "       ' Total Fwd Packets', ' Total Backward Packets',\n",
       "       'Total Length of Fwd Packets', ' Total Length of Bwd Packets',\n",
       "       ' Fwd Packet Length Max', ' Fwd Packet Length Min',\n",
       "       ' Fwd Packet Length Mean', ' Fwd Packet Length Std',\n",
       "       'Bwd Packet Length Max', ' Bwd Packet Length Min',\n",
       "       ' Bwd Packet Length Mean', ' Bwd Packet Length Std', 'Flow Bytes/s',\n",
       "       ' Flow Packets/s', ' Flow IAT Mean', ' Flow IAT Std', ' Flow IAT Max',\n",
       "       ' Flow IAT Min', 'Fwd IAT Total', ' Fwd IAT Mean', ' Fwd IAT Std',\n",
       "       ' Fwd IAT Max', ' Fwd IAT Min', 'Bwd IAT Total', ' Bwd IAT Mean',\n",
       "       ' Bwd IAT Std', ' Bwd IAT Max', ' Bwd IAT Min', 'Fwd PSH Flags',\n",
       "       ' Bwd PSH Flags', ' Fwd URG Flags', ' Bwd URG Flags',\n",
       "       ' Fwd Header Length', ' Bwd Header Length', 'Fwd Packets/s',\n",
       "       ' Bwd Packets/s', ' Min Packet Length', ' Max Packet Length',\n",
       "       ' Packet Length Mean', ' Packet Length Std', ' Packet Length Variance',\n",
       "       'FIN Flag Count', ' SYN Flag Count', ' RST Flag Count',\n",
       "       ' PSH Flag Count', ' ACK Flag Count', ' URG Flag Count',\n",
       "       ' CWE Flag Count', ' ECE Flag Count', ' Down/Up Ratio',\n",
       "       ' Average Packet Size', ' Avg Fwd Segment Size',\n",
       "       ' Avg Bwd Segment Size', ' Fwd Header Length.1', 'Fwd Avg Bytes/Bulk',\n",
       "       ' Fwd Avg Packets/Bulk', ' Fwd Avg Bulk Rate', ' Bwd Avg Bytes/Bulk',\n",
       "       ' Bwd Avg Packets/Bulk', 'Bwd Avg Bulk Rate', 'Subflow Fwd Packets',\n",
       "       ' Subflow Fwd Bytes', ' Subflow Bwd Packets', ' Subflow Bwd Bytes',\n",
       "       'Init_Win_bytes_forward', ' Init_Win_bytes_backward',\n",
       "       ' act_data_pkt_fwd', ' min_seg_size_forward', 'Active Mean',\n",
       "       ' Active Std', ' Active Max', ' Active Min', 'Idle Mean', ' Idle Std',\n",
       "       ' Idle Max', ' Idle Min', ' Inbound', ' Label'],\n",
       "      dtype='object')"
      ]
     },
     "execution_count": 68,
     "metadata": {},
     "output_type": "execute_result"
    }
   ],
   "source": [
    "data.columns"
   ]
  },
  {
   "cell_type": "code",
   "execution_count": 8,
   "id": "ebbda9fc",
   "metadata": {},
   "outputs": [
    {
     "data": {
      "text/plain": [
       "Index(['Flow ID', ' Source IP', ' Destination IP', ' Timestamp',\n",
       "       'SimillarHTTP', ' Label'],\n",
       "      dtype='object')"
      ]
     },
     "execution_count": 8,
     "metadata": {},
     "output_type": "execute_result"
    }
   ],
   "source": [
    "df = data1.copy()\n",
    "cat_columns = df.select_dtypes(['object']).columns\n",
    "cat_columns"
   ]
  },
  {
   "cell_type": "code",
   "execution_count": 9,
   "id": "faca3cff",
   "metadata": {},
   "outputs": [
    {
     "data": {
      "text/plain": [
       "Unnamed: 0           int64\n",
       "Flow ID              int16\n",
       " Source IP            int8\n",
       " Source Port         int64\n",
       " Destination IP       int8\n",
       "                    ...   \n",
       " Idle Max          float64\n",
       " Idle Min          float64\n",
       "SimillarHTTP          int8\n",
       " Inbound             int64\n",
       " Label                int8\n",
       "Length: 88, dtype: object"
      ]
     },
     "execution_count": 9,
     "metadata": {},
     "output_type": "execute_result"
    }
   ],
   "source": [
    "df[cat_columns] = df[cat_columns].astype('category')\n",
    "df[cat_columns] = df[cat_columns].apply(lambda x: x.cat.codes)\n",
    "df\n",
    "data = df\n",
    "data.dtypes"
   ]
  },
  {
   "cell_type": "code",
   "execution_count": 69,
   "id": "e1d72c21",
   "metadata": {},
   "outputs": [],
   "source": [
    "data_real = data.replace(np.inf, np.nan)"
   ]
  },
  {
   "cell_type": "code",
   "execution_count": 70,
   "id": "f6399a98",
   "metadata": {},
   "outputs": [
    {
     "data": {
      "text/plain": [
       "0"
      ]
     },
     "execution_count": 70,
     "metadata": {},
     "output_type": "execute_result"
    }
   ],
   "source": [
    "data_real.isnull().sum().sum()"
   ]
  },
  {
   "cell_type": "code",
   "execution_count": 71,
   "id": "57bbb729",
   "metadata": {},
   "outputs": [],
   "source": [
    "data_df = data_real.dropna(axis=0)"
   ]
  },
  {
   "cell_type": "code",
   "execution_count": 72,
   "id": "136897b7",
   "metadata": {},
   "outputs": [
    {
     "data": {
      "text/plain": [
       "0"
      ]
     },
     "execution_count": 72,
     "metadata": {},
     "output_type": "execute_result"
    }
   ],
   "source": [
    "data_df.isnull().sum().sum()"
   ]
  },
  {
   "cell_type": "code",
   "execution_count": 73,
   "id": "c5020ad3",
   "metadata": {},
   "outputs": [
    {
     "data": {
      "text/plain": [
       "Index([], dtype='object')"
      ]
     },
     "execution_count": 73,
     "metadata": {},
     "output_type": "execute_result"
    }
   ],
   "source": [
    "df = data_df.copy()\n",
    "cat_columns = df.select_dtypes(['object']).columns\n",
    "cat_columns"
   ]
  },
  {
   "cell_type": "code",
   "execution_count": 74,
   "id": "bb83a9f7",
   "metadata": {
    "scrolled": true
   },
   "outputs": [
    {
     "data": {
      "text/plain": [
       "Flow ID                int32\n",
       " Source IP              int8\n",
       " Source Port           int64\n",
       " Destination IP         int8\n",
       " Destination Port      int64\n",
       "                      ...   \n",
       " Idle Std            float64\n",
       " Idle Max            float64\n",
       " Idle Min            float64\n",
       " Inbound               int64\n",
       " Label                  int8\n",
       "Length: 86, dtype: object"
      ]
     },
     "execution_count": 74,
     "metadata": {},
     "output_type": "execute_result"
    }
   ],
   "source": [
    "df[cat_columns] = df[cat_columns].astype('category')\n",
    "df[cat_columns] = df[cat_columns].apply(lambda x: x.cat.codes)\n",
    "df\n",
    "data = df\n",
    "data.dtypes"
   ]
  },
  {
   "cell_type": "code",
   "execution_count": 98,
   "id": "77c71b4c",
   "metadata": {
    "scrolled": true
   },
   "outputs": [
    {
     "data": {
      "text/plain": [
       "5    13544\n",
       "6     9065\n",
       "3     8426\n",
       "2     7748\n",
       "4     7454\n",
       "1     7064\n",
       "0      294\n",
       "7       22\n",
       "Name:  Label, dtype: int64"
      ]
     },
     "execution_count": 98,
     "metadata": {},
     "output_type": "execute_result"
    }
   ],
   "source": [
    "data[' Label'].value_counts()"
   ]
  },
  {
   "cell_type": "code",
   "execution_count": 100,
   "id": "78bc8a36",
   "metadata": {},
   "outputs": [],
   "source": [
    "data= data.sample(n=len(data), random_state=1)"
   ]
  },
  {
   "cell_type": "code",
   "execution_count": 103,
   "id": "5a8a0d64",
   "metadata": {},
   "outputs": [],
   "source": [
    "from imblearn.over_sampling import SMOTE "
   ]
  },
  {
   "cell_type": "code",
   "execution_count": 105,
   "id": "e95d8c97",
   "metadata": {},
   "outputs": [],
   "source": [
    "smt = SMOTE()\n",
    "X = data.iloc[:, 0:-1].values\n",
    "y = data.iloc[:, -1].values\n",
    "X, y = smt.fit_resample(X, y)"
   ]
  },
  {
   "cell_type": "code",
   "execution_count": 106,
   "id": "b616b66d",
   "metadata": {},
   "outputs": [
    {
     "data": {
      "text/plain": [
       "array([13544, 13544, 13544, 13544, 13544, 13544, 13544, 13544],\n",
       "      dtype=int64)"
      ]
     },
     "execution_count": 106,
     "metadata": {},
     "output_type": "execute_result"
    }
   ],
   "source": [
    "aa=np.bincount(y)\n",
    "aa"
   ]
  },
  {
   "cell_type": "code",
   "execution_count": 107,
   "id": "1c8f8df5",
   "metadata": {},
   "outputs": [
    {
     "name": "stdout",
     "output_type": "stream",
     "text": [
      "length of the dataset now after balance the dataset 108352\n"
     ]
    }
   ],
   "source": [
    "print('length of the dataset now after balance the dataset', len(X))"
   ]
  },
  {
   "cell_type": "code",
   "execution_count": 108,
   "id": "86988119",
   "metadata": {},
   "outputs": [
    {
     "data": {
      "text/plain": [
       "array([[ 1.36400838, -0.45976469, -1.06850679, ..., -0.1669076 ,\n",
       "        -0.15008422,  0.44536321],\n",
       "       [-1.53327731, -0.45976469, -0.22818827, ..., -0.1669076 ,\n",
       "        -0.15008422,  0.44536321],\n",
       "       [-0.28964026, -0.45976469, -1.08521778, ..., -0.1669076 ,\n",
       "        -0.15008422,  0.44536321],\n",
       "       ...,\n",
       "       [-1.17091808, -0.45976469,  0.3656485 , ..., -0.1669076 ,\n",
       "        -0.15008422,  0.44536321],\n",
       "       [-0.77469309,  2.0369576 ,  0.69500946, ..., -0.1669076 ,\n",
       "        -0.15008422, -2.49675952],\n",
       "       [-1.0450682 ,  0.91230415,  1.02570849, ..., -0.1669076 ,\n",
       "        -0.15008422, -1.17147458]])"
      ]
     },
     "execution_count": 108,
     "metadata": {},
     "output_type": "execute_result"
    }
   ],
   "source": [
    "from sklearn.preprocessing import StandardScaler\n",
    "standardScaler = StandardScaler()\n",
    "X= standardScaler.fit_transform(X)\n",
    "X"
   ]
  },
  {
   "cell_type": "code",
   "execution_count": 79,
   "id": "9067fce8",
   "metadata": {},
   "outputs": [],
   "source": [
    "from sklearn.model_selection import train_test_split"
   ]
  },
  {
   "cell_type": "code",
   "execution_count": 109,
   "id": "679d1c7f",
   "metadata": {},
   "outputs": [],
   "source": [
    "X_train, X_test, y_train, y_test = train_test_split(X, y, train_size = 0.67, test_size = 0.33, random_state = 42)"
   ]
  },
  {
   "cell_type": "code",
   "execution_count": 110,
   "id": "d93dca31",
   "metadata": {},
   "outputs": [
    {
     "data": {
      "text/plain": [
       "(72595, 85)"
      ]
     },
     "execution_count": 110,
     "metadata": {},
     "output_type": "execute_result"
    }
   ],
   "source": [
    "X_train.shape"
   ]
  },
  {
   "cell_type": "code",
   "execution_count": 111,
   "id": "62ea433c",
   "metadata": {},
   "outputs": [
    {
     "data": {
      "text/plain": [
       "(35757, 85)"
      ]
     },
     "execution_count": 111,
     "metadata": {},
     "output_type": "execute_result"
    }
   ],
   "source": [
    "X_test.shape"
   ]
  },
  {
   "cell_type": "code",
   "execution_count": 112,
   "id": "0e20e1da",
   "metadata": {},
   "outputs": [],
   "source": [
    "#CNN"
   ]
  },
  {
   "cell_type": "code",
   "execution_count": 113,
   "id": "c83be230",
   "metadata": {},
   "outputs": [],
   "source": [
    "#CNN algorithm libraries\n",
    "from keras.models import Sequential\n",
    "from keras.layers import Dense, Dropout, Activation, Conv1D, GlobalMaxPooling1D\n",
    "\n",
    "\n",
    "#for evaluation of trained algorithms \n",
    "from sklearn.metrics import confusion_matrix\n",
    "from sklearn.metrics import classification_report"
   ]
  },
  {
   "cell_type": "code",
   "execution_count": 114,
   "id": "756fecd3",
   "metadata": {},
   "outputs": [],
   "source": [
    "from tensorflow.keras.optimizers import RMSprop"
   ]
  },
  {
   "cell_type": "code",
   "execution_count": 115,
   "id": "ddcdbab9",
   "metadata": {},
   "outputs": [],
   "source": [
    "model = Sequential()"
   ]
  },
  {
   "cell_type": "code",
   "execution_count": 116,
   "id": "88d6153f",
   "metadata": {},
   "outputs": [],
   "source": [
    "model.add(Dense(512, input_dim=85))"
   ]
  },
  {
   "cell_type": "code",
   "execution_count": 117,
   "id": "6ad6ecf1",
   "metadata": {},
   "outputs": [],
   "source": [
    "model.add(Activation('relu'))\n",
    "model.add(Dropout(0.01))"
   ]
  },
  {
   "cell_type": "code",
   "execution_count": 118,
   "id": "c58b6070",
   "metadata": {},
   "outputs": [],
   "source": [
    "model.add(Dense(256))\n",
    "model.add(Activation('relu'))\n",
    "model.add(Dropout(0.01))"
   ]
  },
  {
   "cell_type": "code",
   "execution_count": 119,
   "id": "bf458c89",
   "metadata": {},
   "outputs": [],
   "source": [
    "model.add(Dense(128))\n",
    "model.add(Activation('relu'))\n",
    "model.add(Dropout(0.01))"
   ]
  },
  {
   "cell_type": "code",
   "execution_count": 120,
   "id": "b2126949",
   "metadata": {},
   "outputs": [
    {
     "name": "stdout",
     "output_type": "stream",
     "text": [
      "Model: \"sequential_3\"\n",
      "_________________________________________________________________\n",
      " Layer (type)                Output Shape              Param #   \n",
      "=================================================================\n",
      " dense_13 (Dense)            (None, 512)               44032     \n",
      "                                                                 \n",
      " activation_11 (Activation)  (None, 512)               0         \n",
      "                                                                 \n",
      " dropout_10 (Dropout)        (None, 512)               0         \n",
      "                                                                 \n",
      " dense_14 (Dense)            (None, 256)               131328    \n",
      "                                                                 \n",
      " activation_12 (Activation)  (None, 256)               0         \n",
      "                                                                 \n",
      " dropout_11 (Dropout)        (None, 256)               0         \n",
      "                                                                 \n",
      " dense_15 (Dense)            (None, 128)               32896     \n",
      "                                                                 \n",
      " activation_13 (Activation)  (None, 128)               0         \n",
      "                                                                 \n",
      " dropout_12 (Dropout)        (None, 128)               0         \n",
      "                                                                 \n",
      " dense_16 (Dense)            (None, 64)                8256      \n",
      "                                                                 \n",
      " activation_14 (Activation)  (None, 64)                0         \n",
      "                                                                 \n",
      " dropout_13 (Dropout)        (None, 64)                0         \n",
      "                                                                 \n",
      " dense_17 (Dense)            (None, 13)                845       \n",
      "                                                                 \n",
      "=================================================================\n",
      "Total params: 217,357\n",
      "Trainable params: 217,357\n",
      "Non-trainable params: 0\n",
      "_________________________________________________________________\n"
     ]
    }
   ],
   "source": [
    "model.add(Dense(64))\n",
    "model.add(Activation('relu'))\n",
    "model.add(Dropout(0.01))\n",
    "model.add(Dense(13, activation=\"softmax\"))\n",
    "model.summary()"
   ]
  },
  {
   "cell_type": "code",
   "execution_count": 121,
   "id": "767f05d3",
   "metadata": {},
   "outputs": [],
   "source": [
    "model.compile(loss='sparse_categorical_crossentropy',\n",
    "              optimizer='adam',\n",
    "              metrics=['acc'])"
   ]
  },
  {
   "cell_type": "code",
   "execution_count": 122,
   "id": "a1ca0a41",
   "metadata": {},
   "outputs": [
    {
     "name": "stdout",
     "output_type": "stream",
     "text": [
      "Model: \"sequential_3\"\n",
      "_________________________________________________________________\n",
      " Layer (type)                Output Shape              Param #   \n",
      "=================================================================\n",
      " dense_13 (Dense)            (None, 512)               44032     \n",
      "                                                                 \n",
      " activation_11 (Activation)  (None, 512)               0         \n",
      "                                                                 \n",
      " dropout_10 (Dropout)        (None, 512)               0         \n",
      "                                                                 \n",
      " dense_14 (Dense)            (None, 256)               131328    \n",
      "                                                                 \n",
      " activation_12 (Activation)  (None, 256)               0         \n",
      "                                                                 \n",
      " dropout_11 (Dropout)        (None, 256)               0         \n",
      "                                                                 \n",
      " dense_15 (Dense)            (None, 128)               32896     \n",
      "                                                                 \n",
      " activation_13 (Activation)  (None, 128)               0         \n",
      "                                                                 \n",
      " dropout_12 (Dropout)        (None, 128)               0         \n",
      "                                                                 \n",
      " dense_16 (Dense)            (None, 64)                8256      \n",
      "                                                                 \n",
      " activation_14 (Activation)  (None, 64)                0         \n",
      "                                                                 \n",
      " dropout_13 (Dropout)        (None, 64)                0         \n",
      "                                                                 \n",
      " dense_17 (Dense)            (None, 13)                845       \n",
      "                                                                 \n",
      "=================================================================\n",
      "Total params: 217,357\n",
      "Trainable params: 217,357\n",
      "Non-trainable params: 0\n",
      "_________________________________________________________________\n"
     ]
    }
   ],
   "source": [
    "model.summary()\n",
    "model.compile(loss='sparse_categorical_crossentropy',optimizer=RMSprop(),metrics=['accuracy'])"
   ]
  },
  {
   "cell_type": "code",
   "execution_count": 123,
   "id": "fd5ae924",
   "metadata": {},
   "outputs": [
    {
     "name": "stdout",
     "output_type": "stream",
     "text": [
      "Epoch 1/20\n",
      "3267/3267 [==============================] - 11s 3ms/step - loss: 0.1306 - accuracy: 0.9589 - val_loss: 0.0693 - val_accuracy: 0.9820\n",
      "Epoch 2/20\n",
      "3267/3267 [==============================] - 10s 3ms/step - loss: 0.0942 - accuracy: 0.9799 - val_loss: 0.1003 - val_accuracy: 0.9802\n",
      "Epoch 3/20\n",
      "3267/3267 [==============================] - 11s 3ms/step - loss: 0.1097 - accuracy: 0.9809 - val_loss: 0.0829 - val_accuracy: 0.9759\n",
      "Epoch 4/20\n",
      "3267/3267 [==============================] - 13s 4ms/step - loss: 0.1279 - accuracy: 0.9820 - val_loss: 0.2346 - val_accuracy: 0.9658\n",
      "Epoch 5/20\n",
      "3267/3267 [==============================] - 11s 3ms/step - loss: 0.1480 - accuracy: 0.9828 - val_loss: 0.1964 - val_accuracy: 0.9635\n",
      "Epoch 6/20\n",
      "3267/3267 [==============================] - 11s 3ms/step - loss: 0.1272 - accuracy: 0.9836 - val_loss: 0.1631 - val_accuracy: 0.9876\n",
      "Epoch 7/20\n",
      "3267/3267 [==============================] - 11s 3ms/step - loss: 0.1418 - accuracy: 0.9844 - val_loss: 0.1121 - val_accuracy: 0.9893\n",
      "Epoch 8/20\n",
      "3267/3267 [==============================] - 11s 3ms/step - loss: 0.1710 - accuracy: 0.9841 - val_loss: 0.1366 - val_accuracy: 0.9882\n",
      "Epoch 9/20\n",
      "3267/3267 [==============================] - 10s 3ms/step - loss: 0.1950 - accuracy: 0.9841 - val_loss: 0.1121 - val_accuracy: 0.9814\n",
      "Epoch 10/20\n",
      "3267/3267 [==============================] - 11s 3ms/step - loss: 0.1863 - accuracy: 0.9848 - val_loss: 0.2941 - val_accuracy: 0.9837\n",
      "Epoch 11/20\n",
      "3267/3267 [==============================] - 12s 4ms/step - loss: 0.2006 - accuracy: 0.9852 - val_loss: 0.2078 - val_accuracy: 0.9897\n",
      "Epoch 12/20\n",
      "3267/3267 [==============================] - 10s 3ms/step - loss: 0.2349 - accuracy: 0.9848 - val_loss: 0.2039 - val_accuracy: 0.9884\n",
      "Epoch 13/20\n",
      "3267/3267 [==============================] - 11s 3ms/step - loss: 0.2278 - accuracy: 0.9846 - val_loss: 0.1321 - val_accuracy: 0.9916\n",
      "Epoch 14/20\n",
      "3267/3267 [==============================] - 11s 3ms/step - loss: 0.1589 - accuracy: 0.9860 - val_loss: 0.2721 - val_accuracy: 0.9872\n",
      "Epoch 15/20\n",
      "3267/3267 [==============================] - 11s 3ms/step - loss: 0.2307 - accuracy: 0.9862 - val_loss: 0.1989 - val_accuracy: 0.9876\n",
      "Epoch 16/20\n",
      "3267/3267 [==============================] - 12s 4ms/step - loss: 0.2541 - accuracy: 0.9856 - val_loss: 0.2195 - val_accuracy: 0.9909\n",
      "Epoch 17/20\n",
      "3267/3267 [==============================] - 10s 3ms/step - loss: 0.2030 - accuracy: 0.9863 - val_loss: 0.2657 - val_accuracy: 0.9875\n",
      "Epoch 18/20\n",
      "3267/3267 [==============================] - 11s 3ms/step - loss: 0.1925 - accuracy: 0.9845 - val_loss: 0.1536 - val_accuracy: 0.9906\n",
      "Epoch 19/20\n",
      "3267/3267 [==============================] - 11s 3ms/step - loss: 0.3327 - accuracy: 0.9854 - val_loss: 0.1227 - val_accuracy: 0.9956\n",
      "Epoch 20/20\n",
      "3267/3267 [==============================] - 11s 3ms/step - loss: 0.2519 - accuracy: 0.9838 - val_loss: 0.2116 - val_accuracy: 0.9923\n"
     ]
    },
    {
     "data": {
      "text/plain": [
       "<keras.callbacks.History at 0x17aee53a130>"
      ]
     },
     "execution_count": 123,
     "metadata": {},
     "output_type": "execute_result"
    }
   ],
   "source": [
    "model.fit(X_train,y_train,batch_size=20,epochs=20,\n",
    "          validation_split=0.1)"
   ]
  },
  {
   "cell_type": "code",
   "execution_count": 124,
   "id": "f5d65adf",
   "metadata": {},
   "outputs": [
    {
     "name": "stdout",
     "output_type": "stream",
     "text": [
      "1118/1118 [==============================] - 2s 2ms/step - loss: 2.6188 - accuracy: 0.9929\n"
     ]
    }
   ],
   "source": [
    "accr = model.evaluate(X_test,y_test)"
   ]
  },
  {
   "cell_type": "code",
   "execution_count": 125,
   "id": "3d40625e",
   "metadata": {},
   "outputs": [
    {
     "name": "stdout",
     "output_type": "stream",
     "text": [
      "Test set\n",
      "  Accuracy: 0.99\n"
     ]
    }
   ],
   "source": [
    "y_pred = model.predict(X_test)\n",
    "y_pred=y_pred.argmax(axis=1)\n",
    "print('Test set\\n  Accuracy: {:0.2f}'.format(accr[1]))"
   ]
  },
  {
   "cell_type": "code",
   "execution_count": 126,
   "id": "ea7151f3",
   "metadata": {},
   "outputs": [],
   "source": [
    "from sklearn.metrics import accuracy_score\n",
    "from sklearn.metrics import classification_report\n",
    "from sklearn.metrics import confusion_matrix"
   ]
  },
  {
   "cell_type": "code",
   "execution_count": 129,
   "id": "4a9e6e62",
   "metadata": {},
   "outputs": [
    {
     "name": "stdout",
     "output_type": "stream",
     "text": [
      "CNN Confusion: \n",
      " [[4513    0    0    0    2    0    0    0]\n",
      " [   2 4429    2    1    0    0    0    0]\n",
      " [   0   11 4498    0    0    0    6    0]\n",
      " [   0    0    0 4368   82    0    0    0]\n",
      " [   0    0    0    8 4511    0    0    0]\n",
      " [   2    0    0    0    0 4500    0    5]\n",
      " [   0    0   28    6    0    0 4223   98]\n",
      " [   0    0    0    0    0    0    0 4462]]\n"
     ]
    }
   ],
   "source": [
    "rf_conf_mat = confusion_matrix(y_test, y_pred)\n",
    "print(\"CNN Confusion: \\n\", rf_conf_mat)"
   ]
  },
  {
   "cell_type": "code",
   "execution_count": 128,
   "id": "d0afd782",
   "metadata": {},
   "outputs": [
    {
     "name": "stdout",
     "output_type": "stream",
     "text": [
      "\n",
      "\n",
      "Precision, Recall, F1\n",
      "\n",
      "\n",
      "              precision    recall  f1-score   support\n",
      "\n",
      "           0       1.00      1.00      1.00      4515\n",
      "           1       1.00      1.00      1.00      4434\n",
      "           2       0.99      1.00      0.99      4515\n",
      "           3       1.00      0.98      0.99      4450\n",
      "           4       0.98      1.00      0.99      4519\n",
      "           5       1.00      1.00      1.00      4507\n",
      "           6       1.00      0.97      0.98      4355\n",
      "           7       0.98      1.00      0.99      4462\n",
      "\n",
      "    accuracy                           0.99     35757\n",
      "   macro avg       0.99      0.99      0.99     35757\n",
      "weighted avg       0.99      0.99      0.99     35757\n",
      "\n",
      "\n",
      "\n"
     ]
    }
   ],
   "source": [
    "print('\\n')\n",
    "print(\"Precision, Recall, F1\")\n",
    "print('\\n')\n",
    "CR=classification_report(y_test, y_pred)\n",
    "print(CR)\n",
    "print('\\n')"
   ]
  },
  {
   "cell_type": "code",
   "execution_count": null,
   "id": "16a83d0a",
   "metadata": {},
   "outputs": [],
   "source": []
  }
 ],
 "metadata": {
  "kernelspec": {
   "display_name": "Python 3 (ipykernel)",
   "language": "python",
   "name": "python3"
  },
  "language_info": {
   "codemirror_mode": {
    "name": "ipython",
    "version": 3
   },
   "file_extension": ".py",
   "mimetype": "text/x-python",
   "name": "python",
   "nbconvert_exporter": "python",
   "pygments_lexer": "ipython3",
   "version": "3.9.7"
  }
 },
 "nbformat": 4,
 "nbformat_minor": 5
}

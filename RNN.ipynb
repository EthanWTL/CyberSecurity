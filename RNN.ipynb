{
 "cells": [
  {
   "cell_type": "code",
   "execution_count": 1,
   "id": "414712e1",
   "metadata": {},
   "outputs": [],
   "source": [
    "import numpy as np\n",
    "import pandas as pd"
   ]
  },
  {
   "cell_type": "code",
   "execution_count": 2,
   "id": "71f8ccf4",
   "metadata": {},
   "outputs": [
    {
     "name": "stderr",
     "output_type": "stream",
     "text": [
      "D:\\Anaconda\\lib\\site-packages\\IPython\\core\\interactiveshell.py:3444: DtypeWarning: Columns (85) have mixed types.Specify dtype option on import or set low_memory=False.\n",
      "  exec(code_obj, self.user_global_ns, self.user_ns)\n"
     ]
    }
   ],
   "source": [
    "data1 = pd.read_csv('LDAP.csv')"
   ]
  },
  {
   "cell_type": "code",
   "execution_count": 3,
   "id": "b8a2de6f",
   "metadata": {},
   "outputs": [
    {
     "data": {
      "text/plain": [
       "(2113234, 88)"
      ]
     },
     "execution_count": 3,
     "metadata": {},
     "output_type": "execute_result"
    }
   ],
   "source": [
    "data1.shape"
   ]
  },
  {
   "cell_type": "code",
   "execution_count": 4,
   "id": "c2804253",
   "metadata": {},
   "outputs": [],
   "source": [
    "data1 = data1.sample(8000)"
   ]
  },
  {
   "cell_type": "code",
   "execution_count": 5,
   "id": "1145c341",
   "metadata": {},
   "outputs": [
    {
     "data": {
      "text/plain": [
       "(8000, 88)"
      ]
     },
     "execution_count": 5,
     "metadata": {},
     "output_type": "execute_result"
    }
   ],
   "source": [
    "data1.shape"
   ]
  },
  {
   "cell_type": "code",
   "execution_count": 6,
   "id": "021ecf67",
   "metadata": {},
   "outputs": [],
   "source": [
    "data2 = pd.read_csv('MSSQL.csv')"
   ]
  },
  {
   "cell_type": "code",
   "execution_count": 7,
   "id": "a2fa2c16",
   "metadata": {},
   "outputs": [],
   "source": [
    "data2 = data2.sample(8000)"
   ]
  },
  {
   "cell_type": "code",
   "execution_count": 8,
   "id": "4e600a9a",
   "metadata": {},
   "outputs": [],
   "source": [
    "data3 = pd.read_csv('NetBIOS.csv')"
   ]
  },
  {
   "cell_type": "code",
   "execution_count": 9,
   "id": "bca2a62c",
   "metadata": {},
   "outputs": [],
   "source": [
    "data3 = data3.sample(8000)"
   ]
  },
  {
   "cell_type": "code",
   "execution_count": 10,
   "id": "7687daae",
   "metadata": {},
   "outputs": [],
   "source": [
    "data4 = pd.read_csv('Portmap.csv')"
   ]
  },
  {
   "cell_type": "code",
   "execution_count": 11,
   "id": "67e7cf82",
   "metadata": {},
   "outputs": [],
   "source": [
    "data4 = data4.sample(8000)"
   ]
  },
  {
   "cell_type": "code",
   "execution_count": 12,
   "id": "4df7ec1f",
   "metadata": {},
   "outputs": [],
   "source": [
    "data5 = pd.read_csv('Syn.csv')"
   ]
  },
  {
   "cell_type": "code",
   "execution_count": 13,
   "id": "87e85690",
   "metadata": {},
   "outputs": [],
   "source": [
    "data5 = data5.sample(8000)"
   ]
  },
  {
   "cell_type": "code",
   "execution_count": 14,
   "id": "9ea151d9",
   "metadata": {},
   "outputs": [],
   "source": [
    "data6 = pd.read_csv('UDP.csv')"
   ]
  },
  {
   "cell_type": "code",
   "execution_count": 15,
   "id": "7184b8b0",
   "metadata": {},
   "outputs": [],
   "source": [
    "data6 = data6.sample(8000)"
   ]
  },
  {
   "cell_type": "code",
   "execution_count": 16,
   "id": "638883d1",
   "metadata": {},
   "outputs": [],
   "source": [
    "data7 = pd.read_csv('UDPLag.csv')"
   ]
  },
  {
   "cell_type": "code",
   "execution_count": 17,
   "id": "c47e81ab",
   "metadata": {},
   "outputs": [],
   "source": [
    "data7 = data7.sample(8000)"
   ]
  },
  {
   "cell_type": "code",
   "execution_count": 18,
   "id": "3ff5a588",
   "metadata": {},
   "outputs": [],
   "source": [
    "data = pd.concat([data1,data2,data3,data4,data5,data6,data7], ignore_index = True)"
   ]
  },
  {
   "cell_type": "code",
   "execution_count": 19,
   "id": "7c5c9f77",
   "metadata": {},
   "outputs": [
    {
     "data": {
      "text/plain": [
       "(56000, 88)"
      ]
     },
     "execution_count": 19,
     "metadata": {},
     "output_type": "execute_result"
    }
   ],
   "source": [
    "data.shape"
   ]
  },
  {
   "cell_type": "code",
   "execution_count": 20,
   "id": "39651d94",
   "metadata": {},
   "outputs": [
    {
     "data": {
      "text/plain": [
       "Index(['Unnamed: 0', 'Flow ID', ' Source IP', ' Source Port',\n",
       "       ' Destination IP', ' Destination Port', ' Protocol', ' Timestamp',\n",
       "       ' Flow Duration', ' Total Fwd Packets', ' Total Backward Packets',\n",
       "       'Total Length of Fwd Packets', ' Total Length of Bwd Packets',\n",
       "       ' Fwd Packet Length Max', ' Fwd Packet Length Min',\n",
       "       ' Fwd Packet Length Mean', ' Fwd Packet Length Std',\n",
       "       'Bwd Packet Length Max', ' Bwd Packet Length Min',\n",
       "       ' Bwd Packet Length Mean', ' Bwd Packet Length Std', 'Flow Bytes/s',\n",
       "       ' Flow Packets/s', ' Flow IAT Mean', ' Flow IAT Std', ' Flow IAT Max',\n",
       "       ' Flow IAT Min', 'Fwd IAT Total', ' Fwd IAT Mean', ' Fwd IAT Std',\n",
       "       ' Fwd IAT Max', ' Fwd IAT Min', 'Bwd IAT Total', ' Bwd IAT Mean',\n",
       "       ' Bwd IAT Std', ' Bwd IAT Max', ' Bwd IAT Min', 'Fwd PSH Flags',\n",
       "       ' Bwd PSH Flags', ' Fwd URG Flags', ' Bwd URG Flags',\n",
       "       ' Fwd Header Length', ' Bwd Header Length', 'Fwd Packets/s',\n",
       "       ' Bwd Packets/s', ' Min Packet Length', ' Max Packet Length',\n",
       "       ' Packet Length Mean', ' Packet Length Std', ' Packet Length Variance',\n",
       "       'FIN Flag Count', ' SYN Flag Count', ' RST Flag Count',\n",
       "       ' PSH Flag Count', ' ACK Flag Count', ' URG Flag Count',\n",
       "       ' CWE Flag Count', ' ECE Flag Count', ' Down/Up Ratio',\n",
       "       ' Average Packet Size', ' Avg Fwd Segment Size',\n",
       "       ' Avg Bwd Segment Size', ' Fwd Header Length.1', 'Fwd Avg Bytes/Bulk',\n",
       "       ' Fwd Avg Packets/Bulk', ' Fwd Avg Bulk Rate', ' Bwd Avg Bytes/Bulk',\n",
       "       ' Bwd Avg Packets/Bulk', 'Bwd Avg Bulk Rate', 'Subflow Fwd Packets',\n",
       "       ' Subflow Fwd Bytes', ' Subflow Bwd Packets', ' Subflow Bwd Bytes',\n",
       "       'Init_Win_bytes_forward', ' Init_Win_bytes_backward',\n",
       "       ' act_data_pkt_fwd', ' min_seg_size_forward', 'Active Mean',\n",
       "       ' Active Std', ' Active Max', ' Active Min', 'Idle Mean', ' Idle Std',\n",
       "       ' Idle Max', ' Idle Min', 'SimillarHTTP', ' Inbound', ' Label'],\n",
       "      dtype='object')"
      ]
     },
     "execution_count": 20,
     "metadata": {},
     "output_type": "execute_result"
    }
   ],
   "source": [
    "data.columns"
   ]
  },
  {
   "cell_type": "code",
   "execution_count": 21,
   "id": "54e273e9",
   "metadata": {},
   "outputs": [
    {
     "data": {
      "text/plain": [
       "Syn        14622\n",
       "UDP         9201\n",
       "NetBIOS     8765\n",
       "MSSQL       8029\n",
       "Portmap     7801\n",
       "LDAP        7222\n",
       "BENIGN       340\n",
       "UDPLag        20\n",
       "Name:  Label, dtype: int64"
      ]
     },
     "execution_count": 21,
     "metadata": {},
     "output_type": "execute_result"
    }
   ],
   "source": [
    "data[' Label'].value_counts()"
   ]
  },
  {
   "cell_type": "code",
   "execution_count": 22,
   "id": "440c00d0",
   "metadata": {},
   "outputs": [],
   "source": [
    "data = data.drop(['Unnamed: 0'],axis = 1)"
   ]
  },
  {
   "cell_type": "code",
   "execution_count": 23,
   "id": "d56a8780",
   "metadata": {},
   "outputs": [],
   "source": [
    "data = data.drop(['SimillarHTTP'],axis = 1)"
   ]
  },
  {
   "cell_type": "code",
   "execution_count": 24,
   "id": "ad3df039",
   "metadata": {},
   "outputs": [
    {
     "data": {
      "text/plain": [
       "Index(['Flow ID', ' Source IP', ' Source Port', ' Destination IP',\n",
       "       ' Destination Port', ' Protocol', ' Timestamp', ' Flow Duration',\n",
       "       ' Total Fwd Packets', ' Total Backward Packets',\n",
       "       'Total Length of Fwd Packets', ' Total Length of Bwd Packets',\n",
       "       ' Fwd Packet Length Max', ' Fwd Packet Length Min',\n",
       "       ' Fwd Packet Length Mean', ' Fwd Packet Length Std',\n",
       "       'Bwd Packet Length Max', ' Bwd Packet Length Min',\n",
       "       ' Bwd Packet Length Mean', ' Bwd Packet Length Std', 'Flow Bytes/s',\n",
       "       ' Flow Packets/s', ' Flow IAT Mean', ' Flow IAT Std', ' Flow IAT Max',\n",
       "       ' Flow IAT Min', 'Fwd IAT Total', ' Fwd IAT Mean', ' Fwd IAT Std',\n",
       "       ' Fwd IAT Max', ' Fwd IAT Min', 'Bwd IAT Total', ' Bwd IAT Mean',\n",
       "       ' Bwd IAT Std', ' Bwd IAT Max', ' Bwd IAT Min', 'Fwd PSH Flags',\n",
       "       ' Bwd PSH Flags', ' Fwd URG Flags', ' Bwd URG Flags',\n",
       "       ' Fwd Header Length', ' Bwd Header Length', 'Fwd Packets/s',\n",
       "       ' Bwd Packets/s', ' Min Packet Length', ' Max Packet Length',\n",
       "       ' Packet Length Mean', ' Packet Length Std', ' Packet Length Variance',\n",
       "       'FIN Flag Count', ' SYN Flag Count', ' RST Flag Count',\n",
       "       ' PSH Flag Count', ' ACK Flag Count', ' URG Flag Count',\n",
       "       ' CWE Flag Count', ' ECE Flag Count', ' Down/Up Ratio',\n",
       "       ' Average Packet Size', ' Avg Fwd Segment Size',\n",
       "       ' Avg Bwd Segment Size', ' Fwd Header Length.1', 'Fwd Avg Bytes/Bulk',\n",
       "       ' Fwd Avg Packets/Bulk', ' Fwd Avg Bulk Rate', ' Bwd Avg Bytes/Bulk',\n",
       "       ' Bwd Avg Packets/Bulk', 'Bwd Avg Bulk Rate', 'Subflow Fwd Packets',\n",
       "       ' Subflow Fwd Bytes', ' Subflow Bwd Packets', ' Subflow Bwd Bytes',\n",
       "       'Init_Win_bytes_forward', ' Init_Win_bytes_backward',\n",
       "       ' act_data_pkt_fwd', ' min_seg_size_forward', 'Active Mean',\n",
       "       ' Active Std', ' Active Max', ' Active Min', 'Idle Mean', ' Idle Std',\n",
       "       ' Idle Max', ' Idle Min', ' Inbound', ' Label'],\n",
       "      dtype='object')"
      ]
     },
     "execution_count": 24,
     "metadata": {},
     "output_type": "execute_result"
    }
   ],
   "source": [
    "data.columns"
   ]
  },
  {
   "cell_type": "code",
   "execution_count": 25,
   "id": "ebbda9fc",
   "metadata": {},
   "outputs": [
    {
     "data": {
      "text/plain": [
       "Index(['Flow ID', ' Source IP', ' Destination IP', ' Timestamp',\n",
       "       'SimillarHTTP', ' Label'],\n",
       "      dtype='object')"
      ]
     },
     "execution_count": 25,
     "metadata": {},
     "output_type": "execute_result"
    }
   ],
   "source": [
    "df = data1.copy()\n",
    "cat_columns = df.select_dtypes(['object']).columns\n",
    "cat_columns"
   ]
  },
  {
   "cell_type": "code",
   "execution_count": 26,
   "id": "faca3cff",
   "metadata": {},
   "outputs": [
    {
     "data": {
      "text/plain": [
       "Unnamed: 0           int64\n",
       "Flow ID              int16\n",
       " Source IP            int8\n",
       " Source Port         int64\n",
       " Destination IP       int8\n",
       "                    ...   \n",
       " Idle Max          float64\n",
       " Idle Min          float64\n",
       "SimillarHTTP          int8\n",
       " Inbound             int64\n",
       " Label                int8\n",
       "Length: 88, dtype: object"
      ]
     },
     "execution_count": 26,
     "metadata": {},
     "output_type": "execute_result"
    }
   ],
   "source": [
    "df[cat_columns] = df[cat_columns].astype('category')\n",
    "df[cat_columns] = df[cat_columns].apply(lambda x: x.cat.codes)\n",
    "df\n",
    "data = df\n",
    "data.dtypes"
   ]
  },
  {
   "cell_type": "code",
   "execution_count": 27,
   "id": "e1d72c21",
   "metadata": {},
   "outputs": [],
   "source": [
    "data_real = data.replace(np.inf, np.nan)"
   ]
  },
  {
   "cell_type": "code",
   "execution_count": 28,
   "id": "f6399a98",
   "metadata": {},
   "outputs": [
    {
     "data": {
      "text/plain": [
       "404"
      ]
     },
     "execution_count": 28,
     "metadata": {},
     "output_type": "execute_result"
    }
   ],
   "source": [
    "data_real.isnull().sum().sum()"
   ]
  },
  {
   "cell_type": "code",
   "execution_count": 29,
   "id": "57bbb729",
   "metadata": {},
   "outputs": [],
   "source": [
    "data_df = data_real.dropna(axis=0)"
   ]
  },
  {
   "cell_type": "code",
   "execution_count": 30,
   "id": "136897b7",
   "metadata": {},
   "outputs": [
    {
     "data": {
      "text/plain": [
       "0"
      ]
     },
     "execution_count": 30,
     "metadata": {},
     "output_type": "execute_result"
    }
   ],
   "source": [
    "data_df.isnull().sum().sum()"
   ]
  },
  {
   "cell_type": "code",
   "execution_count": 31,
   "id": "c5020ad3",
   "metadata": {},
   "outputs": [
    {
     "data": {
      "text/plain": [
       "Index([], dtype='object')"
      ]
     },
     "execution_count": 31,
     "metadata": {},
     "output_type": "execute_result"
    }
   ],
   "source": [
    "df = data_df.copy()\n",
    "cat_columns = df.select_dtypes(['object']).columns\n",
    "cat_columns"
   ]
  },
  {
   "cell_type": "code",
   "execution_count": 32,
   "id": "bb83a9f7",
   "metadata": {
    "scrolled": true
   },
   "outputs": [
    {
     "data": {
      "text/plain": [
       "Unnamed: 0           int64\n",
       "Flow ID              int16\n",
       " Source IP            int8\n",
       " Source Port         int64\n",
       " Destination IP       int8\n",
       "                    ...   \n",
       " Idle Max          float64\n",
       " Idle Min          float64\n",
       "SimillarHTTP          int8\n",
       " Inbound             int64\n",
       " Label                int8\n",
       "Length: 88, dtype: object"
      ]
     },
     "execution_count": 32,
     "metadata": {},
     "output_type": "execute_result"
    }
   ],
   "source": [
    "df[cat_columns] = df[cat_columns].astype('category')\n",
    "df[cat_columns] = df[cat_columns].apply(lambda x: x.cat.codes)\n",
    "df\n",
    "data = df\n",
    "data.dtypes"
   ]
  },
  {
   "cell_type": "code",
   "execution_count": 33,
   "id": "77c71b4c",
   "metadata": {
    "scrolled": true
   },
   "outputs": [
    {
     "data": {
      "text/plain": [
       "1    7054\n",
       "2     724\n",
       "0      20\n",
       "Name:  Label, dtype: int64"
      ]
     },
     "execution_count": 33,
     "metadata": {},
     "output_type": "execute_result"
    }
   ],
   "source": [
    "data[' Label'].value_counts()"
   ]
  },
  {
   "cell_type": "code",
   "execution_count": 34,
   "id": "78bc8a36",
   "metadata": {},
   "outputs": [],
   "source": [
    "data= data.sample(n=len(data), random_state=1)"
   ]
  },
  {
   "cell_type": "code",
   "execution_count": 98,
   "id": "32d77da0",
   "metadata": {},
   "outputs": [],
   "source": [
    "data = data.values"
   ]
  },
  {
   "cell_type": "code",
   "execution_count": 295,
   "id": "6cf2ac80",
   "metadata": {},
   "outputs": [],
   "source": [
    "X = data[:, 0:-1]\n",
    "y = data[:, -1]"
   ]
  },
  {
   "cell_type": "code",
   "execution_count": 297,
   "id": "86988119",
   "metadata": {},
   "outputs": [],
   "source": [
    "from sklearn.preprocessing import StandardScaler\n",
    "scalar = StandardScaler(copy=True, with_mean=True, with_std=True)\n",
    "scalar.fit(X)\n",
    "X = scalar.transform(X)"
   ]
  },
  {
   "cell_type": "code",
   "execution_count": null,
   "id": "10432864",
   "metadata": {},
   "outputs": [],
   "source": []
  },
  {
   "cell_type": "code",
   "execution_count": 298,
   "id": "4d4ff16f",
   "metadata": {},
   "outputs": [
    {
     "data": {
      "text/plain": [
       "(7798, 87)"
      ]
     },
     "execution_count": 298,
     "metadata": {},
     "output_type": "execute_result"
    }
   ],
   "source": [
    "X.shape"
   ]
  },
  {
   "cell_type": "code",
   "execution_count": 299,
   "id": "1ce9ac62",
   "metadata": {},
   "outputs": [
    {
     "data": {
      "text/plain": [
       "(7798,)"
      ]
     },
     "execution_count": 299,
     "metadata": {},
     "output_type": "execute_result"
    }
   ],
   "source": [
    "y.shape"
   ]
  },
  {
   "cell_type": "code",
   "execution_count": 300,
   "id": "b27402bf",
   "metadata": {},
   "outputs": [],
   "source": [
    "features = len(X[0]) #87\n",
    "samples = X.shape[0] #7798\n",
    "train_len = 87\n",
    "input_len = samples - train_len\n",
    "I = np.zeros((samples - train_len, train_len, features))\n",
    "\n",
    "for i in range(input_len):\n",
    "    temp = np.zeros((train_len, features))\n",
    "    for j in range(i, i + train_len - 1):\n",
    "        temp[j-i] = X[j]\n",
    "    I[i] = temp"
   ]
  },
  {
   "cell_type": "code",
   "execution_count": 301,
   "id": "9067fce8",
   "metadata": {},
   "outputs": [],
   "source": [
    "from sklearn.model_selection import train_test_split"
   ]
  },
  {
   "cell_type": "code",
   "execution_count": 302,
   "id": "679d1c7f",
   "metadata": {},
   "outputs": [],
   "source": [
    "X_train, X_test, Y_train, Y_test = train_test_split(I, y[87:7798], test_size = 0.2)"
   ]
  },
  {
   "cell_type": "code",
   "execution_count": 331,
   "id": "d93dca31",
   "metadata": {},
   "outputs": [
    {
     "data": {
      "text/plain": [
       "(6168, 87, 87)"
      ]
     },
     "execution_count": 331,
     "metadata": {},
     "output_type": "execute_result"
    }
   ],
   "source": [
    "X_train.shape"
   ]
  },
  {
   "cell_type": "code",
   "execution_count": 332,
   "id": "62ea433c",
   "metadata": {},
   "outputs": [
    {
     "data": {
      "text/plain": [
       "(1543, 87, 87)"
      ]
     },
     "execution_count": 332,
     "metadata": {},
     "output_type": "execute_result"
    }
   ],
   "source": [
    "X_test.shape"
   ]
  },
  {
   "cell_type": "code",
   "execution_count": 333,
   "id": "7c616e20",
   "metadata": {},
   "outputs": [
    {
     "data": {
      "text/plain": [
       "(6168,)"
      ]
     },
     "execution_count": 333,
     "metadata": {},
     "output_type": "execute_result"
    }
   ],
   "source": [
    "Y_train.shape"
   ]
  },
  {
   "cell_type": "code",
   "execution_count": 334,
   "id": "c71f2eac",
   "metadata": {},
   "outputs": [
    {
     "data": {
      "text/plain": [
       "(1543,)"
      ]
     },
     "execution_count": 334,
     "metadata": {},
     "output_type": "execute_result"
    }
   ],
   "source": [
    "Y_test.shape"
   ]
  },
  {
   "cell_type": "code",
   "execution_count": 335,
   "id": "0e20e1da",
   "metadata": {},
   "outputs": [],
   "source": [
    "#RNN"
   ]
  },
  {
   "cell_type": "code",
   "execution_count": 336,
   "id": "c83be230",
   "metadata": {},
   "outputs": [],
   "source": [
    "import tensorflow as tf\n",
    "from tensorflow.keras.models import Sequential\n",
    "from tensorflow.keras.layers import Dense, Dropout, LSTM, Bidirectional"
   ]
  },
  {
   "cell_type": "code",
   "execution_count": 344,
   "id": "a61ce275",
   "metadata": {},
   "outputs": [],
   "source": [
    "model = Sequential()  \n",
    "model.add(LSTM(64, input_shape=(X_train.shape[1:]), return_sequences=True))\n",
    "model.add(LSTM(64))\n",
    "\n",
    "model.add(Dense(64, activation='relu'))\n",
    "model.add(Dropout(0.3))\n",
    "\n",
    "model.add(Dense(8, activation='softmax'))"
   ]
  },
  {
   "cell_type": "code",
   "execution_count": 347,
   "id": "f512ad2d",
   "metadata": {},
   "outputs": [],
   "source": [
    "model.compile(optimizer = 'adam',loss='sparse_categorical_crossentropy',metrics=['accuracy'])"
   ]
  },
  {
   "cell_type": "code",
   "execution_count": 349,
   "id": "2489e24d",
   "metadata": {},
   "outputs": [
    {
     "name": "stdout",
     "output_type": "stream",
     "text": [
      "Epoch 1/10\n",
      "155/155 [==============================] - 10s 65ms/step - loss: 0.3426 - accuracy: 0.9013 - val_loss: 0.3079 - val_accuracy: 0.9133\n",
      "Epoch 2/10\n",
      "155/155 [==============================] - 10s 65ms/step - loss: 0.3418 - accuracy: 0.9013 - val_loss: 0.3083 - val_accuracy: 0.9133\n",
      "Epoch 3/10\n",
      "155/155 [==============================] - 10s 66ms/step - loss: 0.3370 - accuracy: 0.9013 - val_loss: 0.3085 - val_accuracy: 0.9133\n",
      "Epoch 4/10\n",
      "155/155 [==============================] - 10s 67ms/step - loss: 0.3364 - accuracy: 0.9013 - val_loss: 0.3085 - val_accuracy: 0.9133\n",
      "Epoch 5/10\n",
      "155/155 [==============================] - 10s 65ms/step - loss: 0.3375 - accuracy: 0.9013 - val_loss: 0.3089 - val_accuracy: 0.9133\n",
      "Epoch 6/10\n",
      "155/155 [==============================] - 10s 64ms/step - loss: 0.3339 - accuracy: 0.9013 - val_loss: 0.3102 - val_accuracy: 0.9133\n",
      "Epoch 7/10\n",
      "155/155 [==============================] - 10s 65ms/step - loss: 0.3359 - accuracy: 0.9013 - val_loss: 0.3105 - val_accuracy: 0.9133\n",
      "Epoch 8/10\n",
      "155/155 [==============================] - 10s 65ms/step - loss: 0.3357 - accuracy: 0.9013 - val_loss: 0.3116 - val_accuracy: 0.9133\n",
      "Epoch 9/10\n",
      "155/155 [==============================] - 10s 64ms/step - loss: 0.3329 - accuracy: 0.9013 - val_loss: 0.3138 - val_accuracy: 0.9133\n",
      "Epoch 10/10\n",
      "155/155 [==============================] - 10s 65ms/step - loss: 0.3322 - accuracy: 0.9013 - val_loss: 0.3191 - val_accuracy: 0.9133\n"
     ]
    }
   ],
   "source": [
    "history = model.fit(X_train, Y_train, epochs = 10,validation_split=0.2, verbose = 1)"
   ]
  },
  {
   "cell_type": "code",
   "execution_count": 350,
   "id": "45490ca9",
   "metadata": {},
   "outputs": [
    {
     "name": "stdout",
     "output_type": "stream",
     "text": [
      "49/49 [==============================] - 1s 22ms/step - loss: 0.3357 - accuracy: 0.9060\n"
     ]
    }
   ],
   "source": [
    "accr = model.evaluate(X_test,Y_test)"
   ]
  },
  {
   "cell_type": "code",
   "execution_count": 351,
   "id": "4dff767e",
   "metadata": {},
   "outputs": [
    {
     "name": "stdout",
     "output_type": "stream",
     "text": [
      "Test set\n",
      "  Accuracy: 0.91\n"
     ]
    }
   ],
   "source": [
    "y_pred = model.predict(X_test)\n",
    "y_pred=y_pred.argmax(axis=1)\n",
    "print('Test set\\n  Accuracy: {:0.2f}'.format(accr[1]))"
   ]
  },
  {
   "cell_type": "code",
   "execution_count": null,
   "id": "9f96ef12",
   "metadata": {},
   "outputs": [],
   "source": []
  }
 ],
 "metadata": {
  "kernelspec": {
   "display_name": "Python 3 (ipykernel)",
   "language": "python",
   "name": "python3"
  },
  "language_info": {
   "codemirror_mode": {
    "name": "ipython",
    "version": 3
   },
   "file_extension": ".py",
   "mimetype": "text/x-python",
   "name": "python",
   "nbconvert_exporter": "python",
   "pygments_lexer": "ipython3",
   "version": "3.9.7"
  }
 },
 "nbformat": 4,
 "nbformat_minor": 5
}

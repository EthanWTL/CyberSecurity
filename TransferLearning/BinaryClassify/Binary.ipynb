{
 "cells": [
  {
   "cell_type": "code",
   "execution_count": 1,
   "id": "8066ecb1",
   "metadata": {},
   "outputs": [],
   "source": [
    "import numpy as np\n",
    "import pandas as pd"
   ]
  },
  {
   "cell_type": "code",
   "execution_count": 2,
   "id": "b209ff8b",
   "metadata": {},
   "outputs": [],
   "source": [
    "data = pd.read_csv('binary_classification_large.csv')"
   ]
  },
  {
   "cell_type": "code",
   "execution_count": 3,
   "id": "1eebbc50",
   "metadata": {},
   "outputs": [
    {
     "data": {
      "text/plain": [
       "(1748709, 79)"
      ]
     },
     "execution_count": 3,
     "metadata": {},
     "output_type": "execute_result"
    }
   ],
   "source": [
    "data.shape"
   ]
  },
  {
   "cell_type": "code",
   "execution_count": 4,
   "id": "cbf320d2",
   "metadata": {},
   "outputs": [
    {
     "data": {
      "text/plain": [
       "Index(['Unnamed: 0', 'FlowDuration', 'TotalFwdPackets', 'TotalBackwardPackets',\n",
       "       'TotalLengthofFwdPackets', 'TotalLengthofBwdPackets',\n",
       "       'FwdPacketLengthMax', 'FwdPacketLengthMin', 'FwdPacketLengthMean',\n",
       "       'FwdPacketLengthStd', 'BwdPacketLengthMax', 'BwdPacketLengthMin',\n",
       "       'BwdPacketLengthMean', 'BwdPacketLengthStd', 'FlowBytes/s',\n",
       "       'FlowPackets/s', 'FlowIATMean', 'FlowIATStd', 'FlowIATMax',\n",
       "       'FlowIATMin', 'FwdIATTotal', 'FwdIATMean', 'FwdIATStd', 'FwdIATMax',\n",
       "       'FwdIATMin', 'BwdIATTotal', 'BwdIATMean', 'BwdIATStd', 'BwdIATMax',\n",
       "       'BwdIATMin', 'FwdPSHFlags', 'BwdPSHFlags', 'FwdURGFlags', 'BwdURGFlags',\n",
       "       'FwdHeaderLength', 'BwdHeaderLength', 'FwdPackets/s', 'BwdPackets/s',\n",
       "       'MinPacketLength', 'MaxPacketLength', 'PacketLengthMean',\n",
       "       'PacketLengthStd', 'PacketLengthVariance', 'FINFlagCount',\n",
       "       'SYNFlagCount', 'RSTFlagCount', 'PSHFlagCount', 'ACKFlagCount',\n",
       "       'URGFlagCount', 'CWEFlagCount', 'ECEFlagCount', 'Down/UpRatio',\n",
       "       'AveragePacketSize', 'AvgFwdSegmentSize', 'AvgBwdSegmentSize',\n",
       "       'FwdHeaderLength.1', 'FwdAvgBytes/Bulk', 'FwdAvgPackets/Bulk',\n",
       "       'FwdAvgBulkRate', 'BwdAvgBytes/Bulk', 'BwdAvgPackets/Bulk',\n",
       "       'BwdAvgBulkRate', 'SubflowFwdPackets', 'SubflowFwdBytes',\n",
       "       'SubflowBwdPackets', 'SubflowBwdBytes', 'Init_Win_bytes_forward',\n",
       "       'Init_Win_bytes_backward', 'act_data_pkt_fwd', 'min_seg_size_forward',\n",
       "       'ActiveMean', 'ActiveStd', 'ActiveMax', 'ActiveMin', 'IdleMean',\n",
       "       'IdleStd', 'IdleMax', 'IdleMin', 'Label'],\n",
       "      dtype='object')"
      ]
     },
     "execution_count": 4,
     "metadata": {},
     "output_type": "execute_result"
    }
   ],
   "source": [
    "data.columns"
   ]
  },
  {
   "cell_type": "code",
   "execution_count": 5,
   "id": "8a36dd8c",
   "metadata": {},
   "outputs": [],
   "source": [
    "df = data.drop(columns = ['Unnamed: 0'])"
   ]
  },
  {
   "cell_type": "code",
   "execution_count": 7,
   "id": "61268638",
   "metadata": {},
   "outputs": [
    {
     "data": {
      "text/plain": [
       "ATTACK    910000\n",
       "BENIGN    838709\n",
       "Name: Label, dtype: int64"
      ]
     },
     "execution_count": 7,
     "metadata": {},
     "output_type": "execute_result"
    }
   ],
   "source": [
    "df['Label'].value_counts()"
   ]
  },
  {
   "cell_type": "code",
   "execution_count": 8,
   "id": "4eb955dc",
   "metadata": {},
   "outputs": [
    {
     "data": {
      "text/plain": [
       "Index(['Label'], dtype='object')"
      ]
     },
     "execution_count": 8,
     "metadata": {},
     "output_type": "execute_result"
    }
   ],
   "source": [
    "df = df.copy()\n",
    "cat_columns = df.select_dtypes(['object']).columns\n",
    "cat_columns"
   ]
  },
  {
   "cell_type": "code",
   "execution_count": 9,
   "id": "86f871ea",
   "metadata": {},
   "outputs": [
    {
     "data": {
      "text/plain": [
       "FlowDuration                 int64\n",
       "TotalFwdPackets              int64\n",
       "TotalBackwardPackets         int64\n",
       "TotalLengthofFwdPackets    float64\n",
       "TotalLengthofBwdPackets    float64\n",
       "                            ...   \n",
       "IdleMean                   float64\n",
       "IdleStd                    float64\n",
       "IdleMax                    float64\n",
       "IdleMin                    float64\n",
       "Label                         int8\n",
       "Length: 78, dtype: object"
      ]
     },
     "execution_count": 9,
     "metadata": {},
     "output_type": "execute_result"
    }
   ],
   "source": [
    "df[cat_columns] = df[cat_columns].astype('category')\n",
    "df[cat_columns] = df[cat_columns].apply(lambda x: x.cat.codes)\n",
    "df\n",
    "data = df\n",
    "data.dtypes"
   ]
  },
  {
   "cell_type": "code",
   "execution_count": 11,
   "id": "90693d2d",
   "metadata": {},
   "outputs": [
    {
     "data": {
      "text/html": [
       "<div>\n",
       "<style scoped>\n",
       "    .dataframe tbody tr th:only-of-type {\n",
       "        vertical-align: middle;\n",
       "    }\n",
       "\n",
       "    .dataframe tbody tr th {\n",
       "        vertical-align: top;\n",
       "    }\n",
       "\n",
       "    .dataframe thead th {\n",
       "        text-align: right;\n",
       "    }\n",
       "</style>\n",
       "<table border=\"1\" class=\"dataframe\">\n",
       "  <thead>\n",
       "    <tr style=\"text-align: right;\">\n",
       "      <th></th>\n",
       "      <th>FlowDuration</th>\n",
       "      <th>TotalFwdPackets</th>\n",
       "      <th>TotalBackwardPackets</th>\n",
       "      <th>TotalLengthofFwdPackets</th>\n",
       "      <th>TotalLengthofBwdPackets</th>\n",
       "      <th>FwdPacketLengthMax</th>\n",
       "      <th>FwdPacketLengthMin</th>\n",
       "      <th>FwdPacketLengthMean</th>\n",
       "      <th>FwdPacketLengthStd</th>\n",
       "      <th>BwdPacketLengthMax</th>\n",
       "      <th>...</th>\n",
       "      <th>min_seg_size_forward</th>\n",
       "      <th>ActiveMean</th>\n",
       "      <th>ActiveStd</th>\n",
       "      <th>ActiveMax</th>\n",
       "      <th>ActiveMin</th>\n",
       "      <th>IdleMean</th>\n",
       "      <th>IdleStd</th>\n",
       "      <th>IdleMax</th>\n",
       "      <th>IdleMin</th>\n",
       "      <th>Label</th>\n",
       "    </tr>\n",
       "  </thead>\n",
       "  <tbody>\n",
       "    <tr>\n",
       "      <th>1748704</th>\n",
       "      <td>106663</td>\n",
       "      <td>4</td>\n",
       "      <td>0</td>\n",
       "      <td>1398.0</td>\n",
       "      <td>0.0</td>\n",
       "      <td>369.0</td>\n",
       "      <td>330.0</td>\n",
       "      <td>349.500000</td>\n",
       "      <td>22.516660</td>\n",
       "      <td>0.0</td>\n",
       "      <td>...</td>\n",
       "      <td>20</td>\n",
       "      <td>0.0</td>\n",
       "      <td>0.0000</td>\n",
       "      <td>0.0</td>\n",
       "      <td>0.0</td>\n",
       "      <td>0.0</td>\n",
       "      <td>0.0000</td>\n",
       "      <td>0.0</td>\n",
       "      <td>0.0</td>\n",
       "      <td>0</td>\n",
       "    </tr>\n",
       "    <tr>\n",
       "      <th>1748705</th>\n",
       "      <td>265</td>\n",
       "      <td>2</td>\n",
       "      <td>2</td>\n",
       "      <td>64.0</td>\n",
       "      <td>258.0</td>\n",
       "      <td>32.0</td>\n",
       "      <td>32.0</td>\n",
       "      <td>32.000000</td>\n",
       "      <td>0.000000</td>\n",
       "      <td>129.0</td>\n",
       "      <td>...</td>\n",
       "      <td>20</td>\n",
       "      <td>0.0</td>\n",
       "      <td>0.0000</td>\n",
       "      <td>0.0</td>\n",
       "      <td>0.0</td>\n",
       "      <td>0.0</td>\n",
       "      <td>0.0000</td>\n",
       "      <td>0.0</td>\n",
       "      <td>0.0</td>\n",
       "      <td>1</td>\n",
       "    </tr>\n",
       "    <tr>\n",
       "      <th>1748706</th>\n",
       "      <td>107920</td>\n",
       "      <td>4</td>\n",
       "      <td>0</td>\n",
       "      <td>1438.0</td>\n",
       "      <td>0.0</td>\n",
       "      <td>389.0</td>\n",
       "      <td>330.0</td>\n",
       "      <td>359.500000</td>\n",
       "      <td>34.063666</td>\n",
       "      <td>0.0</td>\n",
       "      <td>...</td>\n",
       "      <td>20</td>\n",
       "      <td>0.0</td>\n",
       "      <td>0.0000</td>\n",
       "      <td>0.0</td>\n",
       "      <td>0.0</td>\n",
       "      <td>0.0</td>\n",
       "      <td>0.0000</td>\n",
       "      <td>0.0</td>\n",
       "      <td>0.0</td>\n",
       "      <td>0</td>\n",
       "    </tr>\n",
       "    <tr>\n",
       "      <th>1748707</th>\n",
       "      <td>1</td>\n",
       "      <td>2</td>\n",
       "      <td>0</td>\n",
       "      <td>944.0</td>\n",
       "      <td>0.0</td>\n",
       "      <td>472.0</td>\n",
       "      <td>472.0</td>\n",
       "      <td>472.000000</td>\n",
       "      <td>0.000000</td>\n",
       "      <td>0.0</td>\n",
       "      <td>...</td>\n",
       "      <td>-1062718972</td>\n",
       "      <td>0.0</td>\n",
       "      <td>0.0000</td>\n",
       "      <td>0.0</td>\n",
       "      <td>0.0</td>\n",
       "      <td>0.0</td>\n",
       "      <td>0.0000</td>\n",
       "      <td>0.0</td>\n",
       "      <td>0.0</td>\n",
       "      <td>0</td>\n",
       "    </tr>\n",
       "    <tr>\n",
       "      <th>1748708</th>\n",
       "      <td>50342022</td>\n",
       "      <td>11</td>\n",
       "      <td>11</td>\n",
       "      <td>866.0</td>\n",
       "      <td>4392.0</td>\n",
       "      <td>465.0</td>\n",
       "      <td>0.0</td>\n",
       "      <td>78.727273</td>\n",
       "      <td>147.805339</td>\n",
       "      <td>3614.0</td>\n",
       "      <td>...</td>\n",
       "      <td>20</td>\n",
       "      <td>148803.4</td>\n",
       "      <td>108170.1548</td>\n",
       "      <td>342304.0</td>\n",
       "      <td>100379.0</td>\n",
       "      <td>9919600.8</td>\n",
       "      <td>185666.4769</td>\n",
       "      <td>10000000.0</td>\n",
       "      <td>9587508.0</td>\n",
       "      <td>1</td>\n",
       "    </tr>\n",
       "  </tbody>\n",
       "</table>\n",
       "<p>5 rows × 78 columns</p>\n",
       "</div>"
      ],
      "text/plain": [
       "         FlowDuration  TotalFwdPackets  TotalBackwardPackets  \\\n",
       "1748704        106663                4                     0   \n",
       "1748705           265                2                     2   \n",
       "1748706        107920                4                     0   \n",
       "1748707             1                2                     0   \n",
       "1748708      50342022               11                    11   \n",
       "\n",
       "         TotalLengthofFwdPackets  TotalLengthofBwdPackets  FwdPacketLengthMax  \\\n",
       "1748704                   1398.0                      0.0               369.0   \n",
       "1748705                     64.0                    258.0                32.0   \n",
       "1748706                   1438.0                      0.0               389.0   \n",
       "1748707                    944.0                      0.0               472.0   \n",
       "1748708                    866.0                   4392.0               465.0   \n",
       "\n",
       "         FwdPacketLengthMin  FwdPacketLengthMean  FwdPacketLengthStd  \\\n",
       "1748704               330.0           349.500000           22.516660   \n",
       "1748705                32.0            32.000000            0.000000   \n",
       "1748706               330.0           359.500000           34.063666   \n",
       "1748707               472.0           472.000000            0.000000   \n",
       "1748708                 0.0            78.727273          147.805339   \n",
       "\n",
       "         BwdPacketLengthMax  ...  min_seg_size_forward  ActiveMean  \\\n",
       "1748704                 0.0  ...                    20         0.0   \n",
       "1748705               129.0  ...                    20         0.0   \n",
       "1748706                 0.0  ...                    20         0.0   \n",
       "1748707                 0.0  ...           -1062718972         0.0   \n",
       "1748708              3614.0  ...                    20    148803.4   \n",
       "\n",
       "           ActiveStd  ActiveMax  ActiveMin   IdleMean      IdleStd  \\\n",
       "1748704       0.0000        0.0        0.0        0.0       0.0000   \n",
       "1748705       0.0000        0.0        0.0        0.0       0.0000   \n",
       "1748706       0.0000        0.0        0.0        0.0       0.0000   \n",
       "1748707       0.0000        0.0        0.0        0.0       0.0000   \n",
       "1748708  108170.1548   342304.0   100379.0  9919600.8  185666.4769   \n",
       "\n",
       "            IdleMax    IdleMin  Label  \n",
       "1748704         0.0        0.0      0  \n",
       "1748705         0.0        0.0      1  \n",
       "1748706         0.0        0.0      0  \n",
       "1748707         0.0        0.0      0  \n",
       "1748708  10000000.0  9587508.0      1  \n",
       "\n",
       "[5 rows x 78 columns]"
      ]
     },
     "execution_count": 11,
     "metadata": {},
     "output_type": "execute_result"
    }
   ],
   "source": [
    "data.tail()"
   ]
  },
  {
   "cell_type": "code",
   "execution_count": 12,
   "id": "83aeca9f",
   "metadata": {},
   "outputs": [
    {
     "data": {
      "text/plain": [
       "72430"
      ]
     },
     "execution_count": 12,
     "metadata": {},
     "output_type": "execute_result"
    }
   ],
   "source": [
    "data_real = data.replace(np.inf, np.nan)\n",
    "data_real.isnull().sum().sum()"
   ]
  },
  {
   "cell_type": "code",
   "execution_count": 13,
   "id": "32076432",
   "metadata": {},
   "outputs": [
    {
     "data": {
      "text/plain": [
       "0"
      ]
     },
     "execution_count": 13,
     "metadata": {},
     "output_type": "execute_result"
    }
   ],
   "source": [
    "data_df = data_real.dropna(axis=0)\n",
    "data_df.isnull().sum().sum()"
   ]
  },
  {
   "cell_type": "code",
   "execution_count": 16,
   "id": "00edf7f4",
   "metadata": {},
   "outputs": [],
   "source": [
    "X = data_df.iloc[:, 0:-1].values\n",
    "y = data_df.iloc[:, -1].values"
   ]
  },
  {
   "cell_type": "code",
   "execution_count": 17,
   "id": "30605847",
   "metadata": {},
   "outputs": [
    {
     "data": {
      "text/plain": [
       "array([[-2.93763348e-01,  5.44267880e-03, -3.70169606e-02, ...,\n",
       "        -1.61660703e-01, -2.87072783e-01, -2.48318246e-01],\n",
       "       [ 4.47025477e+00,  1.01606751e-01,  3.29183472e-01, ...,\n",
       "        -1.59388167e-01,  3.03580650e-01,  5.37661323e-01],\n",
       "       [-3.26263905e-01, -1.67490302e-02, -3.70169606e-02, ...,\n",
       "        -1.61660703e-01, -2.87072783e-01, -2.48318246e-01],\n",
       "       ...,\n",
       "       [-3.21812655e-01, -1.95455755e-03, -9.33554887e-02, ...,\n",
       "        -1.61660703e-01, -2.87072783e-01, -2.48318246e-01],\n",
       "       [-3.26279800e-01, -1.67490302e-02, -9.33554887e-02, ...,\n",
       "        -1.61660703e-01, -2.87072783e-01, -2.48318246e-01],\n",
       "       [ 1.75755231e+00,  4.98260969e-02,  2.16506415e-01, ...,\n",
       "        -1.36265702e-01,  3.03580650e-01,  5.08804146e-01]])"
      ]
     },
     "execution_count": 17,
     "metadata": {},
     "output_type": "execute_result"
    }
   ],
   "source": [
    "from sklearn.preprocessing import StandardScaler\n",
    "standardScaler = StandardScaler()\n",
    "X= standardScaler.fit_transform(X)\n",
    "X"
   ]
  },
  {
   "cell_type": "code",
   "execution_count": 18,
   "id": "99abda02",
   "metadata": {},
   "outputs": [],
   "source": [
    "from sklearn.model_selection import train_test_split"
   ]
  },
  {
   "cell_type": "code",
   "execution_count": 19,
   "id": "abe44091",
   "metadata": {},
   "outputs": [],
   "source": [
    "X_train, X_test, y_train, y_test = train_test_split(X, y, train_size = 0.67, test_size = 0.33, random_state = 42)"
   ]
  },
  {
   "cell_type": "code",
   "execution_count": 20,
   "id": "8cc5f5c3",
   "metadata": {},
   "outputs": [
    {
     "data": {
      "text/plain": [
       "(1147370, 77)"
      ]
     },
     "execution_count": 20,
     "metadata": {},
     "output_type": "execute_result"
    }
   ],
   "source": [
    "X_train.shape"
   ]
  },
  {
   "cell_type": "code",
   "execution_count": 22,
   "id": "4da00d74",
   "metadata": {},
   "outputs": [
    {
     "data": {
      "text/plain": [
       "array([[[-0.05422285],\n",
       "        [-0.02414627],\n",
       "        [ 0.04749083],\n",
       "        ...,\n",
       "        [-0.1616607 ],\n",
       "        [ 0.09892166],\n",
       "        [ 0.26775182]],\n",
       "\n",
       "       [[-0.3262798 ],\n",
       "        [-0.01674903],\n",
       "        [-0.09335549],\n",
       "        ...,\n",
       "        [-0.1616607 ],\n",
       "        [-0.28707278],\n",
       "        [-0.24831825]],\n",
       "\n",
       "       [[-0.3217747 ],\n",
       "        [-0.00195456],\n",
       "        [-0.09335549],\n",
       "        ...,\n",
       "        [-0.1616607 ],\n",
       "        [-0.28707278],\n",
       "        [-0.24831825]],\n",
       "\n",
       "       ...,\n",
       "\n",
       "       [[-0.31680359],\n",
       "        [-0.02414627],\n",
       "        [-0.06518622],\n",
       "        ...,\n",
       "        [-0.1616607 ],\n",
       "        [-0.28707278],\n",
       "        [-0.24831825]],\n",
       "\n",
       "       [[ 0.1226001 ],\n",
       "        [-0.02414627],\n",
       "        [ 0.04749083],\n",
       "        ...,\n",
       "        [-0.1616607 ],\n",
       "        [ 0.35083293],\n",
       "        [ 0.60455424]],\n",
       "\n",
       "       [[-0.3262798 ],\n",
       "        [-0.01674903],\n",
       "        [-0.09335549],\n",
       "        ...,\n",
       "        [-0.1616607 ],\n",
       "        [-0.28707278],\n",
       "        [-0.24831825]]])"
      ]
     },
     "execution_count": 22,
     "metadata": {},
     "output_type": "execute_result"
    }
   ],
   "source": [
    "X_train.reshape(1147370, 77, 1)"
   ]
  },
  {
   "cell_type": "code",
   "execution_count": 21,
   "id": "47a5e796",
   "metadata": {},
   "outputs": [],
   "source": [
    "#CNN algorithm libraries\n",
    "from keras.models import Sequential\n",
    "from keras.layers import Dense, Dropout, Activation, Conv1D, GlobalMaxPooling1D,MaxPool1D,Flatten\n",
    "\n",
    "\n",
    "#for evaluation of trained algorithms \n",
    "from sklearn.metrics import confusion_matrix\n",
    "from sklearn.metrics import classification_report"
   ]
  },
  {
   "cell_type": "code",
   "execution_count": 23,
   "id": "7b5dc86e",
   "metadata": {},
   "outputs": [],
   "source": [
    "model = Sequential()\n",
    "\n",
    "model.add(Conv1D(filters=32, kernel_size=5, activation='relu', input_shape=(77,1)))\n",
    "model.add(Conv1D(filters=32, kernel_size=5, activation='relu'))\n",
    "model.add(Dropout(0.5))\n",
    "model.add(MaxPool1D(pool_size=2))\n",
    "model.add(Flatten())\n",
    "model.add(Dense(30,activation='relu'))\n",
    "model.add(Dense(1,activation='sigmoid'))\n",
    "model.compile(loss='binary_crossentropy', optimizer='adam', metrics=['accuracy'])"
   ]
  },
  {
   "cell_type": "code",
   "execution_count": 24,
   "id": "90dc0d6b",
   "metadata": {},
   "outputs": [
    {
     "name": "stdout",
     "output_type": "stream",
     "text": [
      "Epoch 1/20\n",
      "51632/51632 [==============================] - 158s 3ms/step - loss: 0.0101 - accuracy: 0.9980 - val_loss: 0.0035 - val_accuracy: 0.9993\n",
      "Epoch 2/20\n",
      "51632/51632 [==============================] - 154s 3ms/step - loss: 0.0055 - accuracy: 0.9990 - val_loss: 0.0024 - val_accuracy: 0.9994\n",
      "Epoch 3/20\n",
      "51632/51632 [==============================] - 153s 3ms/step - loss: 0.0052 - accuracy: 0.9992 - val_loss: 0.0023 - val_accuracy: 0.9994\n",
      "Epoch 4/20\n",
      "51632/51632 [==============================] - 152s 3ms/step - loss: 0.0040 - accuracy: 0.9993 - val_loss: 0.0023 - val_accuracy: 0.9995\n",
      "Epoch 5/20\n",
      "51632/51632 [==============================] - 152s 3ms/step - loss: 0.0043 - accuracy: 0.9993 - val_loss: 0.0020 - val_accuracy: 0.9995\n",
      "Epoch 6/20\n",
      "51632/51632 [==============================] - 154s 3ms/step - loss: 0.0038 - accuracy: 0.9993 - val_loss: 0.0018 - val_accuracy: 0.9996\n",
      "Epoch 7/20\n",
      "51632/51632 [==============================] - 151s 3ms/step - loss: 0.0037 - accuracy: 0.9994 - val_loss: 0.0018 - val_accuracy: 0.9996\n",
      "Epoch 8/20\n",
      "51632/51632 [==============================] - 153s 3ms/step - loss: 0.0034 - accuracy: 0.9994 - val_loss: 0.0018 - val_accuracy: 0.9996\n",
      "Epoch 9/20\n",
      "51632/51632 [==============================] - 149s 3ms/step - loss: 0.0038 - accuracy: 0.9994 - val_loss: 0.0018 - val_accuracy: 0.9995\n",
      "Epoch 10/20\n",
      "51632/51632 [==============================] - 153s 3ms/step - loss: 0.0036 - accuracy: 0.9994 - val_loss: 0.0020 - val_accuracy: 0.9996\n",
      "Epoch 11/20\n",
      "51632/51632 [==============================] - 151s 3ms/step - loss: 0.0034 - accuracy: 0.9994 - val_loss: 0.0018 - val_accuracy: 0.9996\n",
      "Epoch 12/20\n",
      "51632/51632 [==============================] - 152s 3ms/step - loss: 0.0033 - accuracy: 0.9994 - val_loss: 0.0023 - val_accuracy: 0.9996\n",
      "Epoch 13/20\n",
      "51632/51632 [==============================] - 150s 3ms/step - loss: 0.0091 - accuracy: 0.9994 - val_loss: 0.0023 - val_accuracy: 0.9996\n",
      "Epoch 14/20\n",
      "51632/51632 [==============================] - 149s 3ms/step - loss: 0.0036 - accuracy: 0.9994 - val_loss: 0.0021 - val_accuracy: 0.9996\n",
      "Epoch 15/20\n",
      "51632/51632 [==============================] - 152s 3ms/step - loss: 0.0032 - accuracy: 0.9994 - val_loss: 0.0017 - val_accuracy: 0.9996\n",
      "Epoch 16/20\n",
      "51632/51632 [==============================] - 151s 3ms/step - loss: 0.0036 - accuracy: 0.9994 - val_loss: 0.0020 - val_accuracy: 0.9996\n",
      "Epoch 17/20\n",
      "51632/51632 [==============================] - 151s 3ms/step - loss: 0.0033 - accuracy: 0.9994 - val_loss: 0.0021 - val_accuracy: 0.9996\n",
      "Epoch 18/20\n",
      "51632/51632 [==============================] - 152s 3ms/step - loss: 0.0032 - accuracy: 0.9994 - val_loss: 0.0017 - val_accuracy: 0.9997\n",
      "Epoch 19/20\n",
      "51632/51632 [==============================] - 150s 3ms/step - loss: 0.0038 - accuracy: 0.9994 - val_loss: 0.0017 - val_accuracy: 0.9996\n",
      "Epoch 20/20\n",
      "51632/51632 [==============================] - 152s 3ms/step - loss: 0.0047 - accuracy: 0.9994 - val_loss: 0.0016 - val_accuracy: 0.9996\n"
     ]
    }
   ],
   "source": [
    "history = model.fit(X_train,y_train,batch_size=20,epochs=20,\n",
    "          validation_split=0.1)"
   ]
  },
  {
   "cell_type": "code",
   "execution_count": 25,
   "id": "053bcdb8",
   "metadata": {},
   "outputs": [],
   "source": [
    "model.save('binary_classification.h5')"
   ]
  },
  {
   "cell_type": "code",
   "execution_count": null,
   "id": "b4a7512e",
   "metadata": {},
   "outputs": [],
   "source": []
  }
 ],
 "metadata": {
  "kernelspec": {
   "display_name": "Python 3 (ipykernel)",
   "language": "python",
   "name": "python3"
  },
  "language_info": {
   "codemirror_mode": {
    "name": "ipython",
    "version": 3
   },
   "file_extension": ".py",
   "mimetype": "text/x-python",
   "name": "python",
   "nbconvert_exporter": "python",
   "pygments_lexer": "ipython3",
   "version": "3.9.7"
  }
 },
 "nbformat": 4,
 "nbformat_minor": 5
}

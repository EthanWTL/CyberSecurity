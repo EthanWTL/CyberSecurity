{
 "cells": [
  {
   "cell_type": "code",
   "execution_count": 1,
   "id": "5fac84de",
   "metadata": {},
   "outputs": [],
   "source": [
    "import numpy as np\n",
    "import pandas as pd"
   ]
  },
  {
   "cell_type": "code",
   "execution_count": 2,
   "id": "1aa044a7",
   "metadata": {},
   "outputs": [],
   "source": [
    "data = pd.read_csv('multi_classification.csv')"
   ]
  },
  {
   "cell_type": "code",
   "execution_count": 3,
   "id": "09a0f13a",
   "metadata": {},
   "outputs": [
    {
     "data": {
      "text/plain": [
       "(1056961, 87)"
      ]
     },
     "execution_count": 3,
     "metadata": {},
     "output_type": "execute_result"
    }
   ],
   "source": [
    "data.shape"
   ]
  },
  {
   "cell_type": "code",
   "execution_count": 4,
   "id": "12c39983",
   "metadata": {},
   "outputs": [
    {
     "data": {
      "text/plain": [
       "Index(['Unnamed: 0', 'Flow ID', 'Source IP', 'Source Port', 'Destination IP',\n",
       "       'Destination Port', 'Protocol', 'Timestamp', 'Flow Duration',\n",
       "       'Total Fwd Packets', 'Total Backward Packets',\n",
       "       'Total Length of Fwd Packets', 'Total Length of Bwd Packets',\n",
       "       'Fwd Packet Length Max', 'Fwd Packet Length Min',\n",
       "       'Fwd Packet Length Mean', 'Fwd Packet Length Std',\n",
       "       'Bwd Packet Length Max', 'Bwd Packet Length Min',\n",
       "       'Bwd Packet Length Mean', 'Bwd Packet Length Std', 'Flow Bytes/s',\n",
       "       'Flow Packets/s', 'Flow IAT Mean', 'Flow IAT Std', 'Flow IAT Max',\n",
       "       'Flow IAT Min', 'Fwd IAT Total', 'Fwd IAT Mean', 'Fwd IAT Std',\n",
       "       'Fwd IAT Max', 'Fwd IAT Min', 'Bwd IAT Total', 'Bwd IAT Mean',\n",
       "       'Bwd IAT Std', 'Bwd IAT Max', 'Bwd IAT Min', 'Fwd PSH Flags',\n",
       "       'Bwd PSH Flags', 'Fwd URG Flags', 'Bwd URG Flags', 'Fwd Header Length',\n",
       "       'Bwd Header Length', 'Fwd Packets/s', 'Bwd Packets/s',\n",
       "       'Min Packet Length', 'Max Packet Length', 'Packet Length Mean',\n",
       "       'Packet Length Std', 'Packet Length Variance', 'FIN Flag Count',\n",
       "       'SYN Flag Count', 'RST Flag Count', 'PSH Flag Count', 'ACK Flag Count',\n",
       "       'URG Flag Count', 'CWE Flag Count', 'ECE Flag Count', 'Down/Up Ratio',\n",
       "       'Average Packet Size', 'Avg Fwd Segment Size', 'Avg Bwd Segment Size',\n",
       "       'Fwd Header Length.1', 'Fwd Avg Bytes/Bulk', 'Fwd Avg Packets/Bulk',\n",
       "       'Fwd Avg Bulk Rate', 'Bwd Avg Bytes/Bulk', 'Bwd Avg Packets/Bulk',\n",
       "       'Bwd Avg Bulk Rate', 'Subflow Fwd Packets', 'Subflow Fwd Bytes',\n",
       "       'Subflow Bwd Packets', 'Subflow Bwd Bytes', 'Init_Win_bytes_forward',\n",
       "       'Init_Win_bytes_backward', 'act_data_pkt_fwd', 'min_seg_size_forward',\n",
       "       'Active Mean', 'Active Std', 'Active Max', 'Active Min', 'Idle Mean',\n",
       "       'Idle Std', 'Idle Max', 'Idle Min', 'Inbound', 'Label'],\n",
       "      dtype='object')"
      ]
     },
     "execution_count": 4,
     "metadata": {},
     "output_type": "execute_result"
    }
   ],
   "source": [
    "data.columns"
   ]
  },
  {
   "cell_type": "code",
   "execution_count": 5,
   "id": "7ff0f1de",
   "metadata": {},
   "outputs": [],
   "source": [
    "data.columns = data.columns.str.replace(' ', '')"
   ]
  },
  {
   "cell_type": "code",
   "execution_count": 6,
   "id": "59e936d3",
   "metadata": {},
   "outputs": [],
   "source": [
    "df = data.drop(columns = ['Unnamed:0','FlowID', 'SourceIP', 'SourcePort','DestinationIP', 'DestinationPort', 'Protocol', 'Timestamp','Inbound'])"
   ]
  },
  {
   "cell_type": "code",
   "execution_count": 7,
   "id": "57af52f1",
   "metadata": {},
   "outputs": [
    {
     "data": {
      "text/plain": [
       "(1056961, 78)"
      ]
     },
     "execution_count": 7,
     "metadata": {},
     "output_type": "execute_result"
    }
   ],
   "source": [
    "df.shape"
   ]
  },
  {
   "cell_type": "code",
   "execution_count": 8,
   "id": "ff6c670c",
   "metadata": {},
   "outputs": [
    {
     "data": {
      "text/plain": [
       "Syn        166666\n",
       "NetBIOS    166666\n",
       "Portmap    166666\n",
       "MSSQL      166666\n",
       "LDAP       166666\n",
       "UDP        166666\n",
       "BENIGN      56965\n",
       "Name: Label, dtype: int64"
      ]
     },
     "execution_count": 8,
     "metadata": {},
     "output_type": "execute_result"
    }
   ],
   "source": [
    "df['Label'].value_counts()"
   ]
  },
  {
   "cell_type": "code",
   "execution_count": 9,
   "id": "93528f9c",
   "metadata": {},
   "outputs": [
    {
     "data": {
      "text/plain": [
       "Index(['Label'], dtype='object')"
      ]
     },
     "execution_count": 9,
     "metadata": {},
     "output_type": "execute_result"
    }
   ],
   "source": [
    "df = df.copy()\n",
    "cat_columns = df.select_dtypes(['object']).columns\n",
    "cat_columns"
   ]
  },
  {
   "cell_type": "code",
   "execution_count": 10,
   "id": "350a7b3c",
   "metadata": {},
   "outputs": [
    {
     "data": {
      "text/plain": [
       "FlowDuration                 int64\n",
       "TotalFwdPackets              int64\n",
       "TotalBackwardPackets         int64\n",
       "TotalLengthofFwdPackets    float64\n",
       "TotalLengthofBwdPackets    float64\n",
       "                            ...   \n",
       "IdleMean                   float64\n",
       "IdleStd                    float64\n",
       "IdleMax                    float64\n",
       "IdleMin                    float64\n",
       "Label                         int8\n",
       "Length: 78, dtype: object"
      ]
     },
     "execution_count": 10,
     "metadata": {},
     "output_type": "execute_result"
    }
   ],
   "source": [
    "df[cat_columns] = df[cat_columns].astype('category')\n",
    "df[cat_columns] = df[cat_columns].apply(lambda x: x.cat.codes)\n",
    "df\n",
    "data = df\n",
    "data.dtypes"
   ]
  },
  {
   "cell_type": "code",
   "execution_count": 11,
   "id": "e7824ffa",
   "metadata": {},
   "outputs": [
    {
     "data": {
      "text/html": [
       "<div>\n",
       "<style scoped>\n",
       "    .dataframe tbody tr th:only-of-type {\n",
       "        vertical-align: middle;\n",
       "    }\n",
       "\n",
       "    .dataframe tbody tr th {\n",
       "        vertical-align: top;\n",
       "    }\n",
       "\n",
       "    .dataframe thead th {\n",
       "        text-align: right;\n",
       "    }\n",
       "</style>\n",
       "<table border=\"1\" class=\"dataframe\">\n",
       "  <thead>\n",
       "    <tr style=\"text-align: right;\">\n",
       "      <th></th>\n",
       "      <th>FlowDuration</th>\n",
       "      <th>TotalFwdPackets</th>\n",
       "      <th>TotalBackwardPackets</th>\n",
       "      <th>TotalLengthofFwdPackets</th>\n",
       "      <th>TotalLengthofBwdPackets</th>\n",
       "      <th>FwdPacketLengthMax</th>\n",
       "      <th>FwdPacketLengthMin</th>\n",
       "      <th>FwdPacketLengthMean</th>\n",
       "      <th>FwdPacketLengthStd</th>\n",
       "      <th>BwdPacketLengthMax</th>\n",
       "      <th>...</th>\n",
       "      <th>min_seg_size_forward</th>\n",
       "      <th>ActiveMean</th>\n",
       "      <th>ActiveStd</th>\n",
       "      <th>ActiveMax</th>\n",
       "      <th>ActiveMin</th>\n",
       "      <th>IdleMean</th>\n",
       "      <th>IdleStd</th>\n",
       "      <th>IdleMax</th>\n",
       "      <th>IdleMin</th>\n",
       "      <th>Label</th>\n",
       "    </tr>\n",
       "  </thead>\n",
       "  <tbody>\n",
       "    <tr>\n",
       "      <th>0</th>\n",
       "      <td>1</td>\n",
       "      <td>2</td>\n",
       "      <td>0</td>\n",
       "      <td>12.0</td>\n",
       "      <td>0.0</td>\n",
       "      <td>6.0</td>\n",
       "      <td>6.0</td>\n",
       "      <td>6.0</td>\n",
       "      <td>0.0</td>\n",
       "      <td>0.0</td>\n",
       "      <td>...</td>\n",
       "      <td>20</td>\n",
       "      <td>0.0</td>\n",
       "      <td>0.0</td>\n",
       "      <td>0.0</td>\n",
       "      <td>0.0</td>\n",
       "      <td>0.0</td>\n",
       "      <td>0.0</td>\n",
       "      <td>0.0</td>\n",
       "      <td>0.0</td>\n",
       "      <td>5</td>\n",
       "    </tr>\n",
       "    <tr>\n",
       "      <th>1</th>\n",
       "      <td>1</td>\n",
       "      <td>2</td>\n",
       "      <td>0</td>\n",
       "      <td>458.0</td>\n",
       "      <td>0.0</td>\n",
       "      <td>229.0</td>\n",
       "      <td>229.0</td>\n",
       "      <td>229.0</td>\n",
       "      <td>0.0</td>\n",
       "      <td>0.0</td>\n",
       "      <td>...</td>\n",
       "      <td>20</td>\n",
       "      <td>0.0</td>\n",
       "      <td>0.0</td>\n",
       "      <td>0.0</td>\n",
       "      <td>0.0</td>\n",
       "      <td>0.0</td>\n",
       "      <td>0.0</td>\n",
       "      <td>0.0</td>\n",
       "      <td>0.0</td>\n",
       "      <td>3</td>\n",
       "    </tr>\n",
       "    <tr>\n",
       "      <th>2</th>\n",
       "      <td>1</td>\n",
       "      <td>2</td>\n",
       "      <td>0</td>\n",
       "      <td>458.0</td>\n",
       "      <td>0.0</td>\n",
       "      <td>229.0</td>\n",
       "      <td>229.0</td>\n",
       "      <td>229.0</td>\n",
       "      <td>0.0</td>\n",
       "      <td>0.0</td>\n",
       "      <td>...</td>\n",
       "      <td>8</td>\n",
       "      <td>0.0</td>\n",
       "      <td>0.0</td>\n",
       "      <td>0.0</td>\n",
       "      <td>0.0</td>\n",
       "      <td>0.0</td>\n",
       "      <td>0.0</td>\n",
       "      <td>0.0</td>\n",
       "      <td>0.0</td>\n",
       "      <td>4</td>\n",
       "    </tr>\n",
       "    <tr>\n",
       "      <th>3</th>\n",
       "      <td>1</td>\n",
       "      <td>2</td>\n",
       "      <td>0</td>\n",
       "      <td>916.0</td>\n",
       "      <td>0.0</td>\n",
       "      <td>458.0</td>\n",
       "      <td>458.0</td>\n",
       "      <td>458.0</td>\n",
       "      <td>0.0</td>\n",
       "      <td>0.0</td>\n",
       "      <td>...</td>\n",
       "      <td>20</td>\n",
       "      <td>0.0</td>\n",
       "      <td>0.0</td>\n",
       "      <td>0.0</td>\n",
       "      <td>0.0</td>\n",
       "      <td>0.0</td>\n",
       "      <td>0.0</td>\n",
       "      <td>0.0</td>\n",
       "      <td>0.0</td>\n",
       "      <td>2</td>\n",
       "    </tr>\n",
       "    <tr>\n",
       "      <th>4</th>\n",
       "      <td>102</td>\n",
       "      <td>2</td>\n",
       "      <td>2</td>\n",
       "      <td>12.0</td>\n",
       "      <td>12.0</td>\n",
       "      <td>6.0</td>\n",
       "      <td>6.0</td>\n",
       "      <td>6.0</td>\n",
       "      <td>0.0</td>\n",
       "      <td>6.0</td>\n",
       "      <td>...</td>\n",
       "      <td>20</td>\n",
       "      <td>0.0</td>\n",
       "      <td>0.0</td>\n",
       "      <td>0.0</td>\n",
       "      <td>0.0</td>\n",
       "      <td>0.0</td>\n",
       "      <td>0.0</td>\n",
       "      <td>0.0</td>\n",
       "      <td>0.0</td>\n",
       "      <td>5</td>\n",
       "    </tr>\n",
       "  </tbody>\n",
       "</table>\n",
       "<p>5 rows × 78 columns</p>\n",
       "</div>"
      ],
      "text/plain": [
       "   FlowDuration  TotalFwdPackets  TotalBackwardPackets  \\\n",
       "0             1                2                     0   \n",
       "1             1                2                     0   \n",
       "2             1                2                     0   \n",
       "3             1                2                     0   \n",
       "4           102                2                     2   \n",
       "\n",
       "   TotalLengthofFwdPackets  TotalLengthofBwdPackets  FwdPacketLengthMax  \\\n",
       "0                     12.0                      0.0                 6.0   \n",
       "1                    458.0                      0.0               229.0   \n",
       "2                    458.0                      0.0               229.0   \n",
       "3                    916.0                      0.0               458.0   \n",
       "4                     12.0                     12.0                 6.0   \n",
       "\n",
       "   FwdPacketLengthMin  FwdPacketLengthMean  FwdPacketLengthStd  \\\n",
       "0                 6.0                  6.0                 0.0   \n",
       "1               229.0                229.0                 0.0   \n",
       "2               229.0                229.0                 0.0   \n",
       "3               458.0                458.0                 0.0   \n",
       "4                 6.0                  6.0                 0.0   \n",
       "\n",
       "   BwdPacketLengthMax  ...  min_seg_size_forward  ActiveMean  ActiveStd  \\\n",
       "0                 0.0  ...                    20         0.0        0.0   \n",
       "1                 0.0  ...                    20         0.0        0.0   \n",
       "2                 0.0  ...                     8         0.0        0.0   \n",
       "3                 0.0  ...                    20         0.0        0.0   \n",
       "4                 6.0  ...                    20         0.0        0.0   \n",
       "\n",
       "   ActiveMax  ActiveMin  IdleMean  IdleStd  IdleMax  IdleMin  Label  \n",
       "0        0.0        0.0       0.0      0.0      0.0      0.0      5  \n",
       "1        0.0        0.0       0.0      0.0      0.0      0.0      3  \n",
       "2        0.0        0.0       0.0      0.0      0.0      0.0      4  \n",
       "3        0.0        0.0       0.0      0.0      0.0      0.0      2  \n",
       "4        0.0        0.0       0.0      0.0      0.0      0.0      5  \n",
       "\n",
       "[5 rows x 78 columns]"
      ]
     },
     "execution_count": 11,
     "metadata": {},
     "output_type": "execute_result"
    }
   ],
   "source": [
    "data.head()"
   ]
  },
  {
   "cell_type": "code",
   "execution_count": 12,
   "id": "36fd4f55",
   "metadata": {},
   "outputs": [
    {
     "data": {
      "text/plain": [
       "5    166666\n",
       "3    166666\n",
       "4    166666\n",
       "2    166666\n",
       "1    166666\n",
       "6    166666\n",
       "0     56965\n",
       "Name: Label, dtype: int64"
      ]
     },
     "execution_count": 12,
     "metadata": {},
     "output_type": "execute_result"
    }
   ],
   "source": [
    "data['Label'].value_counts()"
   ]
  },
  {
   "cell_type": "code",
   "execution_count": 13,
   "id": "59d378ba",
   "metadata": {},
   "outputs": [
    {
     "data": {
      "text/plain": [
       "79370"
      ]
     },
     "execution_count": 13,
     "metadata": {},
     "output_type": "execute_result"
    }
   ],
   "source": [
    "data_real = data.replace(np.inf, np.nan)\n",
    "data_real.isnull().sum().sum()"
   ]
  },
  {
   "cell_type": "code",
   "execution_count": 14,
   "id": "2ae26d6e",
   "metadata": {},
   "outputs": [
    {
     "data": {
      "text/plain": [
       "0"
      ]
     },
     "execution_count": 14,
     "metadata": {},
     "output_type": "execute_result"
    }
   ],
   "source": [
    "data_df = data_real.dropna(axis=0)\n",
    "data_df.isnull().sum().sum()"
   ]
  },
  {
   "cell_type": "code",
   "execution_count": 15,
   "id": "bce1e82b",
   "metadata": {},
   "outputs": [
    {
     "data": {
      "text/plain": [
       "Index([], dtype='object')"
      ]
     },
     "execution_count": 15,
     "metadata": {},
     "output_type": "execute_result"
    }
   ],
   "source": [
    "df = data_df.copy()\n",
    "cat_columns = df.select_dtypes(['object']).columns\n",
    "cat_columns"
   ]
  },
  {
   "cell_type": "code",
   "execution_count": 16,
   "id": "f231f990",
   "metadata": {},
   "outputs": [
    {
     "data": {
      "text/plain": [
       "FlowDuration                 int64\n",
       "TotalFwdPackets              int64\n",
       "TotalBackwardPackets         int64\n",
       "TotalLengthofFwdPackets    float64\n",
       "TotalLengthofBwdPackets    float64\n",
       "                            ...   \n",
       "IdleMean                   float64\n",
       "IdleStd                    float64\n",
       "IdleMax                    float64\n",
       "IdleMin                    float64\n",
       "Label                         int8\n",
       "Length: 78, dtype: object"
      ]
     },
     "execution_count": 16,
     "metadata": {},
     "output_type": "execute_result"
    }
   ],
   "source": [
    "df[cat_columns] = df[cat_columns].astype('category')\n",
    "df[cat_columns] = df[cat_columns].apply(lambda x: x.cat.codes)\n",
    "df\n",
    "data = df\n",
    "data.dtypes"
   ]
  },
  {
   "cell_type": "code",
   "execution_count": 17,
   "id": "48874da6",
   "metadata": {},
   "outputs": [],
   "source": [
    "data= data.sample(n=len(data), random_state=2)"
   ]
  },
  {
   "cell_type": "code",
   "execution_count": 18,
   "id": "7df377d0",
   "metadata": {},
   "outputs": [
    {
     "data": {
      "text/html": [
       "<div>\n",
       "<style scoped>\n",
       "    .dataframe tbody tr th:only-of-type {\n",
       "        vertical-align: middle;\n",
       "    }\n",
       "\n",
       "    .dataframe tbody tr th {\n",
       "        vertical-align: top;\n",
       "    }\n",
       "\n",
       "    .dataframe thead th {\n",
       "        text-align: right;\n",
       "    }\n",
       "</style>\n",
       "<table border=\"1\" class=\"dataframe\">\n",
       "  <thead>\n",
       "    <tr style=\"text-align: right;\">\n",
       "      <th></th>\n",
       "      <th>FlowDuration</th>\n",
       "      <th>TotalFwdPackets</th>\n",
       "      <th>TotalBackwardPackets</th>\n",
       "      <th>TotalLengthofFwdPackets</th>\n",
       "      <th>TotalLengthofBwdPackets</th>\n",
       "      <th>FwdPacketLengthMax</th>\n",
       "      <th>FwdPacketLengthMin</th>\n",
       "      <th>FwdPacketLengthMean</th>\n",
       "      <th>FwdPacketLengthStd</th>\n",
       "      <th>BwdPacketLengthMax</th>\n",
       "      <th>...</th>\n",
       "      <th>min_seg_size_forward</th>\n",
       "      <th>ActiveMean</th>\n",
       "      <th>ActiveStd</th>\n",
       "      <th>ActiveMax</th>\n",
       "      <th>ActiveMin</th>\n",
       "      <th>IdleMean</th>\n",
       "      <th>IdleStd</th>\n",
       "      <th>IdleMax</th>\n",
       "      <th>IdleMin</th>\n",
       "      <th>Label</th>\n",
       "    </tr>\n",
       "  </thead>\n",
       "  <tbody>\n",
       "    <tr>\n",
       "      <th>431283</th>\n",
       "      <td>107996</td>\n",
       "      <td>4</td>\n",
       "      <td>0</td>\n",
       "      <td>1438.0</td>\n",
       "      <td>0.0</td>\n",
       "      <td>389.0</td>\n",
       "      <td>330.0</td>\n",
       "      <td>359.500000</td>\n",
       "      <td>34.063666</td>\n",
       "      <td>0.0</td>\n",
       "      <td>...</td>\n",
       "      <td>8</td>\n",
       "      <td>0.0</td>\n",
       "      <td>0.0</td>\n",
       "      <td>0.0</td>\n",
       "      <td>0.0</td>\n",
       "      <td>0.0</td>\n",
       "      <td>0.0</td>\n",
       "      <td>0.0</td>\n",
       "      <td>0.0</td>\n",
       "      <td>6</td>\n",
       "    </tr>\n",
       "    <tr>\n",
       "      <th>402363</th>\n",
       "      <td>2</td>\n",
       "      <td>2</td>\n",
       "      <td>0</td>\n",
       "      <td>2736.0</td>\n",
       "      <td>0.0</td>\n",
       "      <td>1368.0</td>\n",
       "      <td>1368.0</td>\n",
       "      <td>1368.000000</td>\n",
       "      <td>0.000000</td>\n",
       "      <td>0.0</td>\n",
       "      <td>...</td>\n",
       "      <td>0</td>\n",
       "      <td>0.0</td>\n",
       "      <td>0.0</td>\n",
       "      <td>0.0</td>\n",
       "      <td>0.0</td>\n",
       "      <td>0.0</td>\n",
       "      <td>0.0</td>\n",
       "      <td>0.0</td>\n",
       "      <td>0.0</td>\n",
       "      <td>1</td>\n",
       "    </tr>\n",
       "    <tr>\n",
       "      <th>1000796</th>\n",
       "      <td>484</td>\n",
       "      <td>6</td>\n",
       "      <td>0</td>\n",
       "      <td>2660.0</td>\n",
       "      <td>0.0</td>\n",
       "      <td>483.0</td>\n",
       "      <td>419.0</td>\n",
       "      <td>443.333333</td>\n",
       "      <td>30.988170</td>\n",
       "      <td>0.0</td>\n",
       "      <td>...</td>\n",
       "      <td>-1</td>\n",
       "      <td>0.0</td>\n",
       "      <td>0.0</td>\n",
       "      <td>0.0</td>\n",
       "      <td>0.0</td>\n",
       "      <td>0.0</td>\n",
       "      <td>0.0</td>\n",
       "      <td>0.0</td>\n",
       "      <td>0.0</td>\n",
       "      <td>6</td>\n",
       "    </tr>\n",
       "    <tr>\n",
       "      <th>638707</th>\n",
       "      <td>49</td>\n",
       "      <td>2</td>\n",
       "      <td>0</td>\n",
       "      <td>802.0</td>\n",
       "      <td>0.0</td>\n",
       "      <td>401.0</td>\n",
       "      <td>401.0</td>\n",
       "      <td>401.000000</td>\n",
       "      <td>0.000000</td>\n",
       "      <td>0.0</td>\n",
       "      <td>...</td>\n",
       "      <td>20</td>\n",
       "      <td>0.0</td>\n",
       "      <td>0.0</td>\n",
       "      <td>0.0</td>\n",
       "      <td>0.0</td>\n",
       "      <td>0.0</td>\n",
       "      <td>0.0</td>\n",
       "      <td>0.0</td>\n",
       "      <td>0.0</td>\n",
       "      <td>6</td>\n",
       "    </tr>\n",
       "    <tr>\n",
       "      <th>679711</th>\n",
       "      <td>6</td>\n",
       "      <td>2</td>\n",
       "      <td>0</td>\n",
       "      <td>2938.0</td>\n",
       "      <td>0.0</td>\n",
       "      <td>1469.0</td>\n",
       "      <td>1469.0</td>\n",
       "      <td>1469.000000</td>\n",
       "      <td>0.000000</td>\n",
       "      <td>0.0</td>\n",
       "      <td>...</td>\n",
       "      <td>20</td>\n",
       "      <td>0.0</td>\n",
       "      <td>0.0</td>\n",
       "      <td>0.0</td>\n",
       "      <td>0.0</td>\n",
       "      <td>0.0</td>\n",
       "      <td>0.0</td>\n",
       "      <td>0.0</td>\n",
       "      <td>0.0</td>\n",
       "      <td>2</td>\n",
       "    </tr>\n",
       "  </tbody>\n",
       "</table>\n",
       "<p>5 rows × 78 columns</p>\n",
       "</div>"
      ],
      "text/plain": [
       "         FlowDuration  TotalFwdPackets  TotalBackwardPackets  \\\n",
       "431283         107996                4                     0   \n",
       "402363              2                2                     0   \n",
       "1000796           484                6                     0   \n",
       "638707             49                2                     0   \n",
       "679711              6                2                     0   \n",
       "\n",
       "         TotalLengthofFwdPackets  TotalLengthofBwdPackets  FwdPacketLengthMax  \\\n",
       "431283                    1438.0                      0.0               389.0   \n",
       "402363                    2736.0                      0.0              1368.0   \n",
       "1000796                   2660.0                      0.0               483.0   \n",
       "638707                     802.0                      0.0               401.0   \n",
       "679711                    2938.0                      0.0              1469.0   \n",
       "\n",
       "         FwdPacketLengthMin  FwdPacketLengthMean  FwdPacketLengthStd  \\\n",
       "431283                330.0           359.500000           34.063666   \n",
       "402363               1368.0          1368.000000            0.000000   \n",
       "1000796               419.0           443.333333           30.988170   \n",
       "638707                401.0           401.000000            0.000000   \n",
       "679711               1469.0          1469.000000            0.000000   \n",
       "\n",
       "         BwdPacketLengthMax  ...  min_seg_size_forward  ActiveMean  ActiveStd  \\\n",
       "431283                  0.0  ...                     8         0.0        0.0   \n",
       "402363                  0.0  ...                     0         0.0        0.0   \n",
       "1000796                 0.0  ...                    -1         0.0        0.0   \n",
       "638707                  0.0  ...                    20         0.0        0.0   \n",
       "679711                  0.0  ...                    20         0.0        0.0   \n",
       "\n",
       "         ActiveMax  ActiveMin  IdleMean  IdleStd  IdleMax  IdleMin  Label  \n",
       "431283         0.0        0.0       0.0      0.0      0.0      0.0      6  \n",
       "402363         0.0        0.0       0.0      0.0      0.0      0.0      1  \n",
       "1000796        0.0        0.0       0.0      0.0      0.0      0.0      6  \n",
       "638707         0.0        0.0       0.0      0.0      0.0      0.0      6  \n",
       "679711         0.0        0.0       0.0      0.0      0.0      0.0      2  \n",
       "\n",
       "[5 rows x 78 columns]"
      ]
     },
     "execution_count": 18,
     "metadata": {},
     "output_type": "execute_result"
    }
   ],
   "source": [
    "data.head()"
   ]
  },
  {
   "cell_type": "code",
   "execution_count": 19,
   "id": "6056dc95",
   "metadata": {},
   "outputs": [],
   "source": [
    "X = data.iloc[:, 0:-1].values\n",
    "y = data.iloc[:, -1].values"
   ]
  },
  {
   "cell_type": "code",
   "execution_count": 20,
   "id": "762bd47a",
   "metadata": {},
   "outputs": [
    {
     "data": {
      "text/plain": [
       "array([[-0.13893557,  0.00287587, -0.02117732, ..., -0.10136411,\n",
       "        -0.13682712, -0.11571806],\n",
       "       [-0.14903403, -0.00655532, -0.02117732, ..., -0.10136411,\n",
       "        -0.13682712, -0.11571806],\n",
       "       [-0.14898896,  0.01230706, -0.02117732, ..., -0.10136411,\n",
       "        -0.13682712, -0.11571806],\n",
       "       ...,\n",
       "       [-0.14903413, -0.00655532, -0.02117732, ..., -0.10136411,\n",
       "        -0.13682712, -0.11571806],\n",
       "       [-0.14903413, -0.00655532, -0.02117732, ..., -0.10136411,\n",
       "        -0.13682712, -0.11571806],\n",
       "       [-0.14902936, -0.00655532,  0.0347363 , ..., -0.10136411,\n",
       "        -0.13682712, -0.11571806]])"
      ]
     },
     "execution_count": 20,
     "metadata": {},
     "output_type": "execute_result"
    }
   ],
   "source": [
    "from sklearn.preprocessing import StandardScaler\n",
    "standardScaler = StandardScaler()\n",
    "X= standardScaler.fit_transform(X)\n",
    "X"
   ]
  },
  {
   "cell_type": "code",
   "execution_count": 21,
   "id": "1cb0ce50",
   "metadata": {},
   "outputs": [],
   "source": [
    "from sklearn.model_selection import train_test_split"
   ]
  },
  {
   "cell_type": "code",
   "execution_count": 22,
   "id": "86e45833",
   "metadata": {},
   "outputs": [],
   "source": [
    "X_train, X_test, y_train, y_test = train_test_split(X, y, train_size = 0.67, test_size = 0.33, random_state = 42)"
   ]
  },
  {
   "cell_type": "code",
   "execution_count": 23,
   "id": "95b6f005",
   "metadata": {},
   "outputs": [
    {
     "data": {
      "text/plain": [
       "(681574, 77)"
      ]
     },
     "execution_count": 23,
     "metadata": {},
     "output_type": "execute_result"
    }
   ],
   "source": [
    "X_train.shape"
   ]
  },
  {
   "cell_type": "code",
   "execution_count": 24,
   "id": "53b829a9",
   "metadata": {},
   "outputs": [
    {
     "data": {
      "text/plain": [
       "array([[[-0.14903413],\n",
       "        [-0.00655532],\n",
       "        [-0.02117732],\n",
       "        ...,\n",
       "        [-0.10136411],\n",
       "        [-0.13682712],\n",
       "        [-0.11571806]],\n",
       "\n",
       "       [[ 3.40609384],\n",
       "        [ 0.04060063],\n",
       "        [ 0.20247717],\n",
       "        ...,\n",
       "        [ 2.33666613],\n",
       "        [ 2.5329342 ],\n",
       "        [ 1.7182939 ]],\n",
       "\n",
       "       [[-0.14903413],\n",
       "        [-0.00655532],\n",
       "        [-0.02117732],\n",
       "        ...,\n",
       "        [-0.10136411],\n",
       "        [-0.13682712],\n",
       "        [-0.11571806]],\n",
       "\n",
       "       ...,\n",
       "\n",
       "       [[-0.14902431],\n",
       "        [-0.00655532],\n",
       "        [ 0.0347363 ],\n",
       "        ...,\n",
       "        [-0.10136411],\n",
       "        [-0.13682712],\n",
       "        [-0.11571806]],\n",
       "\n",
       "       [[-0.14902964],\n",
       "        [-0.00655532],\n",
       "        [-0.02117732],\n",
       "        ...,\n",
       "        [-0.10136411],\n",
       "        [-0.13682712],\n",
       "        [-0.11571806]],\n",
       "\n",
       "       [[-0.14903413],\n",
       "        [-0.00655532],\n",
       "        [-0.02117732],\n",
       "        ...,\n",
       "        [-0.10136411],\n",
       "        [-0.13682712],\n",
       "        [-0.11571806]]])"
      ]
     },
     "execution_count": 24,
     "metadata": {},
     "output_type": "execute_result"
    }
   ],
   "source": [
    "X_train.reshape(681574, 77, 1)"
   ]
  },
  {
   "cell_type": "code",
   "execution_count": 25,
   "id": "1da0bd51",
   "metadata": {},
   "outputs": [
    {
     "data": {
      "text/plain": [
       "(335702, 77)"
      ]
     },
     "execution_count": 25,
     "metadata": {},
     "output_type": "execute_result"
    }
   ],
   "source": [
    "X_test.shape"
   ]
  },
  {
   "cell_type": "code",
   "execution_count": 26,
   "id": "93c79203",
   "metadata": {},
   "outputs": [],
   "source": [
    "X_test, X_val, y_test, y_val = train_test_split(X_test, y_test, train_size = 0.5, test_size = 0.5, random_state = 42)"
   ]
  },
  {
   "cell_type": "code",
   "execution_count": 27,
   "id": "563fe044",
   "metadata": {},
   "outputs": [],
   "source": [
    "#CNN algorithm libraries\n",
    "from keras.models import Sequential\n",
    "from keras.layers import Dense, Dropout, Activation, Conv1D, GlobalMaxPooling1D,MaxPool1D,Flatten\n",
    "\n",
    "\n",
    "#for evaluation of trained algorithms \n",
    "from sklearn.metrics import confusion_matrix\n",
    "from sklearn.metrics import classification_report"
   ]
  },
  {
   "cell_type": "code",
   "execution_count": 28,
   "id": "45c363e0",
   "metadata": {},
   "outputs": [],
   "source": [
    "from tensorflow.keras.optimizers import RMSprop"
   ]
  },
  {
   "cell_type": "code",
   "execution_count": 29,
   "id": "475ee367",
   "metadata": {},
   "outputs": [],
   "source": [
    "model = Sequential()\n",
    "\n",
    "model.add(Conv1D(filters=32, kernel_size=5, activation='relu', input_shape=(77,1)))\n",
    "model.add(Conv1D(filters=32, kernel_size=5, activation='relu'))\n",
    "model.add(Dropout(0.5))\n",
    "model.add(MaxPool1D(pool_size=2))\n",
    "model.add(Flatten())\n",
    "model.add(Dense(30,activation='relu'))\n",
    "model.add(Dense(7,activation='softmax'))\n",
    "model.compile(loss='sparse_categorical_crossentropy', optimizer='adam', metrics=['accuracy'])"
   ]
  },
  {
   "cell_type": "code",
   "execution_count": 30,
   "id": "8c0f3326",
   "metadata": {},
   "outputs": [
    {
     "name": "stdout",
     "output_type": "stream",
     "text": [
      "Timer Begin\n",
      "Epoch 1/20\n",
      "30671/30671 [==============================] - 99s 3ms/step - loss: 0.2957 - accuracy: 0.8317 - val_loss: 0.2790 - val_accuracy: 0.8434\n",
      "Epoch 2/20\n",
      "30671/30671 [==============================] - 105s 3ms/step - loss: 0.2762 - accuracy: 0.8390 - val_loss: 0.2756 - val_accuracy: 0.8444\n",
      "Epoch 3/20\n",
      "30671/30671 [==============================] - 104s 3ms/step - loss: 0.2726 - accuracy: 0.8405 - val_loss: 0.2691 - val_accuracy: 0.8445\n",
      "Epoch 4/20\n",
      "30671/30671 [==============================] - 102s 3ms/step - loss: 0.2711 - accuracy: 0.8412 - val_loss: 0.2688 - val_accuracy: 0.8447\n",
      "Epoch 5/20\n",
      "30671/30671 [==============================] - 105s 3ms/step - loss: 0.2699 - accuracy: 0.8414 - val_loss: 0.2646 - val_accuracy: 0.8451\n",
      "Epoch 6/20\n",
      "30671/30671 [==============================] - 104s 3ms/step - loss: 0.2723 - accuracy: 0.8423 - val_loss: 0.2662 - val_accuracy: 0.8334\n",
      "Epoch 7/20\n",
      "30671/30671 [==============================] - 103s 3ms/step - loss: 0.2674 - accuracy: 0.8425 - val_loss: 0.2618 - val_accuracy: 0.8448\n",
      "Epoch 8/20\n",
      "30671/30671 [==============================] - 102s 3ms/step - loss: 0.2686 - accuracy: 0.8428 - val_loss: 0.2663 - val_accuracy: 0.8448\n",
      "Epoch 9/20\n",
      "30671/30671 [==============================] - 92s 3ms/step - loss: 0.2690 - accuracy: 0.8425 - val_loss: 0.2638 - val_accuracy: 0.8459\n",
      "Epoch 10/20\n",
      "30671/30671 [==============================] - 88s 3ms/step - loss: 0.2694 - accuracy: 0.8426 - val_loss: 0.2656 - val_accuracy: 0.8451\n",
      "Epoch 11/20\n",
      "30671/30671 [==============================] - 89s 3ms/step - loss: 0.2723 - accuracy: 0.8431 - val_loss: 0.2709 - val_accuracy: 0.8327\n",
      "Epoch 12/20\n",
      "30671/30671 [==============================] - 89s 3ms/step - loss: 0.2713 - accuracy: 0.8427 - val_loss: 0.2614 - val_accuracy: 0.8458\n",
      "Epoch 13/20\n",
      "30671/30671 [==============================] - 87s 3ms/step - loss: 0.2695 - accuracy: 0.8427 - val_loss: 0.2642 - val_accuracy: 0.8453\n",
      "Epoch 14/20\n",
      "30671/30671 [==============================] - 88s 3ms/step - loss: 0.2770 - accuracy: 0.8428 - val_loss: 0.2706 - val_accuracy: 0.8447\n",
      "Epoch 15/20\n",
      "30671/30671 [==============================] - 88s 3ms/step - loss: 0.2688 - accuracy: 0.8428 - val_loss: 0.2675 - val_accuracy: 0.8459\n",
      "Epoch 16/20\n",
      "30671/30671 [==============================] - 89s 3ms/step - loss: 0.2701 - accuracy: 0.8432 - val_loss: 0.2650 - val_accuracy: 0.8446\n",
      "Epoch 17/20\n",
      "30671/30671 [==============================] - 88s 3ms/step - loss: 0.2711 - accuracy: 0.8430 - val_loss: 0.2706 - val_accuracy: 0.8446\n",
      "Epoch 18/20\n",
      "30671/30671 [==============================] - 87s 3ms/step - loss: 0.2670 - accuracy: 0.8432 - val_loss: 0.2722 - val_accuracy: 0.8453\n",
      "Epoch 19/20\n",
      "30671/30671 [==============================] - 88s 3ms/step - loss: 0.2700 - accuracy: 0.8431 - val_loss: 0.2660 - val_accuracy: 0.8448\n",
      "Epoch 20/20\n",
      "30671/30671 [==============================] - 87s 3ms/step - loss: 0.2678 - accuracy: 0.8434 - val_loss: 0.2624 - val_accuracy: 0.8346\n",
      "1884.551878452301\n"
     ]
    }
   ],
   "source": [
    "import time\n",
    "\n",
    "start = time.time()\n",
    "print(\"Timer Begin\")\n",
    "\n",
    "model.fit(X_train,y_train,batch_size=20,epochs=20,\n",
    "          validation_split=0.1)\n",
    "\n",
    "\n",
    "end = time.time()\n",
    "print(end - start)"
   ]
  },
  {
   "cell_type": "code",
   "execution_count": 31,
   "id": "dc30bb1a",
   "metadata": {},
   "outputs": [],
   "source": [
    "model.save('multiclass_DDos.h5')"
   ]
  },
  {
   "cell_type": "code",
   "execution_count": null,
   "id": "2c327820",
   "metadata": {},
   "outputs": [],
   "source": []
  }
 ],
 "metadata": {
  "kernelspec": {
   "display_name": "Python 3 (ipykernel)",
   "language": "python",
   "name": "python3"
  },
  "language_info": {
   "codemirror_mode": {
    "name": "ipython",
    "version": 3
   },
   "file_extension": ".py",
   "mimetype": "text/x-python",
   "name": "python",
   "nbconvert_exporter": "python",
   "pygments_lexer": "ipython3",
   "version": "3.9.7"
  }
 },
 "nbformat": 4,
 "nbformat_minor": 5
}
